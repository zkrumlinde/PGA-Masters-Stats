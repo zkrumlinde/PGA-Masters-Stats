{
 "cells": [
  {
   "cell_type": "code",
   "execution_count": 2,
   "metadata": {},
   "outputs": [
    {
     "name": "stdout",
     "output_type": "stream",
     "text": [
      "/Users/genevieveberent/Desktop/Zak_Portfolio/PGA_Masters\n"
     ]
    }
   ],
   "source": [
    "%cd /Users/genevieveberent/Desktop/Zak_Portfolio/PGA_Masters"
   ]
  },
  {
   "cell_type": "code",
   "execution_count": 3,
   "metadata": {},
   "outputs": [],
   "source": [
    "import pandas as pd\n",
    "import numpy as np\n",
    "from selenium import webdriver"
   ]
  },
  {
   "cell_type": "code",
   "execution_count": null,
   "metadata": {},
   "outputs": [],
   "source": []
  },
  {
   "cell_type": "markdown",
   "metadata": {},
   "source": [
    "## Fairways in Regulation"
   ]
  },
  {
   "cell_type": "code",
   "execution_count": 32,
   "metadata": {},
   "outputs": [],
   "source": [
    "## Initiate the webdriver and open our website\n",
    "\n",
    "driver = webdriver.Chrome()\n",
    "driver.get('http://2015.masters.com/en_US/scores/stats/fir.html')"
   ]
  },
  {
   "cell_type": "code",
   "execution_count": 33,
   "metadata": {},
   "outputs": [
    {
     "name": "stdout",
     "output_type": "stream",
     "text": [
      "97\n"
     ]
    }
   ],
   "source": [
    "## Get the list of player names from the website\n",
    "\n",
    "fir2015_players = []\n",
    "\n",
    "# first xpath: //*[@id=\"table-6714\"]/tbody/tr[1]/td[1]/a\n",
    "# last xpath:  //*[@id=\"table-6714\"]/tbody/tr[97]/td[1]/a\n",
    "\n",
    "for i in range(98):\n",
    "    path = '//*[@id=\"table-6714\"]/tbody/tr[' + str(i) + ']/td[1]/a'\n",
    "    fir_players = driver.find_elements_by_xpath(path)\n",
    "    for player in fir_players:\n",
    "        fir2015_players.append(player.text)\n",
    "        \n",
    "print(len(fir2015_players))"
   ]
  },
  {
   "cell_type": "code",
   "execution_count": 34,
   "metadata": {},
   "outputs": [
    {
     "name": "stdout",
     "output_type": "stream",
     "text": [
      "97\n"
     ]
    }
   ],
   "source": [
    "## The FIR stats in the same order of the players\n",
    "\n",
    "fir2015_stats = []\n",
    "\n",
    "# last xpath:  //*[@id=\"table-6714\"]/tbody/tr[97]/td[6]\n",
    "\n",
    "for i in range(98):\n",
    "    path = '//*[@id=\"table-6714\"]/tbody/tr[' + str(i) + ']/td[6]'\n",
    "    fir_stats = driver.find_elements_by_xpath(path)\n",
    "    for stat in fir_stats:\n",
    "        fir2015_stats.append(stat.text)\n",
    "        \n",
    "print(len(fir2015_stats))"
   ]
  },
  {
   "cell_type": "code",
   "execution_count": 35,
   "metadata": {},
   "outputs": [],
   "source": [
    "## Create FIR dataframe\n",
    "\n",
    "fir_2015 = pd.DataFrame.from_dict({'Player': fir2015_players, 'FIR': fir2015_stats})"
   ]
  },
  {
   "cell_type": "code",
   "execution_count": 36,
   "metadata": {},
   "outputs": [],
   "source": [
    "## Get just the percent of FIR as numerical value\n",
    "\n",
    "fir_2015['FIR'] = fir_2015['FIR'].map(lambda x:str(x)[-6:-1])"
   ]
  },
  {
   "cell_type": "code",
   "execution_count": 37,
   "metadata": {},
   "outputs": [],
   "source": [
    "## Rank each player by their FIR%\n",
    "\n",
    "fir_2015['FIR Rank'] = fir_2015['FIR'].rank(method='min', ascending=False)"
   ]
  },
  {
   "cell_type": "code",
   "execution_count": 38,
   "metadata": {},
   "outputs": [
    {
     "data": {
      "text/html": [
       "<div>\n",
       "<style scoped>\n",
       "    .dataframe tbody tr th:only-of-type {\n",
       "        vertical-align: middle;\n",
       "    }\n",
       "\n",
       "    .dataframe tbody tr th {\n",
       "        vertical-align: top;\n",
       "    }\n",
       "\n",
       "    .dataframe thead th {\n",
       "        text-align: right;\n",
       "    }\n",
       "</style>\n",
       "<table border=\"1\" class=\"dataframe\">\n",
       "  <thead>\n",
       "    <tr style=\"text-align: right;\">\n",
       "      <th></th>\n",
       "      <th>Player</th>\n",
       "      <th>FIR</th>\n",
       "      <th>FIR Rank</th>\n",
       "    </tr>\n",
       "  </thead>\n",
       "  <tbody>\n",
       "    <tr>\n",
       "      <th>0</th>\n",
       "      <td>M. O'Meara</td>\n",
       "      <td>85.71</td>\n",
       "      <td>1.0</td>\n",
       "    </tr>\n",
       "    <tr>\n",
       "      <th>1</th>\n",
       "      <td>R. Moore</td>\n",
       "      <td>85.71</td>\n",
       "      <td>1.0</td>\n",
       "    </tr>\n",
       "    <tr>\n",
       "      <th>2</th>\n",
       "      <td>K. Streelman</td>\n",
       "      <td>85.71</td>\n",
       "      <td>1.0</td>\n",
       "    </tr>\n",
       "    <tr>\n",
       "      <th>3</th>\n",
       "      <td>H. Stenson</td>\n",
       "      <td>80.36</td>\n",
       "      <td>6.0</td>\n",
       "    </tr>\n",
       "    <tr>\n",
       "      <th>4</th>\n",
       "      <td>B. Haas</td>\n",
       "      <td>80.36</td>\n",
       "      <td>6.0</td>\n",
       "    </tr>\n",
       "  </tbody>\n",
       "</table>\n",
       "</div>"
      ],
      "text/plain": [
       "         Player    FIR  FIR Rank\n",
       "0    M. O'Meara  85.71       1.0\n",
       "1      R. Moore  85.71       1.0\n",
       "2  K. Streelman  85.71       1.0\n",
       "3    H. Stenson  80.36       6.0\n",
       "4       B. Haas  80.36       6.0"
      ]
     },
     "execution_count": 38,
     "metadata": {},
     "output_type": "execute_result"
    }
   ],
   "source": [
    "fir_2015.head()"
   ]
  },
  {
   "cell_type": "code",
   "execution_count": 39,
   "metadata": {},
   "outputs": [],
   "source": [
    "## Save\n",
    "\n",
    "fir_2015.to_csv('2015_fir.csv')"
   ]
  },
  {
   "cell_type": "code",
   "execution_count": null,
   "metadata": {},
   "outputs": [],
   "source": []
  },
  {
   "cell_type": "markdown",
   "metadata": {},
   "source": [
    "## Greens in Regulation"
   ]
  },
  {
   "cell_type": "code",
   "execution_count": 40,
   "metadata": {},
   "outputs": [],
   "source": [
    "driver.get('http://2015.masters.com/en_US/scores/stats/gir.html')"
   ]
  },
  {
   "cell_type": "code",
   "execution_count": 41,
   "metadata": {},
   "outputs": [
    {
     "name": "stdout",
     "output_type": "stream",
     "text": [
      "97\n"
     ]
    }
   ],
   "source": [
    "## Get the list of players \n",
    "\n",
    "gir2015_players = []\n",
    "\n",
    "# first xpath: //*[@id=\"table-2567\"]/tbody/tr[1]/td[1]/a\n",
    "# last xpath:  //*[@id=\"table-2567\"]/tbody/tr[97]/td[1]/a\n",
    "\n",
    "for i in range(98):\n",
    "    path = '//*[@id=\"table-2567\"]/tbody/tr[' + str(i) + ']/td[1]/a'\n",
    "    gir_players = driver.find_elements_by_xpath(path)\n",
    "    for player in gir_players:\n",
    "        gir2015_players.append(player.text)\n",
    "        \n",
    "print(len(gir2015_players))"
   ]
  },
  {
   "cell_type": "code",
   "execution_count": 50,
   "metadata": {},
   "outputs": [
    {
     "name": "stdout",
     "output_type": "stream",
     "text": [
      "97\n"
     ]
    }
   ],
   "source": [
    "## Get the stats for the players just listed\n",
    "\n",
    "gir2015_stats = []\n",
    "\n",
    "# xpath: //*[@id=\"table-2567\"]/tbody/tr[1]/td[6]\n",
    "\n",
    "for i in range(98):\n",
    "    path = '//*[@id=\"table-2567\"]/tbody/tr[' + str(i) + ']/td[6]'\n",
    "    gir_stats = driver.find_elements_by_xpath(path)\n",
    "    for stat in gir_stats:\n",
    "        gir2015_stats.append(stat.text)\n",
    "        \n",
    "print(len(gir2015_stats))"
   ]
  },
  {
   "cell_type": "code",
   "execution_count": 52,
   "metadata": {},
   "outputs": [],
   "source": [
    "## Create a GIR dataframe\n",
    "\n",
    "gir_2015 = pd.DataFrame.from_dict({'Player':gir2015_players, 'GIR':gir2015_stats})"
   ]
  },
  {
   "cell_type": "code",
   "execution_count": 53,
   "metadata": {},
   "outputs": [],
   "source": [
    "## Get just the percent as a float\n",
    "\n",
    "gir_2015['GIR'] = gir_2015['GIR'].map(lambda x:str(x)[-6:-1])"
   ]
  },
  {
   "cell_type": "code",
   "execution_count": 54,
   "metadata": {},
   "outputs": [],
   "source": [
    "## Rank players by GIR%\n",
    "\n",
    "gir_2015['GIR Rank'] = gir_2015['GIR'].rank(method='min', ascending=False)"
   ]
  },
  {
   "cell_type": "code",
   "execution_count": 55,
   "metadata": {},
   "outputs": [
    {
     "data": {
      "text/html": [
       "<div>\n",
       "<style scoped>\n",
       "    .dataframe tbody tr th:only-of-type {\n",
       "        vertical-align: middle;\n",
       "    }\n",
       "\n",
       "    .dataframe tbody tr th {\n",
       "        vertical-align: top;\n",
       "    }\n",
       "\n",
       "    .dataframe thead th {\n",
       "        text-align: right;\n",
       "    }\n",
       "</style>\n",
       "<table border=\"1\" class=\"dataframe\">\n",
       "  <thead>\n",
       "    <tr style=\"text-align: right;\">\n",
       "      <th></th>\n",
       "      <th>Player</th>\n",
       "      <th>GIR</th>\n",
       "      <th>GIR Rank</th>\n",
       "    </tr>\n",
       "  </thead>\n",
       "  <tbody>\n",
       "    <tr>\n",
       "      <th>0</th>\n",
       "      <td>I. Poulter</td>\n",
       "      <td>81.94</td>\n",
       "      <td>2.0</td>\n",
       "    </tr>\n",
       "    <tr>\n",
       "      <th>1</th>\n",
       "      <td>J. Spieth</td>\n",
       "      <td>75.00</td>\n",
       "      <td>4.0</td>\n",
       "    </tr>\n",
       "    <tr>\n",
       "      <th>2</th>\n",
       "      <td>J. Rose</td>\n",
       "      <td>75.00</td>\n",
       "      <td>4.0</td>\n",
       "    </tr>\n",
       "    <tr>\n",
       "      <th>3</th>\n",
       "      <td>R. Mcilroy</td>\n",
       "      <td>73.61</td>\n",
       "      <td>6.0</td>\n",
       "    </tr>\n",
       "    <tr>\n",
       "      <th>4</th>\n",
       "      <td>H. Stenson</td>\n",
       "      <td>72.22</td>\n",
       "      <td>7.0</td>\n",
       "    </tr>\n",
       "  </tbody>\n",
       "</table>\n",
       "</div>"
      ],
      "text/plain": [
       "       Player    GIR  GIR Rank\n",
       "0  I. Poulter  81.94       2.0\n",
       "1   J. Spieth  75.00       4.0\n",
       "2     J. Rose  75.00       4.0\n",
       "3  R. Mcilroy  73.61       6.0\n",
       "4  H. Stenson  72.22       7.0"
      ]
     },
     "execution_count": 55,
     "metadata": {},
     "output_type": "execute_result"
    }
   ],
   "source": [
    "gir_2015.head()"
   ]
  },
  {
   "cell_type": "code",
   "execution_count": 56,
   "metadata": {},
   "outputs": [],
   "source": [
    "## Save\n",
    "\n",
    "gir_2015.to_csv('2015_gir.csv')"
   ]
  },
  {
   "cell_type": "code",
   "execution_count": null,
   "metadata": {},
   "outputs": [],
   "source": []
  },
  {
   "cell_type": "markdown",
   "metadata": {},
   "source": [
    "## Driving Distance"
   ]
  },
  {
   "cell_type": "code",
   "execution_count": 57,
   "metadata": {},
   "outputs": [],
   "source": [
    "driver.get('http://2015.masters.com/en_US/scores/stats/drives_avg.html')"
   ]
  },
  {
   "cell_type": "code",
   "execution_count": 58,
   "metadata": {},
   "outputs": [
    {
     "name": "stdout",
     "output_type": "stream",
     "text": [
      "97\n"
     ]
    }
   ],
   "source": [
    "## Players\n",
    "\n",
    "dist2015_players = []\n",
    "\n",
    "# xpath: //*[@id=\"table-8945\"]/tbody/tr[1]/td[1]/a\n",
    "\n",
    "for i in range(98):\n",
    "    path = '//*[@id=\"table-8945\"]/tbody/tr[' + str(i) + ']/td[1]/a'\n",
    "    dist_players = driver.find_elements_by_xpath(path)\n",
    "    for player in dist_players:\n",
    "        dist2015_players.append(player.text)\n",
    "        \n",
    "print(len(dist2015_players))"
   ]
  },
  {
   "cell_type": "code",
   "execution_count": 59,
   "metadata": {},
   "outputs": [
    {
     "name": "stdout",
     "output_type": "stream",
     "text": [
      "97\n"
     ]
    }
   ],
   "source": [
    "## Distance stats\n",
    "\n",
    "dist2015_stats = []\n",
    "\n",
    "# xpath: //*[@id=\"table-8945\"]/tbody/tr[97]/td[6]\n",
    "\n",
    "for i in range(98):\n",
    "    path = '//*[@id=\"table-8945\"]/tbody/tr[' + str(i) + ']/td[6]'\n",
    "    dist_stats = driver.find_elements_by_xpath(path)\n",
    "    for stat in dist_stats:\n",
    "        dist2015_stats.append(stat.text)\n",
    "        \n",
    "print(len(dist2015_stats))"
   ]
  },
  {
   "cell_type": "code",
   "execution_count": 60,
   "metadata": {},
   "outputs": [],
   "source": [
    "## Create the Driving Distance dataframe\n",
    "\n",
    "dist_2015 = pd.DataFrame.from_dict({'Player': dist2015_players, 'dist': dist2015_stats})"
   ]
  },
  {
   "cell_type": "code",
   "execution_count": 61,
   "metadata": {},
   "outputs": [],
   "source": [
    "## Rank the players by their Driving Distance\n",
    "\n",
    "dist_2015['dist Rank'] = dist_2015['dist'].rank(method='min', ascending=False)"
   ]
  },
  {
   "cell_type": "code",
   "execution_count": 62,
   "metadata": {},
   "outputs": [
    {
     "data": {
      "text/html": [
       "<div>\n",
       "<style scoped>\n",
       "    .dataframe tbody tr th:only-of-type {\n",
       "        vertical-align: middle;\n",
       "    }\n",
       "\n",
       "    .dataframe tbody tr th {\n",
       "        vertical-align: top;\n",
       "    }\n",
       "\n",
       "    .dataframe thead th {\n",
       "        text-align: right;\n",
       "    }\n",
       "</style>\n",
       "<table border=\"1\" class=\"dataframe\">\n",
       "  <thead>\n",
       "    <tr style=\"text-align: right;\">\n",
       "      <th></th>\n",
       "      <th>Player</th>\n",
       "      <th>dist</th>\n",
       "      <th>dist Rank</th>\n",
       "    </tr>\n",
       "  </thead>\n",
       "  <tbody>\n",
       "    <tr>\n",
       "      <th>0</th>\n",
       "      <td>D. Johnson</td>\n",
       "      <td>315.50</td>\n",
       "      <td>1.0</td>\n",
       "    </tr>\n",
       "    <tr>\n",
       "      <th>1</th>\n",
       "      <td>J. Day</td>\n",
       "      <td>307.88</td>\n",
       "      <td>2.0</td>\n",
       "    </tr>\n",
       "    <tr>\n",
       "      <th>2</th>\n",
       "      <td>J. Walker</td>\n",
       "      <td>302.12</td>\n",
       "      <td>4.0</td>\n",
       "    </tr>\n",
       "    <tr>\n",
       "      <th>3</th>\n",
       "      <td>A. Scott</td>\n",
       "      <td>299.75</td>\n",
       "      <td>5.0</td>\n",
       "    </tr>\n",
       "    <tr>\n",
       "      <th>4</th>\n",
       "      <td>B. Watson</td>\n",
       "      <td>299.62</td>\n",
       "      <td>7.0</td>\n",
       "    </tr>\n",
       "  </tbody>\n",
       "</table>\n",
       "</div>"
      ],
      "text/plain": [
       "       Player    dist  dist Rank\n",
       "0  D. Johnson  315.50        1.0\n",
       "1      J. Day  307.88        2.0\n",
       "2   J. Walker  302.12        4.0\n",
       "3    A. Scott  299.75        5.0\n",
       "4   B. Watson  299.62        7.0"
      ]
     },
     "execution_count": 62,
     "metadata": {},
     "output_type": "execute_result"
    }
   ],
   "source": [
    "dist_2015.head()"
   ]
  },
  {
   "cell_type": "code",
   "execution_count": 63,
   "metadata": {},
   "outputs": [],
   "source": [
    "## Save\n",
    "\n",
    "dist_2015.to_csv('2015_dist.csv')"
   ]
  },
  {
   "cell_type": "code",
   "execution_count": null,
   "metadata": {},
   "outputs": [],
   "source": []
  },
  {
   "cell_type": "markdown",
   "metadata": {},
   "source": [
    "## Putting Stats"
   ]
  },
  {
   "cell_type": "code",
   "execution_count": 64,
   "metadata": {},
   "outputs": [],
   "source": [
    "## Open the website\n",
    "\n",
    "driver.get('http://2015.masters.com/en_US/scores/stats/putts.html')"
   ]
  },
  {
   "cell_type": "code",
   "execution_count": 65,
   "metadata": {},
   "outputs": [
    {
     "name": "stdout",
     "output_type": "stream",
     "text": [
      "97\n"
     ]
    }
   ],
   "source": [
    "## Players\n",
    "\n",
    "putt2015_players = []\n",
    "\n",
    "# xpath: //*[@id=\"table-861\"]/tbody/tr[1]/td[1]/a\n",
    "\n",
    "for i in range(98):\n",
    "    path = '//*[@id=\"table-861\"]/tbody/tr[' + str(i) + ']/td[1]/a'\n",
    "    putt_players = driver.find_elements_by_xpath(path)\n",
    "    for player in putt_players:\n",
    "        putt2015_players.append(player.text)\n",
    "        \n",
    "print(len(putt2015_players))"
   ]
  },
  {
   "cell_type": "code",
   "execution_count": 66,
   "metadata": {},
   "outputs": [
    {
     "name": "stdout",
     "output_type": "stream",
     "text": [
      "97\n"
     ]
    }
   ],
   "source": [
    "## Putting Stats\n",
    "\n",
    "putt2015_stats = []\n",
    "\n",
    "# xpath: //*[@id=\"table-861\"]/tbody/tr[97]/td[6]\n",
    "\n",
    "for i in range(98):\n",
    "    path = '//*[@id=\"table-861\"]/tbody/tr[' + str(i) + ']/td[6]'\n",
    "    putt_stats = driver.find_elements_by_xpath(path)\n",
    "    for stat in putt_stats:\n",
    "        putt2015_stats.append(stat.text)\n",
    "        \n",
    "print(len(putt2015_stats))"
   ]
  },
  {
   "cell_type": "code",
   "execution_count": 67,
   "metadata": {},
   "outputs": [],
   "source": [
    "## Create putting dataframe\n",
    "\n",
    "putt_2015 = pd.DataFrame.from_dict({'Player': putt2015_players, 'Putting': putt2015_stats})"
   ]
  },
  {
   "cell_type": "code",
   "execution_count": 69,
   "metadata": {},
   "outputs": [],
   "source": [
    "## Get rid of the number of 3 putts in ()\n",
    "\n",
    "putt_2015['Putting'] = putt_2015['Putting'].map(lambda x:str(x)[:4])"
   ]
  },
  {
   "cell_type": "code",
   "execution_count": 71,
   "metadata": {},
   "outputs": [],
   "source": [
    "putt_2015['Putting Rank'] = putt_2015['Putting'].rank(method='min')"
   ]
  },
  {
   "cell_type": "code",
   "execution_count": 72,
   "metadata": {},
   "outputs": [
    {
     "data": {
      "text/html": [
       "<div>\n",
       "<style scoped>\n",
       "    .dataframe tbody tr th:only-of-type {\n",
       "        vertical-align: middle;\n",
       "    }\n",
       "\n",
       "    .dataframe tbody tr th {\n",
       "        vertical-align: top;\n",
       "    }\n",
       "\n",
       "    .dataframe thead th {\n",
       "        text-align: right;\n",
       "    }\n",
       "</style>\n",
       "<table border=\"1\" class=\"dataframe\">\n",
       "  <thead>\n",
       "    <tr style=\"text-align: right;\">\n",
       "      <th></th>\n",
       "      <th>Player</th>\n",
       "      <th>Putting</th>\n",
       "      <th>Putting Rank</th>\n",
       "    </tr>\n",
       "  </thead>\n",
       "  <tbody>\n",
       "    <tr>\n",
       "      <th>0</th>\n",
       "      <td>D. Johnson</td>\n",
       "      <td>1.47</td>\n",
       "      <td>1.0</td>\n",
       "    </tr>\n",
       "    <tr>\n",
       "      <th>1</th>\n",
       "      <td>S. Stricker</td>\n",
       "      <td>1.47</td>\n",
       "      <td>1.0</td>\n",
       "    </tr>\n",
       "    <tr>\n",
       "      <th>2</th>\n",
       "      <td>J. Spieth</td>\n",
       "      <td>1.50</td>\n",
       "      <td>3.0</td>\n",
       "    </tr>\n",
       "    <tr>\n",
       "      <th>3</th>\n",
       "      <td>J. Holmes</td>\n",
       "      <td>1.50</td>\n",
       "      <td>3.0</td>\n",
       "    </tr>\n",
       "    <tr>\n",
       "      <th>4</th>\n",
       "      <td>M. Kuchar</td>\n",
       "      <td>1.53</td>\n",
       "      <td>5.0</td>\n",
       "    </tr>\n",
       "  </tbody>\n",
       "</table>\n",
       "</div>"
      ],
      "text/plain": [
       "        Player Putting  Putting Rank\n",
       "0   D. Johnson    1.47           1.0\n",
       "1  S. Stricker    1.47           1.0\n",
       "2    J. Spieth    1.50           3.0\n",
       "3    J. Holmes    1.50           3.0\n",
       "4    M. Kuchar    1.53           5.0"
      ]
     },
     "execution_count": 72,
     "metadata": {},
     "output_type": "execute_result"
    }
   ],
   "source": [
    "putt_2015.head()"
   ]
  },
  {
   "cell_type": "code",
   "execution_count": 73,
   "metadata": {},
   "outputs": [],
   "source": [
    "## Save\n",
    "\n",
    "putt_2015.to_csv('2015_Putting.csv')"
   ]
  },
  {
   "cell_type": "code",
   "execution_count": null,
   "metadata": {},
   "outputs": [],
   "source": []
  },
  {
   "cell_type": "markdown",
   "metadata": {},
   "source": [
    "## Get scores and final position"
   ]
  },
  {
   "cell_type": "code",
   "execution_count": 80,
   "metadata": {},
   "outputs": [],
   "source": [
    "driver.get('https://www.golfchannel.com/tours/pga-tour/2015/masters-tournament')"
   ]
  },
  {
   "cell_type": "code",
   "execution_count": 88,
   "metadata": {},
   "outputs": [
    {
     "name": "stdout",
     "output_type": "stream",
     "text": [
      "97\n"
     ]
    }
   ],
   "source": [
    "## Get Players\n",
    "\n",
    "final2015_players = []\n",
    "\n",
    "## Get players by class\n",
    "\n",
    "final_players = driver.find_elements_by_class_name('leaderboard-full__name')\n",
    "\n",
    "for player in final_players:\n",
    "    final2015_players.append(player.text)\n",
    "    \n",
    "print(len(final2015_players))"
   ]
  },
  {
   "cell_type": "code",
   "execution_count": 87,
   "metadata": {},
   "outputs": [
    {
     "data": {
      "text/plain": [
       "['J. Spieth',\n",
       " 'J. Rose',\n",
       " 'P. Mickelson',\n",
       " 'R. McIlroy',\n",
       " 'H. Matsuyama',\n",
       " 'I. Poulter',\n",
       " 'D. Johnson',\n",
       " 'P. Casey',\n",
       " 'Z. Johnson',\n",
       " 'C. Hoffman',\n",
       " 'H. Mahan',\n",
       " 'R. Moore',\n",
       " 'K. Na',\n",
       " 'B. Haas',\n",
       " 'R. Fowler',\n",
       " 'K. Streelman',\n",
       " 'T. Woods',\n",
       " 'S. Garcia',\n",
       " 'H. Stenson',\n",
       " 'L. Oosthuizen',\n",
       " 'R. Henley',\n",
       " 'K. Bradley',\n",
       " 'A. Cabrera',\n",
       " 'E. Els',\n",
       " \"M. O'Meara\",\n",
       " 'P. Reed',\n",
       " 'B. Wiesberger',\n",
       " 'S. Stricker',\n",
       " 'W. Simpson',\n",
       " 'J. Blixt',\n",
       " 'J. Day',\n",
       " 'M. Hoffmann',\n",
       " 'J. Donaldson',\n",
       " 'S. Bae',\n",
       " 'R. Palmer',\n",
       " 'C. Kirk',\n",
       " 'B. Koepka',\n",
       " 'C. Schwartzel',\n",
       " 'A. Scott',\n",
       " 'J. Senden',\n",
       " 'C. Tringale',\n",
       " 'J. Walker',\n",
       " 'B. Watson',\n",
       " 'S. Noh',\n",
       " 'D. Willett',\n",
       " 'L. Westwood',\n",
       " 'M. Kuchar',\n",
       " 'G. Ogilvy',\n",
       " 'J. Dufner',\n",
       " 'A. Lahiri',\n",
       " 'E. Compton',\n",
       " 'D. Clarke',\n",
       " 'G. McDowell',\n",
       " 'V. Singh',\n",
       " 'T. Jaidee',\n",
       " 'G. Yang (a)',\n",
       " 'G. Woodland',\n",
       " 'I. Woosnam',\n",
       " 'B. Grace',\n",
       " 'T. Watson',\n",
       " 'M. Weir',\n",
       " 'C. Villegas',\n",
       " 'B. Todd',\n",
       " 'M. Jimenez',\n",
       " 'M. Kaymer',\n",
       " 'J. Holmes',\n",
       " 'B. Horschel',\n",
       " 'M. Ilonen',\n",
       " 'T. Immelman',\n",
       " 'J. Furyk',\n",
       " 'S. Gallacher',\n",
       " 'J. Hahn',\n",
       " 'B. Harman',\n",
       " 'P. Harrington',\n",
       " 'S. Harvey (a)',\n",
       " 'T. Bjorn',\n",
       " 'C. Conners',\n",
       " 'F. Couples',\n",
       " 'B. Crane',\n",
       " 'B. Crenshaw',\n",
       " 'M. Every',\n",
       " 'V. Dubuisson',\n",
       " 'M. Dominguez (a)',\n",
       " 'L. Donald',\n",
       " 'B. Snedeker',\n",
       " 'R. Streb',\n",
       " 'K. Stadler',\n",
       " 'J. Olazabal',\n",
       " 'B. Martin',\n",
       " 'B. Langer',\n",
       " 'S. Lowry',\n",
       " 'J. Luiten',\n",
       " 'S. Lyle',\n",
       " 'B. Neil (a)',\n",
       " 'A. Murdaca',\n",
       " 'B. Meth',\n",
       " 'L. Mize']"
      ]
     },
     "execution_count": 87,
     "metadata": {},
     "output_type": "execute_result"
    }
   ],
   "source": [
    "final2015_players"
   ]
  },
  {
   "cell_type": "code",
   "execution_count": 94,
   "metadata": {},
   "outputs": [
    {
     "name": "stdout",
     "output_type": "stream",
     "text": [
      "97\n"
     ]
    }
   ],
   "source": [
    "## Get the position of each player\n",
    "\n",
    "final2015_position = []\n",
    "\n",
    "# xpath: //*[@id=\"leaderboard\"]/main/div[1]/section/section/div[2]/div/div/p[1]\n",
    "# xpath: //*[@id=\"leaderboard\"]/main/div[1]/section/section/div[56]/div/div/p[1]\n",
    "\n",
    "for i in range(2, 57):\n",
    "    path = '//*[@id=\"leaderboard\"]/main/div[1]/section/section/div[' + str(i) + ']/div/div/p[1]'\n",
    "    final_position = driver.find_elements_by_xpath(path)\n",
    "\n",
    "    for pos in final_position:\n",
    "        final2015_position.append(pos.text)\n",
    "        \n",
    "## For missed cut players\n",
    "# xpath: //*[@id=\"leaderboard\"]/main/div[1]/section/section/div[57]/div/div[2]/p[1]\n",
    "# xpath: //*[@id=\"leaderboard\"]/main/div[1]/section/section/div[98]/div/div[1]/p[1]\n",
    "    \n",
    "for j in range(57, 99):\n",
    "    path = '//*[@id=\"leaderboard\"]/main/div[1]/section/section/div[' + str(j) + ']/div/div[1]/p[1]'\n",
    "    final_position_missed = driver.find_elements_by_xpath(path)\n",
    "    for pos in final_position_missed:\n",
    "        final2015_position.append(pos.text)\n",
    "    \n",
    "print(len(final2015_position))"
   ]
  },
  {
   "cell_type": "code",
   "execution_count": 93,
   "metadata": {},
   "outputs": [
    {
     "name": "stdout",
     "output_type": "stream",
     "text": [
      "97\n"
     ]
    }
   ],
   "source": [
    "## Get the players final score for the tournament\n",
    "\n",
    "final2015_score = []\n",
    "\n",
    "# xpath: //*[@id=\"leaderboard\"]/main/div[1]/section/section/div[2]/div/div/p[3]\n",
    "# xpath: //*[@id=\"leaderboard\"]/main/div[1]/section/section/div[98]/div/div/p[3]\n",
    "\n",
    "for i in range(2, 99):\n",
    "    path = '//*[@id=\"leaderboard\"]/main/div[1]/section/section/div[' + str(i) + ']/div/div/p[3]'\n",
    "    final_score = driver.find_elements_by_xpath(path)\n",
    "    for score in final_score:\n",
    "        final2015_score.append(score.text)\n",
    "        \n",
    "print(len(final2015_score))"
   ]
  },
  {
   "cell_type": "code",
   "execution_count": 95,
   "metadata": {},
   "outputs": [],
   "source": [
    "## Dataframe for final position\n",
    "\n",
    "final2015 = pd.DataFrame.from_dict({'Player': final2015_players,\n",
    "                                   'Position': final2015_position,\n",
    "                                   'Score': final2015_score})"
   ]
  },
  {
   "cell_type": "code",
   "execution_count": 115,
   "metadata": {},
   "outputs": [],
   "source": [
    "## Add a column if the player got cut\n",
    "\n",
    "final2015['Cut'] = np.where(final2015['Position'] == 'CUT', 1, 0)"
   ]
  },
  {
   "cell_type": "code",
   "execution_count": 116,
   "metadata": {},
   "outputs": [],
   "source": [
    "## Get the final position of the players that were cut\n",
    "\n",
    "missed_cut = final2015[final2015['Cut'] == 1]"
   ]
  },
  {
   "cell_type": "code",
   "execution_count": 118,
   "metadata": {},
   "outputs": [
    {
     "data": {
      "text/html": [
       "<div>\n",
       "<style scoped>\n",
       "    .dataframe tbody tr th:only-of-type {\n",
       "        vertical-align: middle;\n",
       "    }\n",
       "\n",
       "    .dataframe tbody tr th {\n",
       "        vertical-align: top;\n",
       "    }\n",
       "\n",
       "    .dataframe thead th {\n",
       "        text-align: right;\n",
       "    }\n",
       "</style>\n",
       "<table border=\"1\" class=\"dataframe\">\n",
       "  <thead>\n",
       "    <tr style=\"text-align: right;\">\n",
       "      <th></th>\n",
       "      <th>Player</th>\n",
       "      <th>Position</th>\n",
       "      <th>Score</th>\n",
       "      <th>Cut</th>\n",
       "    </tr>\n",
       "  </thead>\n",
       "  <tbody>\n",
       "    <tr>\n",
       "      <th>55</th>\n",
       "      <td>G. Yang (a)</td>\n",
       "      <td>CUT</td>\n",
       "      <td>+15</td>\n",
       "      <td>1</td>\n",
       "    </tr>\n",
       "    <tr>\n",
       "      <th>56</th>\n",
       "      <td>G. Woodland</td>\n",
       "      <td>CUT</td>\n",
       "      <td>+3</td>\n",
       "      <td>1</td>\n",
       "    </tr>\n",
       "    <tr>\n",
       "      <th>57</th>\n",
       "      <td>I. Woosnam</td>\n",
       "      <td>CUT</td>\n",
       "      <td>+5</td>\n",
       "      <td>1</td>\n",
       "    </tr>\n",
       "    <tr>\n",
       "      <th>58</th>\n",
       "      <td>B. Grace</td>\n",
       "      <td>CUT</td>\n",
       "      <td>+4</td>\n",
       "      <td>1</td>\n",
       "    </tr>\n",
       "    <tr>\n",
       "      <th>59</th>\n",
       "      <td>T. Watson</td>\n",
       "      <td>CUT</td>\n",
       "      <td>+8</td>\n",
       "      <td>1</td>\n",
       "    </tr>\n",
       "  </tbody>\n",
       "</table>\n",
       "</div>"
      ],
      "text/plain": [
       "         Player Position Score  Cut\n",
       "55  G. Yang (a)      CUT   +15    1\n",
       "56  G. Woodland      CUT    +3    1\n",
       "57   I. Woosnam      CUT    +5    1\n",
       "58     B. Grace      CUT    +4    1\n",
       "59    T. Watson      CUT    +8    1"
      ]
     },
     "execution_count": 118,
     "metadata": {},
     "output_type": "execute_result"
    }
   ],
   "source": [
    "missed_cut.head()"
   ]
  },
  {
   "cell_type": "code",
   "execution_count": 119,
   "metadata": {},
   "outputs": [
    {
     "name": "stderr",
     "output_type": "stream",
     "text": [
      "/Users/genevieveberent/Desktop/anaconda3/lib/python3.6/site-packages/ipykernel_launcher.py:1: SettingWithCopyWarning: \n",
      "A value is trying to be set on a copy of a slice from a DataFrame.\n",
      "Try using .loc[row_indexer,col_indexer] = value instead\n",
      "\n",
      "See the caveats in the documentation: http://pandas.pydata.org/pandas-docs/stable/indexing.html#indexing-view-versus-copy\n",
      "  \"\"\"Entry point for launching an IPython kernel.\n"
     ]
    }
   ],
   "source": [
    "missed_cut['Int Score'] = pd.to_numeric(missed_cut['Score'])"
   ]
  },
  {
   "cell_type": "code",
   "execution_count": 123,
   "metadata": {},
   "outputs": [
    {
     "name": "stderr",
     "output_type": "stream",
     "text": [
      "/Users/genevieveberent/Desktop/anaconda3/lib/python3.6/site-packages/ipykernel_launcher.py:1: SettingWithCopyWarning: \n",
      "A value is trying to be set on a copy of a slice from a DataFrame.\n",
      "Try using .loc[row_indexer,col_indexer] = value instead\n",
      "\n",
      "See the caveats in the documentation: http://pandas.pydata.org/pandas-docs/stable/indexing.html#indexing-view-versus-copy\n",
      "  \"\"\"Entry point for launching an IPython kernel.\n"
     ]
    }
   ],
   "source": [
    "missed_cut['Position'] = (missed_cut['Int Score'].rank(method='min')) + 55"
   ]
  },
  {
   "cell_type": "code",
   "execution_count": 125,
   "metadata": {},
   "outputs": [
    {
     "name": "stderr",
     "output_type": "stream",
     "text": [
      "/Users/genevieveberent/Desktop/anaconda3/lib/python3.6/site-packages/pandas/core/frame.py:3694: SettingWithCopyWarning: \n",
      "A value is trying to be set on a copy of a slice from a DataFrame\n",
      "\n",
      "See the caveats in the documentation: http://pandas.pydata.org/pandas-docs/stable/indexing.html#indexing-view-versus-copy\n",
      "  errors=errors)\n"
     ]
    }
   ],
   "source": [
    "missed_cut.drop('Int Score', axis=1, inplace=True)"
   ]
  },
  {
   "cell_type": "code",
   "execution_count": 127,
   "metadata": {},
   "outputs": [],
   "source": [
    "## Get just the players that made the cut\n",
    "\n",
    "final2015 = final2015[final2015['Cut'] == 0]"
   ]
  },
  {
   "cell_type": "code",
   "execution_count": 128,
   "metadata": {},
   "outputs": [],
   "source": [
    "## Concatenate the players that made the cut with the new df of players that missed the cut\n",
    "\n",
    "final2015 = pd.concat([final2015, missed_cut])"
   ]
  },
  {
   "cell_type": "code",
   "execution_count": 129,
   "metadata": {},
   "outputs": [
    {
     "data": {
      "text/plain": [
       "(97, 4)"
      ]
     },
     "execution_count": 129,
     "metadata": {},
     "output_type": "execute_result"
    }
   ],
   "source": [
    "final2015.shape"
   ]
  },
  {
   "cell_type": "code",
   "execution_count": 131,
   "metadata": {},
   "outputs": [
    {
     "data": {
      "text/html": [
       "<div>\n",
       "<style scoped>\n",
       "    .dataframe tbody tr th:only-of-type {\n",
       "        vertical-align: middle;\n",
       "    }\n",
       "\n",
       "    .dataframe tbody tr th {\n",
       "        vertical-align: top;\n",
       "    }\n",
       "\n",
       "    .dataframe thead th {\n",
       "        text-align: right;\n",
       "    }\n",
       "</style>\n",
       "<table border=\"1\" class=\"dataframe\">\n",
       "  <thead>\n",
       "    <tr style=\"text-align: right;\">\n",
       "      <th></th>\n",
       "      <th>Player</th>\n",
       "      <th>Position</th>\n",
       "      <th>Score</th>\n",
       "      <th>Cut</th>\n",
       "    </tr>\n",
       "  </thead>\n",
       "  <tbody>\n",
       "    <tr>\n",
       "      <th>92</th>\n",
       "      <td>S. Lyle</td>\n",
       "      <td>77</td>\n",
       "      <td>+6</td>\n",
       "      <td>1</td>\n",
       "    </tr>\n",
       "    <tr>\n",
       "      <th>93</th>\n",
       "      <td>B. Neil (a)</td>\n",
       "      <td>92</td>\n",
       "      <td>+13</td>\n",
       "      <td>1</td>\n",
       "    </tr>\n",
       "    <tr>\n",
       "      <th>94</th>\n",
       "      <td>A. Murdaca</td>\n",
       "      <td>80</td>\n",
       "      <td>+7</td>\n",
       "      <td>1</td>\n",
       "    </tr>\n",
       "    <tr>\n",
       "      <th>95</th>\n",
       "      <td>B. Meth</td>\n",
       "      <td>77</td>\n",
       "      <td>+6</td>\n",
       "      <td>1</td>\n",
       "    </tr>\n",
       "    <tr>\n",
       "      <th>96</th>\n",
       "      <td>L. Mize</td>\n",
       "      <td>80</td>\n",
       "      <td>+7</td>\n",
       "      <td>1</td>\n",
       "    </tr>\n",
       "  </tbody>\n",
       "</table>\n",
       "</div>"
      ],
      "text/plain": [
       "         Player Position Score  Cut\n",
       "92      S. Lyle       77    +6    1\n",
       "93  B. Neil (a)       92   +13    1\n",
       "94   A. Murdaca       80    +7    1\n",
       "95      B. Meth       77    +6    1\n",
       "96      L. Mize       80    +7    1"
      ]
     },
     "execution_count": 131,
     "metadata": {},
     "output_type": "execute_result"
    }
   ],
   "source": [
    "final2015.tail()"
   ]
  },
  {
   "cell_type": "code",
   "execution_count": 132,
   "metadata": {},
   "outputs": [],
   "source": [
    "## Save\n",
    "\n",
    "final2015.to_csv('2015_Position.csv')"
   ]
  },
  {
   "cell_type": "code",
   "execution_count": null,
   "metadata": {},
   "outputs": [],
   "source": []
  },
  {
   "cell_type": "markdown",
   "metadata": {},
   "source": [
    "## Concatenate all the stats together"
   ]
  },
  {
   "cell_type": "code",
   "execution_count": 133,
   "metadata": {},
   "outputs": [],
   "source": [
    "## Make the player name the index to concatenate on\n",
    "\n",
    "fir_2015.index = fir_2015['Player']\n",
    "gir_2015.index = gir_2015['Player']\n",
    "dist_2015.index = dist_2015['Player']\n",
    "putt_2015.index = putt_2015['Player']\n",
    "final2015.index = final2015['Player']"
   ]
  },
  {
   "cell_type": "code",
   "execution_count": 134,
   "metadata": {},
   "outputs": [
    {
     "name": "stderr",
     "output_type": "stream",
     "text": [
      "/Users/genevieveberent/Desktop/anaconda3/lib/python3.6/site-packages/ipykernel_launcher.py:1: FutureWarning: Sorting because non-concatenation axis is not aligned. A future version\n",
      "of pandas will change to not sort by default.\n",
      "\n",
      "To accept the future behavior, pass 'sort=True'.\n",
      "\n",
      "To retain the current behavior and silence the warning, pass sort=False\n",
      "\n",
      "  \"\"\"Entry point for launching an IPython kernel.\n"
     ]
    }
   ],
   "source": [
    "stats = pd.concat([fir_2015, dist_2015, gir_2015, putt_2015], axis=1)"
   ]
  },
  {
   "cell_type": "code",
   "execution_count": 135,
   "metadata": {},
   "outputs": [
    {
     "data": {
      "text/plain": [
       "(97, 12)"
      ]
     },
     "execution_count": 135,
     "metadata": {},
     "output_type": "execute_result"
    }
   ],
   "source": [
    "stats.shape"
   ]
  },
  {
   "cell_type": "code",
   "execution_count": 137,
   "metadata": {},
   "outputs": [],
   "source": [
    "stats.drop('Player', axis=1, inplace=True)"
   ]
  },
  {
   "cell_type": "code",
   "execution_count": 138,
   "metadata": {},
   "outputs": [
    {
     "data": {
      "text/html": [
       "<div>\n",
       "<style scoped>\n",
       "    .dataframe tbody tr th:only-of-type {\n",
       "        vertical-align: middle;\n",
       "    }\n",
       "\n",
       "    .dataframe tbody tr th {\n",
       "        vertical-align: top;\n",
       "    }\n",
       "\n",
       "    .dataframe thead th {\n",
       "        text-align: right;\n",
       "    }\n",
       "</style>\n",
       "<table border=\"1\" class=\"dataframe\">\n",
       "  <thead>\n",
       "    <tr style=\"text-align: right;\">\n",
       "      <th></th>\n",
       "      <th>FIR</th>\n",
       "      <th>FIR Rank</th>\n",
       "      <th>dist</th>\n",
       "      <th>dist Rank</th>\n",
       "      <th>GIR</th>\n",
       "      <th>GIR Rank</th>\n",
       "      <th>Putting</th>\n",
       "      <th>Putting Rank</th>\n",
       "    </tr>\n",
       "  </thead>\n",
       "  <tbody>\n",
       "    <tr>\n",
       "      <th>A. Cabrera</th>\n",
       "      <td>51.79</td>\n",
       "      <td>91.0</td>\n",
       "      <td>297.75</td>\n",
       "      <td>8.0</td>\n",
       "      <td>63.89</td>\n",
       "      <td>34.0</td>\n",
       "      <td>1.60</td>\n",
       "      <td>23.0</td>\n",
       "    </tr>\n",
       "    <tr>\n",
       "      <th>A. Lahiri</th>\n",
       "      <td>62.50</td>\n",
       "      <td>63.0</td>\n",
       "      <td>296.38</td>\n",
       "      <td>11.0</td>\n",
       "      <td>68.06</td>\n",
       "      <td>20.0</td>\n",
       "      <td>1.76</td>\n",
       "      <td>83.0</td>\n",
       "    </tr>\n",
       "    <tr>\n",
       "      <th>A. Murdaca</th>\n",
       "      <td>57.14</td>\n",
       "      <td>75.0</td>\n",
       "      <td>299.75</td>\n",
       "      <td>5.0</td>\n",
       "      <td>50.00</td>\n",
       "      <td>83.0</td>\n",
       "      <td>1.56</td>\n",
       "      <td>9.0</td>\n",
       "    </tr>\n",
       "    <tr>\n",
       "      <th>A. Scott</th>\n",
       "      <td>66.07</td>\n",
       "      <td>45.0</td>\n",
       "      <td>299.75</td>\n",
       "      <td>5.0</td>\n",
       "      <td>61.11</td>\n",
       "      <td>56.0</td>\n",
       "      <td>1.62</td>\n",
       "      <td>37.0</td>\n",
       "    </tr>\n",
       "    <tr>\n",
       "      <th>B. Crane</th>\n",
       "      <td>75.00</td>\n",
       "      <td>17.0</td>\n",
       "      <td>277.50</td>\n",
       "      <td>76.0</td>\n",
       "      <td>58.33</td>\n",
       "      <td>66.0</td>\n",
       "      <td>1.81</td>\n",
       "      <td>91.0</td>\n",
       "    </tr>\n",
       "  </tbody>\n",
       "</table>\n",
       "</div>"
      ],
      "text/plain": [
       "              FIR  FIR Rank    dist  dist Rank    GIR  GIR Rank Putting  \\\n",
       "A. Cabrera  51.79      91.0  297.75        8.0  63.89      34.0    1.60   \n",
       "A. Lahiri   62.50      63.0  296.38       11.0  68.06      20.0    1.76   \n",
       "A. Murdaca  57.14      75.0  299.75        5.0  50.00      83.0    1.56   \n",
       "A. Scott    66.07      45.0  299.75        5.0  61.11      56.0    1.62   \n",
       "B. Crane    75.00      17.0  277.50       76.0  58.33      66.0    1.81   \n",
       "\n",
       "            Putting Rank  \n",
       "A. Cabrera          23.0  \n",
       "A. Lahiri           83.0  \n",
       "A. Murdaca           9.0  \n",
       "A. Scott            37.0  \n",
       "B. Crane            91.0  "
      ]
     },
     "execution_count": 138,
     "metadata": {},
     "output_type": "execute_result"
    }
   ],
   "source": [
    "stats.head()"
   ]
  },
  {
   "cell_type": "code",
   "execution_count": null,
   "metadata": {},
   "outputs": [],
   "source": []
  },
  {
   "cell_type": "code",
   "execution_count": 146,
   "metadata": {},
   "outputs": [],
   "source": [
    "## Check the list of names for different spelling\n",
    "\n",
    "all_players = set(list(stats.index) + list(final2015.index))"
   ]
  },
  {
   "cell_type": "code",
   "execution_count": 141,
   "metadata": {},
   "outputs": [
    {
     "data": {
      "text/plain": [
       "105"
      ]
     },
     "execution_count": 141,
     "metadata": {},
     "output_type": "execute_result"
    }
   ],
   "source": [
    "len(all_players)"
   ]
  },
  {
   "cell_type": "code",
   "execution_count": 142,
   "metadata": {},
   "outputs": [
    {
     "data": {
      "text/plain": [
       "{'A. Cabrera',\n",
       " 'A. Lahiri',\n",
       " 'A. Murdaca',\n",
       " 'A. Scott',\n",
       " 'B. Crane',\n",
       " 'B. Crenshaw',\n",
       " 'B. Grace',\n",
       " 'B. Haas',\n",
       " 'B. Harman',\n",
       " 'B. Horschel',\n",
       " 'B. Koepka',\n",
       " 'B. Langer',\n",
       " 'B. Martin',\n",
       " 'B. Meth',\n",
       " 'B. Neil',\n",
       " 'B. Neil (a)',\n",
       " 'B. Snedeker',\n",
       " 'B. Todd',\n",
       " 'B. Watson',\n",
       " 'B. Wiesberger',\n",
       " 'C. Conners',\n",
       " 'C. Hoffman',\n",
       " 'C. Kirk',\n",
       " 'C. Schwartzel',\n",
       " 'C. Tringale',\n",
       " 'C. Villegas',\n",
       " 'D. Clarke',\n",
       " 'D. Johnson',\n",
       " 'D. Willett',\n",
       " 'E. Compton',\n",
       " 'E. Els',\n",
       " 'F. Couples',\n",
       " 'G. McDowell',\n",
       " 'G. Mcdowell',\n",
       " 'G. Ogilvy',\n",
       " 'G. Woodland',\n",
       " 'G. Yang',\n",
       " 'G. Yang (a)',\n",
       " 'H. Mahan',\n",
       " 'H. Matsuyama',\n",
       " 'H. Stenson',\n",
       " 'I. Poulter',\n",
       " 'I. Woosnam',\n",
       " 'J. Blixt',\n",
       " 'J. Day',\n",
       " 'J. Donaldson',\n",
       " 'J. Dufner',\n",
       " 'J. Furyk',\n",
       " 'J. Hahn',\n",
       " 'J. Holmes',\n",
       " 'J. Luiten',\n",
       " 'J. Olazabal',\n",
       " 'J. Rose',\n",
       " 'J. Senden',\n",
       " 'J. Spieth',\n",
       " 'J. Walker',\n",
       " 'K. Bradley',\n",
       " 'K. Na',\n",
       " 'K. Stadler',\n",
       " 'K. Streelman',\n",
       " 'L. Donald',\n",
       " 'L. Mize',\n",
       " 'L. Oosthuizen',\n",
       " 'L. Westwood',\n",
       " 'M. Dominguez',\n",
       " 'M. Dominguez (a)',\n",
       " 'M. Every',\n",
       " 'M. Hoffmann',\n",
       " 'M. Ilonen',\n",
       " 'M. Jimenez',\n",
       " 'M. Kaymer',\n",
       " 'M. Kuchar',\n",
       " \"M. O'Meara\",\n",
       " 'M. Weir',\n",
       " 'M.Ilonen',\n",
       " 'P. Casey',\n",
       " 'P. Harrington',\n",
       " 'P. Mickelson',\n",
       " 'P. Reed',\n",
       " 'R. Fowler',\n",
       " 'R. Henley',\n",
       " 'R. McIlroy',\n",
       " 'R. Mcilroy',\n",
       " 'R. Moore',\n",
       " 'R. Palmer',\n",
       " 'R. Streb',\n",
       " 'S. Bae',\n",
       " 'S. Gallacher',\n",
       " 'S. Garcia',\n",
       " 'S. Harvey',\n",
       " 'S. Harvey (a)',\n",
       " 'S. Lowry',\n",
       " 'S. Lyle',\n",
       " 'S. Noh',\n",
       " 'S. Stricker',\n",
       " 'T. Bjorn',\n",
       " 'T. Immelman',\n",
       " 'T. Jaidee',\n",
       " 'T. Watson',\n",
       " 'T. Woods',\n",
       " 'T.Immelman',\n",
       " 'V. Dubuisson',\n",
       " 'V. Singh',\n",
       " 'W. Simpson',\n",
       " 'Z. Johnson'}"
      ]
     },
     "execution_count": 142,
     "metadata": {},
     "output_type": "execute_result"
    }
   ],
   "source": [
    "all_players"
   ]
  },
  {
   "cell_type": "code",
   "execution_count": 144,
   "metadata": {},
   "outputs": [],
   "source": [
    "new_names = {'B. Neil': 'B. Neil (a)',\n",
    "             'G. Mcdowell': 'G. McDowell',\n",
    "             'G. Yang': 'G. Yang (a)',\n",
    "             'M. Dominguez': 'M. Dominguez (a)',\n",
    "             'M.Ilonen': 'M. Ilonen',\n",
    "             'R. Mcilroy': 'R. McIlroy',\n",
    "             'S. Harvey': 'S. Harvey (a)',\n",
    "             'T.Immelman': 'T. Immelman'}\n",
    "\n",
    "stats = stats.rename(index=new_names)"
   ]
  },
  {
   "cell_type": "code",
   "execution_count": 147,
   "metadata": {},
   "outputs": [
    {
     "data": {
      "text/plain": [
       "97"
      ]
     },
     "execution_count": 147,
     "metadata": {},
     "output_type": "execute_result"
    }
   ],
   "source": [
    "len(all_players)"
   ]
  },
  {
   "cell_type": "code",
   "execution_count": 148,
   "metadata": {},
   "outputs": [
    {
     "name": "stderr",
     "output_type": "stream",
     "text": [
      "/Users/genevieveberent/Desktop/anaconda3/lib/python3.6/site-packages/ipykernel_launcher.py:1: FutureWarning: Sorting because non-concatenation axis is not aligned. A future version\n",
      "of pandas will change to not sort by default.\n",
      "\n",
      "To accept the future behavior, pass 'sort=True'.\n",
      "\n",
      "To retain the current behavior and silence the warning, pass sort=False\n",
      "\n",
      "  \"\"\"Entry point for launching an IPython kernel.\n"
     ]
    }
   ],
   "source": [
    "masters2015 = pd.concat([final2015, stats], axis=1)"
   ]
  },
  {
   "cell_type": "code",
   "execution_count": 151,
   "metadata": {},
   "outputs": [
    {
     "data": {
      "text/plain": [
       "(97, 12)"
      ]
     },
     "execution_count": 151,
     "metadata": {},
     "output_type": "execute_result"
    }
   ],
   "source": [
    "masters2015.shape"
   ]
  },
  {
   "cell_type": "code",
   "execution_count": 152,
   "metadata": {},
   "outputs": [],
   "source": [
    "## Drop the 'Player' column from the final2015 df\n",
    "\n",
    "masters2015.drop('Player', axis=1, inplace=True)"
   ]
  },
  {
   "cell_type": "code",
   "execution_count": 154,
   "metadata": {},
   "outputs": [],
   "source": [
    "## Get rid of the T when players tied for position\n",
    "\n",
    "masters2015['Position'] = masters2015['Position'].apply(lambda x:str(x).strip('T'))"
   ]
  },
  {
   "cell_type": "code",
   "execution_count": 156,
   "metadata": {},
   "outputs": [],
   "source": [
    "## Change scores of 'E' (Even par) to 0 so we can work with numeric values\n",
    "\n",
    "masters2015['Score'] = masters2015['Score'].replace({'E':0})"
   ]
  },
  {
   "cell_type": "code",
   "execution_count": 160,
   "metadata": {},
   "outputs": [],
   "source": [
    "## Change the type of the columns to numeric values to analyze later\n",
    "\n",
    "cols = ['FIR', 'FIR Rank', 'dist', 'dist Rank', 'GIR', 'GIR Rank', 'Putting',\n",
    "       'Putting Rank', 'Position', 'Score', 'Cut']\n",
    "\n",
    "masters2015[cols] = masters2015[cols].apply(pd.to_numeric, axis=1)"
   ]
  },
  {
   "cell_type": "code",
   "execution_count": 164,
   "metadata": {},
   "outputs": [],
   "source": [
    "masters2015['Year'] = 2015"
   ]
  },
  {
   "cell_type": "code",
   "execution_count": 165,
   "metadata": {},
   "outputs": [
    {
     "data": {
      "text/html": [
       "<div>\n",
       "<style scoped>\n",
       "    .dataframe tbody tr th:only-of-type {\n",
       "        vertical-align: middle;\n",
       "    }\n",
       "\n",
       "    .dataframe tbody tr th {\n",
       "        vertical-align: top;\n",
       "    }\n",
       "\n",
       "    .dataframe thead th {\n",
       "        text-align: right;\n",
       "    }\n",
       "</style>\n",
       "<table border=\"1\" class=\"dataframe\">\n",
       "  <thead>\n",
       "    <tr style=\"text-align: right;\">\n",
       "      <th></th>\n",
       "      <th>Position</th>\n",
       "      <th>Score</th>\n",
       "      <th>Cut</th>\n",
       "      <th>FIR</th>\n",
       "      <th>FIR Rank</th>\n",
       "      <th>dist</th>\n",
       "      <th>dist Rank</th>\n",
       "      <th>GIR</th>\n",
       "      <th>GIR Rank</th>\n",
       "      <th>Putting</th>\n",
       "      <th>Putting Rank</th>\n",
       "      <th>Year</th>\n",
       "    </tr>\n",
       "  </thead>\n",
       "  <tbody>\n",
       "    <tr>\n",
       "      <th>A. Cabrera</th>\n",
       "      <td>22.0</td>\n",
       "      <td>-2.0</td>\n",
       "      <td>0.0</td>\n",
       "      <td>51.79</td>\n",
       "      <td>91.0</td>\n",
       "      <td>297.75</td>\n",
       "      <td>8.0</td>\n",
       "      <td>63.89</td>\n",
       "      <td>34.0</td>\n",
       "      <td>1.60</td>\n",
       "      <td>23.0</td>\n",
       "      <td>2015</td>\n",
       "    </tr>\n",
       "    <tr>\n",
       "      <th>A. Lahiri</th>\n",
       "      <td>49.0</td>\n",
       "      <td>4.0</td>\n",
       "      <td>0.0</td>\n",
       "      <td>62.50</td>\n",
       "      <td>63.0</td>\n",
       "      <td>296.38</td>\n",
       "      <td>11.0</td>\n",
       "      <td>68.06</td>\n",
       "      <td>20.0</td>\n",
       "      <td>1.76</td>\n",
       "      <td>83.0</td>\n",
       "      <td>2015</td>\n",
       "    </tr>\n",
       "    <tr>\n",
       "      <th>A. Murdaca</th>\n",
       "      <td>80.0</td>\n",
       "      <td>7.0</td>\n",
       "      <td>1.0</td>\n",
       "      <td>57.14</td>\n",
       "      <td>75.0</td>\n",
       "      <td>299.75</td>\n",
       "      <td>5.0</td>\n",
       "      <td>50.00</td>\n",
       "      <td>83.0</td>\n",
       "      <td>1.56</td>\n",
       "      <td>9.0</td>\n",
       "      <td>2015</td>\n",
       "    </tr>\n",
       "    <tr>\n",
       "      <th>A. Scott</th>\n",
       "      <td>38.0</td>\n",
       "      <td>1.0</td>\n",
       "      <td>0.0</td>\n",
       "      <td>66.07</td>\n",
       "      <td>45.0</td>\n",
       "      <td>299.75</td>\n",
       "      <td>5.0</td>\n",
       "      <td>61.11</td>\n",
       "      <td>56.0</td>\n",
       "      <td>1.62</td>\n",
       "      <td>37.0</td>\n",
       "      <td>2015</td>\n",
       "    </tr>\n",
       "    <tr>\n",
       "      <th>B. Crane</th>\n",
       "      <td>92.0</td>\n",
       "      <td>13.0</td>\n",
       "      <td>1.0</td>\n",
       "      <td>75.00</td>\n",
       "      <td>17.0</td>\n",
       "      <td>277.50</td>\n",
       "      <td>76.0</td>\n",
       "      <td>58.33</td>\n",
       "      <td>66.0</td>\n",
       "      <td>1.81</td>\n",
       "      <td>91.0</td>\n",
       "      <td>2015</td>\n",
       "    </tr>\n",
       "  </tbody>\n",
       "</table>\n",
       "</div>"
      ],
      "text/plain": [
       "            Position  Score  Cut    FIR  FIR Rank    dist  dist Rank    GIR  \\\n",
       "A. Cabrera      22.0   -2.0  0.0  51.79      91.0  297.75        8.0  63.89   \n",
       "A. Lahiri       49.0    4.0  0.0  62.50      63.0  296.38       11.0  68.06   \n",
       "A. Murdaca      80.0    7.0  1.0  57.14      75.0  299.75        5.0  50.00   \n",
       "A. Scott        38.0    1.0  0.0  66.07      45.0  299.75        5.0  61.11   \n",
       "B. Crane        92.0   13.0  1.0  75.00      17.0  277.50       76.0  58.33   \n",
       "\n",
       "            GIR Rank  Putting  Putting Rank  Year  \n",
       "A. Cabrera      34.0     1.60          23.0  2015  \n",
       "A. Lahiri       20.0     1.76          83.0  2015  \n",
       "A. Murdaca      83.0     1.56           9.0  2015  \n",
       "A. Scott        56.0     1.62          37.0  2015  \n",
       "B. Crane        66.0     1.81          91.0  2015  "
      ]
     },
     "execution_count": 165,
     "metadata": {},
     "output_type": "execute_result"
    }
   ],
   "source": [
    "masters2015.head()"
   ]
  },
  {
   "cell_type": "code",
   "execution_count": 166,
   "metadata": {},
   "outputs": [],
   "source": [
    "## Save\n",
    "\n",
    "masters2015.to_csv('Masters_2015.csv')"
   ]
  },
  {
   "cell_type": "code",
   "execution_count": 163,
   "metadata": {},
   "outputs": [],
   "source": [
    "driver.close()"
   ]
  },
  {
   "cell_type": "code",
   "execution_count": null,
   "metadata": {},
   "outputs": [],
   "source": []
  }
 ],
 "metadata": {
  "kernelspec": {
   "display_name": "Python 3",
   "language": "python",
   "name": "python3"
  },
  "language_info": {
   "codemirror_mode": {
    "name": "ipython",
    "version": 3
   },
   "file_extension": ".py",
   "mimetype": "text/x-python",
   "name": "python",
   "nbconvert_exporter": "python",
   "pygments_lexer": "ipython3",
   "version": "3.6.5"
  }
 },
 "nbformat": 4,
 "nbformat_minor": 2
}
