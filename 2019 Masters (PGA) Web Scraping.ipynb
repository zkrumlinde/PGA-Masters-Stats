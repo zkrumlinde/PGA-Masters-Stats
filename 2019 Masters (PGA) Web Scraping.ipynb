{
 "cells": [
  {
   "cell_type": "code",
   "execution_count": 83,
   "metadata": {},
   "outputs": [],
   "source": [
    "import pandas as pd\n",
    "import numpy as np"
   ]
  },
  {
   "cell_type": "code",
   "execution_count": 18,
   "metadata": {},
   "outputs": [],
   "source": [
    "import selenium"
   ]
  },
  {
   "cell_type": "code",
   "execution_count": 19,
   "metadata": {},
   "outputs": [
    {
     "name": "stdout",
     "output_type": "stream",
     "text": [
      "/Users/genevieveberent/Desktop/Zak_Portfolio/PGA_Masters\n"
     ]
    }
   ],
   "source": [
    "%cd /Users/genevieveberent/Desktop/Zak_Portfolio/PGA_Masters"
   ]
  },
  {
   "cell_type": "code",
   "execution_count": 3,
   "metadata": {},
   "outputs": [],
   "source": [
    "## Open the website for Fairways in Regulation in a Chrome Browser\n",
    "\n",
    "driver = webdriver.Chrome()\n",
    "driver.get('https://2019.masters.com/en_US/scores/stats/fir.html')"
   ]
  },
  {
   "cell_type": "code",
   "execution_count": 5,
   "metadata": {},
   "outputs": [],
   "source": [
    "## Extract the player names by the class name ('first-col')\n",
    "\n",
    "player_name = driver.find_elements_by_class_name(\"first-col\")\n",
    "\n",
    "fir2019_players = []\n",
    "\n",
    "for player in player_name:\n",
    "    fir2019_players.append(player.text)"
   ]
  },
  {
   "cell_type": "code",
   "execution_count": 6,
   "metadata": {},
   "outputs": [],
   "source": [
    "## Extract the average fir for the entire tournament (Ignore the individual rounds)\n",
    "\n",
    "fir2019_stats = []\n",
    "\n",
    "for i in range(len(players) + 1):\n",
    "    path = '//*[@id=\"router\"]/section/section[4]/section[2]/div/div[2]/table/tbody/tr['+str(i)+']/td[6]'\n",
    "    fir_average = driver.find_elements_by_xpath(path)\n",
    "    for f in fir_average:\n",
    "        fir2019_stats.append(f.text) "
   ]
  },
  {
   "cell_type": "code",
   "execution_count": 7,
   "metadata": {},
   "outputs": [
    {
     "name": "stdout",
     "output_type": "stream",
     "text": [
      "Player Names\n",
      "88\n",
      "['PLAYER', 'Patton Kizzire', 'Ian Woosnam', 'Bernhard Langer', 'Andrew Landry']\n",
      "\n",
      "FIR\n",
      "87\n",
      "['40 / 56 = 71.43%', '24 / 28 = 85.71%', '43 / 56 = 76.79%', '45 / 56 = 80.36%', '24 / 28 = 85.71%']\n"
     ]
    }
   ],
   "source": [
    "## Check the players list\n",
    "print('Player Names')\n",
    "print(len(fir2019_players))\n",
    "print(fir2019_players[:5])\n",
    "print()\n",
    "print('FIR')\n",
    "print(len(fir2019_stats))\n",
    "print(fir2019_stats[:5])"
   ]
  },
  {
   "cell_type": "markdown",
   "metadata": {},
   "source": [
    "In the player list, the title was included, but it was not in the FIR list.  Removing this will also give both lists 87 elements."
   ]
  },
  {
   "cell_type": "code",
   "execution_count": 11,
   "metadata": {},
   "outputs": [],
   "source": [
    "del fir2019_players[0]"
   ]
  },
  {
   "cell_type": "code",
   "execution_count": null,
   "metadata": {},
   "outputs": [],
   "source": []
  },
  {
   "cell_type": "markdown",
   "metadata": {},
   "source": [
    "### Start creating the DataFrame "
   ]
  },
  {
   "cell_type": "code",
   "execution_count": 12,
   "metadata": {},
   "outputs": [],
   "source": [
    "## Create a dataframe with just the players\n",
    "\n",
    "fir_2019 = pd.DataFrame.from_dict({'Player':fir2019_players, 'FIR':fir2019_stats})"
   ]
  },
  {
   "cell_type": "code",
   "execution_count": 13,
   "metadata": {},
   "outputs": [
    {
     "data": {
      "text/html": [
       "<div>\n",
       "<style scoped>\n",
       "    .dataframe tbody tr th:only-of-type {\n",
       "        vertical-align: middle;\n",
       "    }\n",
       "\n",
       "    .dataframe tbody tr th {\n",
       "        vertical-align: top;\n",
       "    }\n",
       "\n",
       "    .dataframe thead th {\n",
       "        text-align: right;\n",
       "    }\n",
       "</style>\n",
       "<table border=\"1\" class=\"dataframe\">\n",
       "  <thead>\n",
       "    <tr style=\"text-align: right;\">\n",
       "      <th></th>\n",
       "      <th>Player</th>\n",
       "      <th>FIR</th>\n",
       "    </tr>\n",
       "  </thead>\n",
       "  <tbody>\n",
       "    <tr>\n",
       "      <th>0</th>\n",
       "      <td>Patton Kizzire</td>\n",
       "      <td>40 / 56 = 71.43%</td>\n",
       "    </tr>\n",
       "    <tr>\n",
       "      <th>1</th>\n",
       "      <td>Ian Woosnam</td>\n",
       "      <td>24 / 28 = 85.71%</td>\n",
       "    </tr>\n",
       "  </tbody>\n",
       "</table>\n",
       "</div>"
      ],
      "text/plain": [
       "           Player               FIR\n",
       "0  Patton Kizzire  40 / 56 = 71.43%\n",
       "1     Ian Woosnam  24 / 28 = 85.71%"
      ]
     },
     "execution_count": 13,
     "metadata": {},
     "output_type": "execute_result"
    }
   ],
   "source": [
    "fir_2019.head(2)"
   ]
  },
  {
   "cell_type": "code",
   "execution_count": 14,
   "metadata": {},
   "outputs": [],
   "source": [
    "## I just want the percentage from the FIR, each percentage is 5 values (##.##)\n",
    "\n",
    "fir_2019['FIR'] = fir_2019['FIR'].map(lambda x:str(x)[-6:-1])"
   ]
  },
  {
   "cell_type": "code",
   "execution_count": 15,
   "metadata": {},
   "outputs": [
    {
     "data": {
      "text/html": [
       "<div>\n",
       "<style scoped>\n",
       "    .dataframe tbody tr th:only-of-type {\n",
       "        vertical-align: middle;\n",
       "    }\n",
       "\n",
       "    .dataframe tbody tr th {\n",
       "        vertical-align: top;\n",
       "    }\n",
       "\n",
       "    .dataframe thead th {\n",
       "        text-align: right;\n",
       "    }\n",
       "</style>\n",
       "<table border=\"1\" class=\"dataframe\">\n",
       "  <thead>\n",
       "    <tr style=\"text-align: right;\">\n",
       "      <th></th>\n",
       "      <th>Player</th>\n",
       "      <th>FIR</th>\n",
       "    </tr>\n",
       "  </thead>\n",
       "  <tbody>\n",
       "    <tr>\n",
       "      <th>0</th>\n",
       "      <td>Patton Kizzire</td>\n",
       "      <td>71.43</td>\n",
       "    </tr>\n",
       "    <tr>\n",
       "      <th>1</th>\n",
       "      <td>Ian Woosnam</td>\n",
       "      <td>85.71</td>\n",
       "    </tr>\n",
       "  </tbody>\n",
       "</table>\n",
       "</div>"
      ],
      "text/plain": [
       "           Player    FIR\n",
       "0  Patton Kizzire  71.43\n",
       "1     Ian Woosnam  85.71"
      ]
     },
     "execution_count": 15,
     "metadata": {},
     "output_type": "execute_result"
    }
   ],
   "source": [
    "fir_2019.head(2)"
   ]
  },
  {
   "cell_type": "code",
   "execution_count": 16,
   "metadata": {},
   "outputs": [],
   "source": [
    "fir_2019['FIR Rank'] = fir_2019['FIR'].rank(method='min', ascending=False)"
   ]
  },
  {
   "cell_type": "code",
   "execution_count": 24,
   "metadata": {},
   "outputs": [
    {
     "data": {
      "text/html": [
       "<div>\n",
       "<style scoped>\n",
       "    .dataframe tbody tr th:only-of-type {\n",
       "        vertical-align: middle;\n",
       "    }\n",
       "\n",
       "    .dataframe tbody tr th {\n",
       "        vertical-align: top;\n",
       "    }\n",
       "\n",
       "    .dataframe thead th {\n",
       "        text-align: right;\n",
       "    }\n",
       "</style>\n",
       "<table border=\"1\" class=\"dataframe\">\n",
       "  <thead>\n",
       "    <tr style=\"text-align: right;\">\n",
       "      <th></th>\n",
       "      <th>Player</th>\n",
       "      <th>FIR</th>\n",
       "      <th>FIR Rank</th>\n",
       "    </tr>\n",
       "  </thead>\n",
       "  <tbody>\n",
       "    <tr>\n",
       "      <th>0</th>\n",
       "      <td>Patton Kizzire</td>\n",
       "      <td>71.43</td>\n",
       "      <td>28.0</td>\n",
       "    </tr>\n",
       "    <tr>\n",
       "      <th>1</th>\n",
       "      <td>Ian Woosnam</td>\n",
       "      <td>85.71</td>\n",
       "      <td>1.0</td>\n",
       "    </tr>\n",
       "    <tr>\n",
       "      <th>2</th>\n",
       "      <td>Bernhard Langer</td>\n",
       "      <td>76.79</td>\n",
       "      <td>9.0</td>\n",
       "    </tr>\n",
       "    <tr>\n",
       "      <th>3</th>\n",
       "      <td>Andrew Landry</td>\n",
       "      <td>80.36</td>\n",
       "      <td>6.0</td>\n",
       "    </tr>\n",
       "    <tr>\n",
       "      <th>4</th>\n",
       "      <td>Larry Mize</td>\n",
       "      <td>85.71</td>\n",
       "      <td>1.0</td>\n",
       "    </tr>\n",
       "  </tbody>\n",
       "</table>\n",
       "</div>"
      ],
      "text/plain": [
       "            Player    FIR  FIR Rank\n",
       "0   Patton Kizzire  71.43      28.0\n",
       "1      Ian Woosnam  85.71       1.0\n",
       "2  Bernhard Langer  76.79       9.0\n",
       "3    Andrew Landry  80.36       6.0\n",
       "4       Larry Mize  85.71       1.0"
      ]
     },
     "execution_count": 24,
     "metadata": {},
     "output_type": "execute_result"
    }
   ],
   "source": [
    "fir_2019.head()"
   ]
  },
  {
   "cell_type": "markdown",
   "metadata": {},
   "source": [
    "I like it!  A good start to webscraping."
   ]
  },
  {
   "cell_type": "code",
   "execution_count": 20,
   "metadata": {},
   "outputs": [],
   "source": [
    "## Save to my local computer\n",
    "\n",
    "fir_2019.to_csv('2019_FIR.csv')"
   ]
  },
  {
   "cell_type": "code",
   "execution_count": null,
   "metadata": {},
   "outputs": [],
   "source": []
  },
  {
   "cell_type": "markdown",
   "metadata": {},
   "source": [
    "# Get Greens in Regulation"
   ]
  },
  {
   "cell_type": "code",
   "execution_count": 25,
   "metadata": {},
   "outputs": [],
   "source": [
    "## Open the GIR page\n",
    "\n",
    "driver.get('https://2019.masters.com/en_US/scores/stats/gir.html')"
   ]
  },
  {
   "cell_type": "code",
   "execution_count": 26,
   "metadata": {},
   "outputs": [],
   "source": [
    "## Get a list of the players names from the class_name in the source code\n",
    "\n",
    "gir2019_players = []\n",
    "\n",
    "gir_players = driver.find_elements_by_class_name('first-col')\n",
    "\n",
    "for player in gir_players:\n",
    "    gir2019_players.append(player.text)"
   ]
  },
  {
   "cell_type": "code",
   "execution_count": 28,
   "metadata": {},
   "outputs": [
    {
     "data": {
      "text/plain": [
       "['PLAYER', 'Ian Poulter', 'Dustin Johnson', 'Marc Leishman']"
      ]
     },
     "execution_count": 28,
     "metadata": {},
     "output_type": "execute_result"
    }
   ],
   "source": [
    "## Look at the first four items in the list, make sure they match website\n",
    "\n",
    "gir2019_players[:4]"
   ]
  },
  {
   "cell_type": "code",
   "execution_count": 29,
   "metadata": {},
   "outputs": [],
   "source": [
    "## Delete the 'PLAYER' item\n",
    "\n",
    "del gir2019_players[0]"
   ]
  },
  {
   "cell_type": "raw",
   "metadata": {},
   "source": [
    "Check the xpath of the first and last elements in the column that we want\n",
    "\n",
    "//*[@id=\"router\"]/section/section[4]/section[2]/div/div[2]/table/tbody/tr[2]/td[6]\n",
    "//*[@id=\"router\"]/section/section[4]/section[2]/div/div[2]/table/tbody/tr[88]/td[6]"
   ]
  },
  {
   "cell_type": "code",
   "execution_count": 30,
   "metadata": {},
   "outputs": [],
   "source": [
    "## Get the GIR% for the tournament\n",
    "\n",
    "gir2019_stats = []\n",
    "\n",
    "for g in range(89):\n",
    "    path = '//*[@id=\"router\"]/section/section[4]/section[2]/div/div[2]/table/tbody/tr['+ str(g) + ']/td[6]'\n",
    "    gir_stats = driver.find_elements_by_xpath(path)\n",
    "    for stat in gir_stats:\n",
    "        gir2019_stats.append(stat.text)"
   ]
  },
  {
   "cell_type": "code",
   "execution_count": 31,
   "metadata": {},
   "outputs": [
    {
     "data": {
      "text/plain": [
       "['55 / 72 = 76.39%',\n",
       " '51 / 72 = 70.83%',\n",
       " '45 / 72 = 62.50%',\n",
       " '52 / 72 = 72.22%']"
      ]
     },
     "execution_count": 31,
     "metadata": {},
     "output_type": "execute_result"
    }
   ],
   "source": [
    "## Check the first 4 elements to double check they match up with the website. (They do!)\n",
    "\n",
    "gir2019_stats[:4]"
   ]
  },
  {
   "cell_type": "code",
   "execution_count": 32,
   "metadata": {},
   "outputs": [],
   "source": [
    "## Create a dataframe for the Greens in Regulation \n",
    "\n",
    "gir_2019 = pd.DataFrame.from_dict({'Player':gir2019_players, 'GIR':gir2019_stats})"
   ]
  },
  {
   "cell_type": "code",
   "execution_count": 33,
   "metadata": {},
   "outputs": [
    {
     "data": {
      "text/html": [
       "<div>\n",
       "<style scoped>\n",
       "    .dataframe tbody tr th:only-of-type {\n",
       "        vertical-align: middle;\n",
       "    }\n",
       "\n",
       "    .dataframe tbody tr th {\n",
       "        vertical-align: top;\n",
       "    }\n",
       "\n",
       "    .dataframe thead th {\n",
       "        text-align: right;\n",
       "    }\n",
       "</style>\n",
       "<table border=\"1\" class=\"dataframe\">\n",
       "  <thead>\n",
       "    <tr style=\"text-align: right;\">\n",
       "      <th></th>\n",
       "      <th>Player</th>\n",
       "      <th>GIR</th>\n",
       "    </tr>\n",
       "  </thead>\n",
       "  <tbody>\n",
       "    <tr>\n",
       "      <th>0</th>\n",
       "      <td>Ian Poulter</td>\n",
       "      <td>55 / 72 = 76.39%</td>\n",
       "    </tr>\n",
       "    <tr>\n",
       "      <th>1</th>\n",
       "      <td>Dustin Johnson</td>\n",
       "      <td>51 / 72 = 70.83%</td>\n",
       "    </tr>\n",
       "    <tr>\n",
       "      <th>2</th>\n",
       "      <td>Marc Leishman</td>\n",
       "      <td>45 / 72 = 62.50%</td>\n",
       "    </tr>\n",
       "  </tbody>\n",
       "</table>\n",
       "</div>"
      ],
      "text/plain": [
       "           Player               GIR\n",
       "0     Ian Poulter  55 / 72 = 76.39%\n",
       "1  Dustin Johnson  51 / 72 = 70.83%\n",
       "2   Marc Leishman  45 / 72 = 62.50%"
      ]
     },
     "execution_count": 33,
     "metadata": {},
     "output_type": "execute_result"
    }
   ],
   "source": [
    "gir_2019.head(3)"
   ]
  },
  {
   "cell_type": "code",
   "execution_count": 34,
   "metadata": {},
   "outputs": [],
   "source": [
    "## Extract just the percentage value\n",
    "\n",
    "gir_2019['GIR'] = gir_2019['GIR'].map(lambda x:str(x)[-6:-1])"
   ]
  },
  {
   "cell_type": "code",
   "execution_count": 35,
   "metadata": {},
   "outputs": [
    {
     "data": {
      "text/html": [
       "<div>\n",
       "<style scoped>\n",
       "    .dataframe tbody tr th:only-of-type {\n",
       "        vertical-align: middle;\n",
       "    }\n",
       "\n",
       "    .dataframe tbody tr th {\n",
       "        vertical-align: top;\n",
       "    }\n",
       "\n",
       "    .dataframe thead th {\n",
       "        text-align: right;\n",
       "    }\n",
       "</style>\n",
       "<table border=\"1\" class=\"dataframe\">\n",
       "  <thead>\n",
       "    <tr style=\"text-align: right;\">\n",
       "      <th></th>\n",
       "      <th>Player</th>\n",
       "      <th>GIR</th>\n",
       "    </tr>\n",
       "  </thead>\n",
       "  <tbody>\n",
       "    <tr>\n",
       "      <th>0</th>\n",
       "      <td>Ian Poulter</td>\n",
       "      <td>76.39</td>\n",
       "    </tr>\n",
       "    <tr>\n",
       "      <th>1</th>\n",
       "      <td>Dustin Johnson</td>\n",
       "      <td>70.83</td>\n",
       "    </tr>\n",
       "    <tr>\n",
       "      <th>2</th>\n",
       "      <td>Marc Leishman</td>\n",
       "      <td>62.50</td>\n",
       "    </tr>\n",
       "  </tbody>\n",
       "</table>\n",
       "</div>"
      ],
      "text/plain": [
       "           Player    GIR\n",
       "0     Ian Poulter  76.39\n",
       "1  Dustin Johnson  70.83\n",
       "2   Marc Leishman  62.50"
      ]
     },
     "execution_count": 35,
     "metadata": {},
     "output_type": "execute_result"
    }
   ],
   "source": [
    "gir_2019.head(3)"
   ]
  },
  {
   "cell_type": "code",
   "execution_count": 37,
   "metadata": {},
   "outputs": [],
   "source": [
    "gir_2019['GIR Rank'] = gir_2019['GIR'].rank(method='min', ascending=False)"
   ]
  },
  {
   "cell_type": "code",
   "execution_count": 228,
   "metadata": {},
   "outputs": [
    {
     "data": {
      "text/html": [
       "<div>\n",
       "<style scoped>\n",
       "    .dataframe tbody tr th:only-of-type {\n",
       "        vertical-align: middle;\n",
       "    }\n",
       "\n",
       "    .dataframe tbody tr th {\n",
       "        vertical-align: top;\n",
       "    }\n",
       "\n",
       "    .dataframe thead th {\n",
       "        text-align: right;\n",
       "    }\n",
       "</style>\n",
       "<table border=\"1\" class=\"dataframe\">\n",
       "  <thead>\n",
       "    <tr style=\"text-align: right;\">\n",
       "      <th></th>\n",
       "      <th>Player</th>\n",
       "      <th>GIR%</th>\n",
       "      <th>GIR Rank</th>\n",
       "    </tr>\n",
       "  </thead>\n",
       "  <tbody>\n",
       "    <tr>\n",
       "      <th>0</th>\n",
       "      <td>Ian Poulter</td>\n",
       "      <td>76.39</td>\n",
       "      <td>2.0</td>\n",
       "    </tr>\n",
       "    <tr>\n",
       "      <th>1</th>\n",
       "      <td>Dustin Johnson</td>\n",
       "      <td>70.83</td>\n",
       "      <td>10.0</td>\n",
       "    </tr>\n",
       "    <tr>\n",
       "      <th>2</th>\n",
       "      <td>Marc Leishman</td>\n",
       "      <td>62.50</td>\n",
       "      <td>48.0</td>\n",
       "    </tr>\n",
       "    <tr>\n",
       "      <th>3</th>\n",
       "      <td>Thorbjorn Olesen</td>\n",
       "      <td>72.22</td>\n",
       "      <td>8.0</td>\n",
       "    </tr>\n",
       "    <tr>\n",
       "      <th>4</th>\n",
       "      <td>Corey Conners</td>\n",
       "      <td>69.44</td>\n",
       "      <td>17.0</td>\n",
       "    </tr>\n",
       "  </tbody>\n",
       "</table>\n",
       "</div>"
      ],
      "text/plain": [
       "             Player   GIR%  GIR Rank\n",
       "0       Ian Poulter  76.39       2.0\n",
       "1    Dustin Johnson  70.83      10.0\n",
       "2     Marc Leishman  62.50      48.0\n",
       "3  Thorbjorn Olesen  72.22       8.0\n",
       "4     Corey Conners  69.44      17.0"
      ]
     },
     "execution_count": 228,
     "metadata": {},
     "output_type": "execute_result"
    }
   ],
   "source": [
    "gir_2019.head()"
   ]
  },
  {
   "cell_type": "code",
   "execution_count": 38,
   "metadata": {},
   "outputs": [],
   "source": [
    "gir_2019.to_csv('2019_GIR.csv')"
   ]
  },
  {
   "cell_type": "code",
   "execution_count": null,
   "metadata": {},
   "outputs": [],
   "source": []
  },
  {
   "cell_type": "markdown",
   "metadata": {},
   "source": [
    "## Get Driving Distance Data"
   ]
  },
  {
   "cell_type": "code",
   "execution_count": 39,
   "metadata": {},
   "outputs": [],
   "source": [
    "## Open the driving distance page\n",
    "\n",
    "driver.get('https://2019.masters.com/en_US/scores/stats/drives_avg.html')"
   ]
  },
  {
   "cell_type": "code",
   "execution_count": 41,
   "metadata": {},
   "outputs": [
    {
     "name": "stdout",
     "output_type": "stream",
     "text": [
      "88\n",
      "['PLAYER', 'Rory McIlroy', 'Lucas Bjerregaard', 'Justin Thomas', 'Tony Finau']\n"
     ]
    }
   ],
   "source": [
    "## Get Player Names\n",
    "\n",
    "dist2019_players = []\n",
    "\n",
    "dist_players = driver.find_elements_by_class_name('first-col')\n",
    "\n",
    "for p in dist_players:\n",
    "    dist2019_players.append(p.text)\n",
    "    \n",
    "\n",
    "print(len(dist2019_players))\n",
    "print(dist2019_players[:5])"
   ]
  },
  {
   "cell_type": "code",
   "execution_count": 43,
   "metadata": {},
   "outputs": [],
   "source": [
    "## Remove the header 'PLAYER' from the list\n",
    "\n",
    "del dist2019_players[0]"
   ]
  },
  {
   "cell_type": "code",
   "execution_count": 44,
   "metadata": {},
   "outputs": [],
   "source": [
    "## Get the Average Driving Distance for each player\n",
    "\n",
    "dist2019_stats = []\n",
    "\n",
    "for d in range(89):\n",
    "    path = '//*[@id=\"router\"]/section/section[4]/section[2]/div/div[2]/table/tbody/tr[' + str(d) + ']/td[6]'\n",
    "    dist_stats = driver.find_elements_by_xpath(path)\n",
    "    for stats in dist_stats:\n",
    "        dist2019_stats.append(stats.text)"
   ]
  },
  {
   "cell_type": "code",
   "execution_count": 46,
   "metadata": {},
   "outputs": [
    {
     "name": "stdout",
     "output_type": "stream",
     "text": [
      "87\n",
      "['313.88', '310.12', '311.75']\n",
      "['255.25', '247.25', '263.50']\n"
     ]
    }
   ],
   "source": [
    "## Make sure everything matches up to the website\n",
    "\n",
    "print(len(dist2019_stats))\n",
    "print(dist2019_stats[:3])\n",
    "print(dist2019_stats[-3:])"
   ]
  },
  {
   "cell_type": "code",
   "execution_count": 47,
   "metadata": {},
   "outputs": [],
   "source": [
    "## Create a DataFrame for Driving Distance\n",
    "\n",
    "dist_2019 = pd.DataFrame.from_dict({'Player':dist2019_players, 'dist':dist2019_stats})"
   ]
  },
  {
   "cell_type": "code",
   "execution_count": 48,
   "metadata": {},
   "outputs": [],
   "source": [
    "## Get the ranking of each player by longest average drive\n",
    "\n",
    "dist_2019['dist Rank'] = dist_2019['dist'].rank(method='min', ascending=False)"
   ]
  },
  {
   "cell_type": "code",
   "execution_count": 49,
   "metadata": {},
   "outputs": [
    {
     "data": {
      "text/html": [
       "<div>\n",
       "<style scoped>\n",
       "    .dataframe tbody tr th:only-of-type {\n",
       "        vertical-align: middle;\n",
       "    }\n",
       "\n",
       "    .dataframe tbody tr th {\n",
       "        vertical-align: top;\n",
       "    }\n",
       "\n",
       "    .dataframe thead th {\n",
       "        text-align: right;\n",
       "    }\n",
       "</style>\n",
       "<table border=\"1\" class=\"dataframe\">\n",
       "  <thead>\n",
       "    <tr style=\"text-align: right;\">\n",
       "      <th></th>\n",
       "      <th>Player</th>\n",
       "      <th>dist</th>\n",
       "      <th>dist Rank</th>\n",
       "    </tr>\n",
       "  </thead>\n",
       "  <tbody>\n",
       "    <tr>\n",
       "      <th>0</th>\n",
       "      <td>Rory McIlroy</td>\n",
       "      <td>313.88</td>\n",
       "      <td>2.0</td>\n",
       "    </tr>\n",
       "    <tr>\n",
       "      <th>1</th>\n",
       "      <td>Lucas Bjerregaard</td>\n",
       "      <td>310.12</td>\n",
       "      <td>9.0</td>\n",
       "    </tr>\n",
       "    <tr>\n",
       "      <th>2</th>\n",
       "      <td>Justin Thomas</td>\n",
       "      <td>311.75</td>\n",
       "      <td>6.0</td>\n",
       "    </tr>\n",
       "    <tr>\n",
       "      <th>3</th>\n",
       "      <td>Tony Finau</td>\n",
       "      <td>315.75</td>\n",
       "      <td>1.0</td>\n",
       "    </tr>\n",
       "    <tr>\n",
       "      <th>4</th>\n",
       "      <td>Adam Scott</td>\n",
       "      <td>310.00</td>\n",
       "      <td>10.0</td>\n",
       "    </tr>\n",
       "  </tbody>\n",
       "</table>\n",
       "</div>"
      ],
      "text/plain": [
       "              Player    dist  dist Rank\n",
       "0       Rory McIlroy  313.88        2.0\n",
       "1  Lucas Bjerregaard  310.12        9.0\n",
       "2      Justin Thomas  311.75        6.0\n",
       "3         Tony Finau  315.75        1.0\n",
       "4         Adam Scott  310.00       10.0"
      ]
     },
     "execution_count": 49,
     "metadata": {},
     "output_type": "execute_result"
    }
   ],
   "source": [
    "dist_2019.head()"
   ]
  },
  {
   "cell_type": "code",
   "execution_count": 50,
   "metadata": {},
   "outputs": [],
   "source": [
    "## Save\n",
    "\n",
    "dist_2019.to_csv('dist_2019.csv')"
   ]
  },
  {
   "cell_type": "code",
   "execution_count": null,
   "metadata": {},
   "outputs": [],
   "source": []
  },
  {
   "cell_type": "markdown",
   "metadata": {},
   "source": [
    "## Putting Stats"
   ]
  },
  {
   "cell_type": "code",
   "execution_count": 51,
   "metadata": {},
   "outputs": [],
   "source": [
    "## Open putting stats website\n",
    "\n",
    "driver.get('https://2019.masters.com/en_US/scores/stats/putts.html')"
   ]
  },
  {
   "cell_type": "code",
   "execution_count": 52,
   "metadata": {},
   "outputs": [],
   "source": [
    "## Get list of player names\n",
    "\n",
    "putt2019_players = []\n",
    "\n",
    "putt_players = driver.find_elements_by_class_name('first-col')\n",
    "\n",
    "for p in putt_players:\n",
    "    putt2019_players.append(p.text)"
   ]
  },
  {
   "cell_type": "code",
   "execution_count": 53,
   "metadata": {},
   "outputs": [
    {
     "name": "stdout",
     "output_type": "stream",
     "text": [
      "88\n",
      "['PLAYER', 'Justin Harding', 'Patton Kizzire']\n",
      "['Angel Cabrera', 'Tyrrell Hatton', 'Trevor Immelman']\n"
     ]
    }
   ],
   "source": [
    "## Check everyting matches with website\n",
    "\n",
    "print(len(putt2019_players))\n",
    "print(putt2019_players[:3])\n",
    "print(putt2019_players[-3:])"
   ]
  },
  {
   "cell_type": "code",
   "execution_count": 54,
   "metadata": {},
   "outputs": [],
   "source": [
    "## Delete the first element\n",
    "del putt2019_players[0]"
   ]
  },
  {
   "cell_type": "raw",
   "metadata": {},
   "source": [
    "Compare first and last xpaths\n",
    "\n",
    "//*[@id=\"router\"]/section/section[4]/section[2]/div/div[2]/table/tbody/tr[2]/td[6]\n",
    "//*[@id=\"router\"]/section/section[4]/section[2]/div/div[2]/table/tbody/tr[88]/td[6]"
   ]
  },
  {
   "cell_type": "code",
   "execution_count": 55,
   "metadata": {},
   "outputs": [],
   "source": [
    "## Get putting stats for each player\n",
    "\n",
    "putt2019_stats = []\n",
    "\n",
    "for p in range(89):\n",
    "    path = '//*[@id=\"router\"]/section/section[4]/section[2]/div/div[2]/table/tbody/tr[' + str(p) + ']/td[6]'\n",
    "    putt_stats = driver.find_elements_by_xpath(path)\n",
    "    for stat in putt_stats:\n",
    "        putt2019_stats.append(stat.text)"
   ]
  },
  {
   "cell_type": "code",
   "execution_count": 56,
   "metadata": {},
   "outputs": [
    {
     "name": "stdout",
     "output_type": "stream",
     "text": [
      "87\n",
      "['1.50 (1)', '1.57 (1)', '1.57 (5)']\n",
      "['1.83 (5)', '1.71', '1.76 (5)']\n"
     ]
    }
   ],
   "source": [
    "print(len(putt2019_stats))\n",
    "print(putt2019_stats[:3])\n",
    "print(putt2019_stats[-3:])"
   ]
  },
  {
   "cell_type": "code",
   "execution_count": 57,
   "metadata": {},
   "outputs": [],
   "source": [
    "## Create a Putting Dataframe\n",
    "\n",
    "putt_2019 = pd.DataFrame.from_dict({'Player':putt2019_players, 'Putting':putt2019_stats})"
   ]
  },
  {
   "cell_type": "code",
   "execution_count": 58,
   "metadata": {},
   "outputs": [],
   "source": [
    "## Get rid of the (#), this is the number of 3 putts the players had\n",
    "\n",
    "putt_2019['Putting'] = putt_2019['Putting'].map(lambda x:str(x)[:4])"
   ]
  },
  {
   "cell_type": "code",
   "execution_count": 62,
   "metadata": {},
   "outputs": [],
   "source": [
    "## Add a Rank for each player based on putting stats\n",
    "\n",
    "putt_2019['Putting Rank'] = putt_2019['Putting'].rank(method='min')"
   ]
  },
  {
   "cell_type": "code",
   "execution_count": 65,
   "metadata": {},
   "outputs": [
    {
     "data": {
      "text/html": [
       "<div>\n",
       "<style scoped>\n",
       "    .dataframe tbody tr th:only-of-type {\n",
       "        vertical-align: middle;\n",
       "    }\n",
       "\n",
       "    .dataframe tbody tr th {\n",
       "        vertical-align: top;\n",
       "    }\n",
       "\n",
       "    .dataframe thead th {\n",
       "        text-align: right;\n",
       "    }\n",
       "</style>\n",
       "<table border=\"1\" class=\"dataframe\">\n",
       "  <thead>\n",
       "    <tr style=\"text-align: right;\">\n",
       "      <th></th>\n",
       "      <th>Player</th>\n",
       "      <th>Putting</th>\n",
       "      <th>Putting Rank</th>\n",
       "    </tr>\n",
       "  </thead>\n",
       "  <tbody>\n",
       "    <tr>\n",
       "      <th>0</th>\n",
       "      <td>Justin Harding</td>\n",
       "      <td>1.50</td>\n",
       "      <td>4.0</td>\n",
       "    </tr>\n",
       "    <tr>\n",
       "      <th>1</th>\n",
       "      <td>Patton Kizzire</td>\n",
       "      <td>1.57</td>\n",
       "      <td>11.0</td>\n",
       "    </tr>\n",
       "    <tr>\n",
       "      <th>2</th>\n",
       "      <td>Bryson DeChambeau</td>\n",
       "      <td>1.57</td>\n",
       "      <td>11.0</td>\n",
       "    </tr>\n",
       "    <tr>\n",
       "      <th>3</th>\n",
       "      <td>Kevin Kisner</td>\n",
       "      <td>1.58</td>\n",
       "      <td>17.0</td>\n",
       "    </tr>\n",
       "    <tr>\n",
       "      <th>4</th>\n",
       "      <td>Sandy Lyle</td>\n",
       "      <td>1.58</td>\n",
       "      <td>17.0</td>\n",
       "    </tr>\n",
       "  </tbody>\n",
       "</table>\n",
       "</div>"
      ],
      "text/plain": [
       "              Player Putting  Putting Rank\n",
       "0     Justin Harding    1.50           4.0\n",
       "1     Patton Kizzire    1.57          11.0\n",
       "2  Bryson DeChambeau    1.57          11.0\n",
       "3       Kevin Kisner    1.58          17.0\n",
       "4         Sandy Lyle    1.58          17.0"
      ]
     },
     "execution_count": 65,
     "metadata": {},
     "output_type": "execute_result"
    }
   ],
   "source": [
    "putt_2019.head()"
   ]
  },
  {
   "cell_type": "code",
   "execution_count": 66,
   "metadata": {},
   "outputs": [],
   "source": [
    "putt_2019.to_csv('2019_Putting.csv')"
   ]
  },
  {
   "cell_type": "code",
   "execution_count": null,
   "metadata": {},
   "outputs": [],
   "source": []
  },
  {
   "cell_type": "markdown",
   "metadata": {},
   "source": [
    "## Get where players finished in the Tournament"
   ]
  },
  {
   "cell_type": "code",
   "execution_count": 67,
   "metadata": {},
   "outputs": [],
   "source": [
    "## The previous website didn't have full names on the website for the leaderboard \n",
    "## ie T. Woods while everything else is Tiger Woods\n",
    "\n",
    "driver.get('https://www.augusta.com/masters/leaderboard')"
   ]
  },
  {
   "cell_type": "raw",
   "metadata": {},
   "source": [
    "xpaths\n",
    "\n",
    "//*[@id=\"LargeLeaderboard\"]/tbody/tr[4]/td[2]/a\n",
    "//*[@id=\"LargeLeaderboard\"]/tbody/tr[105]/td[2]/a"
   ]
  },
  {
   "cell_type": "code",
   "execution_count": 68,
   "metadata": {},
   "outputs": [],
   "source": [
    "## Get the player names \n",
    "\n",
    "finished2019_players = []\n",
    "\n",
    "for p in range(4, 106):\n",
    "    path = '//*[@id=\"LargeLeaderboard\"]/tbody/tr[' +str(p) + ']/td[2]/a'\n",
    "    finished_2019 = driver.find_elements_by_xpath(path)\n",
    "\n",
    "    for f in finished_2019:\n",
    "        finished2019_players.append(f.text)"
   ]
  },
  {
   "cell_type": "code",
   "execution_count": 69,
   "metadata": {},
   "outputs": [
    {
     "data": {
      "text/plain": [
       "87"
      ]
     },
     "execution_count": 69,
     "metadata": {},
     "output_type": "execute_result"
    }
   ],
   "source": [
    "len(finished2019_players)"
   ]
  },
  {
   "cell_type": "raw",
   "metadata": {},
   "source": [
    "Same number that we had for all the stats!"
   ]
  },
  {
   "cell_type": "code",
   "execution_count": 70,
   "metadata": {},
   "outputs": [],
   "source": [
    "## Get the position that the player finished in the tournament\n",
    "\n",
    "##  xpath: //*[@id=\"LargeLeaderboard\"]/tbody/tr[4]/td[1]\n",
    "##  xpath: //*[@id=\"LargeLeaderboard\"]/tbody/tr[105]/td[1]\n",
    "\n",
    "finished2019_position = []\n",
    "\n",
    "for pos in range(4, 106):\n",
    "    path = '//*[@id=\"LargeLeaderboard\"]/tbody/tr[' + str(pos) + ']/td[1]'\n",
    "    finished_position = driver.find_elements_by_xpath(path)\n",
    "    for s in finished_position:\n",
    "        finished2019_position.append(s.text)"
   ]
  },
  {
   "cell_type": "code",
   "execution_count": 72,
   "metadata": {},
   "outputs": [
    {
     "data": {
      "text/plain": [
       "102"
      ]
     },
     "execution_count": 72,
     "metadata": {},
     "output_type": "execute_result"
    }
   ],
   "source": [
    "len(finished2019_position)"
   ]
  },
  {
   "cell_type": "code",
   "execution_count": 74,
   "metadata": {},
   "outputs": [
    {
     "data": {
      "text/plain": [
       "['CUT', 'CUT', 'CUT', 'CUT', 'CUT', 'CUT', '', '', '', 'CUT']"
      ]
     },
     "execution_count": 74,
     "metadata": {},
     "output_type": "execute_result"
    }
   ],
   "source": [
    "finished2019_position[-10:]"
   ]
  },
  {
   "cell_type": "code",
   "execution_count": 75,
   "metadata": {},
   "outputs": [],
   "source": [
    "## Remove the empty strings from the list\n",
    "\n",
    "finished2019_position = list(filter(None, finished2019_position))"
   ]
  },
  {
   "cell_type": "code",
   "execution_count": 76,
   "metadata": {},
   "outputs": [
    {
     "data": {
      "text/plain": [
       "87"
      ]
     },
     "execution_count": 76,
     "metadata": {},
     "output_type": "execute_result"
    }
   ],
   "source": [
    "len(finished2019_position)"
   ]
  },
  {
   "cell_type": "code",
   "execution_count": 77,
   "metadata": {},
   "outputs": [],
   "source": [
    "## Get the players final score\n",
    "\n",
    "## xpath: //*[@id=\"LargeLeaderboard\"]/tbody/tr[4]/td[3]\n",
    "## xpath: //*[@id=\"LargeLeaderboard\"]/tbody/tr[105]/td[3]\n",
    "\n",
    "score_2019 = []\n",
    "\n",
    "for p in range(4, 106):\n",
    "    path = '//*[@id=\"LargeLeaderboard\"]/tbody/tr[' + str(p) + ']/td[3]'\n",
    "    score = driver.find_elements_by_xpath(path)\n",
    "\n",
    "    for s in score:\n",
    "        score_2019.append(s.text)"
   ]
  },
  {
   "cell_type": "code",
   "execution_count": 78,
   "metadata": {},
   "outputs": [
    {
     "data": {
      "text/plain": [
       "87"
      ]
     },
     "execution_count": 78,
     "metadata": {},
     "output_type": "execute_result"
    }
   ],
   "source": [
    "len(score_2019)"
   ]
  },
  {
   "cell_type": "code",
   "execution_count": 80,
   "metadata": {},
   "outputs": [],
   "source": [
    "## Create a DataFrame\n",
    "\n",
    "position_2019 = pd.DataFrame.from_dict({'Player':finished2019_players,\n",
    "                                                'Position':finished2019_position, \n",
    "                                                'Score':score_2019})"
   ]
  },
  {
   "cell_type": "code",
   "execution_count": 84,
   "metadata": {},
   "outputs": [
    {
     "data": {
      "text/html": [
       "<div>\n",
       "<style scoped>\n",
       "    .dataframe tbody tr th:only-of-type {\n",
       "        vertical-align: middle;\n",
       "    }\n",
       "\n",
       "    .dataframe tbody tr th {\n",
       "        vertical-align: top;\n",
       "    }\n",
       "\n",
       "    .dataframe thead th {\n",
       "        text-align: right;\n",
       "    }\n",
       "</style>\n",
       "<table border=\"1\" class=\"dataframe\">\n",
       "  <thead>\n",
       "    <tr style=\"text-align: right;\">\n",
       "      <th></th>\n",
       "      <th>Player</th>\n",
       "      <th>Position</th>\n",
       "      <th>Score</th>\n",
       "    </tr>\n",
       "  </thead>\n",
       "  <tbody>\n",
       "    <tr>\n",
       "      <th>82</th>\n",
       "      <td>Paul Casey</td>\n",
       "      <td>CUT</td>\n",
       "      <td>+10</td>\n",
       "    </tr>\n",
       "    <tr>\n",
       "      <th>83</th>\n",
       "      <td>Vijay Singh</td>\n",
       "      <td>CUT</td>\n",
       "      <td>+12</td>\n",
       "    </tr>\n",
       "    <tr>\n",
       "      <th>84</th>\n",
       "      <td>Ian Woosnam</td>\n",
       "      <td>CUT</td>\n",
       "      <td>+12</td>\n",
       "    </tr>\n",
       "    <tr>\n",
       "      <th>85</th>\n",
       "      <td>Jose Maria Olazabal</td>\n",
       "      <td>CUT</td>\n",
       "      <td>+13</td>\n",
       "    </tr>\n",
       "    <tr>\n",
       "      <th>86</th>\n",
       "      <td>Angel Cabrera</td>\n",
       "      <td>CUT</td>\n",
       "      <td>+13</td>\n",
       "    </tr>\n",
       "  </tbody>\n",
       "</table>\n",
       "</div>"
      ],
      "text/plain": [
       "                 Player Position Score\n",
       "82           Paul Casey      CUT   +10\n",
       "83          Vijay Singh      CUT   +12\n",
       "84          Ian Woosnam      CUT   +12\n",
       "85  Jose Maria Olazabal      CUT   +13\n",
       "86        Angel Cabrera      CUT   +13"
      ]
     },
     "execution_count": 84,
     "metadata": {},
     "output_type": "execute_result"
    }
   ],
   "source": [
    "position_2019.tail()"
   ]
  },
  {
   "cell_type": "code",
   "execution_count": 85,
   "metadata": {},
   "outputs": [],
   "source": [
    "position_2019['Cut'] = np.where(position_2019['Position'] == 'CUT', 1, 0)"
   ]
  },
  {
   "cell_type": "code",
   "execution_count": 87,
   "metadata": {},
   "outputs": [
    {
     "data": {
      "text/html": [
       "<div>\n",
       "<style scoped>\n",
       "    .dataframe tbody tr th:only-of-type {\n",
       "        vertical-align: middle;\n",
       "    }\n",
       "\n",
       "    .dataframe tbody tr th {\n",
       "        vertical-align: top;\n",
       "    }\n",
       "\n",
       "    .dataframe thead th {\n",
       "        text-align: right;\n",
       "    }\n",
       "</style>\n",
       "<table border=\"1\" class=\"dataframe\">\n",
       "  <thead>\n",
       "    <tr style=\"text-align: right;\">\n",
       "      <th></th>\n",
       "      <th>Player</th>\n",
       "      <th>Position</th>\n",
       "      <th>Score</th>\n",
       "      <th>Cut</th>\n",
       "    </tr>\n",
       "  </thead>\n",
       "  <tbody>\n",
       "    <tr>\n",
       "      <th>0</th>\n",
       "      <td>Tiger Woods</td>\n",
       "      <td>1</td>\n",
       "      <td>-13</td>\n",
       "      <td>0</td>\n",
       "    </tr>\n",
       "    <tr>\n",
       "      <th>1</th>\n",
       "      <td>Dustin Johnson</td>\n",
       "      <td>T2</td>\n",
       "      <td>-12</td>\n",
       "      <td>0</td>\n",
       "    </tr>\n",
       "  </tbody>\n",
       "</table>\n",
       "</div>"
      ],
      "text/plain": [
       "           Player Position Score  Cut\n",
       "0     Tiger Woods        1   -13    0\n",
       "1  Dustin Johnson       T2   -12    0"
      ]
     },
     "execution_count": 87,
     "metadata": {},
     "output_type": "execute_result"
    }
   ],
   "source": [
    "position_2019.head(2)"
   ]
  },
  {
   "cell_type": "code",
   "execution_count": 88,
   "metadata": {},
   "outputs": [],
   "source": [
    "## Handle the players that were 'CUT' so we can convert the column to an int\n",
    "## Some players that made cut played bad on the weekend and finished worse than the players that got cut\n",
    "## Extract the cut players, rank them then concatenate them back to the dataframe\n",
    "\n",
    "cut_players = position_2019.loc[position_2019['Position'] == 'CUT']"
   ]
  },
  {
   "cell_type": "code",
   "execution_count": 89,
   "metadata": {},
   "outputs": [
    {
     "name": "stdout",
     "output_type": "stream",
     "text": [
      "<class 'pandas.core.frame.DataFrame'>\n",
      "Int64Index: 22 entries, 65 to 86\n",
      "Data columns (total 4 columns):\n",
      "Player      22 non-null object\n",
      "Position    22 non-null object\n",
      "Score       22 non-null object\n",
      "Cut         22 non-null int64\n",
      "dtypes: int64(1), object(3)\n",
      "memory usage: 880.0+ bytes\n"
     ]
    }
   ],
   "source": [
    "## Check the types because we need to work with numbers to convert\n",
    "\n",
    "cut_players.info()"
   ]
  },
  {
   "cell_type": "code",
   "execution_count": 90,
   "metadata": {},
   "outputs": [
    {
     "name": "stderr",
     "output_type": "stream",
     "text": [
      "/Users/genevieveberent/Desktop/anaconda3/lib/python3.6/site-packages/ipykernel_launcher.py:3: SettingWithCopyWarning: \n",
      "A value is trying to be set on a copy of a slice from a DataFrame.\n",
      "Try using .loc[row_indexer,col_indexer] = value instead\n",
      "\n",
      "See the caveats in the documentation: http://pandas.pydata.org/pandas-docs/stable/indexing.html#indexing-view-versus-copy\n",
      "  This is separate from the ipykernel package so we can avoid doing imports until\n"
     ]
    }
   ],
   "source": [
    "## The 'Score' column needs to be numeric to rank correctly\n",
    "\n",
    "cut_players['Int Score'] = pd.to_numeric(cut_players['Score'])"
   ]
  },
  {
   "cell_type": "code",
   "execution_count": 91,
   "metadata": {},
   "outputs": [
    {
     "name": "stderr",
     "output_type": "stream",
     "text": [
      "/Users/genevieveberent/Desktop/anaconda3/lib/python3.6/site-packages/ipykernel_launcher.py:3: SettingWithCopyWarning: \n",
      "A value is trying to be set on a copy of a slice from a DataFrame.\n",
      "Try using .loc[row_indexer,col_indexer] = value instead\n",
      "\n",
      "See the caveats in the documentation: http://pandas.pydata.org/pandas-docs/stable/indexing.html#indexing-view-versus-copy\n",
      "  This is separate from the ipykernel package so we can avoid doing imports until\n"
     ]
    }
   ],
   "source": [
    "## Create a ranking amongst the cut players\n",
    "\n",
    "cut_players['New Rank'] = cut_players['Int Score'].rank(method='min')"
   ]
  },
  {
   "cell_type": "code",
   "execution_count": 92,
   "metadata": {},
   "outputs": [
    {
     "name": "stderr",
     "output_type": "stream",
     "text": [
      "/Users/genevieveberent/Desktop/anaconda3/lib/python3.6/site-packages/ipykernel_launcher.py:3: SettingWithCopyWarning: \n",
      "A value is trying to be set on a copy of a slice from a DataFrame.\n",
      "Try using .loc[row_indexer,col_indexer] = value instead\n",
      "\n",
      "See the caveats in the documentation: http://pandas.pydata.org/pandas-docs/stable/indexing.html#indexing-view-versus-copy\n",
      "  This is separate from the ipykernel package so we can avoid doing imports until\n"
     ]
    }
   ],
   "source": [
    "## The first player(s) cut should actually in 66th place and so on\n",
    "\n",
    "cut_players['New Rank'] = cut_players['New Rank'] + 65"
   ]
  },
  {
   "cell_type": "code",
   "execution_count": 94,
   "metadata": {},
   "outputs": [
    {
     "name": "stderr",
     "output_type": "stream",
     "text": [
      "/Users/genevieveberent/Desktop/anaconda3/lib/python3.6/site-packages/ipykernel_launcher.py:1: SettingWithCopyWarning: \n",
      "A value is trying to be set on a copy of a slice from a DataFrame.\n",
      "Try using .loc[row_indexer,col_indexer] = value instead\n",
      "\n",
      "See the caveats in the documentation: http://pandas.pydata.org/pandas-docs/stable/indexing.html#indexing-view-versus-copy\n",
      "  \"\"\"Entry point for launching an IPython kernel.\n"
     ]
    }
   ],
   "source": [
    "cut_players['Position'] = cut_players['New Rank']"
   ]
  },
  {
   "cell_type": "code",
   "execution_count": 95,
   "metadata": {},
   "outputs": [
    {
     "data": {
      "text/html": [
       "<div>\n",
       "<style scoped>\n",
       "    .dataframe tbody tr th:only-of-type {\n",
       "        vertical-align: middle;\n",
       "    }\n",
       "\n",
       "    .dataframe tbody tr th {\n",
       "        vertical-align: top;\n",
       "    }\n",
       "\n",
       "    .dataframe thead th {\n",
       "        text-align: right;\n",
       "    }\n",
       "</style>\n",
       "<table border=\"1\" class=\"dataframe\">\n",
       "  <thead>\n",
       "    <tr style=\"text-align: right;\">\n",
       "      <th></th>\n",
       "      <th>Player</th>\n",
       "      <th>Position</th>\n",
       "      <th>Score</th>\n",
       "      <th>Cut</th>\n",
       "      <th>Int Score</th>\n",
       "      <th>New Rank</th>\n",
       "    </tr>\n",
       "  </thead>\n",
       "  <tbody>\n",
       "    <tr>\n",
       "      <th>65</th>\n",
       "      <td>Sandy Lyle</td>\n",
       "      <td>66.0</td>\n",
       "      <td>+4</td>\n",
       "      <td>1</td>\n",
       "      <td>4</td>\n",
       "      <td>66.0</td>\n",
       "    </tr>\n",
       "    <tr>\n",
       "      <th>66</th>\n",
       "      <td>Stewart Cink</td>\n",
       "      <td>66.0</td>\n",
       "      <td>+4</td>\n",
       "      <td>1</td>\n",
       "      <td>4</td>\n",
       "      <td>66.0</td>\n",
       "    </tr>\n",
       "    <tr>\n",
       "      <th>67</th>\n",
       "      <td>Justin Rose</td>\n",
       "      <td>66.0</td>\n",
       "      <td>+4</td>\n",
       "      <td>1</td>\n",
       "      <td>4</td>\n",
       "      <td>66.0</td>\n",
       "    </tr>\n",
       "    <tr>\n",
       "      <th>68</th>\n",
       "      <td>Mike Weir</td>\n",
       "      <td>66.0</td>\n",
       "      <td>+4</td>\n",
       "      <td>1</td>\n",
       "      <td>4</td>\n",
       "      <td>66.0</td>\n",
       "    </tr>\n",
       "    <tr>\n",
       "      <th>69</th>\n",
       "      <td>Kevin O'Connell</td>\n",
       "      <td>66.0</td>\n",
       "      <td>+4</td>\n",
       "      <td>1</td>\n",
       "      <td>4</td>\n",
       "      <td>66.0</td>\n",
       "    </tr>\n",
       "  </tbody>\n",
       "</table>\n",
       "</div>"
      ],
      "text/plain": [
       "             Player  Position Score  Cut  Int Score  New Rank\n",
       "65       Sandy Lyle      66.0    +4    1          4      66.0\n",
       "66     Stewart Cink      66.0    +4    1          4      66.0\n",
       "67      Justin Rose      66.0    +4    1          4      66.0\n",
       "68        Mike Weir      66.0    +4    1          4      66.0\n",
       "69  Kevin O'Connell      66.0    +4    1          4      66.0"
      ]
     },
     "execution_count": 95,
     "metadata": {},
     "output_type": "execute_result"
    }
   ],
   "source": [
    "cut_players.head()"
   ]
  },
  {
   "cell_type": "code",
   "execution_count": 98,
   "metadata": {},
   "outputs": [],
   "source": [
    "## Organize the df so it matches the positions_2019\n",
    "\n",
    "cut_players_merge = cut_players[['Player', 'Position', 'Score', 'Cut']]"
   ]
  },
  {
   "cell_type": "code",
   "execution_count": 99,
   "metadata": {},
   "outputs": [
    {
     "data": {
      "text/html": [
       "<div>\n",
       "<style scoped>\n",
       "    .dataframe tbody tr th:only-of-type {\n",
       "        vertical-align: middle;\n",
       "    }\n",
       "\n",
       "    .dataframe tbody tr th {\n",
       "        vertical-align: top;\n",
       "    }\n",
       "\n",
       "    .dataframe thead th {\n",
       "        text-align: right;\n",
       "    }\n",
       "</style>\n",
       "<table border=\"1\" class=\"dataframe\">\n",
       "  <thead>\n",
       "    <tr style=\"text-align: right;\">\n",
       "      <th></th>\n",
       "      <th>Player</th>\n",
       "      <th>Position</th>\n",
       "      <th>Score</th>\n",
       "      <th>Cut</th>\n",
       "    </tr>\n",
       "  </thead>\n",
       "  <tbody>\n",
       "    <tr>\n",
       "      <th>65</th>\n",
       "      <td>Sandy Lyle</td>\n",
       "      <td>66.0</td>\n",
       "      <td>+4</td>\n",
       "      <td>1</td>\n",
       "    </tr>\n",
       "    <tr>\n",
       "      <th>66</th>\n",
       "      <td>Stewart Cink</td>\n",
       "      <td>66.0</td>\n",
       "      <td>+4</td>\n",
       "      <td>1</td>\n",
       "    </tr>\n",
       "    <tr>\n",
       "      <th>67</th>\n",
       "      <td>Justin Rose</td>\n",
       "      <td>66.0</td>\n",
       "      <td>+4</td>\n",
       "      <td>1</td>\n",
       "    </tr>\n",
       "  </tbody>\n",
       "</table>\n",
       "</div>"
      ],
      "text/plain": [
       "          Player  Position Score  Cut\n",
       "65    Sandy Lyle      66.0    +4    1\n",
       "66  Stewart Cink      66.0    +4    1\n",
       "67   Justin Rose      66.0    +4    1"
      ]
     },
     "execution_count": 99,
     "metadata": {},
     "output_type": "execute_result"
    }
   ],
   "source": [
    "cut_players_merge.head(3)"
   ]
  },
  {
   "cell_type": "code",
   "execution_count": 100,
   "metadata": {},
   "outputs": [],
   "source": [
    "## Get just the players that made the cut, then add the new cut players data to it\n",
    "\n",
    "position_2019 = position_2019[position_2019['Position'] != 'CUT']"
   ]
  },
  {
   "cell_type": "code",
   "execution_count": null,
   "metadata": {},
   "outputs": [],
   "source": []
  },
  {
   "cell_type": "code",
   "execution_count": 101,
   "metadata": {},
   "outputs": [],
   "source": [
    "final_2019 = pd.concat([position_2019, cut_players_merge])"
   ]
  },
  {
   "cell_type": "code",
   "execution_count": 102,
   "metadata": {},
   "outputs": [
    {
     "data": {
      "text/plain": [
       "(87, 4)"
      ]
     },
     "execution_count": 102,
     "metadata": {},
     "output_type": "execute_result"
    }
   ],
   "source": [
    "final_2019.shape"
   ]
  },
  {
   "cell_type": "code",
   "execution_count": 103,
   "metadata": {},
   "outputs": [
    {
     "data": {
      "text/html": [
       "<div>\n",
       "<style scoped>\n",
       "    .dataframe tbody tr th:only-of-type {\n",
       "        vertical-align: middle;\n",
       "    }\n",
       "\n",
       "    .dataframe tbody tr th {\n",
       "        vertical-align: top;\n",
       "    }\n",
       "\n",
       "    .dataframe thead th {\n",
       "        text-align: right;\n",
       "    }\n",
       "</style>\n",
       "<table border=\"1\" class=\"dataframe\">\n",
       "  <thead>\n",
       "    <tr style=\"text-align: right;\">\n",
       "      <th></th>\n",
       "      <th>Player</th>\n",
       "      <th>Position</th>\n",
       "      <th>Score</th>\n",
       "      <th>Cut</th>\n",
       "    </tr>\n",
       "  </thead>\n",
       "  <tbody>\n",
       "    <tr>\n",
       "      <th>82</th>\n",
       "      <td>Paul Casey</td>\n",
       "      <td>82</td>\n",
       "      <td>+10</td>\n",
       "      <td>1</td>\n",
       "    </tr>\n",
       "    <tr>\n",
       "      <th>83</th>\n",
       "      <td>Vijay Singh</td>\n",
       "      <td>84</td>\n",
       "      <td>+12</td>\n",
       "      <td>1</td>\n",
       "    </tr>\n",
       "    <tr>\n",
       "      <th>84</th>\n",
       "      <td>Ian Woosnam</td>\n",
       "      <td>84</td>\n",
       "      <td>+12</td>\n",
       "      <td>1</td>\n",
       "    </tr>\n",
       "    <tr>\n",
       "      <th>85</th>\n",
       "      <td>Jose Maria Olazabal</td>\n",
       "      <td>86</td>\n",
       "      <td>+13</td>\n",
       "      <td>1</td>\n",
       "    </tr>\n",
       "    <tr>\n",
       "      <th>86</th>\n",
       "      <td>Angel Cabrera</td>\n",
       "      <td>86</td>\n",
       "      <td>+13</td>\n",
       "      <td>1</td>\n",
       "    </tr>\n",
       "  </tbody>\n",
       "</table>\n",
       "</div>"
      ],
      "text/plain": [
       "                 Player Position Score  Cut\n",
       "82           Paul Casey       82   +10    1\n",
       "83          Vijay Singh       84   +12    1\n",
       "84          Ian Woosnam       84   +12    1\n",
       "85  Jose Maria Olazabal       86   +13    1\n",
       "86        Angel Cabrera       86   +13    1"
      ]
     },
     "execution_count": 103,
     "metadata": {},
     "output_type": "execute_result"
    }
   ],
   "source": [
    "final_2019.tail()"
   ]
  },
  {
   "cell_type": "code",
   "execution_count": 104,
   "metadata": {},
   "outputs": [],
   "source": [
    "final_2019.to_csv('2019_Position.csv')"
   ]
  },
  {
   "cell_type": "code",
   "execution_count": null,
   "metadata": {},
   "outputs": [],
   "source": []
  },
  {
   "cell_type": "code",
   "execution_count": null,
   "metadata": {},
   "outputs": [],
   "source": []
  },
  {
   "cell_type": "markdown",
   "metadata": {},
   "source": [
    "# Concatenate all the dataframes into one"
   ]
  },
  {
   "cell_type": "raw",
   "metadata": {},
   "source": [
    "DataFrames:\n",
    "\n",
    "Position: final_2019\n",
    "FIR: fir_2019\n",
    "GIR: gir_2019\n",
    "Driving Distance: dist_2019\n",
    "Putting: putt_2019"
   ]
  },
  {
   "cell_type": "code",
   "execution_count": 107,
   "metadata": {},
   "outputs": [],
   "source": [
    "## Make the 'Player' the index for all the dataframes\n",
    "\n",
    "fir_2019.index = fir_2019['Player']\n",
    "dist_2019.index = dist_2019['Player']\n",
    "gir_2019.index = gir_2019['Player']\n",
    "putt_2019.index = putt_2019['Player']"
   ]
  },
  {
   "cell_type": "code",
   "execution_count": 109,
   "metadata": {},
   "outputs": [
    {
     "name": "stderr",
     "output_type": "stream",
     "text": [
      "/Users/genevieveberent/Desktop/anaconda3/lib/python3.6/site-packages/ipykernel_launcher.py:1: FutureWarning: Sorting because non-concatenation axis is not aligned. A future version\n",
      "of pandas will change to not sort by default.\n",
      "\n",
      "To accept the future behavior, pass 'sort=True'.\n",
      "\n",
      "To retain the current behavior and silence the warning, pass sort=False\n",
      "\n",
      "  \"\"\"Entry point for launching an IPython kernel.\n"
     ]
    }
   ],
   "source": [
    "## Concatenate the statistical dataframes into one\n",
    "\n",
    "stats_df = pd.concat([fir_2019, dist_2019, gir_2019, putt_2019], axis=1)"
   ]
  },
  {
   "cell_type": "code",
   "execution_count": 110,
   "metadata": {},
   "outputs": [
    {
     "data": {
      "text/html": [
       "<div>\n",
       "<style scoped>\n",
       "    .dataframe tbody tr th:only-of-type {\n",
       "        vertical-align: middle;\n",
       "    }\n",
       "\n",
       "    .dataframe tbody tr th {\n",
       "        vertical-align: top;\n",
       "    }\n",
       "\n",
       "    .dataframe thead th {\n",
       "        text-align: right;\n",
       "    }\n",
       "</style>\n",
       "<table border=\"1\" class=\"dataframe\">\n",
       "  <thead>\n",
       "    <tr style=\"text-align: right;\">\n",
       "      <th></th>\n",
       "      <th>Player</th>\n",
       "      <th>FIR</th>\n",
       "      <th>FIR Rank</th>\n",
       "      <th>Player</th>\n",
       "      <th>dist</th>\n",
       "      <th>dist Rank</th>\n",
       "      <th>Player</th>\n",
       "      <th>GIR</th>\n",
       "      <th>GIR Rank</th>\n",
       "      <th>Player</th>\n",
       "      <th>Putting</th>\n",
       "      <th>Putting Rank</th>\n",
       "    </tr>\n",
       "  </thead>\n",
       "  <tbody>\n",
       "    <tr>\n",
       "      <th>Aaron Wise</th>\n",
       "      <td>Aaron Wise</td>\n",
       "      <td>66.07</td>\n",
       "      <td>47.0</td>\n",
       "      <td>Aaron Wise</td>\n",
       "      <td>305.00</td>\n",
       "      <td>16.0</td>\n",
       "      <td>Aaron Wise</td>\n",
       "      <td>68.06</td>\n",
       "      <td>22.0</td>\n",
       "      <td>Aaron Wise</td>\n",
       "      <td>1.60</td>\n",
       "      <td>22.0</td>\n",
       "    </tr>\n",
       "    <tr>\n",
       "      <th>Adam Long</th>\n",
       "      <td>Adam Long</td>\n",
       "      <td>71.43</td>\n",
       "      <td>28.0</td>\n",
       "      <td>Adam Long</td>\n",
       "      <td>299.25</td>\n",
       "      <td>28.0</td>\n",
       "      <td>Adam Long</td>\n",
       "      <td>66.67</td>\n",
       "      <td>27.0</td>\n",
       "      <td>Adam Long</td>\n",
       "      <td>1.81</td>\n",
       "      <td>85.0</td>\n",
       "    </tr>\n",
       "    <tr>\n",
       "      <th>Adam Scott</th>\n",
       "      <td>Adam Scott</td>\n",
       "      <td>71.43</td>\n",
       "      <td>28.0</td>\n",
       "      <td>Adam Scott</td>\n",
       "      <td>310.00</td>\n",
       "      <td>10.0</td>\n",
       "      <td>Adam Scott</td>\n",
       "      <td>75.00</td>\n",
       "      <td>4.0</td>\n",
       "      <td>Adam Scott</td>\n",
       "      <td>1.67</td>\n",
       "      <td>54.0</td>\n",
       "    </tr>\n",
       "    <tr>\n",
       "      <th>Alex Noren</th>\n",
       "      <td>Alex Noren</td>\n",
       "      <td>76.79</td>\n",
       "      <td>9.0</td>\n",
       "      <td>Alex Noren</td>\n",
       "      <td>290.38</td>\n",
       "      <td>62.0</td>\n",
       "      <td>Alex Noren</td>\n",
       "      <td>55.56</td>\n",
       "      <td>73.0</td>\n",
       "      <td>Alex Noren</td>\n",
       "      <td>1.64</td>\n",
       "      <td>45.0</td>\n",
       "    </tr>\n",
       "    <tr>\n",
       "      <th>Alvaro Ortiz (A)</th>\n",
       "      <td>Alvaro Ortiz (A)</td>\n",
       "      <td>66.07</td>\n",
       "      <td>47.0</td>\n",
       "      <td>Alvaro Ortiz (A)</td>\n",
       "      <td>297.62</td>\n",
       "      <td>38.0</td>\n",
       "      <td>Alvaro Ortiz (A)</td>\n",
       "      <td>66.67</td>\n",
       "      <td>27.0</td>\n",
       "      <td>Alvaro Ortiz (A)</td>\n",
       "      <td>1.65</td>\n",
       "      <td>52.0</td>\n",
       "    </tr>\n",
       "  </tbody>\n",
       "</table>\n",
       "</div>"
      ],
      "text/plain": [
       "                            Player    FIR  FIR Rank            Player    dist  \\\n",
       "Aaron Wise              Aaron Wise  66.07      47.0        Aaron Wise  305.00   \n",
       "Adam Long                Adam Long  71.43      28.0         Adam Long  299.25   \n",
       "Adam Scott              Adam Scott  71.43      28.0        Adam Scott  310.00   \n",
       "Alex Noren              Alex Noren  76.79       9.0        Alex Noren  290.38   \n",
       "Alvaro Ortiz (A)  Alvaro Ortiz (A)  66.07      47.0  Alvaro Ortiz (A)  297.62   \n",
       "\n",
       "                  dist Rank            Player    GIR  GIR Rank  \\\n",
       "Aaron Wise             16.0        Aaron Wise  68.06      22.0   \n",
       "Adam Long              28.0         Adam Long  66.67      27.0   \n",
       "Adam Scott             10.0        Adam Scott  75.00       4.0   \n",
       "Alex Noren             62.0        Alex Noren  55.56      73.0   \n",
       "Alvaro Ortiz (A)       38.0  Alvaro Ortiz (A)  66.67      27.0   \n",
       "\n",
       "                            Player Putting  Putting Rank  \n",
       "Aaron Wise              Aaron Wise    1.60          22.0  \n",
       "Adam Long                Adam Long    1.81          85.0  \n",
       "Adam Scott              Adam Scott    1.67          54.0  \n",
       "Alex Noren              Alex Noren    1.64          45.0  \n",
       "Alvaro Ortiz (A)  Alvaro Ortiz (A)    1.65          52.0  "
      ]
     },
     "execution_count": 110,
     "metadata": {},
     "output_type": "execute_result"
    }
   ],
   "source": [
    "stats_df.head()"
   ]
  },
  {
   "cell_type": "code",
   "execution_count": 111,
   "metadata": {},
   "outputs": [],
   "source": [
    "## Drop the 'Player' columns\n",
    "\n",
    "stats_df.drop('Player', axis=1, inplace=True)"
   ]
  },
  {
   "cell_type": "code",
   "execution_count": 112,
   "metadata": {},
   "outputs": [
    {
     "data": {
      "text/html": [
       "<div>\n",
       "<style scoped>\n",
       "    .dataframe tbody tr th:only-of-type {\n",
       "        vertical-align: middle;\n",
       "    }\n",
       "\n",
       "    .dataframe tbody tr th {\n",
       "        vertical-align: top;\n",
       "    }\n",
       "\n",
       "    .dataframe thead th {\n",
       "        text-align: right;\n",
       "    }\n",
       "</style>\n",
       "<table border=\"1\" class=\"dataframe\">\n",
       "  <thead>\n",
       "    <tr style=\"text-align: right;\">\n",
       "      <th></th>\n",
       "      <th>FIR</th>\n",
       "      <th>FIR Rank</th>\n",
       "      <th>dist</th>\n",
       "      <th>dist Rank</th>\n",
       "      <th>GIR</th>\n",
       "      <th>GIR Rank</th>\n",
       "      <th>Putting</th>\n",
       "      <th>Putting Rank</th>\n",
       "    </tr>\n",
       "  </thead>\n",
       "  <tbody>\n",
       "    <tr>\n",
       "      <th>Aaron Wise</th>\n",
       "      <td>66.07</td>\n",
       "      <td>47.0</td>\n",
       "      <td>305.00</td>\n",
       "      <td>16.0</td>\n",
       "      <td>68.06</td>\n",
       "      <td>22.0</td>\n",
       "      <td>1.60</td>\n",
       "      <td>22.0</td>\n",
       "    </tr>\n",
       "    <tr>\n",
       "      <th>Adam Long</th>\n",
       "      <td>71.43</td>\n",
       "      <td>28.0</td>\n",
       "      <td>299.25</td>\n",
       "      <td>28.0</td>\n",
       "      <td>66.67</td>\n",
       "      <td>27.0</td>\n",
       "      <td>1.81</td>\n",
       "      <td>85.0</td>\n",
       "    </tr>\n",
       "    <tr>\n",
       "      <th>Adam Scott</th>\n",
       "      <td>71.43</td>\n",
       "      <td>28.0</td>\n",
       "      <td>310.00</td>\n",
       "      <td>10.0</td>\n",
       "      <td>75.00</td>\n",
       "      <td>4.0</td>\n",
       "      <td>1.67</td>\n",
       "      <td>54.0</td>\n",
       "    </tr>\n",
       "    <tr>\n",
       "      <th>Alex Noren</th>\n",
       "      <td>76.79</td>\n",
       "      <td>9.0</td>\n",
       "      <td>290.38</td>\n",
       "      <td>62.0</td>\n",
       "      <td>55.56</td>\n",
       "      <td>73.0</td>\n",
       "      <td>1.64</td>\n",
       "      <td>45.0</td>\n",
       "    </tr>\n",
       "    <tr>\n",
       "      <th>Alvaro Ortiz (A)</th>\n",
       "      <td>66.07</td>\n",
       "      <td>47.0</td>\n",
       "      <td>297.62</td>\n",
       "      <td>38.0</td>\n",
       "      <td>66.67</td>\n",
       "      <td>27.0</td>\n",
       "      <td>1.65</td>\n",
       "      <td>52.0</td>\n",
       "    </tr>\n",
       "  </tbody>\n",
       "</table>\n",
       "</div>"
      ],
      "text/plain": [
       "                    FIR  FIR Rank    dist  dist Rank    GIR  GIR Rank Putting  \\\n",
       "Aaron Wise        66.07      47.0  305.00       16.0  68.06      22.0    1.60   \n",
       "Adam Long         71.43      28.0  299.25       28.0  66.67      27.0    1.81   \n",
       "Adam Scott        71.43      28.0  310.00       10.0  75.00       4.0    1.67   \n",
       "Alex Noren        76.79       9.0  290.38       62.0  55.56      73.0    1.64   \n",
       "Alvaro Ortiz (A)  66.07      47.0  297.62       38.0  66.67      27.0    1.65   \n",
       "\n",
       "                  Putting Rank  \n",
       "Aaron Wise                22.0  \n",
       "Adam Long                 85.0  \n",
       "Adam Scott                54.0  \n",
       "Alex Noren                45.0  \n",
       "Alvaro Ortiz (A)          52.0  "
      ]
     },
     "execution_count": 112,
     "metadata": {},
     "output_type": "execute_result"
    }
   ],
   "source": [
    "stats_df.head()"
   ]
  },
  {
   "cell_type": "code",
   "execution_count": 113,
   "metadata": {},
   "outputs": [
    {
     "data": {
      "text/plain": [
       "(87, 8)"
      ]
     },
     "execution_count": 113,
     "metadata": {},
     "output_type": "execute_result"
    }
   ],
   "source": [
    "stats_df.shape"
   ]
  },
  {
   "cell_type": "code",
   "execution_count": 121,
   "metadata": {},
   "outputs": [],
   "source": [
    "## Make the 'Player' column the index\n",
    "\n",
    "final_2019.index = final_2019['Player']"
   ]
  },
  {
   "cell_type": "code",
   "execution_count": 122,
   "metadata": {},
   "outputs": [
    {
     "name": "stderr",
     "output_type": "stream",
     "text": [
      "/Users/genevieveberent/Desktop/anaconda3/lib/python3.6/site-packages/ipykernel_launcher.py:1: FutureWarning: Sorting because non-concatenation axis is not aligned. A future version\n",
      "of pandas will change to not sort by default.\n",
      "\n",
      "To accept the future behavior, pass 'sort=True'.\n",
      "\n",
      "To retain the current behavior and silence the warning, pass sort=False\n",
      "\n",
      "  \"\"\"Entry point for launching an IPython kernel.\n"
     ]
    }
   ],
   "source": [
    "## Concatenate the stats and final positions for the tournament\n",
    "\n",
    "masters_2019 = pd.concat([stats_df, final_2019], axis=1)"
   ]
  },
  {
   "cell_type": "code",
   "execution_count": 124,
   "metadata": {},
   "outputs": [
    {
     "data": {
      "text/html": [
       "<div>\n",
       "<style scoped>\n",
       "    .dataframe tbody tr th:only-of-type {\n",
       "        vertical-align: middle;\n",
       "    }\n",
       "\n",
       "    .dataframe tbody tr th {\n",
       "        vertical-align: top;\n",
       "    }\n",
       "\n",
       "    .dataframe thead th {\n",
       "        text-align: right;\n",
       "    }\n",
       "</style>\n",
       "<table border=\"1\" class=\"dataframe\">\n",
       "  <thead>\n",
       "    <tr style=\"text-align: right;\">\n",
       "      <th></th>\n",
       "      <th>FIR</th>\n",
       "      <th>FIR Rank</th>\n",
       "      <th>dist</th>\n",
       "      <th>dist Rank</th>\n",
       "      <th>GIR</th>\n",
       "      <th>GIR Rank</th>\n",
       "      <th>Putting</th>\n",
       "      <th>Putting Rank</th>\n",
       "      <th>Player</th>\n",
       "      <th>Position</th>\n",
       "      <th>Score</th>\n",
       "      <th>Cut</th>\n",
       "    </tr>\n",
       "  </thead>\n",
       "  <tbody>\n",
       "    <tr>\n",
       "      <th>Aaron Wise</th>\n",
       "      <td>66.07</td>\n",
       "      <td>47.0</td>\n",
       "      <td>305.00</td>\n",
       "      <td>16.0</td>\n",
       "      <td>68.06</td>\n",
       "      <td>22.0</td>\n",
       "      <td>1.60</td>\n",
       "      <td>22.0</td>\n",
       "      <td>Aaron Wise</td>\n",
       "      <td>17</td>\n",
       "      <td>-7</td>\n",
       "      <td>0.0</td>\n",
       "    </tr>\n",
       "    <tr>\n",
       "      <th>Adam Long</th>\n",
       "      <td>71.43</td>\n",
       "      <td>28.0</td>\n",
       "      <td>299.25</td>\n",
       "      <td>28.0</td>\n",
       "      <td>66.67</td>\n",
       "      <td>27.0</td>\n",
       "      <td>1.81</td>\n",
       "      <td>85.0</td>\n",
       "      <td>Adam Long</td>\n",
       "      <td>73</td>\n",
       "      <td>+5</td>\n",
       "      <td>1.0</td>\n",
       "    </tr>\n",
       "    <tr>\n",
       "      <th>Adam Scott</th>\n",
       "      <td>71.43</td>\n",
       "      <td>28.0</td>\n",
       "      <td>310.00</td>\n",
       "      <td>10.0</td>\n",
       "      <td>75.00</td>\n",
       "      <td>4.0</td>\n",
       "      <td>1.67</td>\n",
       "      <td>54.0</td>\n",
       "      <td>Adam Scott</td>\n",
       "      <td>T18</td>\n",
       "      <td>-6</td>\n",
       "      <td>0.0</td>\n",
       "    </tr>\n",
       "    <tr>\n",
       "      <th>Alex Noren</th>\n",
       "      <td>76.79</td>\n",
       "      <td>9.0</td>\n",
       "      <td>290.38</td>\n",
       "      <td>62.0</td>\n",
       "      <td>55.56</td>\n",
       "      <td>73.0</td>\n",
       "      <td>1.64</td>\n",
       "      <td>45.0</td>\n",
       "      <td>Alex Noren</td>\n",
       "      <td>T62</td>\n",
       "      <td>+8</td>\n",
       "      <td>0.0</td>\n",
       "    </tr>\n",
       "    <tr>\n",
       "      <th>Alvaro Ortiz</th>\n",
       "      <td>NaN</td>\n",
       "      <td>NaN</td>\n",
       "      <td>NaN</td>\n",
       "      <td>NaN</td>\n",
       "      <td>NaN</td>\n",
       "      <td>NaN</td>\n",
       "      <td>NaN</td>\n",
       "      <td>NaN</td>\n",
       "      <td>Alvaro Ortiz</td>\n",
       "      <td>T36</td>\n",
       "      <td>-2</td>\n",
       "      <td>0.0</td>\n",
       "    </tr>\n",
       "  </tbody>\n",
       "</table>\n",
       "</div>"
      ],
      "text/plain": [
       "                FIR  FIR Rank    dist  dist Rank    GIR  GIR Rank Putting  \\\n",
       "Aaron Wise    66.07      47.0  305.00       16.0  68.06      22.0    1.60   \n",
       "Adam Long     71.43      28.0  299.25       28.0  66.67      27.0    1.81   \n",
       "Adam Scott    71.43      28.0  310.00       10.0  75.00       4.0    1.67   \n",
       "Alex Noren    76.79       9.0  290.38       62.0  55.56      73.0    1.64   \n",
       "Alvaro Ortiz    NaN       NaN     NaN        NaN    NaN       NaN     NaN   \n",
       "\n",
       "              Putting Rank        Player Position Score  Cut  \n",
       "Aaron Wise            22.0    Aaron Wise       17    -7  0.0  \n",
       "Adam Long             85.0     Adam Long       73    +5  1.0  \n",
       "Adam Scott            54.0    Adam Scott      T18    -6  0.0  \n",
       "Alex Noren            45.0    Alex Noren      T62    +8  0.0  \n",
       "Alvaro Ortiz           NaN  Alvaro Ortiz      T36    -2  0.0  "
      ]
     },
     "execution_count": 124,
     "metadata": {},
     "output_type": "execute_result"
    }
   ],
   "source": [
    "masters_2019.head()"
   ]
  },
  {
   "cell_type": "code",
   "execution_count": 125,
   "metadata": {},
   "outputs": [
    {
     "data": {
      "text/plain": [
       "(95, 12)"
      ]
     },
     "execution_count": 125,
     "metadata": {},
     "output_type": "execute_result"
    }
   ],
   "source": [
    "masters_2019.shape"
   ]
  },
  {
   "cell_type": "raw",
   "metadata": {},
   "source": [
    "Hmmm... There are 8 more than before.  Check the names from the datasets."
   ]
  },
  {
   "cell_type": "code",
   "execution_count": 126,
   "metadata": {},
   "outputs": [],
   "source": [
    "## Get a list of all 95 players now in the dataframe\n",
    "\n",
    "players = list(masters_2019.index)"
   ]
  },
  {
   "cell_type": "code",
   "execution_count": 127,
   "metadata": {},
   "outputs": [
    {
     "data": {
      "text/plain": [
       "['Aaron Wise',\n",
       " 'Adam Long',\n",
       " 'Adam Scott',\n",
       " 'Alex Noren',\n",
       " 'Alvaro Ortiz',\n",
       " 'Alvaro Ortiz (A)',\n",
       " 'Andrew Landry',\n",
       " 'Angel Cabrera',\n",
       " 'Bernhard Langer',\n",
       " 'Billy Horschel',\n",
       " 'Branden Grace',\n",
       " 'Brandt Snedeker',\n",
       " 'Brooks Koepka',\n",
       " 'Bryson DeChambeau',\n",
       " 'Bubba Watson',\n",
       " 'Cameron Smith',\n",
       " 'Charl Schwartzel',\n",
       " 'Charles Howell III',\n",
       " 'Charley Hoffman',\n",
       " 'Corey Conners',\n",
       " 'Danny Willett',\n",
       " 'Devon Bling',\n",
       " 'Devon Bling (A)',\n",
       " 'Dustin Johnson',\n",
       " 'Eddie Pepperell',\n",
       " 'Emiliano Grillo',\n",
       " 'Francesco Molinari',\n",
       " 'Fred Couples',\n",
       " 'Gary Woodland',\n",
       " 'Haotong Li',\n",
       " 'Henrik Stenson',\n",
       " 'Hideki Matsuyama',\n",
       " 'Ian Poulter',\n",
       " 'Ian Woosnam',\n",
       " 'J. B. Holmes',\n",
       " 'J.B. Holmes',\n",
       " 'Jason Day',\n",
       " 'Jimmy Walker',\n",
       " 'Jon Rahm',\n",
       " 'Jordan Spieth',\n",
       " 'Jose Maria Olazabal',\n",
       " 'Jovan Rebula',\n",
       " 'Jovan Rebula (A)',\n",
       " 'Justin Harding',\n",
       " 'Justin Rose',\n",
       " 'Justin Thomas',\n",
       " 'Keegan Bradley',\n",
       " 'Keith Mitchell',\n",
       " 'Kevin Kisner',\n",
       " 'Kevin Na',\n",
       " \"Kevin O'Connell\",\n",
       " \"Kevin O'Connell (A)\",\n",
       " 'Kevin Tway',\n",
       " 'Kiradech Aphibarnrat',\n",
       " 'Kyle Stanley',\n",
       " 'Larry Mize',\n",
       " 'Louis Oosthuizen',\n",
       " 'Lucas Bjerregaard',\n",
       " 'Marc Leishman',\n",
       " 'Martin Kaymer',\n",
       " 'Matt Kuchar',\n",
       " 'Matt Wallace',\n",
       " 'Matthew Fitzpatrick',\n",
       " 'Michael Kim',\n",
       " 'Mike Weir',\n",
       " 'Patrick Cantlay',\n",
       " 'Patrick Reed',\n",
       " 'Patton Kizzire',\n",
       " 'Paul Casey',\n",
       " 'Phil Mickelson',\n",
       " 'Rafa Cabrera-Bello',\n",
       " 'Rafael Cabrera Bello',\n",
       " 'Rickie Fowler',\n",
       " 'Rory McIlroy',\n",
       " 'Sandy Lyle',\n",
       " 'Satoshi Kodaira',\n",
       " 'Sergio Garcia',\n",
       " 'Shane Lowry',\n",
       " 'Shugo Imahira',\n",
       " 'Si Woo Kim',\n",
       " 'Stewart Cink',\n",
       " 'Takumi Kanaya',\n",
       " 'Takumi Kanaya (A)',\n",
       " 'Thorbjorn Olesen',\n",
       " 'Tiger Woods',\n",
       " 'Tommy Fleetwood',\n",
       " 'Tony Finau',\n",
       " 'Trevor Immelman',\n",
       " 'Tyrrell Hatton',\n",
       " 'Vijay Singh',\n",
       " 'Viktor Hovland',\n",
       " 'Viktor Hovland (A)',\n",
       " 'Webb Simpson',\n",
       " 'Xander Schauffele',\n",
       " 'Zach Johnson']"
      ]
     },
     "execution_count": 127,
     "metadata": {},
     "output_type": "execute_result"
    }
   ],
   "source": [
    "players"
   ]
  },
  {
   "cell_type": "raw",
   "metadata": {},
   "source": [
    "The issues:\n",
    "There were 6 amateurs, one list noted this with (A), the other didn't\n",
    "\n",
    "'J. B. Holmes'\n",
    "'J.B. Holmes'\n",
    "\n",
    "'Rafa Cabrera-Bello'\n",
    "'Rafael Cabrera Bello'"
   ]
  },
  {
   "cell_type": "code",
   "execution_count": 130,
   "metadata": {},
   "outputs": [],
   "source": [
    "## Replace the names that were different with a dict\n",
    "\n",
    "names = {'J. B. Holmes':'J.B. Holmes', 'Rafael Cabrera Bello':'Rafa Cabrera-Bello', 'Alvaro Ortiz (A)':'Alvaro Ortiz', \n",
    "         'Devon Bling (A)':'Devon Bling', 'Jovan Rebula (A)':'Jovan Rebula', \"Kevin O'Connell (A)\": \"Kevin O'Connell\", \n",
    "         'Takumi Kanaya (A)':'Takumi Kanaya', 'Viktor Hovland (A)': 'Viktor Hovland'}\n",
    "\n",
    "stats_df = stats_df.rename(index=names)"
   ]
  },
  {
   "cell_type": "code",
   "execution_count": 131,
   "metadata": {
    "scrolled": true
   },
   "outputs": [
    {
     "name": "stderr",
     "output_type": "stream",
     "text": [
      "/Users/genevieveberent/Desktop/anaconda3/lib/python3.6/site-packages/ipykernel_launcher.py:1: FutureWarning: Sorting because non-concatenation axis is not aligned. A future version\n",
      "of pandas will change to not sort by default.\n",
      "\n",
      "To accept the future behavior, pass 'sort=True'.\n",
      "\n",
      "To retain the current behavior and silence the warning, pass sort=False\n",
      "\n",
      "  \"\"\"Entry point for launching an IPython kernel.\n"
     ]
    }
   ],
   "source": [
    "## Concatenate again after changing the names\n",
    "\n",
    "masters_2019 = pd.concat([stats_df, final_2019], axis=1)"
   ]
  },
  {
   "cell_type": "code",
   "execution_count": 132,
   "metadata": {},
   "outputs": [
    {
     "data": {
      "text/plain": [
       "(87, 12)"
      ]
     },
     "execution_count": 132,
     "metadata": {},
     "output_type": "execute_result"
    }
   ],
   "source": [
    "## Much better\n",
    "\n",
    "masters_2019.shape"
   ]
  },
  {
   "cell_type": "code",
   "execution_count": 133,
   "metadata": {},
   "outputs": [
    {
     "data": {
      "text/html": [
       "<div>\n",
       "<style scoped>\n",
       "    .dataframe tbody tr th:only-of-type {\n",
       "        vertical-align: middle;\n",
       "    }\n",
       "\n",
       "    .dataframe tbody tr th {\n",
       "        vertical-align: top;\n",
       "    }\n",
       "\n",
       "    .dataframe thead th {\n",
       "        text-align: right;\n",
       "    }\n",
       "</style>\n",
       "<table border=\"1\" class=\"dataframe\">\n",
       "  <thead>\n",
       "    <tr style=\"text-align: right;\">\n",
       "      <th></th>\n",
       "      <th>FIR</th>\n",
       "      <th>FIR Rank</th>\n",
       "      <th>dist</th>\n",
       "      <th>dist Rank</th>\n",
       "      <th>GIR</th>\n",
       "      <th>GIR Rank</th>\n",
       "      <th>Putting</th>\n",
       "      <th>Putting Rank</th>\n",
       "      <th>Player</th>\n",
       "      <th>Position</th>\n",
       "      <th>Score</th>\n",
       "      <th>Cut</th>\n",
       "    </tr>\n",
       "  </thead>\n",
       "  <tbody>\n",
       "    <tr>\n",
       "      <th>Aaron Wise</th>\n",
       "      <td>66.07</td>\n",
       "      <td>47.0</td>\n",
       "      <td>305.00</td>\n",
       "      <td>16.0</td>\n",
       "      <td>68.06</td>\n",
       "      <td>22.0</td>\n",
       "      <td>1.60</td>\n",
       "      <td>22.0</td>\n",
       "      <td>Aaron Wise</td>\n",
       "      <td>17</td>\n",
       "      <td>-7</td>\n",
       "      <td>0</td>\n",
       "    </tr>\n",
       "    <tr>\n",
       "      <th>Adam Long</th>\n",
       "      <td>71.43</td>\n",
       "      <td>28.0</td>\n",
       "      <td>299.25</td>\n",
       "      <td>28.0</td>\n",
       "      <td>66.67</td>\n",
       "      <td>27.0</td>\n",
       "      <td>1.81</td>\n",
       "      <td>85.0</td>\n",
       "      <td>Adam Long</td>\n",
       "      <td>73</td>\n",
       "      <td>+5</td>\n",
       "      <td>1</td>\n",
       "    </tr>\n",
       "    <tr>\n",
       "      <th>Adam Scott</th>\n",
       "      <td>71.43</td>\n",
       "      <td>28.0</td>\n",
       "      <td>310.00</td>\n",
       "      <td>10.0</td>\n",
       "      <td>75.00</td>\n",
       "      <td>4.0</td>\n",
       "      <td>1.67</td>\n",
       "      <td>54.0</td>\n",
       "      <td>Adam Scott</td>\n",
       "      <td>T18</td>\n",
       "      <td>-6</td>\n",
       "      <td>0</td>\n",
       "    </tr>\n",
       "    <tr>\n",
       "      <th>Alex Noren</th>\n",
       "      <td>76.79</td>\n",
       "      <td>9.0</td>\n",
       "      <td>290.38</td>\n",
       "      <td>62.0</td>\n",
       "      <td>55.56</td>\n",
       "      <td>73.0</td>\n",
       "      <td>1.64</td>\n",
       "      <td>45.0</td>\n",
       "      <td>Alex Noren</td>\n",
       "      <td>T62</td>\n",
       "      <td>+8</td>\n",
       "      <td>0</td>\n",
       "    </tr>\n",
       "    <tr>\n",
       "      <th>Alvaro Ortiz</th>\n",
       "      <td>66.07</td>\n",
       "      <td>47.0</td>\n",
       "      <td>297.62</td>\n",
       "      <td>38.0</td>\n",
       "      <td>66.67</td>\n",
       "      <td>27.0</td>\n",
       "      <td>1.65</td>\n",
       "      <td>52.0</td>\n",
       "      <td>Alvaro Ortiz</td>\n",
       "      <td>T36</td>\n",
       "      <td>-2</td>\n",
       "      <td>0</td>\n",
       "    </tr>\n",
       "  </tbody>\n",
       "</table>\n",
       "</div>"
      ],
      "text/plain": [
       "                FIR  FIR Rank    dist  dist Rank    GIR  GIR Rank Putting  \\\n",
       "Aaron Wise    66.07      47.0  305.00       16.0  68.06      22.0    1.60   \n",
       "Adam Long     71.43      28.0  299.25       28.0  66.67      27.0    1.81   \n",
       "Adam Scott    71.43      28.0  310.00       10.0  75.00       4.0    1.67   \n",
       "Alex Noren    76.79       9.0  290.38       62.0  55.56      73.0    1.64   \n",
       "Alvaro Ortiz  66.07      47.0  297.62       38.0  66.67      27.0    1.65   \n",
       "\n",
       "              Putting Rank        Player Position Score  Cut  \n",
       "Aaron Wise            22.0    Aaron Wise       17    -7    0  \n",
       "Adam Long             85.0     Adam Long       73    +5    1  \n",
       "Adam Scott            54.0    Adam Scott      T18    -6    0  \n",
       "Alex Noren            45.0    Alex Noren      T62    +8    0  \n",
       "Alvaro Ortiz          52.0  Alvaro Ortiz      T36    -2    0  "
      ]
     },
     "execution_count": 133,
     "metadata": {},
     "output_type": "execute_result"
    }
   ],
   "source": [
    "masters_2019.head()"
   ]
  },
  {
   "cell_type": "code",
   "execution_count": 138,
   "metadata": {},
   "outputs": [],
   "source": [
    "## Need to drop the 'T' for tied positions in the 'Position' column\n",
    "\n",
    "masters_2019['Position'] = masters_2019['Position'].apply(lambda x:str(x).strip('T'))"
   ]
  },
  {
   "cell_type": "code",
   "execution_count": 139,
   "metadata": {},
   "outputs": [
    {
     "data": {
      "text/html": [
       "<div>\n",
       "<style scoped>\n",
       "    .dataframe tbody tr th:only-of-type {\n",
       "        vertical-align: middle;\n",
       "    }\n",
       "\n",
       "    .dataframe tbody tr th {\n",
       "        vertical-align: top;\n",
       "    }\n",
       "\n",
       "    .dataframe thead th {\n",
       "        text-align: right;\n",
       "    }\n",
       "</style>\n",
       "<table border=\"1\" class=\"dataframe\">\n",
       "  <thead>\n",
       "    <tr style=\"text-align: right;\">\n",
       "      <th></th>\n",
       "      <th>FIR</th>\n",
       "      <th>FIR Rank</th>\n",
       "      <th>dist</th>\n",
       "      <th>dist Rank</th>\n",
       "      <th>GIR</th>\n",
       "      <th>GIR Rank</th>\n",
       "      <th>Putting</th>\n",
       "      <th>Putting Rank</th>\n",
       "      <th>Player</th>\n",
       "      <th>Position</th>\n",
       "      <th>Score</th>\n",
       "      <th>Cut</th>\n",
       "    </tr>\n",
       "  </thead>\n",
       "  <tbody>\n",
       "    <tr>\n",
       "      <th>Aaron Wise</th>\n",
       "      <td>66.07</td>\n",
       "      <td>47.0</td>\n",
       "      <td>305.00</td>\n",
       "      <td>16.0</td>\n",
       "      <td>68.06</td>\n",
       "      <td>22.0</td>\n",
       "      <td>1.60</td>\n",
       "      <td>22.0</td>\n",
       "      <td>Aaron Wise</td>\n",
       "      <td>17</td>\n",
       "      <td>-7</td>\n",
       "      <td>0</td>\n",
       "    </tr>\n",
       "    <tr>\n",
       "      <th>Adam Long</th>\n",
       "      <td>71.43</td>\n",
       "      <td>28.0</td>\n",
       "      <td>299.25</td>\n",
       "      <td>28.0</td>\n",
       "      <td>66.67</td>\n",
       "      <td>27.0</td>\n",
       "      <td>1.81</td>\n",
       "      <td>85.0</td>\n",
       "      <td>Adam Long</td>\n",
       "      <td>73.0</td>\n",
       "      <td>+5</td>\n",
       "      <td>1</td>\n",
       "    </tr>\n",
       "    <tr>\n",
       "      <th>Adam Scott</th>\n",
       "      <td>71.43</td>\n",
       "      <td>28.0</td>\n",
       "      <td>310.00</td>\n",
       "      <td>10.0</td>\n",
       "      <td>75.00</td>\n",
       "      <td>4.0</td>\n",
       "      <td>1.67</td>\n",
       "      <td>54.0</td>\n",
       "      <td>Adam Scott</td>\n",
       "      <td>18</td>\n",
       "      <td>-6</td>\n",
       "      <td>0</td>\n",
       "    </tr>\n",
       "    <tr>\n",
       "      <th>Alex Noren</th>\n",
       "      <td>76.79</td>\n",
       "      <td>9.0</td>\n",
       "      <td>290.38</td>\n",
       "      <td>62.0</td>\n",
       "      <td>55.56</td>\n",
       "      <td>73.0</td>\n",
       "      <td>1.64</td>\n",
       "      <td>45.0</td>\n",
       "      <td>Alex Noren</td>\n",
       "      <td>62</td>\n",
       "      <td>+8</td>\n",
       "      <td>0</td>\n",
       "    </tr>\n",
       "    <tr>\n",
       "      <th>Alvaro Ortiz</th>\n",
       "      <td>66.07</td>\n",
       "      <td>47.0</td>\n",
       "      <td>297.62</td>\n",
       "      <td>38.0</td>\n",
       "      <td>66.67</td>\n",
       "      <td>27.0</td>\n",
       "      <td>1.65</td>\n",
       "      <td>52.0</td>\n",
       "      <td>Alvaro Ortiz</td>\n",
       "      <td>36</td>\n",
       "      <td>-2</td>\n",
       "      <td>0</td>\n",
       "    </tr>\n",
       "    <tr>\n",
       "      <th>Andrew Landry</th>\n",
       "      <td>80.36</td>\n",
       "      <td>6.0</td>\n",
       "      <td>287.12</td>\n",
       "      <td>75.0</td>\n",
       "      <td>65.28</td>\n",
       "      <td>38.0</td>\n",
       "      <td>1.58</td>\n",
       "      <td>17.0</td>\n",
       "      <td>Andrew Landry</td>\n",
       "      <td>46</td>\n",
       "      <td>E</td>\n",
       "      <td>0</td>\n",
       "    </tr>\n",
       "    <tr>\n",
       "      <th>Angel Cabrera</th>\n",
       "      <td>60.71</td>\n",
       "      <td>66.0</td>\n",
       "      <td>287.75</td>\n",
       "      <td>72.0</td>\n",
       "      <td>52.78</td>\n",
       "      <td>77.0</td>\n",
       "      <td>1.83</td>\n",
       "      <td>87.0</td>\n",
       "      <td>Angel Cabrera</td>\n",
       "      <td>86.0</td>\n",
       "      <td>+13</td>\n",
       "      <td>1</td>\n",
       "    </tr>\n",
       "    <tr>\n",
       "      <th>Bernhard Langer</th>\n",
       "      <td>76.79</td>\n",
       "      <td>9.0</td>\n",
       "      <td>272.50</td>\n",
       "      <td>82.0</td>\n",
       "      <td>63.89</td>\n",
       "      <td>43.0</td>\n",
       "      <td>1.64</td>\n",
       "      <td>45.0</td>\n",
       "      <td>Bernhard Langer</td>\n",
       "      <td>62</td>\n",
       "      <td>+8</td>\n",
       "      <td>0</td>\n",
       "    </tr>\n",
       "    <tr>\n",
       "      <th>Billy Horschel</th>\n",
       "      <td>62.50</td>\n",
       "      <td>59.0</td>\n",
       "      <td>288.88</td>\n",
       "      <td>68.0</td>\n",
       "      <td>55.56</td>\n",
       "      <td>73.0</td>\n",
       "      <td>1.60</td>\n",
       "      <td>22.0</td>\n",
       "      <td>Billy Horschel</td>\n",
       "      <td>56</td>\n",
       "      <td>+4</td>\n",
       "      <td>0</td>\n",
       "    </tr>\n",
       "    <tr>\n",
       "      <th>Branden Grace</th>\n",
       "      <td>62.50</td>\n",
       "      <td>59.0</td>\n",
       "      <td>300.62</td>\n",
       "      <td>23.0</td>\n",
       "      <td>65.28</td>\n",
       "      <td>38.0</td>\n",
       "      <td>1.71</td>\n",
       "      <td>67.0</td>\n",
       "      <td>Branden Grace</td>\n",
       "      <td>58</td>\n",
       "      <td>+5</td>\n",
       "      <td>0</td>\n",
       "    </tr>\n",
       "  </tbody>\n",
       "</table>\n",
       "</div>"
      ],
      "text/plain": [
       "                   FIR  FIR Rank    dist  dist Rank    GIR  GIR Rank Putting  \\\n",
       "Aaron Wise       66.07      47.0  305.00       16.0  68.06      22.0    1.60   \n",
       "Adam Long        71.43      28.0  299.25       28.0  66.67      27.0    1.81   \n",
       "Adam Scott       71.43      28.0  310.00       10.0  75.00       4.0    1.67   \n",
       "Alex Noren       76.79       9.0  290.38       62.0  55.56      73.0    1.64   \n",
       "Alvaro Ortiz     66.07      47.0  297.62       38.0  66.67      27.0    1.65   \n",
       "Andrew Landry    80.36       6.0  287.12       75.0  65.28      38.0    1.58   \n",
       "Angel Cabrera    60.71      66.0  287.75       72.0  52.78      77.0    1.83   \n",
       "Bernhard Langer  76.79       9.0  272.50       82.0  63.89      43.0    1.64   \n",
       "Billy Horschel   62.50      59.0  288.88       68.0  55.56      73.0    1.60   \n",
       "Branden Grace    62.50      59.0  300.62       23.0  65.28      38.0    1.71   \n",
       "\n",
       "                 Putting Rank           Player Position Score  Cut  \n",
       "Aaron Wise               22.0       Aaron Wise       17    -7    0  \n",
       "Adam Long                85.0        Adam Long     73.0    +5    1  \n",
       "Adam Scott               54.0       Adam Scott       18    -6    0  \n",
       "Alex Noren               45.0       Alex Noren       62    +8    0  \n",
       "Alvaro Ortiz             52.0     Alvaro Ortiz       36    -2    0  \n",
       "Andrew Landry            17.0    Andrew Landry       46     E    0  \n",
       "Angel Cabrera            87.0    Angel Cabrera     86.0   +13    1  \n",
       "Bernhard Langer          45.0  Bernhard Langer       62    +8    0  \n",
       "Billy Horschel           22.0   Billy Horschel       56    +4    0  \n",
       "Branden Grace            67.0    Branden Grace       58    +5    0  "
      ]
     },
     "execution_count": 139,
     "metadata": {},
     "output_type": "execute_result"
    }
   ],
   "source": [
    "masters_2019.head(10)"
   ]
  },
  {
   "cell_type": "code",
   "execution_count": 140,
   "metadata": {},
   "outputs": [],
   "source": [
    "## Drop the 'Player' column\n",
    "\n",
    "masters_2019.drop('Player', axis=1, inplace=True)"
   ]
  },
  {
   "cell_type": "code",
   "execution_count": 141,
   "metadata": {},
   "outputs": [
    {
     "data": {
      "text/html": [
       "<div>\n",
       "<style scoped>\n",
       "    .dataframe tbody tr th:only-of-type {\n",
       "        vertical-align: middle;\n",
       "    }\n",
       "\n",
       "    .dataframe tbody tr th {\n",
       "        vertical-align: top;\n",
       "    }\n",
       "\n",
       "    .dataframe thead th {\n",
       "        text-align: right;\n",
       "    }\n",
       "</style>\n",
       "<table border=\"1\" class=\"dataframe\">\n",
       "  <thead>\n",
       "    <tr style=\"text-align: right;\">\n",
       "      <th></th>\n",
       "      <th>FIR</th>\n",
       "      <th>FIR Rank</th>\n",
       "      <th>dist</th>\n",
       "      <th>dist Rank</th>\n",
       "      <th>GIR</th>\n",
       "      <th>GIR Rank</th>\n",
       "      <th>Putting</th>\n",
       "      <th>Putting Rank</th>\n",
       "      <th>Position</th>\n",
       "      <th>Score</th>\n",
       "      <th>Cut</th>\n",
       "    </tr>\n",
       "  </thead>\n",
       "  <tbody>\n",
       "    <tr>\n",
       "      <th>Aaron Wise</th>\n",
       "      <td>66.07</td>\n",
       "      <td>47.0</td>\n",
       "      <td>305.00</td>\n",
       "      <td>16.0</td>\n",
       "      <td>68.06</td>\n",
       "      <td>22.0</td>\n",
       "      <td>1.60</td>\n",
       "      <td>22.0</td>\n",
       "      <td>17</td>\n",
       "      <td>-7</td>\n",
       "      <td>0</td>\n",
       "    </tr>\n",
       "    <tr>\n",
       "      <th>Adam Long</th>\n",
       "      <td>71.43</td>\n",
       "      <td>28.0</td>\n",
       "      <td>299.25</td>\n",
       "      <td>28.0</td>\n",
       "      <td>66.67</td>\n",
       "      <td>27.0</td>\n",
       "      <td>1.81</td>\n",
       "      <td>85.0</td>\n",
       "      <td>73.0</td>\n",
       "      <td>+5</td>\n",
       "      <td>1</td>\n",
       "    </tr>\n",
       "    <tr>\n",
       "      <th>Adam Scott</th>\n",
       "      <td>71.43</td>\n",
       "      <td>28.0</td>\n",
       "      <td>310.00</td>\n",
       "      <td>10.0</td>\n",
       "      <td>75.00</td>\n",
       "      <td>4.0</td>\n",
       "      <td>1.67</td>\n",
       "      <td>54.0</td>\n",
       "      <td>18</td>\n",
       "      <td>-6</td>\n",
       "      <td>0</td>\n",
       "    </tr>\n",
       "    <tr>\n",
       "      <th>Alex Noren</th>\n",
       "      <td>76.79</td>\n",
       "      <td>9.0</td>\n",
       "      <td>290.38</td>\n",
       "      <td>62.0</td>\n",
       "      <td>55.56</td>\n",
       "      <td>73.0</td>\n",
       "      <td>1.64</td>\n",
       "      <td>45.0</td>\n",
       "      <td>62</td>\n",
       "      <td>+8</td>\n",
       "      <td>0</td>\n",
       "    </tr>\n",
       "    <tr>\n",
       "      <th>Alvaro Ortiz</th>\n",
       "      <td>66.07</td>\n",
       "      <td>47.0</td>\n",
       "      <td>297.62</td>\n",
       "      <td>38.0</td>\n",
       "      <td>66.67</td>\n",
       "      <td>27.0</td>\n",
       "      <td>1.65</td>\n",
       "      <td>52.0</td>\n",
       "      <td>36</td>\n",
       "      <td>-2</td>\n",
       "      <td>0</td>\n",
       "    </tr>\n",
       "  </tbody>\n",
       "</table>\n",
       "</div>"
      ],
      "text/plain": [
       "                FIR  FIR Rank    dist  dist Rank    GIR  GIR Rank Putting  \\\n",
       "Aaron Wise    66.07      47.0  305.00       16.0  68.06      22.0    1.60   \n",
       "Adam Long     71.43      28.0  299.25       28.0  66.67      27.0    1.81   \n",
       "Adam Scott    71.43      28.0  310.00       10.0  75.00       4.0    1.67   \n",
       "Alex Noren    76.79       9.0  290.38       62.0  55.56      73.0    1.64   \n",
       "Alvaro Ortiz  66.07      47.0  297.62       38.0  66.67      27.0    1.65   \n",
       "\n",
       "              Putting Rank Position Score  Cut  \n",
       "Aaron Wise            22.0       17    -7    0  \n",
       "Adam Long             85.0     73.0    +5    1  \n",
       "Adam Scott            54.0       18    -6    0  \n",
       "Alex Noren            45.0       62    +8    0  \n",
       "Alvaro Ortiz          52.0       36    -2    0  "
      ]
     },
     "execution_count": 141,
     "metadata": {},
     "output_type": "execute_result"
    }
   ],
   "source": [
    "masters_2019.head()"
   ]
  },
  {
   "cell_type": "code",
   "execution_count": 136,
   "metadata": {},
   "outputs": [
    {
     "name": "stdout",
     "output_type": "stream",
     "text": [
      "<class 'pandas.core.frame.DataFrame'>\n",
      "Index: 87 entries, Aaron Wise to Zach Johnson\n",
      "Data columns (total 12 columns):\n",
      "FIR             87 non-null object\n",
      "FIR Rank        87 non-null float64\n",
      "dist            87 non-null object\n",
      "dist Rank       87 non-null float64\n",
      "GIR             87 non-null object\n",
      "GIR Rank        87 non-null float64\n",
      "Putting         87 non-null object\n",
      "Putting Rank    87 non-null float64\n",
      "Player          87 non-null object\n",
      "Position        87 non-null object\n",
      "Score           87 non-null object\n",
      "Cut             87 non-null int64\n",
      "dtypes: float64(4), int64(1), object(7)\n",
      "memory usage: 8.8+ KB\n"
     ]
    }
   ],
   "source": [
    "masters_2019.info()"
   ]
  },
  {
   "cell_type": "code",
   "execution_count": 142,
   "metadata": {},
   "outputs": [
    {
     "data": {
      "text/plain": [
       "Index(['FIR', 'FIR Rank', 'dist', 'dist Rank', 'GIR', 'GIR Rank', 'Putting',\n",
       "       'Putting Rank', 'Position', 'Score', 'Cut'],\n",
       "      dtype='object')"
      ]
     },
     "execution_count": 142,
     "metadata": {},
     "output_type": "execute_result"
    }
   ],
   "source": [
    "masters_2019.columns"
   ]
  },
  {
   "cell_type": "code",
   "execution_count": 143,
   "metadata": {},
   "outputs": [],
   "source": [
    "## Rearrange the order of the columns\n",
    "\n",
    "masters_2019 = masters_2019[['Position', 'Score', 'FIR', 'FIR Rank', 'dist', 'dist Rank', 'GIR', 'GIR Rank', 'Putting',\n",
    "       'Putting Rank', 'Cut']]"
   ]
  },
  {
   "cell_type": "code",
   "execution_count": 144,
   "metadata": {},
   "outputs": [
    {
     "data": {
      "text/html": [
       "<div>\n",
       "<style scoped>\n",
       "    .dataframe tbody tr th:only-of-type {\n",
       "        vertical-align: middle;\n",
       "    }\n",
       "\n",
       "    .dataframe tbody tr th {\n",
       "        vertical-align: top;\n",
       "    }\n",
       "\n",
       "    .dataframe thead th {\n",
       "        text-align: right;\n",
       "    }\n",
       "</style>\n",
       "<table border=\"1\" class=\"dataframe\">\n",
       "  <thead>\n",
       "    <tr style=\"text-align: right;\">\n",
       "      <th></th>\n",
       "      <th>Position</th>\n",
       "      <th>Score</th>\n",
       "      <th>FIR</th>\n",
       "      <th>FIR Rank</th>\n",
       "      <th>dist</th>\n",
       "      <th>dist Rank</th>\n",
       "      <th>GIR</th>\n",
       "      <th>GIR Rank</th>\n",
       "      <th>Putting</th>\n",
       "      <th>Putting Rank</th>\n",
       "      <th>Cut</th>\n",
       "    </tr>\n",
       "  </thead>\n",
       "  <tbody>\n",
       "    <tr>\n",
       "      <th>Aaron Wise</th>\n",
       "      <td>17</td>\n",
       "      <td>-7</td>\n",
       "      <td>66.07</td>\n",
       "      <td>47.0</td>\n",
       "      <td>305.00</td>\n",
       "      <td>16.0</td>\n",
       "      <td>68.06</td>\n",
       "      <td>22.0</td>\n",
       "      <td>1.60</td>\n",
       "      <td>22.0</td>\n",
       "      <td>0</td>\n",
       "    </tr>\n",
       "    <tr>\n",
       "      <th>Adam Long</th>\n",
       "      <td>73.0</td>\n",
       "      <td>+5</td>\n",
       "      <td>71.43</td>\n",
       "      <td>28.0</td>\n",
       "      <td>299.25</td>\n",
       "      <td>28.0</td>\n",
       "      <td>66.67</td>\n",
       "      <td>27.0</td>\n",
       "      <td>1.81</td>\n",
       "      <td>85.0</td>\n",
       "      <td>1</td>\n",
       "    </tr>\n",
       "    <tr>\n",
       "      <th>Adam Scott</th>\n",
       "      <td>18</td>\n",
       "      <td>-6</td>\n",
       "      <td>71.43</td>\n",
       "      <td>28.0</td>\n",
       "      <td>310.00</td>\n",
       "      <td>10.0</td>\n",
       "      <td>75.00</td>\n",
       "      <td>4.0</td>\n",
       "      <td>1.67</td>\n",
       "      <td>54.0</td>\n",
       "      <td>0</td>\n",
       "    </tr>\n",
       "    <tr>\n",
       "      <th>Alex Noren</th>\n",
       "      <td>62</td>\n",
       "      <td>+8</td>\n",
       "      <td>76.79</td>\n",
       "      <td>9.0</td>\n",
       "      <td>290.38</td>\n",
       "      <td>62.0</td>\n",
       "      <td>55.56</td>\n",
       "      <td>73.0</td>\n",
       "      <td>1.64</td>\n",
       "      <td>45.0</td>\n",
       "      <td>0</td>\n",
       "    </tr>\n",
       "    <tr>\n",
       "      <th>Alvaro Ortiz</th>\n",
       "      <td>36</td>\n",
       "      <td>-2</td>\n",
       "      <td>66.07</td>\n",
       "      <td>47.0</td>\n",
       "      <td>297.62</td>\n",
       "      <td>38.0</td>\n",
       "      <td>66.67</td>\n",
       "      <td>27.0</td>\n",
       "      <td>1.65</td>\n",
       "      <td>52.0</td>\n",
       "      <td>0</td>\n",
       "    </tr>\n",
       "  </tbody>\n",
       "</table>\n",
       "</div>"
      ],
      "text/plain": [
       "             Position Score    FIR  FIR Rank    dist  dist Rank    GIR  \\\n",
       "Aaron Wise         17    -7  66.07      47.0  305.00       16.0  68.06   \n",
       "Adam Long        73.0    +5  71.43      28.0  299.25       28.0  66.67   \n",
       "Adam Scott         18    -6  71.43      28.0  310.00       10.0  75.00   \n",
       "Alex Noren         62    +8  76.79       9.0  290.38       62.0  55.56   \n",
       "Alvaro Ortiz       36    -2  66.07      47.0  297.62       38.0  66.67   \n",
       "\n",
       "              GIR Rank Putting  Putting Rank  Cut  \n",
       "Aaron Wise        22.0    1.60          22.0    0  \n",
       "Adam Long         27.0    1.81          85.0    1  \n",
       "Adam Scott         4.0    1.67          54.0    0  \n",
       "Alex Noren        73.0    1.64          45.0    0  \n",
       "Alvaro Ortiz      27.0    1.65          52.0    0  "
      ]
     },
     "execution_count": 144,
     "metadata": {},
     "output_type": "execute_result"
    }
   ],
   "source": [
    "masters_2019.head()"
   ]
  },
  {
   "cell_type": "code",
   "execution_count": 147,
   "metadata": {},
   "outputs": [],
   "source": [
    "## If a player shot Even par, an 'E' is there for 'Score'\n",
    "## Need to change to 0\n",
    "\n",
    "masters_2019['Score'] = masters_2019['Score'].replace({'E':0})"
   ]
  },
  {
   "cell_type": "code",
   "execution_count": 148,
   "metadata": {},
   "outputs": [],
   "source": [
    "## Change the type of the columns to numeric values to analyze later\n",
    "\n",
    "cols = ['FIR', 'FIR Rank', 'dist', 'dist Rank', 'GIR', 'GIR Rank', 'Putting',\n",
    "       'Putting Rank', 'Position', 'Score', 'Cut']\n",
    "\n",
    "masters_2019[cols] = masters_2019[cols].apply(pd.to_numeric, axis=1)"
   ]
  },
  {
   "cell_type": "code",
   "execution_count": 149,
   "metadata": {},
   "outputs": [
    {
     "data": {
      "text/html": [
       "<div>\n",
       "<style scoped>\n",
       "    .dataframe tbody tr th:only-of-type {\n",
       "        vertical-align: middle;\n",
       "    }\n",
       "\n",
       "    .dataframe tbody tr th {\n",
       "        vertical-align: top;\n",
       "    }\n",
       "\n",
       "    .dataframe thead th {\n",
       "        text-align: right;\n",
       "    }\n",
       "</style>\n",
       "<table border=\"1\" class=\"dataframe\">\n",
       "  <thead>\n",
       "    <tr style=\"text-align: right;\">\n",
       "      <th></th>\n",
       "      <th>Position</th>\n",
       "      <th>Score</th>\n",
       "      <th>FIR</th>\n",
       "      <th>FIR Rank</th>\n",
       "      <th>dist</th>\n",
       "      <th>dist Rank</th>\n",
       "      <th>GIR</th>\n",
       "      <th>GIR Rank</th>\n",
       "      <th>Putting</th>\n",
       "      <th>Putting Rank</th>\n",
       "      <th>Cut</th>\n",
       "    </tr>\n",
       "  </thead>\n",
       "  <tbody>\n",
       "    <tr>\n",
       "      <th>Aaron Wise</th>\n",
       "      <td>17.0</td>\n",
       "      <td>-7.0</td>\n",
       "      <td>66.07</td>\n",
       "      <td>47.0</td>\n",
       "      <td>305.00</td>\n",
       "      <td>16.0</td>\n",
       "      <td>68.06</td>\n",
       "      <td>22.0</td>\n",
       "      <td>1.60</td>\n",
       "      <td>22.0</td>\n",
       "      <td>0.0</td>\n",
       "    </tr>\n",
       "    <tr>\n",
       "      <th>Adam Long</th>\n",
       "      <td>73.0</td>\n",
       "      <td>5.0</td>\n",
       "      <td>71.43</td>\n",
       "      <td>28.0</td>\n",
       "      <td>299.25</td>\n",
       "      <td>28.0</td>\n",
       "      <td>66.67</td>\n",
       "      <td>27.0</td>\n",
       "      <td>1.81</td>\n",
       "      <td>85.0</td>\n",
       "      <td>1.0</td>\n",
       "    </tr>\n",
       "    <tr>\n",
       "      <th>Adam Scott</th>\n",
       "      <td>18.0</td>\n",
       "      <td>-6.0</td>\n",
       "      <td>71.43</td>\n",
       "      <td>28.0</td>\n",
       "      <td>310.00</td>\n",
       "      <td>10.0</td>\n",
       "      <td>75.00</td>\n",
       "      <td>4.0</td>\n",
       "      <td>1.67</td>\n",
       "      <td>54.0</td>\n",
       "      <td>0.0</td>\n",
       "    </tr>\n",
       "    <tr>\n",
       "      <th>Alex Noren</th>\n",
       "      <td>62.0</td>\n",
       "      <td>8.0</td>\n",
       "      <td>76.79</td>\n",
       "      <td>9.0</td>\n",
       "      <td>290.38</td>\n",
       "      <td>62.0</td>\n",
       "      <td>55.56</td>\n",
       "      <td>73.0</td>\n",
       "      <td>1.64</td>\n",
       "      <td>45.0</td>\n",
       "      <td>0.0</td>\n",
       "    </tr>\n",
       "    <tr>\n",
       "      <th>Alvaro Ortiz</th>\n",
       "      <td>36.0</td>\n",
       "      <td>-2.0</td>\n",
       "      <td>66.07</td>\n",
       "      <td>47.0</td>\n",
       "      <td>297.62</td>\n",
       "      <td>38.0</td>\n",
       "      <td>66.67</td>\n",
       "      <td>27.0</td>\n",
       "      <td>1.65</td>\n",
       "      <td>52.0</td>\n",
       "      <td>0.0</td>\n",
       "    </tr>\n",
       "    <tr>\n",
       "      <th>Andrew Landry</th>\n",
       "      <td>46.0</td>\n",
       "      <td>0.0</td>\n",
       "      <td>80.36</td>\n",
       "      <td>6.0</td>\n",
       "      <td>287.12</td>\n",
       "      <td>75.0</td>\n",
       "      <td>65.28</td>\n",
       "      <td>38.0</td>\n",
       "      <td>1.58</td>\n",
       "      <td>17.0</td>\n",
       "      <td>0.0</td>\n",
       "    </tr>\n",
       "    <tr>\n",
       "      <th>Angel Cabrera</th>\n",
       "      <td>86.0</td>\n",
       "      <td>13.0</td>\n",
       "      <td>60.71</td>\n",
       "      <td>66.0</td>\n",
       "      <td>287.75</td>\n",
       "      <td>72.0</td>\n",
       "      <td>52.78</td>\n",
       "      <td>77.0</td>\n",
       "      <td>1.83</td>\n",
       "      <td>87.0</td>\n",
       "      <td>1.0</td>\n",
       "    </tr>\n",
       "    <tr>\n",
       "      <th>Bernhard Langer</th>\n",
       "      <td>62.0</td>\n",
       "      <td>8.0</td>\n",
       "      <td>76.79</td>\n",
       "      <td>9.0</td>\n",
       "      <td>272.50</td>\n",
       "      <td>82.0</td>\n",
       "      <td>63.89</td>\n",
       "      <td>43.0</td>\n",
       "      <td>1.64</td>\n",
       "      <td>45.0</td>\n",
       "      <td>0.0</td>\n",
       "    </tr>\n",
       "    <tr>\n",
       "      <th>Billy Horschel</th>\n",
       "      <td>56.0</td>\n",
       "      <td>4.0</td>\n",
       "      <td>62.50</td>\n",
       "      <td>59.0</td>\n",
       "      <td>288.88</td>\n",
       "      <td>68.0</td>\n",
       "      <td>55.56</td>\n",
       "      <td>73.0</td>\n",
       "      <td>1.60</td>\n",
       "      <td>22.0</td>\n",
       "      <td>0.0</td>\n",
       "    </tr>\n",
       "    <tr>\n",
       "      <th>Branden Grace</th>\n",
       "      <td>58.0</td>\n",
       "      <td>5.0</td>\n",
       "      <td>62.50</td>\n",
       "      <td>59.0</td>\n",
       "      <td>300.62</td>\n",
       "      <td>23.0</td>\n",
       "      <td>65.28</td>\n",
       "      <td>38.0</td>\n",
       "      <td>1.71</td>\n",
       "      <td>67.0</td>\n",
       "      <td>0.0</td>\n",
       "    </tr>\n",
       "  </tbody>\n",
       "</table>\n",
       "</div>"
      ],
      "text/plain": [
       "                 Position  Score    FIR  FIR Rank    dist  dist Rank    GIR  \\\n",
       "Aaron Wise           17.0   -7.0  66.07      47.0  305.00       16.0  68.06   \n",
       "Adam Long            73.0    5.0  71.43      28.0  299.25       28.0  66.67   \n",
       "Adam Scott           18.0   -6.0  71.43      28.0  310.00       10.0  75.00   \n",
       "Alex Noren           62.0    8.0  76.79       9.0  290.38       62.0  55.56   \n",
       "Alvaro Ortiz         36.0   -2.0  66.07      47.0  297.62       38.0  66.67   \n",
       "Andrew Landry        46.0    0.0  80.36       6.0  287.12       75.0  65.28   \n",
       "Angel Cabrera        86.0   13.0  60.71      66.0  287.75       72.0  52.78   \n",
       "Bernhard Langer      62.0    8.0  76.79       9.0  272.50       82.0  63.89   \n",
       "Billy Horschel       56.0    4.0  62.50      59.0  288.88       68.0  55.56   \n",
       "Branden Grace        58.0    5.0  62.50      59.0  300.62       23.0  65.28   \n",
       "\n",
       "                 GIR Rank  Putting  Putting Rank  Cut  \n",
       "Aaron Wise           22.0     1.60          22.0  0.0  \n",
       "Adam Long            27.0     1.81          85.0  1.0  \n",
       "Adam Scott            4.0     1.67          54.0  0.0  \n",
       "Alex Noren           73.0     1.64          45.0  0.0  \n",
       "Alvaro Ortiz         27.0     1.65          52.0  0.0  \n",
       "Andrew Landry        38.0     1.58          17.0  0.0  \n",
       "Angel Cabrera        77.0     1.83          87.0  1.0  \n",
       "Bernhard Langer      43.0     1.64          45.0  0.0  \n",
       "Billy Horschel       73.0     1.60          22.0  0.0  \n",
       "Branden Grace        38.0     1.71          67.0  0.0  "
      ]
     },
     "execution_count": 149,
     "metadata": {},
     "output_type": "execute_result"
    }
   ],
   "source": [
    "masters_2019.head(10)"
   ]
  },
  {
   "cell_type": "code",
   "execution_count": 150,
   "metadata": {},
   "outputs": [
    {
     "name": "stdout",
     "output_type": "stream",
     "text": [
      "<class 'pandas.core.frame.DataFrame'>\n",
      "Index: 87 entries, Aaron Wise to Zach Johnson\n",
      "Data columns (total 11 columns):\n",
      "Position        87 non-null float64\n",
      "Score           87 non-null float64\n",
      "FIR             87 non-null float64\n",
      "FIR Rank        87 non-null float64\n",
      "dist            87 non-null float64\n",
      "dist Rank       87 non-null float64\n",
      "GIR             87 non-null float64\n",
      "GIR Rank        87 non-null float64\n",
      "Putting         87 non-null float64\n",
      "Putting Rank    87 non-null float64\n",
      "Cut             87 non-null float64\n",
      "dtypes: float64(11)\n",
      "memory usage: 8.2+ KB\n"
     ]
    }
   ],
   "source": [
    "masters_2019.info()"
   ]
  },
  {
   "cell_type": "code",
   "execution_count": 153,
   "metadata": {},
   "outputs": [],
   "source": [
    "masters_2019['Year'] = 2019"
   ]
  },
  {
   "cell_type": "code",
   "execution_count": 154,
   "metadata": {},
   "outputs": [
    {
     "data": {
      "text/html": [
       "<div>\n",
       "<style scoped>\n",
       "    .dataframe tbody tr th:only-of-type {\n",
       "        vertical-align: middle;\n",
       "    }\n",
       "\n",
       "    .dataframe tbody tr th {\n",
       "        vertical-align: top;\n",
       "    }\n",
       "\n",
       "    .dataframe thead th {\n",
       "        text-align: right;\n",
       "    }\n",
       "</style>\n",
       "<table border=\"1\" class=\"dataframe\">\n",
       "  <thead>\n",
       "    <tr style=\"text-align: right;\">\n",
       "      <th></th>\n",
       "      <th>Position</th>\n",
       "      <th>Score</th>\n",
       "      <th>FIR</th>\n",
       "      <th>FIR Rank</th>\n",
       "      <th>dist</th>\n",
       "      <th>dist Rank</th>\n",
       "      <th>GIR</th>\n",
       "      <th>GIR Rank</th>\n",
       "      <th>Putting</th>\n",
       "      <th>Putting Rank</th>\n",
       "      <th>Cut</th>\n",
       "      <th>Year</th>\n",
       "    </tr>\n",
       "  </thead>\n",
       "  <tbody>\n",
       "    <tr>\n",
       "      <th>Aaron Wise</th>\n",
       "      <td>17.0</td>\n",
       "      <td>-7.0</td>\n",
       "      <td>66.07</td>\n",
       "      <td>47.0</td>\n",
       "      <td>305.00</td>\n",
       "      <td>16.0</td>\n",
       "      <td>68.06</td>\n",
       "      <td>22.0</td>\n",
       "      <td>1.60</td>\n",
       "      <td>22.0</td>\n",
       "      <td>0.0</td>\n",
       "      <td>2019</td>\n",
       "    </tr>\n",
       "    <tr>\n",
       "      <th>Adam Long</th>\n",
       "      <td>73.0</td>\n",
       "      <td>5.0</td>\n",
       "      <td>71.43</td>\n",
       "      <td>28.0</td>\n",
       "      <td>299.25</td>\n",
       "      <td>28.0</td>\n",
       "      <td>66.67</td>\n",
       "      <td>27.0</td>\n",
       "      <td>1.81</td>\n",
       "      <td>85.0</td>\n",
       "      <td>1.0</td>\n",
       "      <td>2019</td>\n",
       "    </tr>\n",
       "    <tr>\n",
       "      <th>Adam Scott</th>\n",
       "      <td>18.0</td>\n",
       "      <td>-6.0</td>\n",
       "      <td>71.43</td>\n",
       "      <td>28.0</td>\n",
       "      <td>310.00</td>\n",
       "      <td>10.0</td>\n",
       "      <td>75.00</td>\n",
       "      <td>4.0</td>\n",
       "      <td>1.67</td>\n",
       "      <td>54.0</td>\n",
       "      <td>0.0</td>\n",
       "      <td>2019</td>\n",
       "    </tr>\n",
       "    <tr>\n",
       "      <th>Alex Noren</th>\n",
       "      <td>62.0</td>\n",
       "      <td>8.0</td>\n",
       "      <td>76.79</td>\n",
       "      <td>9.0</td>\n",
       "      <td>290.38</td>\n",
       "      <td>62.0</td>\n",
       "      <td>55.56</td>\n",
       "      <td>73.0</td>\n",
       "      <td>1.64</td>\n",
       "      <td>45.0</td>\n",
       "      <td>0.0</td>\n",
       "      <td>2019</td>\n",
       "    </tr>\n",
       "    <tr>\n",
       "      <th>Alvaro Ortiz</th>\n",
       "      <td>36.0</td>\n",
       "      <td>-2.0</td>\n",
       "      <td>66.07</td>\n",
       "      <td>47.0</td>\n",
       "      <td>297.62</td>\n",
       "      <td>38.0</td>\n",
       "      <td>66.67</td>\n",
       "      <td>27.0</td>\n",
       "      <td>1.65</td>\n",
       "      <td>52.0</td>\n",
       "      <td>0.0</td>\n",
       "      <td>2019</td>\n",
       "    </tr>\n",
       "    <tr>\n",
       "      <th>Andrew Landry</th>\n",
       "      <td>46.0</td>\n",
       "      <td>0.0</td>\n",
       "      <td>80.36</td>\n",
       "      <td>6.0</td>\n",
       "      <td>287.12</td>\n",
       "      <td>75.0</td>\n",
       "      <td>65.28</td>\n",
       "      <td>38.0</td>\n",
       "      <td>1.58</td>\n",
       "      <td>17.0</td>\n",
       "      <td>0.0</td>\n",
       "      <td>2019</td>\n",
       "    </tr>\n",
       "    <tr>\n",
       "      <th>Angel Cabrera</th>\n",
       "      <td>86.0</td>\n",
       "      <td>13.0</td>\n",
       "      <td>60.71</td>\n",
       "      <td>66.0</td>\n",
       "      <td>287.75</td>\n",
       "      <td>72.0</td>\n",
       "      <td>52.78</td>\n",
       "      <td>77.0</td>\n",
       "      <td>1.83</td>\n",
       "      <td>87.0</td>\n",
       "      <td>1.0</td>\n",
       "      <td>2019</td>\n",
       "    </tr>\n",
       "    <tr>\n",
       "      <th>Bernhard Langer</th>\n",
       "      <td>62.0</td>\n",
       "      <td>8.0</td>\n",
       "      <td>76.79</td>\n",
       "      <td>9.0</td>\n",
       "      <td>272.50</td>\n",
       "      <td>82.0</td>\n",
       "      <td>63.89</td>\n",
       "      <td>43.0</td>\n",
       "      <td>1.64</td>\n",
       "      <td>45.0</td>\n",
       "      <td>0.0</td>\n",
       "      <td>2019</td>\n",
       "    </tr>\n",
       "    <tr>\n",
       "      <th>Billy Horschel</th>\n",
       "      <td>56.0</td>\n",
       "      <td>4.0</td>\n",
       "      <td>62.50</td>\n",
       "      <td>59.0</td>\n",
       "      <td>288.88</td>\n",
       "      <td>68.0</td>\n",
       "      <td>55.56</td>\n",
       "      <td>73.0</td>\n",
       "      <td>1.60</td>\n",
       "      <td>22.0</td>\n",
       "      <td>0.0</td>\n",
       "      <td>2019</td>\n",
       "    </tr>\n",
       "    <tr>\n",
       "      <th>Branden Grace</th>\n",
       "      <td>58.0</td>\n",
       "      <td>5.0</td>\n",
       "      <td>62.50</td>\n",
       "      <td>59.0</td>\n",
       "      <td>300.62</td>\n",
       "      <td>23.0</td>\n",
       "      <td>65.28</td>\n",
       "      <td>38.0</td>\n",
       "      <td>1.71</td>\n",
       "      <td>67.0</td>\n",
       "      <td>0.0</td>\n",
       "      <td>2019</td>\n",
       "    </tr>\n",
       "  </tbody>\n",
       "</table>\n",
       "</div>"
      ],
      "text/plain": [
       "                 Position  Score    FIR  FIR Rank    dist  dist Rank    GIR  \\\n",
       "Aaron Wise           17.0   -7.0  66.07      47.0  305.00       16.0  68.06   \n",
       "Adam Long            73.0    5.0  71.43      28.0  299.25       28.0  66.67   \n",
       "Adam Scott           18.0   -6.0  71.43      28.0  310.00       10.0  75.00   \n",
       "Alex Noren           62.0    8.0  76.79       9.0  290.38       62.0  55.56   \n",
       "Alvaro Ortiz         36.0   -2.0  66.07      47.0  297.62       38.0  66.67   \n",
       "Andrew Landry        46.0    0.0  80.36       6.0  287.12       75.0  65.28   \n",
       "Angel Cabrera        86.0   13.0  60.71      66.0  287.75       72.0  52.78   \n",
       "Bernhard Langer      62.0    8.0  76.79       9.0  272.50       82.0  63.89   \n",
       "Billy Horschel       56.0    4.0  62.50      59.0  288.88       68.0  55.56   \n",
       "Branden Grace        58.0    5.0  62.50      59.0  300.62       23.0  65.28   \n",
       "\n",
       "                 GIR Rank  Putting  Putting Rank  Cut  Year  \n",
       "Aaron Wise           22.0     1.60          22.0  0.0  2019  \n",
       "Adam Long            27.0     1.81          85.0  1.0  2019  \n",
       "Adam Scott            4.0     1.67          54.0  0.0  2019  \n",
       "Alex Noren           73.0     1.64          45.0  0.0  2019  \n",
       "Alvaro Ortiz         27.0     1.65          52.0  0.0  2019  \n",
       "Andrew Landry        38.0     1.58          17.0  0.0  2019  \n",
       "Angel Cabrera        77.0     1.83          87.0  1.0  2019  \n",
       "Bernhard Langer      43.0     1.64          45.0  0.0  2019  \n",
       "Billy Horschel       73.0     1.60          22.0  0.0  2019  \n",
       "Branden Grace        38.0     1.71          67.0  0.0  2019  "
      ]
     },
     "execution_count": 154,
     "metadata": {},
     "output_type": "execute_result"
    }
   ],
   "source": [
    "masters_2019.head(10)"
   ]
  },
  {
   "cell_type": "code",
   "execution_count": 155,
   "metadata": {},
   "outputs": [],
   "source": [
    "## Looks great!\n",
    "\n",
    "masters_2019.to_csv('2019_Masters.csv')"
   ]
  },
  {
   "cell_type": "code",
   "execution_count": 152,
   "metadata": {},
   "outputs": [],
   "source": [
    "driver.close()"
   ]
  },
  {
   "cell_type": "code",
   "execution_count": null,
   "metadata": {},
   "outputs": [],
   "source": []
  }
 ],
 "metadata": {
  "kernelspec": {
   "display_name": "Python 3",
   "language": "python",
   "name": "python3"
  },
  "language_info": {
   "codemirror_mode": {
    "name": "ipython",
    "version": 3
   },
   "file_extension": ".py",
   "mimetype": "text/x-python",
   "name": "python",
   "nbconvert_exporter": "python",
   "pygments_lexer": "ipython3",
   "version": "3.6.5"
  }
 },
 "nbformat": 4,
 "nbformat_minor": 2
}
