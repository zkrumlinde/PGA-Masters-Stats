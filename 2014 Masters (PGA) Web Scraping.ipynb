{
 "cells": [
  {
   "cell_type": "code",
   "execution_count": 1,
   "metadata": {},
   "outputs": [],
   "source": [
    "import pandas as pd\n",
    "from selenium import webdriver"
   ]
  },
  {
   "cell_type": "code",
   "execution_count": 3,
   "metadata": {},
   "outputs": [
    {
     "name": "stdout",
     "output_type": "stream",
     "text": [
      "/Users/genevieveberent/Desktop/Zak_Portfolio/PGA_Masters\n"
     ]
    }
   ],
   "source": [
    "%cd /Users/genevieveberent/Desktop/Zak_Portfolio/PGA_Masters"
   ]
  },
  {
   "cell_type": "code",
   "execution_count": null,
   "metadata": {},
   "outputs": [],
   "source": []
  },
  {
   "cell_type": "markdown",
   "metadata": {},
   "source": [
    "## Fairways in Regulation"
   ]
  },
  {
   "cell_type": "code",
   "execution_count": 4,
   "metadata": {},
   "outputs": [],
   "source": [
    "driver = webdriver.Chrome()\n",
    "driver.get('http://2014.masters.com/en_US/scores/stats/fir.html')"
   ]
  },
  {
   "cell_type": "code",
   "execution_count": 5,
   "metadata": {},
   "outputs": [
    {
     "name": "stdout",
     "output_type": "stream",
     "text": [
      "97\n"
     ]
    }
   ],
   "source": [
    "## FIR Player list\n",
    "\n",
    "fir2014_players = []\n",
    "\n",
    "## first xpath: //*[@id=\"roundStatsData\"]/div[1]/div[1]/a\n",
    "## last xpath:  //*[@id=\"roundStatsData\"]/div[97]/div[1]/a\n",
    "\n",
    "for i in range(98):\n",
    "    path = '//*[@id=\"roundStatsData\"]/div[' + str(i) + ']/div[1]/a'\n",
    "    fir_players = driver.find_elements_by_xpath(path)\n",
    "    \n",
    "    for player in fir_players:\n",
    "        fir2014_players.append(player.text)\n",
    "        \n",
    "print(len(fir2014_players))"
   ]
  },
  {
   "cell_type": "code",
   "execution_count": 6,
   "metadata": {},
   "outputs": [
    {
     "name": "stdout",
     "output_type": "stream",
     "text": [
      "97\n"
     ]
    }
   ],
   "source": [
    "## FIR Stat list\n",
    "\n",
    "fir2014_stats = []\n",
    "\n",
    "## class name = 'total'\n",
    "\n",
    "fir_stats = driver.find_elements_by_class_name('total')\n",
    "\n",
    "for stat in fir_stats:\n",
    "    fir2014_stats.append(stat.text)\n",
    "    \n",
    "print(len(fir2014_stats))"
   ]
  },
  {
   "cell_type": "code",
   "execution_count": 7,
   "metadata": {},
   "outputs": [],
   "source": [
    "## FIR dataframe\n",
    "\n",
    "fir_2014 = pd.DataFrame.from_dict({'Player': fir2014_players, 'FIR': fir2014_stats})"
   ]
  },
  {
   "cell_type": "code",
   "execution_count": 10,
   "metadata": {},
   "outputs": [],
   "source": [
    "## Percent as a float\n",
    "\n",
    "fir_2014['FIR'] = fir_2014['FIR'].map(lambda x:str(x)[-6:-1])"
   ]
  },
  {
   "cell_type": "code",
   "execution_count": 15,
   "metadata": {},
   "outputs": [],
   "source": [
    "## Rank all players by FIR\n",
    "\n",
    "fir_2014['FIR Rank'] = fir_2014['FIR'].rank(method='min', ascending=False)"
   ]
  },
  {
   "cell_type": "code",
   "execution_count": 16,
   "metadata": {},
   "outputs": [
    {
     "data": {
      "text/html": [
       "<div>\n",
       "<style scoped>\n",
       "    .dataframe tbody tr th:only-of-type {\n",
       "        vertical-align: middle;\n",
       "    }\n",
       "\n",
       "    .dataframe tbody tr th {\n",
       "        vertical-align: top;\n",
       "    }\n",
       "\n",
       "    .dataframe thead th {\n",
       "        text-align: right;\n",
       "    }\n",
       "</style>\n",
       "<table border=\"1\" class=\"dataframe\">\n",
       "  <thead>\n",
       "    <tr style=\"text-align: right;\">\n",
       "      <th></th>\n",
       "      <th>Player</th>\n",
       "      <th>FIR</th>\n",
       "      <th>FIR Rank</th>\n",
       "    </tr>\n",
       "  </thead>\n",
       "  <tbody>\n",
       "    <tr>\n",
       "      <th>0</th>\n",
       "      <td>M. Jimenez</td>\n",
       "      <td>85.71</td>\n",
       "      <td>1.0</td>\n",
       "    </tr>\n",
       "    <tr>\n",
       "      <th>1</th>\n",
       "      <td>J. Furyk</td>\n",
       "      <td>82.14</td>\n",
       "      <td>3.0</td>\n",
       "    </tr>\n",
       "    <tr>\n",
       "      <th>2</th>\n",
       "      <td>B. Langer</td>\n",
       "      <td>80.36</td>\n",
       "      <td>8.0</td>\n",
       "    </tr>\n",
       "    <tr>\n",
       "      <th>3</th>\n",
       "      <td>B. De jonge</td>\n",
       "      <td>78.57</td>\n",
       "      <td>9.0</td>\n",
       "    </tr>\n",
       "    <tr>\n",
       "      <th>4</th>\n",
       "      <td>C. Kirk</td>\n",
       "      <td>78.57</td>\n",
       "      <td>9.0</td>\n",
       "    </tr>\n",
       "  </tbody>\n",
       "</table>\n",
       "</div>"
      ],
      "text/plain": [
       "        Player    FIR  FIR Rank\n",
       "0   M. Jimenez  85.71       1.0\n",
       "1     J. Furyk  82.14       3.0\n",
       "2    B. Langer  80.36       8.0\n",
       "3  B. De jonge  78.57       9.0\n",
       "4      C. Kirk  78.57       9.0"
      ]
     },
     "execution_count": 16,
     "metadata": {},
     "output_type": "execute_result"
    }
   ],
   "source": [
    "fir_2014.head()"
   ]
  },
  {
   "cell_type": "code",
   "execution_count": 17,
   "metadata": {},
   "outputs": [],
   "source": [
    "## Save\n",
    "\n",
    "fir_2014.to_csv('2014_FIR.csv')"
   ]
  },
  {
   "cell_type": "code",
   "execution_count": null,
   "metadata": {},
   "outputs": [],
   "source": []
  },
  {
   "cell_type": "markdown",
   "metadata": {},
   "source": [
    "## Greens in Regulation"
   ]
  },
  {
   "cell_type": "code",
   "execution_count": 18,
   "metadata": {},
   "outputs": [],
   "source": [
    "driver.get('http://2014.masters.com/en_US/scores/stats/gir.html')"
   ]
  },
  {
   "cell_type": "code",
   "execution_count": 19,
   "metadata": {},
   "outputs": [
    {
     "name": "stdout",
     "output_type": "stream",
     "text": [
      "97\n"
     ]
    }
   ],
   "source": [
    "## GIR Player list\n",
    "\n",
    "gir2014_players = []\n",
    "\n",
    "# xpath: //*[@id=\"roundStatsData\"]/div[1]/div[1]/a\n",
    "\n",
    "for i in range(98):\n",
    "    path = '//*[@id=\"roundStatsData\"]/div[' + str(i) + ']/div[1]/a'\n",
    "    gir_players = driver.find_elements_by_xpath(path)\n",
    "    \n",
    "    for player in gir_players:\n",
    "        gir2014_players.append(player.text)\n",
    "        \n",
    "print(len(gir2014_players))"
   ]
  },
  {
   "cell_type": "code",
   "execution_count": 20,
   "metadata": {},
   "outputs": [
    {
     "name": "stdout",
     "output_type": "stream",
     "text": [
      "97\n"
     ]
    }
   ],
   "source": [
    "## GIR Stats list\n",
    "\n",
    "gir2014_stats = []\n",
    "\n",
    "# class name: total\n",
    "\n",
    "gir_stats = driver.find_elements_by_class_name('total')\n",
    "\n",
    "for stat in gir_stats:\n",
    "    gir2014_stats.append(stat.text)\n",
    "    \n",
    "print(len(gir2014_stats))"
   ]
  },
  {
   "cell_type": "code",
   "execution_count": 21,
   "metadata": {},
   "outputs": [],
   "source": [
    "## GIR dataframe\n",
    "\n",
    "gir_2014 = pd.DataFrame.from_dict({'Player': gir2014_players, 'GIR': gir2014_stats})"
   ]
  },
  {
   "cell_type": "code",
   "execution_count": 24,
   "metadata": {},
   "outputs": [],
   "source": [
    "gir_2014['GIR'] = gir_2014['GIR'].map(lambda x:str(x)[-6:-1])"
   ]
  },
  {
   "cell_type": "code",
   "execution_count": 26,
   "metadata": {},
   "outputs": [],
   "source": [
    "gir_2014['GIR Rank'] = gir_2014['GIR'].rank(method='min', ascending=False)"
   ]
  },
  {
   "cell_type": "code",
   "execution_count": 27,
   "metadata": {},
   "outputs": [
    {
     "data": {
      "text/html": [
       "<div>\n",
       "<style scoped>\n",
       "    .dataframe tbody tr th:only-of-type {\n",
       "        vertical-align: middle;\n",
       "    }\n",
       "\n",
       "    .dataframe tbody tr th {\n",
       "        vertical-align: top;\n",
       "    }\n",
       "\n",
       "    .dataframe thead th {\n",
       "        text-align: right;\n",
       "    }\n",
       "</style>\n",
       "<table border=\"1\" class=\"dataframe\">\n",
       "  <thead>\n",
       "    <tr style=\"text-align: right;\">\n",
       "      <th></th>\n",
       "      <th>Player</th>\n",
       "      <th>GIR</th>\n",
       "      <th>GIR Rank</th>\n",
       "    </tr>\n",
       "  </thead>\n",
       "  <tbody>\n",
       "    <tr>\n",
       "      <th>0</th>\n",
       "      <td>J. Spieth</td>\n",
       "      <td>73.61</td>\n",
       "      <td>1.0</td>\n",
       "    </tr>\n",
       "    <tr>\n",
       "      <th>1</th>\n",
       "      <td>B. Horschel</td>\n",
       "      <td>72.22</td>\n",
       "      <td>2.0</td>\n",
       "    </tr>\n",
       "    <tr>\n",
       "      <th>2</th>\n",
       "      <td>R. Mcilroy</td>\n",
       "      <td>72.22</td>\n",
       "      <td>2.0</td>\n",
       "    </tr>\n",
       "    <tr>\n",
       "      <th>3</th>\n",
       "      <td>J. Walker</td>\n",
       "      <td>70.83</td>\n",
       "      <td>4.0</td>\n",
       "    </tr>\n",
       "    <tr>\n",
       "      <th>4</th>\n",
       "      <td>B. Watson</td>\n",
       "      <td>69.44</td>\n",
       "      <td>5.0</td>\n",
       "    </tr>\n",
       "  </tbody>\n",
       "</table>\n",
       "</div>"
      ],
      "text/plain": [
       "        Player    GIR  GIR Rank\n",
       "0    J. Spieth  73.61       1.0\n",
       "1  B. Horschel  72.22       2.0\n",
       "2   R. Mcilroy  72.22       2.0\n",
       "3    J. Walker  70.83       4.0\n",
       "4    B. Watson  69.44       5.0"
      ]
     },
     "execution_count": 27,
     "metadata": {},
     "output_type": "execute_result"
    }
   ],
   "source": [
    "gir_2014.head()"
   ]
  },
  {
   "cell_type": "code",
   "execution_count": 28,
   "metadata": {},
   "outputs": [],
   "source": [
    "## Save\n",
    "\n",
    "gir_2014.to_csv('2014_GIR.csv')"
   ]
  },
  {
   "cell_type": "code",
   "execution_count": null,
   "metadata": {},
   "outputs": [],
   "source": []
  },
  {
   "cell_type": "markdown",
   "metadata": {},
   "source": [
    "## Driving Distance"
   ]
  },
  {
   "cell_type": "code",
   "execution_count": 29,
   "metadata": {},
   "outputs": [],
   "source": [
    "driver.get('http://2014.masters.com/en_US/scores/stats/drives_avg.html')"
   ]
  },
  {
   "cell_type": "code",
   "execution_count": 30,
   "metadata": {},
   "outputs": [
    {
     "name": "stdout",
     "output_type": "stream",
     "text": [
      "97\n"
     ]
    }
   ],
   "source": [
    "## dist Player list\n",
    "\n",
    "dist2014_players = []\n",
    "\n",
    "## xpath: //*[@id=\"roundStatsData\"]/div[1]/div[1]/a\n",
    "\n",
    "for i in range(98):\n",
    "    path = '//*[@id=\"roundStatsData\"]/div[' + str(i) + ']/div[1]/a'\n",
    "    dist_players = driver.find_elements_by_xpath(path)\n",
    "    \n",
    "    for player in dist_players:\n",
    "        dist2014_players.append(player.text)\n",
    "\n",
    "print(len(dist2014_players))"
   ]
  },
  {
   "cell_type": "code",
   "execution_count": 31,
   "metadata": {},
   "outputs": [
    {
     "name": "stdout",
     "output_type": "stream",
     "text": [
      "97\n"
     ]
    }
   ],
   "source": [
    "## dist stats list\n",
    "\n",
    "dist2014_stats = []\n",
    "\n",
    "# class name: total\n",
    "\n",
    "dist_stats = driver.find_elements_by_class_name('total')\n",
    "\n",
    "for stat in dist_stats:\n",
    "    dist2014_stats.append(stat.text)\n",
    "    \n",
    "print(len(dist2014_stats))"
   ]
  },
  {
   "cell_type": "code",
   "execution_count": 32,
   "metadata": {},
   "outputs": [],
   "source": [
    "## dist Dataframe\n",
    "\n",
    "dist_2014 = pd.DataFrame.from_dict({'Player': dist2014_players, 'dist': dist2014_stats})"
   ]
  },
  {
   "cell_type": "code",
   "execution_count": 36,
   "metadata": {},
   "outputs": [],
   "source": [
    "dist_2014['dist Rank'] = dist_2014['dist'].rank(method='min', ascending=False)"
   ]
  },
  {
   "cell_type": "code",
   "execution_count": 37,
   "metadata": {},
   "outputs": [
    {
     "data": {
      "text/html": [
       "<div>\n",
       "<style scoped>\n",
       "    .dataframe tbody tr th:only-of-type {\n",
       "        vertical-align: middle;\n",
       "    }\n",
       "\n",
       "    .dataframe tbody tr th {\n",
       "        vertical-align: top;\n",
       "    }\n",
       "\n",
       "    .dataframe thead th {\n",
       "        text-align: right;\n",
       "    }\n",
       "</style>\n",
       "<table border=\"1\" class=\"dataframe\">\n",
       "  <thead>\n",
       "    <tr style=\"text-align: right;\">\n",
       "      <th></th>\n",
       "      <th>Player</th>\n",
       "      <th>dist</th>\n",
       "      <th>dist Rank</th>\n",
       "    </tr>\n",
       "  </thead>\n",
       "  <tbody>\n",
       "    <tr>\n",
       "      <th>0</th>\n",
       "      <td>B. Watson</td>\n",
       "      <td>305.62</td>\n",
       "      <td>1.0</td>\n",
       "    </tr>\n",
       "    <tr>\n",
       "      <th>1</th>\n",
       "      <td>R. Mcilroy</td>\n",
       "      <td>304.00</td>\n",
       "      <td>2.0</td>\n",
       "    </tr>\n",
       "    <tr>\n",
       "      <th>2</th>\n",
       "      <td>L. Oosthuizen</td>\n",
       "      <td>303.12</td>\n",
       "      <td>3.0</td>\n",
       "    </tr>\n",
       "    <tr>\n",
       "      <th>3</th>\n",
       "      <td>H. Mahan</td>\n",
       "      <td>301.25</td>\n",
       "      <td>4.0</td>\n",
       "    </tr>\n",
       "    <tr>\n",
       "      <th>4</th>\n",
       "      <td>S. Bowditch</td>\n",
       "      <td>299.25</td>\n",
       "      <td>5.0</td>\n",
       "    </tr>\n",
       "  </tbody>\n",
       "</table>\n",
       "</div>"
      ],
      "text/plain": [
       "          Player    dist  dist Rank\n",
       "0      B. Watson  305.62        1.0\n",
       "1     R. Mcilroy  304.00        2.0\n",
       "2  L. Oosthuizen  303.12        3.0\n",
       "3       H. Mahan  301.25        4.0\n",
       "4    S. Bowditch  299.25        5.0"
      ]
     },
     "execution_count": 37,
     "metadata": {},
     "output_type": "execute_result"
    }
   ],
   "source": [
    "dist_2014.head()"
   ]
  },
  {
   "cell_type": "code",
   "execution_count": 38,
   "metadata": {},
   "outputs": [],
   "source": [
    "## Save\n",
    "\n",
    "dist_2014.to_csv('2014_dist.csv')"
   ]
  },
  {
   "cell_type": "code",
   "execution_count": null,
   "metadata": {},
   "outputs": [],
   "source": []
  },
  {
   "cell_type": "markdown",
   "metadata": {},
   "source": [
    "## Putting "
   ]
  },
  {
   "cell_type": "code",
   "execution_count": 39,
   "metadata": {},
   "outputs": [],
   "source": [
    "driver.get('http://2014.masters.com/en_US/scores/stats/putts.html')"
   ]
  },
  {
   "cell_type": "code",
   "execution_count": 40,
   "metadata": {},
   "outputs": [
    {
     "name": "stdout",
     "output_type": "stream",
     "text": [
      "97\n"
     ]
    }
   ],
   "source": [
    "## Putting Players list\n",
    "\n",
    "putt2014_players = []\n",
    "\n",
    "# xpath: //*[@id=\"roundStatsData\"]/div[1]/div[1]/a\n",
    "\n",
    "for i in range(98):\n",
    "    path = '//*[@id=\"roundStatsData\"]/div[' +str(i) + ']/div[1]/a'\n",
    "    putt_players = driver.find_elements_by_xpath(path)\n",
    "    \n",
    "    for player in putt_players:\n",
    "        putt2014_players.append(player.text)\n",
    "        \n",
    "print(len(putt2014_players))"
   ]
  },
  {
   "cell_type": "code",
   "execution_count": 41,
   "metadata": {},
   "outputs": [
    {
     "name": "stdout",
     "output_type": "stream",
     "text": [
      "97\n"
     ]
    }
   ],
   "source": [
    "## Putting stats list\n",
    "\n",
    "putt2014_stats = []\n",
    "\n",
    "# Class name: total\n",
    "\n",
    "putt_stats = driver.find_elements_by_class_name('total')\n",
    "\n",
    "for stat in putt_stats:\n",
    "    putt2014_stats.append(stat.text)\n",
    "    \n",
    "print(len(putt2014_stats))"
   ]
  },
  {
   "cell_type": "code",
   "execution_count": 42,
   "metadata": {},
   "outputs": [],
   "source": [
    "## Putting dataframe\n",
    "\n",
    "putt_2014 = pd.DataFrame.from_dict({'Player': putt2014_players, 'Putting': putt2014_stats})"
   ]
  },
  {
   "cell_type": "code",
   "execution_count": 44,
   "metadata": {},
   "outputs": [],
   "source": [
    "## Get rid of 3 putts in ()\n",
    "\n",
    "putt_2014['Putting'] = putt_2014['Putting'].map(lambda x:x[:4])"
   ]
  },
  {
   "cell_type": "code",
   "execution_count": 46,
   "metadata": {},
   "outputs": [],
   "source": [
    "putt_2014['Putting Rank'] = putt_2014['Putting'].rank(method='min')"
   ]
  },
  {
   "cell_type": "code",
   "execution_count": 48,
   "metadata": {},
   "outputs": [
    {
     "data": {
      "text/html": [
       "<div>\n",
       "<style scoped>\n",
       "    .dataframe tbody tr th:only-of-type {\n",
       "        vertical-align: middle;\n",
       "    }\n",
       "\n",
       "    .dataframe tbody tr th {\n",
       "        vertical-align: top;\n",
       "    }\n",
       "\n",
       "    .dataframe thead th {\n",
       "        text-align: right;\n",
       "    }\n",
       "</style>\n",
       "<table border=\"1\" class=\"dataframe\">\n",
       "  <thead>\n",
       "    <tr style=\"text-align: right;\">\n",
       "      <th></th>\n",
       "      <th>Player</th>\n",
       "      <th>Putting</th>\n",
       "      <th>Putting Rank</th>\n",
       "    </tr>\n",
       "  </thead>\n",
       "  <tbody>\n",
       "    <tr>\n",
       "      <th>0</th>\n",
       "      <td>L. Donald</td>\n",
       "      <td>1.44</td>\n",
       "      <td>1.0</td>\n",
       "    </tr>\n",
       "    <tr>\n",
       "      <th>1</th>\n",
       "      <td>R. Fowler</td>\n",
       "      <td>1.50</td>\n",
       "      <td>2.0</td>\n",
       "    </tr>\n",
       "    <tr>\n",
       "      <th>2</th>\n",
       "      <td>C. Lee</td>\n",
       "      <td>1.50</td>\n",
       "      <td>2.0</td>\n",
       "    </tr>\n",
       "    <tr>\n",
       "      <th>3</th>\n",
       "      <td>C. Schwartzel</td>\n",
       "      <td>1.50</td>\n",
       "      <td>2.0</td>\n",
       "    </tr>\n",
       "    <tr>\n",
       "      <th>4</th>\n",
       "      <td>R. Henley</td>\n",
       "      <td>1.51</td>\n",
       "      <td>5.0</td>\n",
       "    </tr>\n",
       "  </tbody>\n",
       "</table>\n",
       "</div>"
      ],
      "text/plain": [
       "          Player Putting  Putting Rank\n",
       "0      L. Donald    1.44           1.0\n",
       "1      R. Fowler    1.50           2.0\n",
       "2         C. Lee    1.50           2.0\n",
       "3  C. Schwartzel    1.50           2.0\n",
       "4      R. Henley    1.51           5.0"
      ]
     },
     "execution_count": 48,
     "metadata": {},
     "output_type": "execute_result"
    }
   ],
   "source": [
    "putt_2014.head()"
   ]
  },
  {
   "cell_type": "code",
   "execution_count": 49,
   "metadata": {},
   "outputs": [],
   "source": [
    "## Save\n",
    "\n",
    "putt_2014.to_csv('2014_Putting.csv')"
   ]
  },
  {
   "cell_type": "code",
   "execution_count": null,
   "metadata": {},
   "outputs": [],
   "source": []
  },
  {
   "cell_type": "markdown",
   "metadata": {},
   "source": [
    "## Tournament Results"
   ]
  },
  {
   "cell_type": "code",
   "execution_count": 50,
   "metadata": {},
   "outputs": [],
   "source": [
    "driver.get('https://www.google.com/search?client=safari&rls=en&q=2014+masters+leaderboard&ie=UTF-8&oe=UTF-8')"
   ]
  },
  {
   "cell_type": "code",
   "execution_count": 57,
   "metadata": {},
   "outputs": [
    {
     "name": "stdout",
     "output_type": "stream",
     "text": [
      "97\n"
     ]
    }
   ],
   "source": [
    "## Results Player List \n",
    "\n",
    "final2014_players = []\n",
    "\n",
    "# class name: tsp-tln\n",
    "\n",
    "final_players = driver.find_elements_by_class_name('tsp-tln')\n",
    "\n",
    "for player in final_players:\n",
    "    final2014_players.append(player.text)\n",
    "    \n",
    "print(len(final2014_players))"
   ]
  },
  {
   "cell_type": "code",
   "execution_count": 58,
   "metadata": {},
   "outputs": [
    {
     "name": "stdout",
     "output_type": "stream",
     "text": [
      "97\n"
     ]
    }
   ],
   "source": [
    "## Results Position list\n",
    "\n",
    "final2014_positions = []\n",
    "\n",
    "# class name: tsp-ftdg\n",
    "\n",
    "final_positions = driver.find_elements_by_class_name('tsp-ftdg')\n",
    "\n",
    "for pos in final_positions:\n",
    "    final2014_positions.append(pos.text)\n",
    "    \n",
    "print(len(final2014_positions))"
   ]
  },
  {
   "cell_type": "code",
   "execution_count": 76,
   "metadata": {},
   "outputs": [
    {
     "name": "stdout",
     "output_type": "stream",
     "text": [
      "51\n"
     ]
    }
   ],
   "source": [
    "## Final Score of players\n",
    "\n",
    "final2014_scores = []\n",
    "\n",
    "# xpath: //*[@id=\"/g/11f54308xv\"]/g-expandable-content/table/tbody/tr/td/div/div/div[3]/g-expandable-content[1]/table/tbody/tr[2]/td[6]/span\n",
    "# xpath: //*[@id=\"/g/11f54308xv\"]/g-expandable-content/table/tbody/tr/td/div/div/div[3]/g-expandable-content[2]/table/tbody/tr[46]/td[6]/span\n",
    "\n",
    "for i in range(3):\n",
    "    for j in range(1, 47):\n",
    "        path = '//*[@id=\"/g/11f54308xv\"]/g-expandable-content/table/tbody/tr/td/div/div/div[3]/g-expandable-content[' + str(i) + ']/table/tbody/tr[' + str(j) + ']/td[6]/span'\n",
    "        final_scores = driver.find_elements_by_xpath(path)\n",
    "        \n",
    "        for score in final_scores:\n",
    "            final2014_scores.append(score.text)\n",
    "            \n",
    "print(len(final2014_scores))"
   ]
  },
  {
   "cell_type": "code",
   "execution_count": 77,
   "metadata": {},
   "outputs": [
    {
     "name": "stdout",
     "output_type": "stream",
     "text": [
      "97\n"
     ]
    }
   ],
   "source": [
    "## Need to get the scores of the players that did not make the cut\n",
    "\n",
    "cut_scores = ['+15', '+7', '+8', '+9', '+5', '+8', '+15',\n",
    "             '+5', '+6', '+10', '+8', '+17', '+5', '+8',\n",
    "             '+7', '+5', '+8', '+10', '+13', '+9', '+7', '+11',\n",
    "             '+8', '+9', '+9', '+11', '+15', '+5', '+5', '+8',\n",
    "             '+5', '+5', '+12', '+6', '+5', '+8', '+5', '+11',\n",
    "             '+9', '+12', '+6', '+6', '+7', '+5', '+24', '+6']\n",
    "\n",
    "final2014_scores = final2014_scores + cut_scores\n",
    "\n",
    "print(len(final2014_scores))"
   ]
  },
  {
   "cell_type": "code",
   "execution_count": 98,
   "metadata": {},
   "outputs": [],
   "source": [
    "final_2014 = pd.DataFrame.from_dict({'Player': final2014_players,\n",
    "                                    'Position': final2014_positions,\n",
    "                                    'Score': final2014_scores})"
   ]
  },
  {
   "cell_type": "code",
   "execution_count": 99,
   "metadata": {},
   "outputs": [
    {
     "data": {
      "text/html": [
       "<div>\n",
       "<style scoped>\n",
       "    .dataframe tbody tr th:only-of-type {\n",
       "        vertical-align: middle;\n",
       "    }\n",
       "\n",
       "    .dataframe tbody tr th {\n",
       "        vertical-align: top;\n",
       "    }\n",
       "\n",
       "    .dataframe thead th {\n",
       "        text-align: right;\n",
       "    }\n",
       "</style>\n",
       "<table border=\"1\" class=\"dataframe\">\n",
       "  <thead>\n",
       "    <tr style=\"text-align: right;\">\n",
       "      <th></th>\n",
       "      <th>Player</th>\n",
       "      <th>Position</th>\n",
       "      <th>Score</th>\n",
       "    </tr>\n",
       "  </thead>\n",
       "  <tbody>\n",
       "    <tr>\n",
       "      <th>0</th>\n",
       "      <td>B. Watson</td>\n",
       "      <td>1</td>\n",
       "      <td>-8</td>\n",
       "    </tr>\n",
       "    <tr>\n",
       "      <th>1</th>\n",
       "      <td>J. Spieth</td>\n",
       "      <td>T2</td>\n",
       "      <td>-5</td>\n",
       "    </tr>\n",
       "    <tr>\n",
       "      <th>2</th>\n",
       "      <td>J. Blixt</td>\n",
       "      <td>T2</td>\n",
       "      <td>-5</td>\n",
       "    </tr>\n",
       "    <tr>\n",
       "      <th>3</th>\n",
       "      <td>M. Jiménez</td>\n",
       "      <td>4</td>\n",
       "      <td>-4</td>\n",
       "    </tr>\n",
       "    <tr>\n",
       "      <th>4</th>\n",
       "      <td>R. Fowler</td>\n",
       "      <td>T5</td>\n",
       "      <td>-2</td>\n",
       "    </tr>\n",
       "  </tbody>\n",
       "</table>\n",
       "</div>"
      ],
      "text/plain": [
       "       Player Position Score\n",
       "0   B. Watson        1    -8\n",
       "1   J. Spieth       T2    -5\n",
       "2    J. Blixt       T2    -5\n",
       "3  M. Jiménez        4    -4\n",
       "4   R. Fowler       T5    -2"
      ]
     },
     "execution_count": 99,
     "metadata": {},
     "output_type": "execute_result"
    }
   ],
   "source": [
    "final_2014.head()"
   ]
  },
  {
   "cell_type": "code",
   "execution_count": 100,
   "metadata": {},
   "outputs": [],
   "source": [
    "## Get final position of the 'Cut' players\n",
    "\n",
    "cut_players = final_2014[final_2014['Position'] == 'Cut']"
   ]
  },
  {
   "cell_type": "code",
   "execution_count": 101,
   "metadata": {},
   "outputs": [
    {
     "name": "stderr",
     "output_type": "stream",
     "text": [
      "/Users/genevieveberent/Desktop/anaconda3/lib/python3.6/site-packages/ipykernel_launcher.py:1: SettingWithCopyWarning: \n",
      "A value is trying to be set on a copy of a slice from a DataFrame.\n",
      "Try using .loc[row_indexer,col_indexer] = value instead\n",
      "\n",
      "See the caveats in the documentation: http://pandas.pydata.org/pandas-docs/stable/indexing.html#indexing-view-versus-copy\n",
      "  \"\"\"Entry point for launching an IPython kernel.\n"
     ]
    }
   ],
   "source": [
    "cut_players['Int Score'] = cut_players['Score'].astype(int)"
   ]
  },
  {
   "cell_type": "code",
   "execution_count": 102,
   "metadata": {},
   "outputs": [
    {
     "name": "stderr",
     "output_type": "stream",
     "text": [
      "/Users/genevieveberent/Desktop/anaconda3/lib/python3.6/site-packages/ipykernel_launcher.py:1: SettingWithCopyWarning: \n",
      "A value is trying to be set on a copy of a slice from a DataFrame.\n",
      "Try using .loc[row_indexer,col_indexer] = value instead\n",
      "\n",
      "See the caveats in the documentation: http://pandas.pydata.org/pandas-docs/stable/indexing.html#indexing-view-versus-copy\n",
      "  \"\"\"Entry point for launching an IPython kernel.\n"
     ]
    }
   ],
   "source": [
    "cut_players['Position'] = (cut_players['Int Score'].rank(method='min')) + 51"
   ]
  },
  {
   "cell_type": "code",
   "execution_count": 103,
   "metadata": {},
   "outputs": [
    {
     "name": "stderr",
     "output_type": "stream",
     "text": [
      "/Users/genevieveberent/Desktop/anaconda3/lib/python3.6/site-packages/pandas/core/frame.py:3694: SettingWithCopyWarning: \n",
      "A value is trying to be set on a copy of a slice from a DataFrame\n",
      "\n",
      "See the caveats in the documentation: http://pandas.pydata.org/pandas-docs/stable/indexing.html#indexing-view-versus-copy\n",
      "  errors=errors)\n"
     ]
    }
   ],
   "source": [
    "cut_players.drop('Int Score', axis=1, inplace=True)"
   ]
  },
  {
   "cell_type": "code",
   "execution_count": 104,
   "metadata": {},
   "outputs": [
    {
     "data": {
      "text/html": [
       "<div>\n",
       "<style scoped>\n",
       "    .dataframe tbody tr th:only-of-type {\n",
       "        vertical-align: middle;\n",
       "    }\n",
       "\n",
       "    .dataframe tbody tr th {\n",
       "        vertical-align: top;\n",
       "    }\n",
       "\n",
       "    .dataframe thead th {\n",
       "        text-align: right;\n",
       "    }\n",
       "</style>\n",
       "<table border=\"1\" class=\"dataframe\">\n",
       "  <thead>\n",
       "    <tr style=\"text-align: right;\">\n",
       "      <th></th>\n",
       "      <th>Player</th>\n",
       "      <th>Position</th>\n",
       "      <th>Score</th>\n",
       "    </tr>\n",
       "  </thead>\n",
       "  <tbody>\n",
       "    <tr>\n",
       "      <th>51</th>\n",
       "      <td>P. Hanson</td>\n",
       "      <td>93.0</td>\n",
       "      <td>+15</td>\n",
       "    </tr>\n",
       "    <tr>\n",
       "      <th>52</th>\n",
       "      <td>H. Matsuyama</td>\n",
       "      <td>68.0</td>\n",
       "      <td>+7</td>\n",
       "    </tr>\n",
       "    <tr>\n",
       "      <th>53</th>\n",
       "      <td>M. Jones</td>\n",
       "      <td>72.0</td>\n",
       "      <td>+8</td>\n",
       "    </tr>\n",
       "    <tr>\n",
       "      <th>54</th>\n",
       "      <td>R. Castro</td>\n",
       "      <td>80.0</td>\n",
       "      <td>+9</td>\n",
       "    </tr>\n",
       "    <tr>\n",
       "      <th>55</th>\n",
       "      <td>E. Els</td>\n",
       "      <td>52.0</td>\n",
       "      <td>+5</td>\n",
       "    </tr>\n",
       "  </tbody>\n",
       "</table>\n",
       "</div>"
      ],
      "text/plain": [
       "          Player  Position Score\n",
       "51     P. Hanson      93.0   +15\n",
       "52  H. Matsuyama      68.0    +7\n",
       "53      M. Jones      72.0    +8\n",
       "54     R. Castro      80.0    +9\n",
       "55        E. Els      52.0    +5"
      ]
     },
     "execution_count": 104,
     "metadata": {},
     "output_type": "execute_result"
    }
   ],
   "source": [
    "cut_players.head()"
   ]
  },
  {
   "cell_type": "code",
   "execution_count": 105,
   "metadata": {},
   "outputs": [],
   "source": [
    "made_cut = final_2014[final_2014['Position'] != 'Cut']"
   ]
  },
  {
   "cell_type": "code",
   "execution_count": 143,
   "metadata": {},
   "outputs": [],
   "source": [
    "made_cut['Cut'] = 0\n",
    "cut_players['Cut'] = 1"
   ]
  },
  {
   "cell_type": "code",
   "execution_count": 144,
   "metadata": {},
   "outputs": [],
   "source": [
    "final_2014 = pd.concat([made_cut, cut_players])"
   ]
  },
  {
   "cell_type": "code",
   "execution_count": 145,
   "metadata": {},
   "outputs": [
    {
     "data": {
      "text/plain": [
       "(97, 4)"
      ]
     },
     "execution_count": 145,
     "metadata": {},
     "output_type": "execute_result"
    }
   ],
   "source": [
    "final_2014.shape"
   ]
  },
  {
   "cell_type": "code",
   "execution_count": 147,
   "metadata": {},
   "outputs": [
    {
     "data": {
      "text/html": [
       "<div>\n",
       "<style scoped>\n",
       "    .dataframe tbody tr th:only-of-type {\n",
       "        vertical-align: middle;\n",
       "    }\n",
       "\n",
       "    .dataframe tbody tr th {\n",
       "        vertical-align: top;\n",
       "    }\n",
       "\n",
       "    .dataframe thead th {\n",
       "        text-align: right;\n",
       "    }\n",
       "</style>\n",
       "<table border=\"1\" class=\"dataframe\">\n",
       "  <thead>\n",
       "    <tr style=\"text-align: right;\">\n",
       "      <th></th>\n",
       "      <th>Player</th>\n",
       "      <th>Position</th>\n",
       "      <th>Score</th>\n",
       "      <th>Cut</th>\n",
       "    </tr>\n",
       "  </thead>\n",
       "  <tbody>\n",
       "    <tr>\n",
       "      <th>0</th>\n",
       "      <td>B. Watson</td>\n",
       "      <td>1</td>\n",
       "      <td>-8</td>\n",
       "      <td>0</td>\n",
       "    </tr>\n",
       "    <tr>\n",
       "      <th>1</th>\n",
       "      <td>J. Spieth</td>\n",
       "      <td>T2</td>\n",
       "      <td>-5</td>\n",
       "      <td>0</td>\n",
       "    </tr>\n",
       "    <tr>\n",
       "      <th>2</th>\n",
       "      <td>J. Blixt</td>\n",
       "      <td>T2</td>\n",
       "      <td>-5</td>\n",
       "      <td>0</td>\n",
       "    </tr>\n",
       "    <tr>\n",
       "      <th>3</th>\n",
       "      <td>M. Jiménez</td>\n",
       "      <td>4</td>\n",
       "      <td>-4</td>\n",
       "      <td>0</td>\n",
       "    </tr>\n",
       "    <tr>\n",
       "      <th>4</th>\n",
       "      <td>R. Fowler</td>\n",
       "      <td>T5</td>\n",
       "      <td>-2</td>\n",
       "      <td>0</td>\n",
       "    </tr>\n",
       "  </tbody>\n",
       "</table>\n",
       "</div>"
      ],
      "text/plain": [
       "       Player Position Score  Cut\n",
       "0   B. Watson        1    -8    0\n",
       "1   J. Spieth       T2    -5    0\n",
       "2    J. Blixt       T2    -5    0\n",
       "3  M. Jiménez        4    -4    0\n",
       "4   R. Fowler       T5    -2    0"
      ]
     },
     "execution_count": 147,
     "metadata": {},
     "output_type": "execute_result"
    }
   ],
   "source": [
    "final_2014.head()"
   ]
  },
  {
   "cell_type": "code",
   "execution_count": 148,
   "metadata": {},
   "outputs": [],
   "source": [
    "## Save\n",
    "\n",
    "final_2014.to_csv('2014_Positions,csv')"
   ]
  },
  {
   "cell_type": "code",
   "execution_count": null,
   "metadata": {},
   "outputs": [],
   "source": []
  },
  {
   "cell_type": "markdown",
   "metadata": {},
   "source": [
    "## Putting it all Together"
   ]
  },
  {
   "cell_type": "code",
   "execution_count": 151,
   "metadata": {},
   "outputs": [],
   "source": [
    "## Make the 'Player' column the index\n",
    "\n",
    "fir_2014.index = fir_2014['Player']\n",
    "gir_2014.index = gir_2014['Player']\n",
    "dist_2014.index = dist_2014['Player']\n",
    "putt_2014.index = putt_2014['Player']\n",
    "final_2014.index = final_2014['Player']"
   ]
  },
  {
   "cell_type": "code",
   "execution_count": 152,
   "metadata": {},
   "outputs": [
    {
     "name": "stderr",
     "output_type": "stream",
     "text": [
      "/Users/genevieveberent/Desktop/anaconda3/lib/python3.6/site-packages/ipykernel_launcher.py:1: FutureWarning: Sorting because non-concatenation axis is not aligned. A future version\n",
      "of pandas will change to not sort by default.\n",
      "\n",
      "To accept the future behavior, pass 'sort=True'.\n",
      "\n",
      "To retain the current behavior and silence the warning, pass sort=False\n",
      "\n",
      "  \"\"\"Entry point for launching an IPython kernel.\n"
     ]
    }
   ],
   "source": [
    "stats_df = pd.concat([fir_2014, dist_2014, gir_2014, putt_2014], axis=1)"
   ]
  },
  {
   "cell_type": "code",
   "execution_count": 153,
   "metadata": {},
   "outputs": [],
   "source": [
    "stats_df.drop('Player', axis=1, inplace=True)"
   ]
  },
  {
   "cell_type": "code",
   "execution_count": 154,
   "metadata": {},
   "outputs": [
    {
     "data": {
      "text/plain": [
       "(97, 8)"
      ]
     },
     "execution_count": 154,
     "metadata": {},
     "output_type": "execute_result"
    }
   ],
   "source": [
    "stats_df.shape"
   ]
  },
  {
   "cell_type": "code",
   "execution_count": 155,
   "metadata": {},
   "outputs": [
    {
     "data": {
      "text/html": [
       "<div>\n",
       "<style scoped>\n",
       "    .dataframe tbody tr th:only-of-type {\n",
       "        vertical-align: middle;\n",
       "    }\n",
       "\n",
       "    .dataframe tbody tr th {\n",
       "        vertical-align: top;\n",
       "    }\n",
       "\n",
       "    .dataframe thead th {\n",
       "        text-align: right;\n",
       "    }\n",
       "</style>\n",
       "<table border=\"1\" class=\"dataframe\">\n",
       "  <thead>\n",
       "    <tr style=\"text-align: right;\">\n",
       "      <th></th>\n",
       "      <th>FIR</th>\n",
       "      <th>FIR Rank</th>\n",
       "      <th>dist</th>\n",
       "      <th>dist Rank</th>\n",
       "      <th>GIR</th>\n",
       "      <th>GIR Rank</th>\n",
       "      <th>Putting</th>\n",
       "      <th>Putting Rank</th>\n",
       "    </tr>\n",
       "  </thead>\n",
       "  <tbody>\n",
       "    <tr>\n",
       "      <th>A. Cabrera</th>\n",
       "      <td>57.14</td>\n",
       "      <td>87.0</td>\n",
       "      <td>281.25</td>\n",
       "      <td>70.0</td>\n",
       "      <td>61.11</td>\n",
       "      <td>29.0</td>\n",
       "      <td>1.75</td>\n",
       "      <td>76.0</td>\n",
       "    </tr>\n",
       "    <tr>\n",
       "      <th>A. Scott</th>\n",
       "      <td>58.93</td>\n",
       "      <td>82.0</td>\n",
       "      <td>298.38</td>\n",
       "      <td>6.0</td>\n",
       "      <td>66.67</td>\n",
       "      <td>11.0</td>\n",
       "      <td>1.69</td>\n",
       "      <td>60.0</td>\n",
       "    </tr>\n",
       "    <tr>\n",
       "      <th>B. Crenshaw</th>\n",
       "      <td>67.86</td>\n",
       "      <td>44.0</td>\n",
       "      <td>238.50</td>\n",
       "      <td>97.0</td>\n",
       "      <td>25.00</td>\n",
       "      <td>97.0</td>\n",
       "      <td>1.67</td>\n",
       "      <td>44.0</td>\n",
       "    </tr>\n",
       "    <tr>\n",
       "      <th>B. De jonge</th>\n",
       "      <td>78.57</td>\n",
       "      <td>9.0</td>\n",
       "      <td>285.00</td>\n",
       "      <td>58.0</td>\n",
       "      <td>58.33</td>\n",
       "      <td>44.0</td>\n",
       "      <td>1.61</td>\n",
       "      <td>22.0</td>\n",
       "    </tr>\n",
       "    <tr>\n",
       "      <th>B. Grace</th>\n",
       "      <td>53.57</td>\n",
       "      <td>93.0</td>\n",
       "      <td>280.75</td>\n",
       "      <td>73.0</td>\n",
       "      <td>44.44</td>\n",
       "      <td>89.0</td>\n",
       "      <td>1.61</td>\n",
       "      <td>22.0</td>\n",
       "    </tr>\n",
       "  </tbody>\n",
       "</table>\n",
       "</div>"
      ],
      "text/plain": [
       "               FIR  FIR Rank    dist  dist Rank    GIR  GIR Rank Putting  \\\n",
       "A. Cabrera   57.14      87.0  281.25       70.0  61.11      29.0    1.75   \n",
       "A. Scott     58.93      82.0  298.38        6.0  66.67      11.0    1.69   \n",
       "B. Crenshaw  67.86      44.0  238.50       97.0  25.00      97.0    1.67   \n",
       "B. De jonge  78.57       9.0  285.00       58.0  58.33      44.0    1.61   \n",
       "B. Grace     53.57      93.0  280.75       73.0  44.44      89.0    1.61   \n",
       "\n",
       "             Putting Rank  \n",
       "A. Cabrera           76.0  \n",
       "A. Scott             60.0  \n",
       "B. Crenshaw          44.0  \n",
       "B. De jonge          22.0  \n",
       "B. Grace             22.0  "
      ]
     },
     "execution_count": 155,
     "metadata": {},
     "output_type": "execute_result"
    }
   ],
   "source": [
    "stats_df.head()"
   ]
  },
  {
   "cell_type": "code",
   "execution_count": null,
   "metadata": {},
   "outputs": [],
   "source": []
  },
  {
   "cell_type": "code",
   "execution_count": 119,
   "metadata": {},
   "outputs": [],
   "source": [
    "all_players = set(list(stats_df.index) + list(final_2014.index))"
   ]
  },
  {
   "cell_type": "code",
   "execution_count": 120,
   "metadata": {},
   "outputs": [
    {
     "data": {
      "text/plain": [
       "111"
      ]
     },
     "execution_count": 120,
     "metadata": {},
     "output_type": "execute_result"
    }
   ],
   "source": [
    "len(all_players)"
   ]
  },
  {
   "cell_type": "code",
   "execution_count": 121,
   "metadata": {},
   "outputs": [
    {
     "data": {
      "text/plain": [
       "{'A. Cabrera',\n",
       " 'A. Scott',\n",
       " 'B. Crenshaw',\n",
       " 'B. De jonge',\n",
       " 'B. Grace',\n",
       " 'B. Haas',\n",
       " 'B. Horschel',\n",
       " 'B. Langer',\n",
       " 'B. Snedeker',\n",
       " 'B. Watson',\n",
       " 'B. Weekley',\n",
       " 'B. de Jonge',\n",
       " 'C. Kirk',\n",
       " 'C. Lee',\n",
       " 'C. Schwartzel',\n",
       " 'C. Stadler',\n",
       " 'C.W. Lee',\n",
       " 'D. Clarke',\n",
       " 'D. Ernst',\n",
       " 'D. Johnson',\n",
       " 'D. Lynn',\n",
       " 'D. Points',\n",
       " 'E. Els',\n",
       " 'F. Couples',\n",
       " 'F. Molinari',\n",
       " 'G. DeLaet',\n",
       " 'G. Fdez-Castano',\n",
       " 'G. Fernández-Castaño',\n",
       " 'G. McDowell',\n",
       " 'G. Mcdowell',\n",
       " 'G. Porteous',\n",
       " 'G. Woodland',\n",
       " 'H. English',\n",
       " 'H. Mahan',\n",
       " 'H. Matsuyama',\n",
       " 'H. Stenson',\n",
       " 'I. Poulter',\n",
       " 'I. Woosnam',\n",
       " 'J. Blixt',\n",
       " 'J. Day',\n",
       " 'J. Donaldson',\n",
       " 'J. Dufner',\n",
       " 'J. Furyk',\n",
       " 'J. Huh',\n",
       " 'J. Luiten',\n",
       " 'J. Niebrugge',\n",
       " 'J. Olazabal',\n",
       " 'J. Olazábal',\n",
       " 'J. Rose',\n",
       " 'J. Senden',\n",
       " 'J. Spieth',\n",
       " 'J. Walker',\n",
       " 'K. Bradley',\n",
       " 'K. Choi',\n",
       " 'K. Duke',\n",
       " 'K. J. Choi',\n",
       " 'K. Stadler',\n",
       " 'K. Streelman',\n",
       " 'L. Donald',\n",
       " 'L. Glover',\n",
       " 'L. Mize',\n",
       " 'L. Oosthuizen',\n",
       " 'L. Westwood',\n",
       " 'M. Every',\n",
       " 'M. Fitzpatrick',\n",
       " 'M. Jimenez',\n",
       " 'M. Jiménez',\n",
       " 'M. Jones',\n",
       " 'M. Kaymer',\n",
       " 'M. Kuchar',\n",
       " 'M. Leishman',\n",
       " 'M. Manassero',\n",
       " 'M. McCoy',\n",
       " 'M. Mccoy',\n",
       " \"M. O'Meara\",\n",
       " 'M. Weir',\n",
       " 'N. Watney',\n",
       " 'O. Goss',\n",
       " 'P. Hanson',\n",
       " 'P. Mickelson',\n",
       " 'P. Reed',\n",
       " 'R. Castro',\n",
       " 'R. Fowler',\n",
       " 'R. Henley',\n",
       " 'R. McIlroy',\n",
       " 'R. Mcilroy',\n",
       " 'R. Moore',\n",
       " 'S. Bae',\n",
       " 'S. Bowditch',\n",
       " 'S. Cink',\n",
       " 'S. Gallacher',\n",
       " 'S. Garcia',\n",
       " 'S. García',\n",
       " 'S. Lyle',\n",
       " 'S. Stallings',\n",
       " 'S. Stricker',\n",
       " 'S.M. Bae',\n",
       " 'T. Bjorn',\n",
       " 'T. Bjørn',\n",
       " 'T. Clark',\n",
       " 'T. Immelman',\n",
       " 'T. Jaidee',\n",
       " 'T. Olesen',\n",
       " 'T. Watson',\n",
       " 'T.Immelman',\n",
       " 'V. Dubuisson',\n",
       " 'V. Singh',\n",
       " 'W. Simpson',\n",
       " 'Y. Yang',\n",
       " 'Z. Johnson',\n",
       " 'Á. Cabrera'}"
      ]
     },
     "execution_count": 121,
     "metadata": {},
     "output_type": "execute_result"
    }
   ],
   "source": [
    "all_players"
   ]
  },
  {
   "cell_type": "code",
   "execution_count": 158,
   "metadata": {},
   "outputs": [],
   "source": [
    "new_names = {'B. De jonge': 'B. de Jonge',\n",
    "             'C. Lee': 'C.W. Lee',\n",
    "             'G. Fdez-Castano': 'G. Fernández-Castaño',\n",
    "             'G. Mcdowell': 'G. McDowell',\n",
    "             'J. Olazabal': 'J. Olazábal',\n",
    "             'K. Choi': 'K. J. Choi',\n",
    "             'M. Jimenez': 'M. Jiménez',\n",
    "             'M. Mccoy': 'M. McCoy',\n",
    "             'R. Mcilroy': 'R. McIlroy',\n",
    "             'S. Garcia': 'S. García',\n",
    "             'S. Bae': 'S.M. Bae',\n",
    "             'T. Bjorn': 'T. Bjørn',\n",
    "             'A. Cabrera': 'Á. Cabrera',\n",
    "             'T.Immelman': 'T. Immelman'}\n",
    "\n",
    "stats_df = stats_df.rename(index=new_names)"
   ]
  },
  {
   "cell_type": "code",
   "execution_count": 159,
   "metadata": {},
   "outputs": [
    {
     "data": {
      "text/plain": [
       "97"
      ]
     },
     "execution_count": 159,
     "metadata": {},
     "output_type": "execute_result"
    }
   ],
   "source": [
    "all_players = set(list(stats_df.index) + list(final_2014.index))\n",
    "len(all_players)"
   ]
  },
  {
   "cell_type": "code",
   "execution_count": 160,
   "metadata": {},
   "outputs": [
    {
     "name": "stderr",
     "output_type": "stream",
     "text": [
      "/Users/genevieveberent/Desktop/anaconda3/lib/python3.6/site-packages/ipykernel_launcher.py:1: FutureWarning: Sorting because non-concatenation axis is not aligned. A future version\n",
      "of pandas will change to not sort by default.\n",
      "\n",
      "To accept the future behavior, pass 'sort=True'.\n",
      "\n",
      "To retain the current behavior and silence the warning, pass sort=False\n",
      "\n",
      "  \"\"\"Entry point for launching an IPython kernel.\n"
     ]
    }
   ],
   "source": [
    "masters_2014 = pd.concat([final_2014, stats_df], axis=1)"
   ]
  },
  {
   "cell_type": "code",
   "execution_count": 161,
   "metadata": {},
   "outputs": [
    {
     "data": {
      "text/plain": [
       "(97, 12)"
      ]
     },
     "execution_count": 161,
     "metadata": {},
     "output_type": "execute_result"
    }
   ],
   "source": [
    "masters_2014.shape"
   ]
  },
  {
   "cell_type": "code",
   "execution_count": 162,
   "metadata": {},
   "outputs": [],
   "source": [
    "masters_2014.drop('Player', axis=1, inplace=True)"
   ]
  },
  {
   "cell_type": "code",
   "execution_count": 163,
   "metadata": {},
   "outputs": [],
   "source": [
    "masters_2014['Score'] = masters_2014['Score'].replace({'E':0})"
   ]
  },
  {
   "cell_type": "code",
   "execution_count": 164,
   "metadata": {},
   "outputs": [],
   "source": [
    "masters_2014['Position'] = masters_2014['Position'].apply(lambda x:str(x).strip('T'))"
   ]
  },
  {
   "cell_type": "code",
   "execution_count": 165,
   "metadata": {},
   "outputs": [
    {
     "data": {
      "text/html": [
       "<div>\n",
       "<style scoped>\n",
       "    .dataframe tbody tr th:only-of-type {\n",
       "        vertical-align: middle;\n",
       "    }\n",
       "\n",
       "    .dataframe tbody tr th {\n",
       "        vertical-align: top;\n",
       "    }\n",
       "\n",
       "    .dataframe thead th {\n",
       "        text-align: right;\n",
       "    }\n",
       "</style>\n",
       "<table border=\"1\" class=\"dataframe\">\n",
       "  <thead>\n",
       "    <tr style=\"text-align: right;\">\n",
       "      <th></th>\n",
       "      <th>Position</th>\n",
       "      <th>Score</th>\n",
       "      <th>Cut</th>\n",
       "      <th>FIR</th>\n",
       "      <th>FIR Rank</th>\n",
       "      <th>dist</th>\n",
       "      <th>dist Rank</th>\n",
       "      <th>GIR</th>\n",
       "      <th>GIR Rank</th>\n",
       "      <th>Putting</th>\n",
       "      <th>Putting Rank</th>\n",
       "    </tr>\n",
       "  </thead>\n",
       "  <tbody>\n",
       "    <tr>\n",
       "      <th>A. Scott</th>\n",
       "      <td>14</td>\n",
       "      <td>+1</td>\n",
       "      <td>0</td>\n",
       "      <td>58.93</td>\n",
       "      <td>82.0</td>\n",
       "      <td>298.38</td>\n",
       "      <td>6.0</td>\n",
       "      <td>66.67</td>\n",
       "      <td>11.0</td>\n",
       "      <td>1.69</td>\n",
       "      <td>60.0</td>\n",
       "    </tr>\n",
       "    <tr>\n",
       "      <th>B. Crenshaw</th>\n",
       "      <td>97.0</td>\n",
       "      <td>+24</td>\n",
       "      <td>1</td>\n",
       "      <td>67.86</td>\n",
       "      <td>44.0</td>\n",
       "      <td>238.50</td>\n",
       "      <td>97.0</td>\n",
       "      <td>25.00</td>\n",
       "      <td>97.0</td>\n",
       "      <td>1.67</td>\n",
       "      <td>44.0</td>\n",
       "    </tr>\n",
       "    <tr>\n",
       "      <th>B. Grace</th>\n",
       "      <td>80.0</td>\n",
       "      <td>+9</td>\n",
       "      <td>1</td>\n",
       "      <td>53.57</td>\n",
       "      <td>93.0</td>\n",
       "      <td>280.75</td>\n",
       "      <td>73.0</td>\n",
       "      <td>44.44</td>\n",
       "      <td>89.0</td>\n",
       "      <td>1.61</td>\n",
       "      <td>22.0</td>\n",
       "    </tr>\n",
       "    <tr>\n",
       "      <th>B. Haas</th>\n",
       "      <td>20</td>\n",
       "      <td>+2</td>\n",
       "      <td>0</td>\n",
       "      <td>67.86</td>\n",
       "      <td>44.0</td>\n",
       "      <td>286.62</td>\n",
       "      <td>50.0</td>\n",
       "      <td>65.28</td>\n",
       "      <td>14.0</td>\n",
       "      <td>1.68</td>\n",
       "      <td>54.0</td>\n",
       "    </tr>\n",
       "    <tr>\n",
       "      <th>B. Horschel</th>\n",
       "      <td>37</td>\n",
       "      <td>+7</td>\n",
       "      <td>0</td>\n",
       "      <td>66.07</td>\n",
       "      <td>57.0</td>\n",
       "      <td>290.12</td>\n",
       "      <td>33.0</td>\n",
       "      <td>72.22</td>\n",
       "      <td>2.0</td>\n",
       "      <td>1.82</td>\n",
       "      <td>88.0</td>\n",
       "    </tr>\n",
       "  </tbody>\n",
       "</table>\n",
       "</div>"
      ],
      "text/plain": [
       "            Position Score  Cut    FIR  FIR Rank    dist  dist Rank    GIR  \\\n",
       "A. Scott          14    +1    0  58.93      82.0  298.38        6.0  66.67   \n",
       "B. Crenshaw     97.0   +24    1  67.86      44.0  238.50       97.0  25.00   \n",
       "B. Grace        80.0    +9    1  53.57      93.0  280.75       73.0  44.44   \n",
       "B. Haas           20    +2    0  67.86      44.0  286.62       50.0  65.28   \n",
       "B. Horschel       37    +7    0  66.07      57.0  290.12       33.0  72.22   \n",
       "\n",
       "             GIR Rank Putting  Putting Rank  \n",
       "A. Scott         11.0    1.69          60.0  \n",
       "B. Crenshaw      97.0    1.67          44.0  \n",
       "B. Grace         89.0    1.61          22.0  \n",
       "B. Haas          14.0    1.68          54.0  \n",
       "B. Horschel       2.0    1.82          88.0  "
      ]
     },
     "execution_count": 165,
     "metadata": {},
     "output_type": "execute_result"
    }
   ],
   "source": [
    "masters_2014.head()"
   ]
  },
  {
   "cell_type": "code",
   "execution_count": 166,
   "metadata": {},
   "outputs": [],
   "source": [
    "masters_2014['Year'] = 2014"
   ]
  },
  {
   "cell_type": "code",
   "execution_count": 167,
   "metadata": {},
   "outputs": [],
   "source": [
    "## Save\n",
    "masters_2014.to_csv('Masters_2014.csv')"
   ]
  },
  {
   "cell_type": "code",
   "execution_count": 168,
   "metadata": {},
   "outputs": [],
   "source": [
    "driver.close()"
   ]
  },
  {
   "cell_type": "code",
   "execution_count": null,
   "metadata": {},
   "outputs": [],
   "source": []
  }
 ],
 "metadata": {
  "kernelspec": {
   "display_name": "Python 3",
   "language": "python",
   "name": "python3"
  },
  "language_info": {
   "codemirror_mode": {
    "name": "ipython",
    "version": 3
   },
   "file_extension": ".py",
   "mimetype": "text/x-python",
   "name": "python",
   "nbconvert_exporter": "python",
   "pygments_lexer": "ipython3",
   "version": "3.6.5"
  }
 },
 "nbformat": 4,
 "nbformat_minor": 2
}
