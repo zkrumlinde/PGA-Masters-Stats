{
 "cells": [
  {
   "cell_type": "code",
   "execution_count": 1,
   "metadata": {},
   "outputs": [
    {
     "name": "stdout",
     "output_type": "stream",
     "text": [
      "/Users/genevieveberent/Desktop/Zak_Portfolio/PGA_Masters\n"
     ]
    }
   ],
   "source": [
    "%cd /Users/genevieveberent/Desktop/Zak_Portfolio/PGA_Masters"
   ]
  },
  {
   "cell_type": "code",
   "execution_count": 5,
   "metadata": {},
   "outputs": [],
   "source": [
    "from selenium import webdriver\n",
    "import pandas as pd\n",
    "import numpy as np"
   ]
  },
  {
   "cell_type": "markdown",
   "metadata": {},
   "source": [
    "## Fairways in Regulation"
   ]
  },
  {
   "cell_type": "code",
   "execution_count": 7,
   "metadata": {},
   "outputs": [],
   "source": [
    "driver = webdriver.Chrome()\n",
    "driver.get('http://2017.masters.com/en_US/scores/stats/fir.html')"
   ]
  },
  {
   "cell_type": "code",
   "execution_count": 9,
   "metadata": {},
   "outputs": [
    {
     "name": "stdout",
     "output_type": "stream",
     "text": [
      "93\n"
     ]
    }
   ],
   "source": [
    "## Get the player names listed on the website\n",
    "\n",
    "fir2017_players = []\n",
    "\n",
    "# first xpath: //*[@id=\"table-8594\"]/tbody/tr[1]/td[1]/a\n",
    "# last xapth:  //*[@id=\"table-8594\"]/tbody/tr[93]/td[1]/a\n",
    "\n",
    "for i in range(94):\n",
    "    path = '//*[@id=\"table-8594\"]/tbody/tr[' + str(i) + ']/td[1]/a'\n",
    "    fir_players = driver.find_elements_by_xpath(path)\n",
    "    for player in fir_players:\n",
    "        fir2017_players.append(player.text)\n",
    "        \n",
    "        \n",
    "print(len(fir2017_players))"
   ]
  },
  {
   "cell_type": "code",
   "execution_count": 10,
   "metadata": {},
   "outputs": [
    {
     "name": "stdout",
     "output_type": "stream",
     "text": [
      "93\n"
     ]
    }
   ],
   "source": [
    "## Get the FIR stats for the tournament\n",
    "\n",
    "fir2017_stats = []\n",
    "\n",
    "# first xpath: //*[@id=\"table-8594\"]/tbody/tr[1]/td[6]\n",
    "# last xpath:  //*[@id=\"table-8594\"]/tbody/tr[93]/td[6]\n",
    "\n",
    "for i in range(94):\n",
    "    path = '//*[@id=\"table-8594\"]/tbody/tr[' + str(i) + ']/td[6]'\n",
    "    fir_stats = driver.find_elements_by_xpath(path)\n",
    "    for stat in fir_stats:\n",
    "        fir2017_stats.append(stat.text)\n",
    "        \n",
    "print(len(fir2017_stats))"
   ]
  },
  {
   "cell_type": "code",
   "execution_count": 11,
   "metadata": {},
   "outputs": [],
   "source": [
    "## Create the FIR dataframe\n",
    "\n",
    "fir_2017 = pd.DataFrame.from_dict({'Player':fir2017_players, 'FIR':fir2017_stats})"
   ]
  },
  {
   "cell_type": "code",
   "execution_count": 12,
   "metadata": {},
   "outputs": [
    {
     "data": {
      "text/html": [
       "<div>\n",
       "<style scoped>\n",
       "    .dataframe tbody tr th:only-of-type {\n",
       "        vertical-align: middle;\n",
       "    }\n",
       "\n",
       "    .dataframe tbody tr th {\n",
       "        vertical-align: top;\n",
       "    }\n",
       "\n",
       "    .dataframe thead th {\n",
       "        text-align: right;\n",
       "    }\n",
       "</style>\n",
       "<table border=\"1\" class=\"dataframe\">\n",
       "  <thead>\n",
       "    <tr style=\"text-align: right;\">\n",
       "      <th></th>\n",
       "      <th>Player</th>\n",
       "      <th>FIR</th>\n",
       "    </tr>\n",
       "  </thead>\n",
       "  <tbody>\n",
       "    <tr>\n",
       "      <th>0</th>\n",
       "      <td>Søren Kjeldsen</td>\n",
       "      <td>46 / 56 = 82.14%</td>\n",
       "    </tr>\n",
       "    <tr>\n",
       "      <th>1</th>\n",
       "      <td>Sergio Garcia</td>\n",
       "      <td>45 / 56 = 80.36%</td>\n",
       "    </tr>\n",
       "    <tr>\n",
       "      <th>2</th>\n",
       "      <td>Steve Stricker</td>\n",
       "      <td>43 / 56 = 76.79%</td>\n",
       "    </tr>\n",
       "  </tbody>\n",
       "</table>\n",
       "</div>"
      ],
      "text/plain": [
       "           Player               FIR\n",
       "0  Søren Kjeldsen  46 / 56 = 82.14%\n",
       "1   Sergio Garcia  45 / 56 = 80.36%\n",
       "2  Steve Stricker  43 / 56 = 76.79%"
      ]
     },
     "execution_count": 12,
     "metadata": {},
     "output_type": "execute_result"
    }
   ],
   "source": [
    "fir_2017.head(3)"
   ]
  },
  {
   "cell_type": "code",
   "execution_count": 13,
   "metadata": {},
   "outputs": [],
   "source": [
    "## Get just the % as a float for later analysis\n",
    "\n",
    "fir_2017['FIR'] = fir_2017['FIR'].map(lambda x:str(x)[-6:-1])"
   ]
  },
  {
   "cell_type": "code",
   "execution_count": 16,
   "metadata": {},
   "outputs": [],
   "source": [
    "fir_2017['FIR Rank'] = fir_2017['FIR'].rank(method='min', ascending=False)"
   ]
  },
  {
   "cell_type": "code",
   "execution_count": 17,
   "metadata": {},
   "outputs": [
    {
     "data": {
      "text/html": [
       "<div>\n",
       "<style scoped>\n",
       "    .dataframe tbody tr th:only-of-type {\n",
       "        vertical-align: middle;\n",
       "    }\n",
       "\n",
       "    .dataframe tbody tr th {\n",
       "        vertical-align: top;\n",
       "    }\n",
       "\n",
       "    .dataframe thead th {\n",
       "        text-align: right;\n",
       "    }\n",
       "</style>\n",
       "<table border=\"1\" class=\"dataframe\">\n",
       "  <thead>\n",
       "    <tr style=\"text-align: right;\">\n",
       "      <th></th>\n",
       "      <th>Player</th>\n",
       "      <th>FIR</th>\n",
       "      <th>FIR Rank</th>\n",
       "    </tr>\n",
       "  </thead>\n",
       "  <tbody>\n",
       "    <tr>\n",
       "      <th>0</th>\n",
       "      <td>Søren Kjeldsen</td>\n",
       "      <td>82.14</td>\n",
       "      <td>1.0</td>\n",
       "    </tr>\n",
       "    <tr>\n",
       "      <th>1</th>\n",
       "      <td>Sergio Garcia</td>\n",
       "      <td>80.36</td>\n",
       "      <td>6.0</td>\n",
       "    </tr>\n",
       "    <tr>\n",
       "      <th>2</th>\n",
       "      <td>Steve Stricker</td>\n",
       "      <td>76.79</td>\n",
       "      <td>8.0</td>\n",
       "    </tr>\n",
       "    <tr>\n",
       "      <th>3</th>\n",
       "      <td>Larry Mize</td>\n",
       "      <td>76.79</td>\n",
       "      <td>8.0</td>\n",
       "    </tr>\n",
       "    <tr>\n",
       "      <th>4</th>\n",
       "      <td>Francesco Molinari</td>\n",
       "      <td>75.00</td>\n",
       "      <td>10.0</td>\n",
       "    </tr>\n",
       "  </tbody>\n",
       "</table>\n",
       "</div>"
      ],
      "text/plain": [
       "               Player    FIR  FIR Rank\n",
       "0      Søren Kjeldsen  82.14       1.0\n",
       "1       Sergio Garcia  80.36       6.0\n",
       "2      Steve Stricker  76.79       8.0\n",
       "3          Larry Mize  76.79       8.0\n",
       "4  Francesco Molinari  75.00      10.0"
      ]
     },
     "execution_count": 17,
     "metadata": {},
     "output_type": "execute_result"
    }
   ],
   "source": [
    "fir_2017.head()"
   ]
  },
  {
   "cell_type": "code",
   "execution_count": 18,
   "metadata": {},
   "outputs": [],
   "source": [
    "## Save\n",
    "\n",
    "fir_2017.to_csv('2017_FIR.csv')"
   ]
  },
  {
   "cell_type": "code",
   "execution_count": null,
   "metadata": {},
   "outputs": [],
   "source": []
  },
  {
   "cell_type": "markdown",
   "metadata": {},
   "source": [
    "## Greens in Regulation"
   ]
  },
  {
   "cell_type": "code",
   "execution_count": 19,
   "metadata": {},
   "outputs": [],
   "source": [
    "driver.get('http://2017.masters.com/en_US/scores/stats/gir.html')"
   ]
  },
  {
   "cell_type": "code",
   "execution_count": 21,
   "metadata": {},
   "outputs": [
    {
     "name": "stdout",
     "output_type": "stream",
     "text": [
      "93\n"
     ]
    }
   ],
   "source": [
    "## Get the player list on the website\n",
    "\n",
    "gir2017_players = []\n",
    "\n",
    "for i in range(94):\n",
    "    path = '//*[@id=\"table-2056\"]/tbody/tr[' + str(i) + ']/td[1]/a'\n",
    "    gir_players = driver.find_elements_by_xpath(path)\n",
    "    for player in gir_players:\n",
    "        gir2017_players.append(player.text)\n",
    "        \n",
    "print(len(gir2017_players))"
   ]
  },
  {
   "cell_type": "code",
   "execution_count": 22,
   "metadata": {},
   "outputs": [
    {
     "name": "stdout",
     "output_type": "stream",
     "text": [
      "93\n"
     ]
    }
   ],
   "source": [
    "## Get the player's GIR percentage\n",
    "\n",
    "gir2017_stats = []\n",
    "\n",
    "for i in range(94):\n",
    "    path = '//*[@id=\"table-2056\"]/tbody/tr[' + str(i) + ']/td[6]'\n",
    "    gir_stats = driver.find_elements_by_xpath(path)\n",
    "    for stat in gir_stats:\n",
    "        gir2017_stats.append(stat.text)\n",
    "        \n",
    "print(len(gir2017_stats))"
   ]
  },
  {
   "cell_type": "code",
   "execution_count": 23,
   "metadata": {},
   "outputs": [],
   "source": [
    "## Create GIR dataframe\n",
    "\n",
    "gir_2017 = pd.DataFrame.from_dict({'Player':gir2017_players, 'GIR':gir2017_stats})"
   ]
  },
  {
   "cell_type": "code",
   "execution_count": 24,
   "metadata": {},
   "outputs": [
    {
     "data": {
      "text/html": [
       "<div>\n",
       "<style scoped>\n",
       "    .dataframe tbody tr th:only-of-type {\n",
       "        vertical-align: middle;\n",
       "    }\n",
       "\n",
       "    .dataframe tbody tr th {\n",
       "        vertical-align: top;\n",
       "    }\n",
       "\n",
       "    .dataframe thead th {\n",
       "        text-align: right;\n",
       "    }\n",
       "</style>\n",
       "<table border=\"1\" class=\"dataframe\">\n",
       "  <thead>\n",
       "    <tr style=\"text-align: right;\">\n",
       "      <th></th>\n",
       "      <th>Player</th>\n",
       "      <th>GIR</th>\n",
       "    </tr>\n",
       "  </thead>\n",
       "  <tbody>\n",
       "    <tr>\n",
       "      <th>0</th>\n",
       "      <td>Paul Casey</td>\n",
       "      <td>56 / 72 = 77.78%</td>\n",
       "    </tr>\n",
       "    <tr>\n",
       "      <th>1</th>\n",
       "      <td>Sergio Garcia</td>\n",
       "      <td>54 / 72 = 75.00%</td>\n",
       "    </tr>\n",
       "    <tr>\n",
       "      <th>2</th>\n",
       "      <td>Justin Rose</td>\n",
       "      <td>54 / 72 = 75.00%</td>\n",
       "    </tr>\n",
       "  </tbody>\n",
       "</table>\n",
       "</div>"
      ],
      "text/plain": [
       "          Player               GIR\n",
       "0     Paul Casey  56 / 72 = 77.78%\n",
       "1  Sergio Garcia  54 / 72 = 75.00%\n",
       "2    Justin Rose  54 / 72 = 75.00%"
      ]
     },
     "execution_count": 24,
     "metadata": {},
     "output_type": "execute_result"
    }
   ],
   "source": [
    "gir_2017.head(3)"
   ]
  },
  {
   "cell_type": "code",
   "execution_count": 25,
   "metadata": {},
   "outputs": [],
   "source": [
    "gir_2017['GIR'] = gir_2017['GIR'].map(lambda x:str(x)[-6:-1])"
   ]
  },
  {
   "cell_type": "code",
   "execution_count": 26,
   "metadata": {},
   "outputs": [
    {
     "data": {
      "text/html": [
       "<div>\n",
       "<style scoped>\n",
       "    .dataframe tbody tr th:only-of-type {\n",
       "        vertical-align: middle;\n",
       "    }\n",
       "\n",
       "    .dataframe tbody tr th {\n",
       "        vertical-align: top;\n",
       "    }\n",
       "\n",
       "    .dataframe thead th {\n",
       "        text-align: right;\n",
       "    }\n",
       "</style>\n",
       "<table border=\"1\" class=\"dataframe\">\n",
       "  <thead>\n",
       "    <tr style=\"text-align: right;\">\n",
       "      <th></th>\n",
       "      <th>Player</th>\n",
       "      <th>GIR</th>\n",
       "    </tr>\n",
       "  </thead>\n",
       "  <tbody>\n",
       "    <tr>\n",
       "      <th>0</th>\n",
       "      <td>Paul Casey</td>\n",
       "      <td>77.78</td>\n",
       "    </tr>\n",
       "    <tr>\n",
       "      <th>1</th>\n",
       "      <td>Sergio Garcia</td>\n",
       "      <td>75.00</td>\n",
       "    </tr>\n",
       "    <tr>\n",
       "      <th>2</th>\n",
       "      <td>Justin Rose</td>\n",
       "      <td>75.00</td>\n",
       "    </tr>\n",
       "  </tbody>\n",
       "</table>\n",
       "</div>"
      ],
      "text/plain": [
       "          Player    GIR\n",
       "0     Paul Casey  77.78\n",
       "1  Sergio Garcia  75.00\n",
       "2    Justin Rose  75.00"
      ]
     },
     "execution_count": 26,
     "metadata": {},
     "output_type": "execute_result"
    }
   ],
   "source": [
    "gir_2017.head(3)"
   ]
  },
  {
   "cell_type": "code",
   "execution_count": 27,
   "metadata": {},
   "outputs": [],
   "source": [
    "gir_2017['GIR Rank'] = gir_2017['GIR'].rank(method='min', ascending=False)"
   ]
  },
  {
   "cell_type": "code",
   "execution_count": 28,
   "metadata": {},
   "outputs": [
    {
     "data": {
      "text/html": [
       "<div>\n",
       "<style scoped>\n",
       "    .dataframe tbody tr th:only-of-type {\n",
       "        vertical-align: middle;\n",
       "    }\n",
       "\n",
       "    .dataframe tbody tr th {\n",
       "        vertical-align: top;\n",
       "    }\n",
       "\n",
       "    .dataframe thead th {\n",
       "        text-align: right;\n",
       "    }\n",
       "</style>\n",
       "<table border=\"1\" class=\"dataframe\">\n",
       "  <thead>\n",
       "    <tr style=\"text-align: right;\">\n",
       "      <th></th>\n",
       "      <th>Player</th>\n",
       "      <th>GIR</th>\n",
       "      <th>GIR Rank</th>\n",
       "    </tr>\n",
       "  </thead>\n",
       "  <tbody>\n",
       "    <tr>\n",
       "      <th>0</th>\n",
       "      <td>Paul Casey</td>\n",
       "      <td>77.78</td>\n",
       "      <td>1.0</td>\n",
       "    </tr>\n",
       "    <tr>\n",
       "      <th>1</th>\n",
       "      <td>Sergio Garcia</td>\n",
       "      <td>75.00</td>\n",
       "      <td>2.0</td>\n",
       "    </tr>\n",
       "    <tr>\n",
       "      <th>2</th>\n",
       "      <td>Justin Rose</td>\n",
       "      <td>75.00</td>\n",
       "      <td>2.0</td>\n",
       "    </tr>\n",
       "    <tr>\n",
       "      <th>3</th>\n",
       "      <td>Adam Scott</td>\n",
       "      <td>73.61</td>\n",
       "      <td>4.0</td>\n",
       "    </tr>\n",
       "    <tr>\n",
       "      <th>4</th>\n",
       "      <td>Ross Fisher</td>\n",
       "      <td>72.22</td>\n",
       "      <td>5.0</td>\n",
       "    </tr>\n",
       "  </tbody>\n",
       "</table>\n",
       "</div>"
      ],
      "text/plain": [
       "          Player    GIR  GIR Rank\n",
       "0     Paul Casey  77.78       1.0\n",
       "1  Sergio Garcia  75.00       2.0\n",
       "2    Justin Rose  75.00       2.0\n",
       "3     Adam Scott  73.61       4.0\n",
       "4    Ross Fisher  72.22       5.0"
      ]
     },
     "execution_count": 28,
     "metadata": {},
     "output_type": "execute_result"
    }
   ],
   "source": [
    "gir_2017.head()"
   ]
  },
  {
   "cell_type": "code",
   "execution_count": 29,
   "metadata": {},
   "outputs": [],
   "source": [
    "## Save\n",
    "\n",
    "gir_2017.to_csv('2017_gir.csv')"
   ]
  },
  {
   "cell_type": "code",
   "execution_count": null,
   "metadata": {},
   "outputs": [],
   "source": []
  },
  {
   "cell_type": "markdown",
   "metadata": {},
   "source": [
    "## Driving Distance"
   ]
  },
  {
   "cell_type": "code",
   "execution_count": 30,
   "metadata": {},
   "outputs": [],
   "source": [
    "driver.get('http://2017.masters.com/en_US/scores/stats/drives_avg.html')"
   ]
  },
  {
   "cell_type": "code",
   "execution_count": 31,
   "metadata": {},
   "outputs": [
    {
     "name": "stdout",
     "output_type": "stream",
     "text": [
      "93\n"
     ]
    }
   ],
   "source": [
    "## Player list from the website\n",
    "\n",
    "dist2017_players = []\n",
    "\n",
    "for i in range(94):\n",
    "    path = '//*[@id=\"table-1070\"]/tbody/tr[' + str(i) + ']/td[1]/a'\n",
    "    dist_players = driver.find_elements_by_xpath(path)\n",
    "    for player in dist_players:\n",
    "        dist2017_players.append(player.text)\n",
    "        \n",
    "print(len(dist2017_players))"
   ]
  },
  {
   "cell_type": "code",
   "execution_count": 32,
   "metadata": {},
   "outputs": [
    {
     "name": "stdout",
     "output_type": "stream",
     "text": [
      "93\n"
     ]
    }
   ],
   "source": [
    "## Get GIR stats\n",
    "\n",
    "dist2017_stats = []\n",
    "\n",
    "for i in range(94):\n",
    "    path = '//*[@id=\"table-1070\"]/tbody/tr[' + str(i) + ']/td[6]'\n",
    "    dist_stats = driver.find_elements_by_xpath(path)\n",
    "    for stat in dist_stats:\n",
    "        dist2017_stats.append(stat.text)\n",
    "        \n",
    "print(len(dist2017_stats))"
   ]
  },
  {
   "cell_type": "code",
   "execution_count": 33,
   "metadata": {},
   "outputs": [],
   "source": [
    "## Create a Driving Distance dataframe\n",
    "\n",
    "dist_2017 = pd.DataFrame.from_dict({'Player':dist2017_players, 'dist':dist2017_stats})"
   ]
  },
  {
   "cell_type": "code",
   "execution_count": 34,
   "metadata": {},
   "outputs": [
    {
     "data": {
      "text/html": [
       "<div>\n",
       "<style scoped>\n",
       "    .dataframe tbody tr th:only-of-type {\n",
       "        vertical-align: middle;\n",
       "    }\n",
       "\n",
       "    .dataframe tbody tr th {\n",
       "        vertical-align: top;\n",
       "    }\n",
       "\n",
       "    .dataframe thead th {\n",
       "        text-align: right;\n",
       "    }\n",
       "</style>\n",
       "<table border=\"1\" class=\"dataframe\">\n",
       "  <thead>\n",
       "    <tr style=\"text-align: right;\">\n",
       "      <th></th>\n",
       "      <th>Player</th>\n",
       "      <th>dist</th>\n",
       "    </tr>\n",
       "  </thead>\n",
       "  <tbody>\n",
       "    <tr>\n",
       "      <th>0</th>\n",
       "      <td>Brooks Koepka</td>\n",
       "      <td>302.50</td>\n",
       "    </tr>\n",
       "    <tr>\n",
       "      <th>1</th>\n",
       "      <td>Jason Day</td>\n",
       "      <td>299.88</td>\n",
       "    </tr>\n",
       "    <tr>\n",
       "      <th>2</th>\n",
       "      <td>Byeong Hun An</td>\n",
       "      <td>297.12</td>\n",
       "    </tr>\n",
       "  </tbody>\n",
       "</table>\n",
       "</div>"
      ],
      "text/plain": [
       "          Player    dist\n",
       "0  Brooks Koepka  302.50\n",
       "1      Jason Day  299.88\n",
       "2  Byeong Hun An  297.12"
      ]
     },
     "execution_count": 34,
     "metadata": {},
     "output_type": "execute_result"
    }
   ],
   "source": [
    "dist_2017.head(3)"
   ]
  },
  {
   "cell_type": "code",
   "execution_count": 37,
   "metadata": {},
   "outputs": [],
   "source": [
    "dist_2017['dist Rank'] = dist_2017['dist'].rank(method='min', ascending=False)"
   ]
  },
  {
   "cell_type": "code",
   "execution_count": 38,
   "metadata": {},
   "outputs": [
    {
     "data": {
      "text/html": [
       "<div>\n",
       "<style scoped>\n",
       "    .dataframe tbody tr th:only-of-type {\n",
       "        vertical-align: middle;\n",
       "    }\n",
       "\n",
       "    .dataframe tbody tr th {\n",
       "        vertical-align: top;\n",
       "    }\n",
       "\n",
       "    .dataframe thead th {\n",
       "        text-align: right;\n",
       "    }\n",
       "</style>\n",
       "<table border=\"1\" class=\"dataframe\">\n",
       "  <thead>\n",
       "    <tr style=\"text-align: right;\">\n",
       "      <th></th>\n",
       "      <th>Player</th>\n",
       "      <th>dist</th>\n",
       "      <th>dist Rank</th>\n",
       "    </tr>\n",
       "  </thead>\n",
       "  <tbody>\n",
       "    <tr>\n",
       "      <th>0</th>\n",
       "      <td>Brooks Koepka</td>\n",
       "      <td>302.50</td>\n",
       "      <td>1.0</td>\n",
       "    </tr>\n",
       "    <tr>\n",
       "      <th>1</th>\n",
       "      <td>Jason Day</td>\n",
       "      <td>299.88</td>\n",
       "      <td>2.0</td>\n",
       "    </tr>\n",
       "    <tr>\n",
       "      <th>2</th>\n",
       "      <td>Byeong Hun An</td>\n",
       "      <td>297.12</td>\n",
       "      <td>3.0</td>\n",
       "    </tr>\n",
       "  </tbody>\n",
       "</table>\n",
       "</div>"
      ],
      "text/plain": [
       "          Player    dist  dist Rank\n",
       "0  Brooks Koepka  302.50        1.0\n",
       "1      Jason Day  299.88        2.0\n",
       "2  Byeong Hun An  297.12        3.0"
      ]
     },
     "execution_count": 38,
     "metadata": {},
     "output_type": "execute_result"
    }
   ],
   "source": [
    "dist_2017.head(3)"
   ]
  },
  {
   "cell_type": "code",
   "execution_count": 39,
   "metadata": {},
   "outputs": [],
   "source": [
    "## Save\n",
    "\n",
    "dist_2017.to_csv('2017_dist.csv')"
   ]
  },
  {
   "cell_type": "code",
   "execution_count": null,
   "metadata": {},
   "outputs": [],
   "source": []
  },
  {
   "cell_type": "markdown",
   "metadata": {},
   "source": [
    "## Putting Stats"
   ]
  },
  {
   "cell_type": "code",
   "execution_count": 40,
   "metadata": {},
   "outputs": [],
   "source": [
    "driver.get('http://2017.masters.com/en_US/scores/stats/putts.html')"
   ]
  },
  {
   "cell_type": "code",
   "execution_count": 41,
   "metadata": {},
   "outputs": [
    {
     "name": "stdout",
     "output_type": "stream",
     "text": [
      "93\n"
     ]
    }
   ],
   "source": [
    "## Get list of names from website\n",
    "\n",
    "putt2017_players = []\n",
    "\n",
    "for i in range(94):\n",
    "    path = '//*[@id=\"table-3809\"]/tbody/tr[' + str(i) + ']/td[1]/a'\n",
    "    putt_players = driver.find_elements_by_xpath(path)\n",
    "    for player in putt_players:\n",
    "        putt2017_players.append(player.text)\n",
    "        \n",
    "print(len(putt2017_players))"
   ]
  },
  {
   "cell_type": "code",
   "execution_count": 44,
   "metadata": {},
   "outputs": [
    {
     "name": "stdout",
     "output_type": "stream",
     "text": [
      "93\n"
     ]
    }
   ],
   "source": [
    "## Get the putting stats in the same order as players\n",
    "\n",
    "putt2017_stats = []\n",
    "\n",
    "for i in range(94):\n",
    "    path = '//*[@id=\"table-3809\"]/tbody/tr[' + str(i) + ']/td[6]'\n",
    "    putt_stats = driver.find_elements_by_xpath(path)\n",
    "    for stat in putt_stats:\n",
    "        putt2017_stats.append(stat.text)\n",
    "        \n",
    "print(len(putt2017_stats))"
   ]
  },
  {
   "cell_type": "code",
   "execution_count": 45,
   "metadata": {},
   "outputs": [],
   "source": [
    "## Create Putting Dataframe\n",
    "\n",
    "putt_2017 = pd.DataFrame.from_dict({'Player':putt2017_players, 'Putting':putt2017_stats})"
   ]
  },
  {
   "cell_type": "code",
   "execution_count": 47,
   "metadata": {},
   "outputs": [
    {
     "data": {
      "text/html": [
       "<div>\n",
       "<style scoped>\n",
       "    .dataframe tbody tr th:only-of-type {\n",
       "        vertical-align: middle;\n",
       "    }\n",
       "\n",
       "    .dataframe tbody tr th {\n",
       "        vertical-align: top;\n",
       "    }\n",
       "\n",
       "    .dataframe thead th {\n",
       "        text-align: right;\n",
       "    }\n",
       "</style>\n",
       "<table border=\"1\" class=\"dataframe\">\n",
       "  <thead>\n",
       "    <tr style=\"text-align: right;\">\n",
       "      <th></th>\n",
       "      <th>Player</th>\n",
       "      <th>Putting</th>\n",
       "    </tr>\n",
       "  </thead>\n",
       "  <tbody>\n",
       "    <tr>\n",
       "      <th>90</th>\n",
       "      <td>Gary Woodland</td>\n",
       "      <td>1.89 (4)</td>\n",
       "    </tr>\n",
       "    <tr>\n",
       "      <th>91</th>\n",
       "      <td>Brad Dalke (a)</td>\n",
       "      <td>1.92 (5)</td>\n",
       "    </tr>\n",
       "    <tr>\n",
       "      <th>92</th>\n",
       "      <td>Trevor Immelman</td>\n",
       "      <td>1.92 (6)</td>\n",
       "    </tr>\n",
       "  </tbody>\n",
       "</table>\n",
       "</div>"
      ],
      "text/plain": [
       "             Player   Putting\n",
       "90    Gary Woodland  1.89 (4)\n",
       "91   Brad Dalke (a)  1.92 (5)\n",
       "92  Trevor Immelman  1.92 (6)"
      ]
     },
     "execution_count": 47,
     "metadata": {},
     "output_type": "execute_result"
    }
   ],
   "source": [
    "putt_2017.tail(3)"
   ]
  },
  {
   "cell_type": "code",
   "execution_count": 48,
   "metadata": {},
   "outputs": [],
   "source": [
    "## Remove the number of 3 putts in ()\n",
    "\n",
    "putt_2017['Putting'] = putt_2017['Putting'].map(lambda x:str(x)[:4])"
   ]
  },
  {
   "cell_type": "code",
   "execution_count": 51,
   "metadata": {},
   "outputs": [],
   "source": [
    "putt_2017['Putting Rank'] = putt_2017['Putting'].rank(method='min')"
   ]
  },
  {
   "cell_type": "code",
   "execution_count": 52,
   "metadata": {},
   "outputs": [
    {
     "data": {
      "text/html": [
       "<div>\n",
       "<style scoped>\n",
       "    .dataframe tbody tr th:only-of-type {\n",
       "        vertical-align: middle;\n",
       "    }\n",
       "\n",
       "    .dataframe tbody tr th {\n",
       "        vertical-align: top;\n",
       "    }\n",
       "\n",
       "    .dataframe thead th {\n",
       "        text-align: right;\n",
       "    }\n",
       "</style>\n",
       "<table border=\"1\" class=\"dataframe\">\n",
       "  <thead>\n",
       "    <tr style=\"text-align: right;\">\n",
       "      <th></th>\n",
       "      <th>Player</th>\n",
       "      <th>Putting</th>\n",
       "      <th>Putting Rank</th>\n",
       "    </tr>\n",
       "  </thead>\n",
       "  <tbody>\n",
       "    <tr>\n",
       "      <th>0</th>\n",
       "      <td>Rickie Fowler</td>\n",
       "      <td>1.51</td>\n",
       "      <td>1.0</td>\n",
       "    </tr>\n",
       "    <tr>\n",
       "      <th>1</th>\n",
       "      <td>Jimmy Walker</td>\n",
       "      <td>1.51</td>\n",
       "      <td>1.0</td>\n",
       "    </tr>\n",
       "    <tr>\n",
       "      <th>2</th>\n",
       "      <td>Jose Maria Olazabal</td>\n",
       "      <td>1.53</td>\n",
       "      <td>3.0</td>\n",
       "    </tr>\n",
       "    <tr>\n",
       "      <th>3</th>\n",
       "      <td>Jim Furyk</td>\n",
       "      <td>1.53</td>\n",
       "      <td>3.0</td>\n",
       "    </tr>\n",
       "    <tr>\n",
       "      <th>4</th>\n",
       "      <td>Billy Hurley III</td>\n",
       "      <td>1.53</td>\n",
       "      <td>3.0</td>\n",
       "    </tr>\n",
       "  </tbody>\n",
       "</table>\n",
       "</div>"
      ],
      "text/plain": [
       "                Player Putting  Putting Rank\n",
       "0        Rickie Fowler    1.51           1.0\n",
       "1         Jimmy Walker    1.51           1.0\n",
       "2  Jose Maria Olazabal    1.53           3.0\n",
       "3            Jim Furyk    1.53           3.0\n",
       "4     Billy Hurley III    1.53           3.0"
      ]
     },
     "execution_count": 52,
     "metadata": {},
     "output_type": "execute_result"
    }
   ],
   "source": [
    "putt_2017.head()"
   ]
  },
  {
   "cell_type": "code",
   "execution_count": 53,
   "metadata": {},
   "outputs": [],
   "source": [
    "## Save\n",
    "putt_2017.to_csv('2017_Putt.csv')"
   ]
  },
  {
   "cell_type": "code",
   "execution_count": null,
   "metadata": {},
   "outputs": [],
   "source": []
  },
  {
   "cell_type": "markdown",
   "metadata": {},
   "source": [
    "## Get where the players finished"
   ]
  },
  {
   "cell_type": "code",
   "execution_count": 54,
   "metadata": {},
   "outputs": [],
   "source": [
    "driver.get('https://www.golfchannel.com/tours/pga-tour/2017/masters-tournament')"
   ]
  },
  {
   "cell_type": "code",
   "execution_count": 55,
   "metadata": {},
   "outputs": [
    {
     "name": "stdout",
     "output_type": "stream",
     "text": [
      "53\n"
     ]
    }
   ],
   "source": [
    "## Just players that made the cut\n",
    "\n",
    "madecut2017_players = []\n",
    "\n",
    "## first xpath: //*[@id=\"leaderboard\"]/main/div[1]/section/section/div[2]/div/div/div[2]/p\n",
    "## last xapth:  //*[@id=\"leaderboard\"]/main/div[1]/section/section/div[54]/div/div/div[2]/p\n",
    "\n",
    "for i in range(2, 55):\n",
    "    path = '//*[@id=\"leaderboard\"]/main/div[1]/section/section/div[' + str(i) + ']/div/div/div[2]/p'\n",
    "    madecut_players = driver.find_elements_by_xpath(path)\n",
    "    for player in madecut_players:\n",
    "        madecut2017_players.append(player.text)\n",
    "\n",
    "print(len(madecut2017_players))"
   ]
  },
  {
   "cell_type": "code",
   "execution_count": 56,
   "metadata": {},
   "outputs": [
    {
     "name": "stdout",
     "output_type": "stream",
     "text": [
      "53\n"
     ]
    }
   ],
   "source": [
    "## Get the position that the players finished\n",
    "\n",
    "madecut2017_position = []\n",
    "\n",
    "## first xpath: //*[@id=\"leaderboard\"]/main/div[1]/section/section/div[2]/div/div/p[1]\n",
    "\n",
    "for i in range(2, 55):\n",
    "    path = '//*[@id=\"leaderboard\"]/main/div[1]/section/section/div[' + str(i) + ']/div/div/p[1]'\n",
    "    madecut_position = driver.find_elements_by_xpath(path)\n",
    "    for pos in madecut_position:\n",
    "        madecut2017_position.append(pos.text)\n",
    "        \n",
    "print(len(madecut2017_position))"
   ]
  },
  {
   "cell_type": "code",
   "execution_count": 57,
   "metadata": {},
   "outputs": [
    {
     "name": "stdout",
     "output_type": "stream",
     "text": [
      "53\n"
     ]
    }
   ],
   "source": [
    "## Get the players scores for the tournament\n",
    "\n",
    "madecut2017_score = []\n",
    "\n",
    "## first xpath: //*[@id=\"leaderboard\"]/main/div[1]/section/section/div[2]/div/div/p[3]\n",
    "\n",
    "for i in range(2, 55):\n",
    "    path = '//*[@id=\"leaderboard\"]/main/div[1]/section/section/div[' + str(i) + ']/div/div/p[3]'\n",
    "    madecut_scores = driver.find_elements_by_xpath(path)\n",
    "    for score in madecut_scores:\n",
    "        madecut2017_score.append(score.text)\n",
    "        \n",
    "print(len(madecut2017_score))"
   ]
  },
  {
   "cell_type": "code",
   "execution_count": 58,
   "metadata": {},
   "outputs": [
    {
     "data": {
      "text/html": [
       "<div>\n",
       "<style scoped>\n",
       "    .dataframe tbody tr th:only-of-type {\n",
       "        vertical-align: middle;\n",
       "    }\n",
       "\n",
       "    .dataframe tbody tr th {\n",
       "        vertical-align: top;\n",
       "    }\n",
       "\n",
       "    .dataframe thead th {\n",
       "        text-align: right;\n",
       "    }\n",
       "</style>\n",
       "<table border=\"1\" class=\"dataframe\">\n",
       "  <thead>\n",
       "    <tr style=\"text-align: right;\">\n",
       "      <th></th>\n",
       "      <th>Player</th>\n",
       "      <th>Position</th>\n",
       "      <th>Score</th>\n",
       "    </tr>\n",
       "  </thead>\n",
       "  <tbody>\n",
       "    <tr>\n",
       "      <th>0</th>\n",
       "      <td>Sergio Garcia</td>\n",
       "      <td>1</td>\n",
       "      <td>-9</td>\n",
       "    </tr>\n",
       "    <tr>\n",
       "      <th>1</th>\n",
       "      <td>Justin Rose</td>\n",
       "      <td>2</td>\n",
       "      <td>-9</td>\n",
       "    </tr>\n",
       "    <tr>\n",
       "      <th>2</th>\n",
       "      <td>Charl Schwartzel</td>\n",
       "      <td>3</td>\n",
       "      <td>-6</td>\n",
       "    </tr>\n",
       "    <tr>\n",
       "      <th>3</th>\n",
       "      <td>Matt Kuchar</td>\n",
       "      <td>T4</td>\n",
       "      <td>-5</td>\n",
       "    </tr>\n",
       "    <tr>\n",
       "      <th>4</th>\n",
       "      <td>Thomas Pieters</td>\n",
       "      <td>T4</td>\n",
       "      <td>-5</td>\n",
       "    </tr>\n",
       "  </tbody>\n",
       "</table>\n",
       "</div>"
      ],
      "text/plain": [
       "             Player Position Score\n",
       "0     Sergio Garcia        1    -9\n",
       "1       Justin Rose        2    -9\n",
       "2  Charl Schwartzel        3    -6\n",
       "3       Matt Kuchar       T4    -5\n",
       "4    Thomas Pieters       T4    -5"
      ]
     },
     "execution_count": 58,
     "metadata": {},
     "output_type": "execute_result"
    }
   ],
   "source": [
    "## Create dataframe of players that made the cut\n",
    "\n",
    "madecut2017 = pd.DataFrame.from_dict({'Player': madecut2017_players,\n",
    "                                     'Position': madecut2017_position,\n",
    "                                     'Score': madecut2017_score})\n",
    "\n",
    "madecut2017.head()"
   ]
  },
  {
   "cell_type": "code",
   "execution_count": 59,
   "metadata": {},
   "outputs": [],
   "source": [
    "madecut2017['Cut'] = 0"
   ]
  },
  {
   "cell_type": "code",
   "execution_count": 60,
   "metadata": {},
   "outputs": [
    {
     "data": {
      "text/html": [
       "<div>\n",
       "<style scoped>\n",
       "    .dataframe tbody tr th:only-of-type {\n",
       "        vertical-align: middle;\n",
       "    }\n",
       "\n",
       "    .dataframe tbody tr th {\n",
       "        vertical-align: top;\n",
       "    }\n",
       "\n",
       "    .dataframe thead th {\n",
       "        text-align: right;\n",
       "    }\n",
       "</style>\n",
       "<table border=\"1\" class=\"dataframe\">\n",
       "  <thead>\n",
       "    <tr style=\"text-align: right;\">\n",
       "      <th></th>\n",
       "      <th>Player</th>\n",
       "      <th>Position</th>\n",
       "      <th>Score</th>\n",
       "      <th>Cut</th>\n",
       "    </tr>\n",
       "  </thead>\n",
       "  <tbody>\n",
       "    <tr>\n",
       "      <th>0</th>\n",
       "      <td>Sergio Garcia</td>\n",
       "      <td>1</td>\n",
       "      <td>-9</td>\n",
       "      <td>0</td>\n",
       "    </tr>\n",
       "    <tr>\n",
       "      <th>1</th>\n",
       "      <td>Justin Rose</td>\n",
       "      <td>2</td>\n",
       "      <td>-9</td>\n",
       "      <td>0</td>\n",
       "    </tr>\n",
       "    <tr>\n",
       "      <th>2</th>\n",
       "      <td>Charl Schwartzel</td>\n",
       "      <td>3</td>\n",
       "      <td>-6</td>\n",
       "      <td>0</td>\n",
       "    </tr>\n",
       "    <tr>\n",
       "      <th>3</th>\n",
       "      <td>Matt Kuchar</td>\n",
       "      <td>T4</td>\n",
       "      <td>-5</td>\n",
       "      <td>0</td>\n",
       "    </tr>\n",
       "    <tr>\n",
       "      <th>4</th>\n",
       "      <td>Thomas Pieters</td>\n",
       "      <td>T4</td>\n",
       "      <td>-5</td>\n",
       "      <td>0</td>\n",
       "    </tr>\n",
       "  </tbody>\n",
       "</table>\n",
       "</div>"
      ],
      "text/plain": [
       "             Player Position Score  Cut\n",
       "0     Sergio Garcia        1    -9    0\n",
       "1       Justin Rose        2    -9    0\n",
       "2  Charl Schwartzel        3    -6    0\n",
       "3       Matt Kuchar       T4    -5    0\n",
       "4    Thomas Pieters       T4    -5    0"
      ]
     },
     "execution_count": 60,
     "metadata": {},
     "output_type": "execute_result"
    }
   ],
   "source": [
    "madecut2017.head()"
   ]
  },
  {
   "cell_type": "code",
   "execution_count": 62,
   "metadata": {},
   "outputs": [
    {
     "name": "stdout",
     "output_type": "stream",
     "text": [
      "40\n"
     ]
    }
   ],
   "source": [
    "## Get the players that missed the cut\n",
    "\n",
    "missedcut2017_players = []\n",
    "\n",
    "# first xpath: //*[@id=\"leaderboard\"]/main/div[1]/section/section/div[55]/div/div[2]/div[2]/p\n",
    "# last xpathL  //*[@id=\"leaderboard\"]/main/div[1]/section/section/div[94]/div/div/div[2]/p\n",
    "\n",
    "for i in range(55, 95):\n",
    "    path = '//*[@id=\"leaderboard\"]/main/div[1]/section/section/div[' + str(i) + ']/div/div/div[2]/p'\n",
    "    missedcut_players = driver.find_elements_by_xpath(path)\n",
    "    for player in missedcut_players:\n",
    "        missedcut2017_players.append(player.text)\n",
    "        \n",
    "print(len(missedcut2017_players))"
   ]
  },
  {
   "cell_type": "code",
   "execution_count": 66,
   "metadata": {},
   "outputs": [
    {
     "name": "stdout",
     "output_type": "stream",
     "text": [
      "40\n"
     ]
    }
   ],
   "source": [
    "## Get the players scores\n",
    "\n",
    "missedcut2017_scores = []\n",
    "\n",
    "# xpath: //*[@id=\"leaderboard\"]/main/div[1]/section/section/div[94]/div/div/p[3]\n",
    "\n",
    "for i in range(55, 95):\n",
    "    path = '//*[@id=\"leaderboard\"]/main/div[1]/section/section/div[' + str(i) + ']/div/div/p[3]'\n",
    "    missedcut_scores = driver.find_elements_by_xpath(path)\n",
    "    for score in missedcut_scores:\n",
    "        missedcut2017_scores.append(score.text)\n",
    "        \n",
    "print(len(missedcut2017_scores))"
   ]
  },
  {
   "cell_type": "code",
   "execution_count": 89,
   "metadata": {},
   "outputs": [],
   "source": [
    "## Create df for players that missed the cut\n",
    "\n",
    "missedcut2017 = pd.DataFrame.from_dict({'Player': missedcut2017_players, 'Score': missedcut2017_scores})"
   ]
  },
  {
   "cell_type": "code",
   "execution_count": 90,
   "metadata": {},
   "outputs": [
    {
     "data": {
      "text/html": [
       "<div>\n",
       "<style scoped>\n",
       "    .dataframe tbody tr th:only-of-type {\n",
       "        vertical-align: middle;\n",
       "    }\n",
       "\n",
       "    .dataframe tbody tr th {\n",
       "        vertical-align: top;\n",
       "    }\n",
       "\n",
       "    .dataframe thead th {\n",
       "        text-align: right;\n",
       "    }\n",
       "</style>\n",
       "<table border=\"1\" class=\"dataframe\">\n",
       "  <thead>\n",
       "    <tr style=\"text-align: right;\">\n",
       "      <th></th>\n",
       "      <th>Player</th>\n",
       "      <th>Score</th>\n",
       "    </tr>\n",
       "  </thead>\n",
       "  <tbody>\n",
       "    <tr>\n",
       "      <th>0</th>\n",
       "      <td>Chris Wood</td>\n",
       "      <td>+7</td>\n",
       "    </tr>\n",
       "    <tr>\n",
       "      <th>1</th>\n",
       "      <td>Yuta Ikeda</td>\n",
       "      <td>+7</td>\n",
       "    </tr>\n",
       "    <tr>\n",
       "      <th>2</th>\n",
       "      <td>Danny Willett</td>\n",
       "      <td>+7</td>\n",
       "    </tr>\n",
       "    <tr>\n",
       "      <th>3</th>\n",
       "      <td>Billy Hurley III</td>\n",
       "      <td>+7</td>\n",
       "    </tr>\n",
       "    <tr>\n",
       "      <th>4</th>\n",
       "      <td>Zach Johnson</td>\n",
       "      <td>+7</td>\n",
       "    </tr>\n",
       "  </tbody>\n",
       "</table>\n",
       "</div>"
      ],
      "text/plain": [
       "             Player Score\n",
       "0        Chris Wood    +7\n",
       "1        Yuta Ikeda    +7\n",
       "2     Danny Willett    +7\n",
       "3  Billy Hurley III    +7\n",
       "4      Zach Johnson    +7"
      ]
     },
     "execution_count": 90,
     "metadata": {},
     "output_type": "execute_result"
    }
   ],
   "source": [
    "missedcut2017.head()"
   ]
  },
  {
   "cell_type": "code",
   "execution_count": 91,
   "metadata": {},
   "outputs": [],
   "source": [
    "missedcut2017['Score int'] = missedcut2017['Score'].apply(pd.to_numeric)"
   ]
  },
  {
   "cell_type": "code",
   "execution_count": 92,
   "metadata": {},
   "outputs": [],
   "source": [
    "missedcut2017['Position'] = (missedcut2017['Score int'].rank(method='min')) + 53"
   ]
  },
  {
   "cell_type": "code",
   "execution_count": 93,
   "metadata": {},
   "outputs": [],
   "source": [
    "missedcut2017.drop('Score int', axis=1, inplace=True)"
   ]
  },
  {
   "cell_type": "code",
   "execution_count": 94,
   "metadata": {},
   "outputs": [],
   "source": [
    "missedcut2017['Cut'] = 1"
   ]
  },
  {
   "cell_type": "code",
   "execution_count": 95,
   "metadata": {},
   "outputs": [],
   "source": [
    "missedcut2017 = missedcut2017[['Player', 'Position', 'Score', 'Cut']]"
   ]
  },
  {
   "cell_type": "code",
   "execution_count": 96,
   "metadata": {},
   "outputs": [
    {
     "data": {
      "text/html": [
       "<div>\n",
       "<style scoped>\n",
       "    .dataframe tbody tr th:only-of-type {\n",
       "        vertical-align: middle;\n",
       "    }\n",
       "\n",
       "    .dataframe tbody tr th {\n",
       "        vertical-align: top;\n",
       "    }\n",
       "\n",
       "    .dataframe thead th {\n",
       "        text-align: right;\n",
       "    }\n",
       "</style>\n",
       "<table border=\"1\" class=\"dataframe\">\n",
       "  <thead>\n",
       "    <tr style=\"text-align: right;\">\n",
       "      <th></th>\n",
       "      <th>Player</th>\n",
       "      <th>Position</th>\n",
       "      <th>Score</th>\n",
       "      <th>Cut</th>\n",
       "    </tr>\n",
       "  </thead>\n",
       "  <tbody>\n",
       "    <tr>\n",
       "      <th>0</th>\n",
       "      <td>Chris Wood</td>\n",
       "      <td>54.0</td>\n",
       "      <td>+7</td>\n",
       "      <td>1</td>\n",
       "    </tr>\n",
       "    <tr>\n",
       "      <th>1</th>\n",
       "      <td>Yuta Ikeda</td>\n",
       "      <td>54.0</td>\n",
       "      <td>+7</td>\n",
       "      <td>1</td>\n",
       "    </tr>\n",
       "    <tr>\n",
       "      <th>2</th>\n",
       "      <td>Danny Willett</td>\n",
       "      <td>54.0</td>\n",
       "      <td>+7</td>\n",
       "      <td>1</td>\n",
       "    </tr>\n",
       "    <tr>\n",
       "      <th>3</th>\n",
       "      <td>Billy Hurley III</td>\n",
       "      <td>54.0</td>\n",
       "      <td>+7</td>\n",
       "      <td>1</td>\n",
       "    </tr>\n",
       "    <tr>\n",
       "      <th>4</th>\n",
       "      <td>Zach Johnson</td>\n",
       "      <td>54.0</td>\n",
       "      <td>+7</td>\n",
       "      <td>1</td>\n",
       "    </tr>\n",
       "  </tbody>\n",
       "</table>\n",
       "</div>"
      ],
      "text/plain": [
       "             Player  Position Score  Cut\n",
       "0        Chris Wood      54.0    +7    1\n",
       "1        Yuta Ikeda      54.0    +7    1\n",
       "2     Danny Willett      54.0    +7    1\n",
       "3  Billy Hurley III      54.0    +7    1\n",
       "4      Zach Johnson      54.0    +7    1"
      ]
     },
     "execution_count": 96,
     "metadata": {},
     "output_type": "execute_result"
    }
   ],
   "source": [
    "missedcut2017.head()"
   ]
  },
  {
   "cell_type": "code",
   "execution_count": 97,
   "metadata": {},
   "outputs": [],
   "source": [
    "final_2017 = pd.concat([madecut2017, missedcut2017])"
   ]
  },
  {
   "cell_type": "code",
   "execution_count": 99,
   "metadata": {},
   "outputs": [
    {
     "data": {
      "text/plain": [
       "(93, 4)"
      ]
     },
     "execution_count": 99,
     "metadata": {},
     "output_type": "execute_result"
    }
   ],
   "source": [
    "final_2017.shape"
   ]
  },
  {
   "cell_type": "code",
   "execution_count": 100,
   "metadata": {},
   "outputs": [],
   "source": [
    "## Save\n",
    "\n",
    "final_2017.to_csv('2017_Position.csv')"
   ]
  },
  {
   "cell_type": "code",
   "execution_count": null,
   "metadata": {},
   "outputs": [],
   "source": []
  },
  {
   "cell_type": "markdown",
   "metadata": {},
   "source": [
    "## Putting it all together"
   ]
  },
  {
   "cell_type": "code",
   "execution_count": 104,
   "metadata": {},
   "outputs": [],
   "source": [
    "## Make the 'Player' column the index for each df\n",
    "\n",
    "fir_2017.index = fir_2017['Player']\n",
    "gir_2017.index = gir_2017['Player']\n",
    "dist_2017.index = dist_2017['Player']\n",
    "putt_2017.index = putt_2017['Player']\n",
    "final_2017.index = final_2017['Player']"
   ]
  },
  {
   "cell_type": "code",
   "execution_count": 109,
   "metadata": {},
   "outputs": [
    {
     "name": "stderr",
     "output_type": "stream",
     "text": [
      "/Users/genevieveberent/Desktop/anaconda3/lib/python3.6/site-packages/ipykernel_launcher.py:1: FutureWarning: Sorting because non-concatenation axis is not aligned. A future version\n",
      "of pandas will change to not sort by default.\n",
      "\n",
      "To accept the future behavior, pass 'sort=True'.\n",
      "\n",
      "To retain the current behavior and silence the warning, pass sort=False\n",
      "\n",
      "  \"\"\"Entry point for launching an IPython kernel.\n"
     ]
    }
   ],
   "source": [
    "stats_2017 = pd.concat([fir_2017, gir_2017, dist_2017, putt_2017], axis=1)"
   ]
  },
  {
   "cell_type": "code",
   "execution_count": 110,
   "metadata": {},
   "outputs": [
    {
     "data": {
      "text/plain": [
       "(93, 12)"
      ]
     },
     "execution_count": 110,
     "metadata": {},
     "output_type": "execute_result"
    }
   ],
   "source": [
    "stats_2017.shape"
   ]
  },
  {
   "cell_type": "code",
   "execution_count": 112,
   "metadata": {},
   "outputs": [],
   "source": [
    "stats_2017.drop('Player', axis=1, inplace=True)"
   ]
  },
  {
   "cell_type": "code",
   "execution_count": 113,
   "metadata": {},
   "outputs": [
    {
     "data": {
      "text/html": [
       "<div>\n",
       "<style scoped>\n",
       "    .dataframe tbody tr th:only-of-type {\n",
       "        vertical-align: middle;\n",
       "    }\n",
       "\n",
       "    .dataframe tbody tr th {\n",
       "        vertical-align: top;\n",
       "    }\n",
       "\n",
       "    .dataframe thead th {\n",
       "        text-align: right;\n",
       "    }\n",
       "</style>\n",
       "<table border=\"1\" class=\"dataframe\">\n",
       "  <thead>\n",
       "    <tr style=\"text-align: right;\">\n",
       "      <th></th>\n",
       "      <th>FIR</th>\n",
       "      <th>FIR Rank</th>\n",
       "      <th>GIR</th>\n",
       "      <th>GIR Rank</th>\n",
       "      <th>dist</th>\n",
       "      <th>dist Rank</th>\n",
       "      <th>Putting</th>\n",
       "      <th>Putting Rank</th>\n",
       "    </tr>\n",
       "  </thead>\n",
       "  <tbody>\n",
       "    <tr>\n",
       "      <th>Adam Hadwin</th>\n",
       "      <td>57.14</td>\n",
       "      <td>75.0</td>\n",
       "      <td>58.33</td>\n",
       "      <td>47.0</td>\n",
       "      <td>260.38</td>\n",
       "      <td>78.0</td>\n",
       "      <td>1.60</td>\n",
       "      <td>13.0</td>\n",
       "    </tr>\n",
       "    <tr>\n",
       "      <th>Adam Scott</th>\n",
       "      <td>64.29</td>\n",
       "      <td>48.0</td>\n",
       "      <td>73.61</td>\n",
       "      <td>4.0</td>\n",
       "      <td>290.38</td>\n",
       "      <td>9.0</td>\n",
       "      <td>1.72</td>\n",
       "      <td>60.0</td>\n",
       "    </tr>\n",
       "    <tr>\n",
       "      <th>Alex Noren</th>\n",
       "      <td>71.43</td>\n",
       "      <td>18.0</td>\n",
       "      <td>55.56</td>\n",
       "      <td>54.0</td>\n",
       "      <td>275.25</td>\n",
       "      <td>50.0</td>\n",
       "      <td>1.72</td>\n",
       "      <td>60.0</td>\n",
       "    </tr>\n",
       "    <tr>\n",
       "      <th>Andy Sullivan</th>\n",
       "      <td>73.21</td>\n",
       "      <td>15.0</td>\n",
       "      <td>55.56</td>\n",
       "      <td>54.0</td>\n",
       "      <td>282.75</td>\n",
       "      <td>23.0</td>\n",
       "      <td>1.69</td>\n",
       "      <td>46.0</td>\n",
       "    </tr>\n",
       "    <tr>\n",
       "      <th>Angel Cabrera</th>\n",
       "      <td>67.86</td>\n",
       "      <td>34.0</td>\n",
       "      <td>55.56</td>\n",
       "      <td>54.0</td>\n",
       "      <td>260.75</td>\n",
       "      <td>75.0</td>\n",
       "      <td>1.81</td>\n",
       "      <td>87.0</td>\n",
       "    </tr>\n",
       "  </tbody>\n",
       "</table>\n",
       "</div>"
      ],
      "text/plain": [
       "                 FIR  FIR Rank    GIR  GIR Rank    dist  dist Rank Putting  \\\n",
       "Adam Hadwin    57.14      75.0  58.33      47.0  260.38       78.0    1.60   \n",
       "Adam Scott     64.29      48.0  73.61       4.0  290.38        9.0    1.72   \n",
       "Alex Noren     71.43      18.0  55.56      54.0  275.25       50.0    1.72   \n",
       "Andy Sullivan  73.21      15.0  55.56      54.0  282.75       23.0    1.69   \n",
       "Angel Cabrera  67.86      34.0  55.56      54.0  260.75       75.0    1.81   \n",
       "\n",
       "               Putting Rank  \n",
       "Adam Hadwin            13.0  \n",
       "Adam Scott             60.0  \n",
       "Alex Noren             60.0  \n",
       "Andy Sullivan          46.0  \n",
       "Angel Cabrera          87.0  "
      ]
     },
     "execution_count": 113,
     "metadata": {},
     "output_type": "execute_result"
    }
   ],
   "source": [
    "stats_2017.head()"
   ]
  },
  {
   "cell_type": "code",
   "execution_count": 128,
   "metadata": {},
   "outputs": [],
   "source": [
    "all_players = set(list(stats_2017.index) + list(final_2017.index))"
   ]
  },
  {
   "cell_type": "code",
   "execution_count": 129,
   "metadata": {},
   "outputs": [
    {
     "data": {
      "text/plain": [
       "93"
      ]
     },
     "execution_count": 129,
     "metadata": {},
     "output_type": "execute_result"
    }
   ],
   "source": [
    "len(all_players)"
   ]
  },
  {
   "cell_type": "code",
   "execution_count": null,
   "metadata": {},
   "outputs": [],
   "source": []
  },
  {
   "cell_type": "code",
   "execution_count": 126,
   "metadata": {},
   "outputs": [],
   "source": [
    "new_names = {'Curtis Luck (a)': 'Curtis Luck',\n",
    "             'J. B. Holmes': 'J.B. Holmes',\n",
    "             'Jeunghun Wang': 'Jeung-Hun Wang',\n",
    "             'Rafael Cabrera-Bello': 'Rafa Cabrera Bello',\n",
    "             'Scott Gregory (a)': 'Scott Gregory',\n",
    "             'Si Woo Kim': 'Si-Woo Kim',\n",
    "             'Alex Noren': 'Alexander Noren',\n",
    "             'Søren Kjeldsen': 'Soren Kjeldsen'}\n",
    "\n",
    "stats_2017 = stats_2017.rename(index=new_names)\n"
   ]
  },
  {
   "cell_type": "code",
   "execution_count": 130,
   "metadata": {},
   "outputs": [
    {
     "name": "stderr",
     "output_type": "stream",
     "text": [
      "/Users/genevieveberent/Desktop/anaconda3/lib/python3.6/site-packages/ipykernel_launcher.py:1: FutureWarning: Sorting because non-concatenation axis is not aligned. A future version\n",
      "of pandas will change to not sort by default.\n",
      "\n",
      "To accept the future behavior, pass 'sort=True'.\n",
      "\n",
      "To retain the current behavior and silence the warning, pass sort=False\n",
      "\n",
      "  \"\"\"Entry point for launching an IPython kernel.\n"
     ]
    }
   ],
   "source": [
    "masters_2017 = pd.concat([final_2017, stats_2017], axis=1)"
   ]
  },
  {
   "cell_type": "code",
   "execution_count": 131,
   "metadata": {},
   "outputs": [
    {
     "data": {
      "text/plain": [
       "(93, 12)"
      ]
     },
     "execution_count": 131,
     "metadata": {},
     "output_type": "execute_result"
    }
   ],
   "source": [
    "masters_2017.shape"
   ]
  },
  {
   "cell_type": "code",
   "execution_count": 133,
   "metadata": {},
   "outputs": [],
   "source": [
    "masters_2017.drop('Player', axis=1, inplace=True)"
   ]
  },
  {
   "cell_type": "code",
   "execution_count": 134,
   "metadata": {},
   "outputs": [
    {
     "data": {
      "text/html": [
       "<div>\n",
       "<style scoped>\n",
       "    .dataframe tbody tr th:only-of-type {\n",
       "        vertical-align: middle;\n",
       "    }\n",
       "\n",
       "    .dataframe tbody tr th {\n",
       "        vertical-align: top;\n",
       "    }\n",
       "\n",
       "    .dataframe thead th {\n",
       "        text-align: right;\n",
       "    }\n",
       "</style>\n",
       "<table border=\"1\" class=\"dataframe\">\n",
       "  <thead>\n",
       "    <tr style=\"text-align: right;\">\n",
       "      <th></th>\n",
       "      <th>Position</th>\n",
       "      <th>Score</th>\n",
       "      <th>Cut</th>\n",
       "      <th>FIR</th>\n",
       "      <th>FIR Rank</th>\n",
       "      <th>GIR</th>\n",
       "      <th>GIR Rank</th>\n",
       "      <th>dist</th>\n",
       "      <th>dist Rank</th>\n",
       "      <th>Putting</th>\n",
       "      <th>Putting Rank</th>\n",
       "    </tr>\n",
       "  </thead>\n",
       "  <tbody>\n",
       "    <tr>\n",
       "      <th>Adam Hadwin</th>\n",
       "      <td>T36</td>\n",
       "      <td>+6</td>\n",
       "      <td>0</td>\n",
       "      <td>57.14</td>\n",
       "      <td>75.0</td>\n",
       "      <td>58.33</td>\n",
       "      <td>47.0</td>\n",
       "      <td>260.38</td>\n",
       "      <td>78.0</td>\n",
       "      <td>1.60</td>\n",
       "      <td>13.0</td>\n",
       "    </tr>\n",
       "    <tr>\n",
       "      <th>Adam Scott</th>\n",
       "      <td>T9</td>\n",
       "      <td>-2</td>\n",
       "      <td>0</td>\n",
       "      <td>64.29</td>\n",
       "      <td>48.0</td>\n",
       "      <td>73.61</td>\n",
       "      <td>4.0</td>\n",
       "      <td>290.38</td>\n",
       "      <td>9.0</td>\n",
       "      <td>1.72</td>\n",
       "      <td>60.0</td>\n",
       "    </tr>\n",
       "    <tr>\n",
       "      <th>Alexander Noren</th>\n",
       "      <td>62</td>\n",
       "      <td>+8</td>\n",
       "      <td>1</td>\n",
       "      <td>71.43</td>\n",
       "      <td>18.0</td>\n",
       "      <td>55.56</td>\n",
       "      <td>54.0</td>\n",
       "      <td>275.25</td>\n",
       "      <td>50.0</td>\n",
       "      <td>1.72</td>\n",
       "      <td>60.0</td>\n",
       "    </tr>\n",
       "    <tr>\n",
       "      <th>Andy Sullivan</th>\n",
       "      <td>T48</td>\n",
       "      <td>+10</td>\n",
       "      <td>0</td>\n",
       "      <td>73.21</td>\n",
       "      <td>15.0</td>\n",
       "      <td>55.56</td>\n",
       "      <td>54.0</td>\n",
       "      <td>282.75</td>\n",
       "      <td>23.0</td>\n",
       "      <td>1.69</td>\n",
       "      <td>46.0</td>\n",
       "    </tr>\n",
       "    <tr>\n",
       "      <th>Angel Cabrera</th>\n",
       "      <td>78</td>\n",
       "      <td>+10</td>\n",
       "      <td>1</td>\n",
       "      <td>67.86</td>\n",
       "      <td>34.0</td>\n",
       "      <td>55.56</td>\n",
       "      <td>54.0</td>\n",
       "      <td>260.75</td>\n",
       "      <td>75.0</td>\n",
       "      <td>1.81</td>\n",
       "      <td>87.0</td>\n",
       "    </tr>\n",
       "  </tbody>\n",
       "</table>\n",
       "</div>"
      ],
      "text/plain": [
       "                Position Score  Cut    FIR  FIR Rank    GIR  GIR Rank    dist  \\\n",
       "Adam Hadwin          T36    +6    0  57.14      75.0  58.33      47.0  260.38   \n",
       "Adam Scott            T9    -2    0  64.29      48.0  73.61       4.0  290.38   \n",
       "Alexander Noren       62    +8    1  71.43      18.0  55.56      54.0  275.25   \n",
       "Andy Sullivan        T48   +10    0  73.21      15.0  55.56      54.0  282.75   \n",
       "Angel Cabrera         78   +10    1  67.86      34.0  55.56      54.0  260.75   \n",
       "\n",
       "                 dist Rank Putting  Putting Rank  \n",
       "Adam Hadwin           78.0    1.60          13.0  \n",
       "Adam Scott             9.0    1.72          60.0  \n",
       "Alexander Noren       50.0    1.72          60.0  \n",
       "Andy Sullivan         23.0    1.69          46.0  \n",
       "Angel Cabrera         75.0    1.81          87.0  "
      ]
     },
     "execution_count": 134,
     "metadata": {},
     "output_type": "execute_result"
    }
   ],
   "source": [
    "masters_2017.head()"
   ]
  },
  {
   "cell_type": "code",
   "execution_count": 135,
   "metadata": {},
   "outputs": [],
   "source": [
    "masters_2017['Position'] = masters_2017['Position'].map(lambda x:str(x).strip('T'))\n",
    "masters_2017['Score'] = masters_2017['Score'].replace({'E':0})"
   ]
  },
  {
   "cell_type": "code",
   "execution_count": 140,
   "metadata": {},
   "outputs": [],
   "source": [
    "## Change the type of the columns to numeric values to analyze later\n",
    "\n",
    "cols = ['FIR', 'FIR Rank', 'dist', 'dist Rank', 'GIR', 'GIR Rank', 'Putting',\n",
    "       'Putting Rank', 'Position', 'Score', 'Cut']\n",
    "\n",
    "masters_2017[cols] = masters_2017[cols].apply(pd.to_numeric, axis=1)\n",
    "\n"
   ]
  },
  {
   "cell_type": "code",
   "execution_count": 141,
   "metadata": {},
   "outputs": [],
   "source": [
    "masters_2017['Year'] = 2017"
   ]
  },
  {
   "cell_type": "code",
   "execution_count": 142,
   "metadata": {},
   "outputs": [
    {
     "data": {
      "text/html": [
       "<div>\n",
       "<style scoped>\n",
       "    .dataframe tbody tr th:only-of-type {\n",
       "        vertical-align: middle;\n",
       "    }\n",
       "\n",
       "    .dataframe tbody tr th {\n",
       "        vertical-align: top;\n",
       "    }\n",
       "\n",
       "    .dataframe thead th {\n",
       "        text-align: right;\n",
       "    }\n",
       "</style>\n",
       "<table border=\"1\" class=\"dataframe\">\n",
       "  <thead>\n",
       "    <tr style=\"text-align: right;\">\n",
       "      <th></th>\n",
       "      <th>Position</th>\n",
       "      <th>Score</th>\n",
       "      <th>Cut</th>\n",
       "      <th>FIR</th>\n",
       "      <th>FIR Rank</th>\n",
       "      <th>GIR</th>\n",
       "      <th>GIR Rank</th>\n",
       "      <th>dist</th>\n",
       "      <th>dist Rank</th>\n",
       "      <th>Putting</th>\n",
       "      <th>Putting Rank</th>\n",
       "      <th>Year</th>\n",
       "    </tr>\n",
       "  </thead>\n",
       "  <tbody>\n",
       "    <tr>\n",
       "      <th>Adam Hadwin</th>\n",
       "      <td>36.0</td>\n",
       "      <td>6.0</td>\n",
       "      <td>0.0</td>\n",
       "      <td>57.14</td>\n",
       "      <td>75.0</td>\n",
       "      <td>58.33</td>\n",
       "      <td>47.0</td>\n",
       "      <td>260.38</td>\n",
       "      <td>78.0</td>\n",
       "      <td>1.60</td>\n",
       "      <td>13.0</td>\n",
       "      <td>2017</td>\n",
       "    </tr>\n",
       "    <tr>\n",
       "      <th>Adam Scott</th>\n",
       "      <td>9.0</td>\n",
       "      <td>-2.0</td>\n",
       "      <td>0.0</td>\n",
       "      <td>64.29</td>\n",
       "      <td>48.0</td>\n",
       "      <td>73.61</td>\n",
       "      <td>4.0</td>\n",
       "      <td>290.38</td>\n",
       "      <td>9.0</td>\n",
       "      <td>1.72</td>\n",
       "      <td>60.0</td>\n",
       "      <td>2017</td>\n",
       "    </tr>\n",
       "    <tr>\n",
       "      <th>Alexander Noren</th>\n",
       "      <td>62.0</td>\n",
       "      <td>8.0</td>\n",
       "      <td>1.0</td>\n",
       "      <td>71.43</td>\n",
       "      <td>18.0</td>\n",
       "      <td>55.56</td>\n",
       "      <td>54.0</td>\n",
       "      <td>275.25</td>\n",
       "      <td>50.0</td>\n",
       "      <td>1.72</td>\n",
       "      <td>60.0</td>\n",
       "      <td>2017</td>\n",
       "    </tr>\n",
       "    <tr>\n",
       "      <th>Andy Sullivan</th>\n",
       "      <td>48.0</td>\n",
       "      <td>10.0</td>\n",
       "      <td>0.0</td>\n",
       "      <td>73.21</td>\n",
       "      <td>15.0</td>\n",
       "      <td>55.56</td>\n",
       "      <td>54.0</td>\n",
       "      <td>282.75</td>\n",
       "      <td>23.0</td>\n",
       "      <td>1.69</td>\n",
       "      <td>46.0</td>\n",
       "      <td>2017</td>\n",
       "    </tr>\n",
       "    <tr>\n",
       "      <th>Angel Cabrera</th>\n",
       "      <td>78.0</td>\n",
       "      <td>10.0</td>\n",
       "      <td>1.0</td>\n",
       "      <td>67.86</td>\n",
       "      <td>34.0</td>\n",
       "      <td>55.56</td>\n",
       "      <td>54.0</td>\n",
       "      <td>260.75</td>\n",
       "      <td>75.0</td>\n",
       "      <td>1.81</td>\n",
       "      <td>87.0</td>\n",
       "      <td>2017</td>\n",
       "    </tr>\n",
       "    <tr>\n",
       "      <th>Bernd Wiesberger</th>\n",
       "      <td>43.0</td>\n",
       "      <td>8.0</td>\n",
       "      <td>0.0</td>\n",
       "      <td>71.43</td>\n",
       "      <td>18.0</td>\n",
       "      <td>61.11</td>\n",
       "      <td>33.0</td>\n",
       "      <td>291.25</td>\n",
       "      <td>7.0</td>\n",
       "      <td>1.65</td>\n",
       "      <td>26.0</td>\n",
       "      <td>2017</td>\n",
       "    </tr>\n",
       "    <tr>\n",
       "      <th>Bernhard Langer</th>\n",
       "      <td>71.0</td>\n",
       "      <td>9.0</td>\n",
       "      <td>1.0</td>\n",
       "      <td>78.57</td>\n",
       "      <td>7.0</td>\n",
       "      <td>50.00</td>\n",
       "      <td>71.0</td>\n",
       "      <td>250.25</td>\n",
       "      <td>90.0</td>\n",
       "      <td>1.67</td>\n",
       "      <td>35.0</td>\n",
       "      <td>2017</td>\n",
       "    </tr>\n",
       "    <tr>\n",
       "      <th>Bill Haas</th>\n",
       "      <td>36.0</td>\n",
       "      <td>6.0</td>\n",
       "      <td>0.0</td>\n",
       "      <td>58.93</td>\n",
       "      <td>70.0</td>\n",
       "      <td>65.28</td>\n",
       "      <td>19.0</td>\n",
       "      <td>279.62</td>\n",
       "      <td>36.0</td>\n",
       "      <td>1.71</td>\n",
       "      <td>56.0</td>\n",
       "      <td>2017</td>\n",
       "    </tr>\n",
       "    <tr>\n",
       "      <th>Billy Hurley III</th>\n",
       "      <td>54.0</td>\n",
       "      <td>7.0</td>\n",
       "      <td>1.0</td>\n",
       "      <td>67.86</td>\n",
       "      <td>34.0</td>\n",
       "      <td>47.22</td>\n",
       "      <td>79.0</td>\n",
       "      <td>251.75</td>\n",
       "      <td>87.0</td>\n",
       "      <td>1.53</td>\n",
       "      <td>3.0</td>\n",
       "      <td>2017</td>\n",
       "    </tr>\n",
       "    <tr>\n",
       "      <th>Brad Dalke (a)</th>\n",
       "      <td>71.0</td>\n",
       "      <td>9.0</td>\n",
       "      <td>1.0</td>\n",
       "      <td>67.86</td>\n",
       "      <td>34.0</td>\n",
       "      <td>63.89</td>\n",
       "      <td>22.0</td>\n",
       "      <td>266.25</td>\n",
       "      <td>70.0</td>\n",
       "      <td>1.92</td>\n",
       "      <td>92.0</td>\n",
       "      <td>2017</td>\n",
       "    </tr>\n",
       "  </tbody>\n",
       "</table>\n",
       "</div>"
      ],
      "text/plain": [
       "                  Position  Score  Cut    FIR  FIR Rank    GIR  GIR Rank  \\\n",
       "Adam Hadwin           36.0    6.0  0.0  57.14      75.0  58.33      47.0   \n",
       "Adam Scott             9.0   -2.0  0.0  64.29      48.0  73.61       4.0   \n",
       "Alexander Noren       62.0    8.0  1.0  71.43      18.0  55.56      54.0   \n",
       "Andy Sullivan         48.0   10.0  0.0  73.21      15.0  55.56      54.0   \n",
       "Angel Cabrera         78.0   10.0  1.0  67.86      34.0  55.56      54.0   \n",
       "Bernd Wiesberger      43.0    8.0  0.0  71.43      18.0  61.11      33.0   \n",
       "Bernhard Langer       71.0    9.0  1.0  78.57       7.0  50.00      71.0   \n",
       "Bill Haas             36.0    6.0  0.0  58.93      70.0  65.28      19.0   \n",
       "Billy Hurley III      54.0    7.0  1.0  67.86      34.0  47.22      79.0   \n",
       "Brad Dalke (a)        71.0    9.0  1.0  67.86      34.0  63.89      22.0   \n",
       "\n",
       "                    dist  dist Rank  Putting  Putting Rank  Year  \n",
       "Adam Hadwin       260.38       78.0     1.60          13.0  2017  \n",
       "Adam Scott        290.38        9.0     1.72          60.0  2017  \n",
       "Alexander Noren   275.25       50.0     1.72          60.0  2017  \n",
       "Andy Sullivan     282.75       23.0     1.69          46.0  2017  \n",
       "Angel Cabrera     260.75       75.0     1.81          87.0  2017  \n",
       "Bernd Wiesberger  291.25        7.0     1.65          26.0  2017  \n",
       "Bernhard Langer   250.25       90.0     1.67          35.0  2017  \n",
       "Bill Haas         279.62       36.0     1.71          56.0  2017  \n",
       "Billy Hurley III  251.75       87.0     1.53           3.0  2017  \n",
       "Brad Dalke (a)    266.25       70.0     1.92          92.0  2017  "
      ]
     },
     "execution_count": 142,
     "metadata": {},
     "output_type": "execute_result"
    }
   ],
   "source": [
    "masters_2017.head(10)"
   ]
  },
  {
   "cell_type": "code",
   "execution_count": 143,
   "metadata": {},
   "outputs": [],
   "source": [
    "masters_2017.to_csv('Masters_2017.csv')"
   ]
  },
  {
   "cell_type": "code",
   "execution_count": 144,
   "metadata": {},
   "outputs": [],
   "source": [
    "driver.close()"
   ]
  },
  {
   "cell_type": "code",
   "execution_count": null,
   "metadata": {},
   "outputs": [],
   "source": []
  }
 ],
 "metadata": {
  "kernelspec": {
   "display_name": "Python 3",
   "language": "python",
   "name": "python3"
  },
  "language_info": {
   "codemirror_mode": {
    "name": "ipython",
    "version": 3
   },
   "file_extension": ".py",
   "mimetype": "text/x-python",
   "name": "python",
   "nbconvert_exporter": "python",
   "pygments_lexer": "ipython3",
   "version": "3.6.5"
  }
 },
 "nbformat": 4,
 "nbformat_minor": 2
}
