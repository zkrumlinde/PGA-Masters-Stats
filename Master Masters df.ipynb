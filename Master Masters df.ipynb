{
 "cells": [
  {
   "cell_type": "code",
   "execution_count": 25,
   "metadata": {},
   "outputs": [
    {
     "name": "stdout",
     "output_type": "stream",
     "text": [
      "/Users/genevieveberent/Desktop/Zak_Portfolio/PGA_Masters\n"
     ]
    }
   ],
   "source": [
    "%cd /Users/genevieveberent/Desktop/Zak_Portfolio/PGA_Masters"
   ]
  },
  {
   "cell_type": "code",
   "execution_count": 26,
   "metadata": {},
   "outputs": [],
   "source": [
    "import pandas as pd"
   ]
  },
  {
   "cell_type": "code",
   "execution_count": 36,
   "metadata": {},
   "outputs": [],
   "source": [
    "masters_2014 = pd.read_csv('Masters_2014.csv', index_col='Unnamed: 0')\n",
    "masters_2015 = pd.read_csv('Masters_2015.csv', index_col='Unnamed: 0')\n",
    "masters_2016 = pd.read_csv('2016_Masters.csv', index_col='Unnamed: 0')\n",
    "masters_2017 = pd.read_csv('Masters_2017.csv', index_col='Unnamed: 0')\n",
    "masters_2018 = pd.read_csv('Masters_2018.csv', index_col='Unnamed: 0')\n",
    "masters_2019 = pd.read_csv('2019_Masters.csv', index_col='Unnamed: 0')"
   ]
  },
  {
   "cell_type": "code",
   "execution_count": 37,
   "metadata": {},
   "outputs": [
    {
     "name": "stderr",
     "output_type": "stream",
     "text": [
      "/Users/genevieveberent/Desktop/anaconda3/lib/python3.6/site-packages/ipykernel_launcher.py:1: FutureWarning: Sorting because non-concatenation axis is not aligned. A future version\n",
      "of pandas will change to not sort by default.\n",
      "\n",
      "To accept the future behavior, pass 'sort=True'.\n",
      "\n",
      "To retain the current behavior and silence the warning, pass sort=False\n",
      "\n",
      "  \"\"\"Entry point for launching an IPython kernel.\n"
     ]
    }
   ],
   "source": [
    "masters = pd.concat([masters_2014, masters_2015, masters_2016, masters_2017, masters_2018, masters_2019])"
   ]
  },
  {
   "cell_type": "code",
   "execution_count": 38,
   "metadata": {},
   "outputs": [
    {
     "data": {
      "text/plain": [
       "(550, 12)"
      ]
     },
     "execution_count": 38,
     "metadata": {},
     "output_type": "execute_result"
    }
   ],
   "source": [
    "masters.shape"
   ]
  },
  {
   "cell_type": "code",
   "execution_count": 39,
   "metadata": {},
   "outputs": [
    {
     "data": {
      "text/html": [
       "<div>\n",
       "<style scoped>\n",
       "    .dataframe tbody tr th:only-of-type {\n",
       "        vertical-align: middle;\n",
       "    }\n",
       "\n",
       "    .dataframe tbody tr th {\n",
       "        vertical-align: top;\n",
       "    }\n",
       "\n",
       "    .dataframe thead th {\n",
       "        text-align: right;\n",
       "    }\n",
       "</style>\n",
       "<table border=\"1\" class=\"dataframe\">\n",
       "  <thead>\n",
       "    <tr style=\"text-align: right;\">\n",
       "      <th></th>\n",
       "      <th>Cut</th>\n",
       "      <th>FIR</th>\n",
       "      <th>FIR Rank</th>\n",
       "      <th>GIR</th>\n",
       "      <th>GIR Rank</th>\n",
       "      <th>Position</th>\n",
       "      <th>Putting</th>\n",
       "      <th>Putting Rank</th>\n",
       "      <th>Score</th>\n",
       "      <th>Year</th>\n",
       "      <th>dist</th>\n",
       "      <th>dist Rank</th>\n",
       "    </tr>\n",
       "  </thead>\n",
       "  <tbody>\n",
       "    <tr>\n",
       "      <th>A. Scott</th>\n",
       "      <td>0.0</td>\n",
       "      <td>58.93</td>\n",
       "      <td>82.0</td>\n",
       "      <td>66.67</td>\n",
       "      <td>11.0</td>\n",
       "      <td>14.0</td>\n",
       "      <td>1.69</td>\n",
       "      <td>60.0</td>\n",
       "      <td>1.0</td>\n",
       "      <td>2014</td>\n",
       "      <td>298.38</td>\n",
       "      <td>6.0</td>\n",
       "    </tr>\n",
       "    <tr>\n",
       "      <th>B. Crenshaw</th>\n",
       "      <td>1.0</td>\n",
       "      <td>67.86</td>\n",
       "      <td>44.0</td>\n",
       "      <td>25.00</td>\n",
       "      <td>97.0</td>\n",
       "      <td>97.0</td>\n",
       "      <td>1.67</td>\n",
       "      <td>44.0</td>\n",
       "      <td>24.0</td>\n",
       "      <td>2014</td>\n",
       "      <td>238.50</td>\n",
       "      <td>97.0</td>\n",
       "    </tr>\n",
       "    <tr>\n",
       "      <th>B. Grace</th>\n",
       "      <td>1.0</td>\n",
       "      <td>53.57</td>\n",
       "      <td>93.0</td>\n",
       "      <td>44.44</td>\n",
       "      <td>89.0</td>\n",
       "      <td>80.0</td>\n",
       "      <td>1.61</td>\n",
       "      <td>22.0</td>\n",
       "      <td>9.0</td>\n",
       "      <td>2014</td>\n",
       "      <td>280.75</td>\n",
       "      <td>73.0</td>\n",
       "    </tr>\n",
       "    <tr>\n",
       "      <th>B. Haas</th>\n",
       "      <td>0.0</td>\n",
       "      <td>67.86</td>\n",
       "      <td>44.0</td>\n",
       "      <td>65.28</td>\n",
       "      <td>14.0</td>\n",
       "      <td>20.0</td>\n",
       "      <td>1.68</td>\n",
       "      <td>54.0</td>\n",
       "      <td>2.0</td>\n",
       "      <td>2014</td>\n",
       "      <td>286.62</td>\n",
       "      <td>50.0</td>\n",
       "    </tr>\n",
       "    <tr>\n",
       "      <th>B. Horschel</th>\n",
       "      <td>0.0</td>\n",
       "      <td>66.07</td>\n",
       "      <td>57.0</td>\n",
       "      <td>72.22</td>\n",
       "      <td>2.0</td>\n",
       "      <td>37.0</td>\n",
       "      <td>1.82</td>\n",
       "      <td>88.0</td>\n",
       "      <td>7.0</td>\n",
       "      <td>2014</td>\n",
       "      <td>290.12</td>\n",
       "      <td>33.0</td>\n",
       "    </tr>\n",
       "  </tbody>\n",
       "</table>\n",
       "</div>"
      ],
      "text/plain": [
       "             Cut    FIR  FIR Rank    GIR  GIR Rank  Position  Putting  \\\n",
       "A. Scott     0.0  58.93      82.0  66.67      11.0      14.0     1.69   \n",
       "B. Crenshaw  1.0  67.86      44.0  25.00      97.0      97.0     1.67   \n",
       "B. Grace     1.0  53.57      93.0  44.44      89.0      80.0     1.61   \n",
       "B. Haas      0.0  67.86      44.0  65.28      14.0      20.0     1.68   \n",
       "B. Horschel  0.0  66.07      57.0  72.22       2.0      37.0     1.82   \n",
       "\n",
       "             Putting Rank  Score  Year    dist  dist Rank  \n",
       "A. Scott             60.0    1.0  2014  298.38        6.0  \n",
       "B. Crenshaw          44.0   24.0  2014  238.50       97.0  \n",
       "B. Grace             22.0    9.0  2014  280.75       73.0  \n",
       "B. Haas              54.0    2.0  2014  286.62       50.0  \n",
       "B. Horschel          88.0    7.0  2014  290.12       33.0  "
      ]
     },
     "execution_count": 39,
     "metadata": {},
     "output_type": "execute_result"
    }
   ],
   "source": [
    "masters.head()"
   ]
  },
  {
   "cell_type": "code",
   "execution_count": 40,
   "metadata": {},
   "outputs": [
    {
     "data": {
      "text/plain": [
       "Index(['Cut', 'FIR', 'FIR Rank', 'GIR', 'GIR Rank', 'Position', 'Putting',\n",
       "       'Putting Rank', 'Score', 'Year', 'dist', 'dist Rank'],\n",
       "      dtype='object')"
      ]
     },
     "execution_count": 40,
     "metadata": {},
     "output_type": "execute_result"
    }
   ],
   "source": [
    "masters.columns"
   ]
  },
  {
   "cell_type": "code",
   "execution_count": 41,
   "metadata": {},
   "outputs": [],
   "source": [
    "masters = masters[['Position', 'Score', 'FIR', 'FIR Rank', 'dist', 'dist Rank', \n",
    "                   'GIR', 'GIR Rank', 'Putting', 'Putting Rank', 'Year', 'Cut']]"
   ]
  },
  {
   "cell_type": "code",
   "execution_count": 42,
   "metadata": {},
   "outputs": [
    {
     "data": {
      "text/html": [
       "<div>\n",
       "<style scoped>\n",
       "    .dataframe tbody tr th:only-of-type {\n",
       "        vertical-align: middle;\n",
       "    }\n",
       "\n",
       "    .dataframe tbody tr th {\n",
       "        vertical-align: top;\n",
       "    }\n",
       "\n",
       "    .dataframe thead th {\n",
       "        text-align: right;\n",
       "    }\n",
       "</style>\n",
       "<table border=\"1\" class=\"dataframe\">\n",
       "  <thead>\n",
       "    <tr style=\"text-align: right;\">\n",
       "      <th></th>\n",
       "      <th>Position</th>\n",
       "      <th>Score</th>\n",
       "      <th>FIR</th>\n",
       "      <th>FIR Rank</th>\n",
       "      <th>dist</th>\n",
       "      <th>dist Rank</th>\n",
       "      <th>GIR</th>\n",
       "      <th>GIR Rank</th>\n",
       "      <th>Putting</th>\n",
       "      <th>Putting Rank</th>\n",
       "      <th>Year</th>\n",
       "      <th>Cut</th>\n",
       "    </tr>\n",
       "  </thead>\n",
       "  <tbody>\n",
       "    <tr>\n",
       "      <th>A. Scott</th>\n",
       "      <td>14.0</td>\n",
       "      <td>1.0</td>\n",
       "      <td>58.93</td>\n",
       "      <td>82.0</td>\n",
       "      <td>298.38</td>\n",
       "      <td>6.0</td>\n",
       "      <td>66.67</td>\n",
       "      <td>11.0</td>\n",
       "      <td>1.69</td>\n",
       "      <td>60.0</td>\n",
       "      <td>2014</td>\n",
       "      <td>0.0</td>\n",
       "    </tr>\n",
       "    <tr>\n",
       "      <th>B. Crenshaw</th>\n",
       "      <td>97.0</td>\n",
       "      <td>24.0</td>\n",
       "      <td>67.86</td>\n",
       "      <td>44.0</td>\n",
       "      <td>238.50</td>\n",
       "      <td>97.0</td>\n",
       "      <td>25.00</td>\n",
       "      <td>97.0</td>\n",
       "      <td>1.67</td>\n",
       "      <td>44.0</td>\n",
       "      <td>2014</td>\n",
       "      <td>1.0</td>\n",
       "    </tr>\n",
       "    <tr>\n",
       "      <th>B. Grace</th>\n",
       "      <td>80.0</td>\n",
       "      <td>9.0</td>\n",
       "      <td>53.57</td>\n",
       "      <td>93.0</td>\n",
       "      <td>280.75</td>\n",
       "      <td>73.0</td>\n",
       "      <td>44.44</td>\n",
       "      <td>89.0</td>\n",
       "      <td>1.61</td>\n",
       "      <td>22.0</td>\n",
       "      <td>2014</td>\n",
       "      <td>1.0</td>\n",
       "    </tr>\n",
       "    <tr>\n",
       "      <th>B. Haas</th>\n",
       "      <td>20.0</td>\n",
       "      <td>2.0</td>\n",
       "      <td>67.86</td>\n",
       "      <td>44.0</td>\n",
       "      <td>286.62</td>\n",
       "      <td>50.0</td>\n",
       "      <td>65.28</td>\n",
       "      <td>14.0</td>\n",
       "      <td>1.68</td>\n",
       "      <td>54.0</td>\n",
       "      <td>2014</td>\n",
       "      <td>0.0</td>\n",
       "    </tr>\n",
       "    <tr>\n",
       "      <th>B. Horschel</th>\n",
       "      <td>37.0</td>\n",
       "      <td>7.0</td>\n",
       "      <td>66.07</td>\n",
       "      <td>57.0</td>\n",
       "      <td>290.12</td>\n",
       "      <td>33.0</td>\n",
       "      <td>72.22</td>\n",
       "      <td>2.0</td>\n",
       "      <td>1.82</td>\n",
       "      <td>88.0</td>\n",
       "      <td>2014</td>\n",
       "      <td>0.0</td>\n",
       "    </tr>\n",
       "  </tbody>\n",
       "</table>\n",
       "</div>"
      ],
      "text/plain": [
       "             Position  Score    FIR  FIR Rank    dist  dist Rank    GIR  \\\n",
       "A. Scott         14.0    1.0  58.93      82.0  298.38        6.0  66.67   \n",
       "B. Crenshaw      97.0   24.0  67.86      44.0  238.50       97.0  25.00   \n",
       "B. Grace         80.0    9.0  53.57      93.0  280.75       73.0  44.44   \n",
       "B. Haas          20.0    2.0  67.86      44.0  286.62       50.0  65.28   \n",
       "B. Horschel      37.0    7.0  66.07      57.0  290.12       33.0  72.22   \n",
       "\n",
       "             GIR Rank  Putting  Putting Rank  Year  Cut  \n",
       "A. Scott         11.0     1.69          60.0  2014  0.0  \n",
       "B. Crenshaw      97.0     1.67          44.0  2014  1.0  \n",
       "B. Grace         89.0     1.61          22.0  2014  1.0  \n",
       "B. Haas          14.0     1.68          54.0  2014  0.0  \n",
       "B. Horschel       2.0     1.82          88.0  2014  0.0  "
      ]
     },
     "execution_count": 42,
     "metadata": {},
     "output_type": "execute_result"
    }
   ],
   "source": [
    "masters.head()"
   ]
  },
  {
   "cell_type": "code",
   "execution_count": 43,
   "metadata": {},
   "outputs": [
    {
     "data": {
      "text/plain": [
       "(550, 12)"
      ]
     },
     "execution_count": 43,
     "metadata": {},
     "output_type": "execute_result"
    }
   ],
   "source": [
    "masters.shape"
   ]
  },
  {
   "cell_type": "code",
   "execution_count": 44,
   "metadata": {},
   "outputs": [],
   "source": [
    "masters[['Position', 'Score', 'FIR Rank', 'dist Rank', 'GIR Rank', 'Putting Rank', 'Year', 'Cut']] = masters[['Position', 'Score', 'FIR Rank', 'dist Rank', 'GIR Rank', 'Putting Rank', 'Year', 'Cut']].astype(int)"
   ]
  },
  {
   "cell_type": "code",
   "execution_count": 45,
   "metadata": {},
   "outputs": [
    {
     "data": {
      "text/html": [
       "<div>\n",
       "<style scoped>\n",
       "    .dataframe tbody tr th:only-of-type {\n",
       "        vertical-align: middle;\n",
       "    }\n",
       "\n",
       "    .dataframe tbody tr th {\n",
       "        vertical-align: top;\n",
       "    }\n",
       "\n",
       "    .dataframe thead th {\n",
       "        text-align: right;\n",
       "    }\n",
       "</style>\n",
       "<table border=\"1\" class=\"dataframe\">\n",
       "  <thead>\n",
       "    <tr style=\"text-align: right;\">\n",
       "      <th></th>\n",
       "      <th>Position</th>\n",
       "      <th>Score</th>\n",
       "      <th>FIR</th>\n",
       "      <th>FIR Rank</th>\n",
       "      <th>dist</th>\n",
       "      <th>dist Rank</th>\n",
       "      <th>GIR</th>\n",
       "      <th>GIR Rank</th>\n",
       "      <th>Putting</th>\n",
       "      <th>Putting Rank</th>\n",
       "      <th>Year</th>\n",
       "      <th>Cut</th>\n",
       "    </tr>\n",
       "  </thead>\n",
       "  <tbody>\n",
       "    <tr>\n",
       "      <th>A. Scott</th>\n",
       "      <td>14</td>\n",
       "      <td>1</td>\n",
       "      <td>58.93</td>\n",
       "      <td>82</td>\n",
       "      <td>298.38</td>\n",
       "      <td>6</td>\n",
       "      <td>66.67</td>\n",
       "      <td>11</td>\n",
       "      <td>1.69</td>\n",
       "      <td>60</td>\n",
       "      <td>2014</td>\n",
       "      <td>0</td>\n",
       "    </tr>\n",
       "    <tr>\n",
       "      <th>B. Crenshaw</th>\n",
       "      <td>97</td>\n",
       "      <td>24</td>\n",
       "      <td>67.86</td>\n",
       "      <td>44</td>\n",
       "      <td>238.50</td>\n",
       "      <td>97</td>\n",
       "      <td>25.00</td>\n",
       "      <td>97</td>\n",
       "      <td>1.67</td>\n",
       "      <td>44</td>\n",
       "      <td>2014</td>\n",
       "      <td>1</td>\n",
       "    </tr>\n",
       "    <tr>\n",
       "      <th>B. Grace</th>\n",
       "      <td>80</td>\n",
       "      <td>9</td>\n",
       "      <td>53.57</td>\n",
       "      <td>93</td>\n",
       "      <td>280.75</td>\n",
       "      <td>73</td>\n",
       "      <td>44.44</td>\n",
       "      <td>89</td>\n",
       "      <td>1.61</td>\n",
       "      <td>22</td>\n",
       "      <td>2014</td>\n",
       "      <td>1</td>\n",
       "    </tr>\n",
       "    <tr>\n",
       "      <th>B. Haas</th>\n",
       "      <td>20</td>\n",
       "      <td>2</td>\n",
       "      <td>67.86</td>\n",
       "      <td>44</td>\n",
       "      <td>286.62</td>\n",
       "      <td>50</td>\n",
       "      <td>65.28</td>\n",
       "      <td>14</td>\n",
       "      <td>1.68</td>\n",
       "      <td>54</td>\n",
       "      <td>2014</td>\n",
       "      <td>0</td>\n",
       "    </tr>\n",
       "    <tr>\n",
       "      <th>B. Horschel</th>\n",
       "      <td>37</td>\n",
       "      <td>7</td>\n",
       "      <td>66.07</td>\n",
       "      <td>57</td>\n",
       "      <td>290.12</td>\n",
       "      <td>33</td>\n",
       "      <td>72.22</td>\n",
       "      <td>2</td>\n",
       "      <td>1.82</td>\n",
       "      <td>88</td>\n",
       "      <td>2014</td>\n",
       "      <td>0</td>\n",
       "    </tr>\n",
       "  </tbody>\n",
       "</table>\n",
       "</div>"
      ],
      "text/plain": [
       "             Position  Score    FIR  FIR Rank    dist  dist Rank    GIR  \\\n",
       "A. Scott           14      1  58.93        82  298.38          6  66.67   \n",
       "B. Crenshaw        97     24  67.86        44  238.50         97  25.00   \n",
       "B. Grace           80      9  53.57        93  280.75         73  44.44   \n",
       "B. Haas            20      2  67.86        44  286.62         50  65.28   \n",
       "B. Horschel        37      7  66.07        57  290.12         33  72.22   \n",
       "\n",
       "             GIR Rank  Putting  Putting Rank  Year  Cut  \n",
       "A. Scott           11     1.69            60  2014    0  \n",
       "B. Crenshaw        97     1.67            44  2014    1  \n",
       "B. Grace           89     1.61            22  2014    1  \n",
       "B. Haas            14     1.68            54  2014    0  \n",
       "B. Horschel         2     1.82            88  2014    0  "
      ]
     },
     "execution_count": 45,
     "metadata": {},
     "output_type": "execute_result"
    }
   ],
   "source": [
    "masters.head()"
   ]
  },
  {
   "cell_type": "code",
   "execution_count": 46,
   "metadata": {},
   "outputs": [],
   "source": [
    "masters.to_csv('Masters.csv')"
   ]
  },
  {
   "cell_type": "code",
   "execution_count": null,
   "metadata": {},
   "outputs": [],
   "source": []
  }
 ],
 "metadata": {
  "kernelspec": {
   "display_name": "Python 3",
   "language": "python",
   "name": "python3"
  },
  "language_info": {
   "codemirror_mode": {
    "name": "ipython",
    "version": 3
   },
   "file_extension": ".py",
   "mimetype": "text/x-python",
   "name": "python",
   "nbconvert_exporter": "python",
   "pygments_lexer": "ipython3",
   "version": "3.6.5"
  }
 },
 "nbformat": 4,
 "nbformat_minor": 2
}
