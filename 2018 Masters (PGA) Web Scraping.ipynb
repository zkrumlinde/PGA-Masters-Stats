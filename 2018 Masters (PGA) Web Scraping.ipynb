{
 "cells": [
  {
   "cell_type": "code",
   "execution_count": 2,
   "metadata": {},
   "outputs": [],
   "source": [
    "import selenium\n",
    "import pandas as pd\n",
    "import numpy as np"
   ]
  },
  {
   "cell_type": "code",
   "execution_count": 3,
   "metadata": {},
   "outputs": [
    {
     "name": "stdout",
     "output_type": "stream",
     "text": [
      "/Users/genevieveberent/Desktop/Zak_Portfolio/PGA_Masters\n"
     ]
    }
   ],
   "source": [
    "%cd /Users/genevieveberent/Desktop/Zak_Portfolio/PGA_Masters"
   ]
  },
  {
   "cell_type": "code",
   "execution_count": 4,
   "metadata": {},
   "outputs": [],
   "source": [
    "## Open the Chrome browser of 2018 Fairways in Regulation stats\n",
    "\n",
    "driver = webdriver.Chrome()\n",
    "driver.get('https://2018.masters.com/en_US/scores/stats/fir.html')"
   ]
  },
  {
   "cell_type": "code",
   "execution_count": 7,
   "metadata": {},
   "outputs": [],
   "source": [
    "## Get a list of the player names \n",
    "\n",
    "fir2018_players = []\n",
    "\n",
    "## Compare xpaths to iterate over all players\n",
    "## first xpath: //*[@id=\"table-8655\"]/tbody/tr[1]/td[1]/a\n",
    "## last xpath: //*[@id=\"table-8655\"]/tbody/tr[87]/td[1]/a\n",
    "\n",
    "for x in range(88):\n",
    "    path = '//*[@id=\"table-8655\"]/tbody/tr[' + str(x) + ']/td[1]/a'\n",
    "    fir_players = driver.find_elements_by_xpath(path)\n",
    "\n",
    "    for player in fir_players:\n",
    "        fir2018_players.append(player.text)"
   ]
  },
  {
   "cell_type": "code",
   "execution_count": 8,
   "metadata": {},
   "outputs": [
    {
     "name": "stdout",
     "output_type": "stream",
     "text": [
      "87\n",
      "['Bernhard Langer', 'Ryan Moore', 'Bubba Watson']\n",
      "['Austin Cook', 'Trevor Immelman', 'Harry Ellis (A)']\n"
     ]
    }
   ],
   "source": [
    "print(len(fir2018_players))\n",
    "print(fir2018_players[:3])\n",
    "print(fir2018_players[-3:])"
   ]
  },
  {
   "cell_type": "raw",
   "metadata": {},
   "source": [
    "Checks out with our website that 'Bernhard Langer' was the first entry and 'Harry Ellis (A)' was the last"
   ]
  },
  {
   "cell_type": "code",
   "execution_count": 11,
   "metadata": {},
   "outputs": [],
   "source": [
    "## Get the Fairways in Regulation stats in the same order that the players were in\n",
    "\n",
    "fir2018_stats = []\n",
    "\n",
    "## Get the stats from the class method instead of xpath here\n",
    "\n",
    "fir_stats = driver.find_elements_by_class_name('col6')\n",
    "\n",
    "for stat in fir_stats:\n",
    "    fir2018_stats.append(stat.text)\n"
   ]
  },
  {
   "cell_type": "code",
   "execution_count": 12,
   "metadata": {},
   "outputs": [
    {
     "name": "stdout",
     "output_type": "stream",
     "text": [
      "88\n",
      "['TOTAL', '48 / 56 = 85.71%', '47 / 56 = 83.93%']\n",
      "['13 / 28 = 46.43%', '10 / 28 = 35.71%', '8 / 28 = 28.57%']\n"
     ]
    }
   ],
   "source": [
    "print(len(fir2018_stats))\n",
    "print(fir2018_stats[:3])\n",
    "print(fir2018_stats[-3:])"
   ]
  },
  {
   "cell_type": "raw",
   "metadata": {},
   "source": [
    "One issue here is that there are 88 elements in this list, but we can see that the first item in the list is the Header of the column, 'TOTAL'.  When this is removed, everything will align correctly to put in a DataFrame."
   ]
  },
  {
   "cell_type": "code",
   "execution_count": 13,
   "metadata": {},
   "outputs": [
    {
     "name": "stdout",
     "output_type": "stream",
     "text": [
      "87\n",
      "['48 / 56 = 85.71%', '47 / 56 = 83.93%', '47 / 56 = 83.93%']\n"
     ]
    }
   ],
   "source": [
    "## Delete the 'TOTAL' element from the list\n",
    "\n",
    "del fir2018_stats[0]\n",
    "\n",
    "print(len(fir2018_stats))\n",
    "print(fir2018_stats[:3])"
   ]
  },
  {
   "cell_type": "code",
   "execution_count": 14,
   "metadata": {},
   "outputs": [],
   "source": [
    "## Create a DataFrame of the Fairways in Regulation\n",
    "fir2018 = pd.DataFrame.from_dict({'Player':fir2018_players, 'FIR':fir2018_stats})"
   ]
  },
  {
   "cell_type": "code",
   "execution_count": 15,
   "metadata": {},
   "outputs": [
    {
     "data": {
      "text/html": [
       "<div>\n",
       "<style scoped>\n",
       "    .dataframe tbody tr th:only-of-type {\n",
       "        vertical-align: middle;\n",
       "    }\n",
       "\n",
       "    .dataframe tbody tr th {\n",
       "        vertical-align: top;\n",
       "    }\n",
       "\n",
       "    .dataframe thead th {\n",
       "        text-align: right;\n",
       "    }\n",
       "</style>\n",
       "<table border=\"1\" class=\"dataframe\">\n",
       "  <thead>\n",
       "    <tr style=\"text-align: right;\">\n",
       "      <th></th>\n",
       "      <th>Player</th>\n",
       "      <th>FIR</th>\n",
       "    </tr>\n",
       "  </thead>\n",
       "  <tbody>\n",
       "    <tr>\n",
       "      <th>0</th>\n",
       "      <td>Bernhard Langer</td>\n",
       "      <td>48 / 56 = 85.71%</td>\n",
       "    </tr>\n",
       "    <tr>\n",
       "      <th>1</th>\n",
       "      <td>Ryan Moore</td>\n",
       "      <td>47 / 56 = 83.93%</td>\n",
       "    </tr>\n",
       "    <tr>\n",
       "      <th>2</th>\n",
       "      <td>Bubba Watson</td>\n",
       "      <td>47 / 56 = 83.93%</td>\n",
       "    </tr>\n",
       "  </tbody>\n",
       "</table>\n",
       "</div>"
      ],
      "text/plain": [
       "            Player               FIR\n",
       "0  Bernhard Langer  48 / 56 = 85.71%\n",
       "1       Ryan Moore  47 / 56 = 83.93%\n",
       "2     Bubba Watson  47 / 56 = 83.93%"
      ]
     },
     "execution_count": 15,
     "metadata": {},
     "output_type": "execute_result"
    }
   ],
   "source": [
    "fir2018.head(3)"
   ]
  },
  {
   "cell_type": "code",
   "execution_count": 16,
   "metadata": {},
   "outputs": [],
   "source": [
    "## To be able to analyze, I only want the % as a float, luckily it will always be 5 elements long in the same position\n",
    "\n",
    "fir2018['FIR'] = fir2018['FIR'].map(lambda x:str(x)[-6:-1])"
   ]
  },
  {
   "cell_type": "code",
   "execution_count": 17,
   "metadata": {},
   "outputs": [
    {
     "data": {
      "text/html": [
       "<div>\n",
       "<style scoped>\n",
       "    .dataframe tbody tr th:only-of-type {\n",
       "        vertical-align: middle;\n",
       "    }\n",
       "\n",
       "    .dataframe tbody tr th {\n",
       "        vertical-align: top;\n",
       "    }\n",
       "\n",
       "    .dataframe thead th {\n",
       "        text-align: right;\n",
       "    }\n",
       "</style>\n",
       "<table border=\"1\" class=\"dataframe\">\n",
       "  <thead>\n",
       "    <tr style=\"text-align: right;\">\n",
       "      <th></th>\n",
       "      <th>Player</th>\n",
       "      <th>FIR</th>\n",
       "    </tr>\n",
       "  </thead>\n",
       "  <tbody>\n",
       "    <tr>\n",
       "      <th>0</th>\n",
       "      <td>Bernhard Langer</td>\n",
       "      <td>85.71</td>\n",
       "    </tr>\n",
       "    <tr>\n",
       "      <th>1</th>\n",
       "      <td>Ryan Moore</td>\n",
       "      <td>83.93</td>\n",
       "    </tr>\n",
       "    <tr>\n",
       "      <th>2</th>\n",
       "      <td>Bubba Watson</td>\n",
       "      <td>83.93</td>\n",
       "    </tr>\n",
       "  </tbody>\n",
       "</table>\n",
       "</div>"
      ],
      "text/plain": [
       "            Player    FIR\n",
       "0  Bernhard Langer  85.71\n",
       "1       Ryan Moore  83.93\n",
       "2     Bubba Watson  83.93"
      ]
     },
     "execution_count": 17,
     "metadata": {},
     "output_type": "execute_result"
    }
   ],
   "source": [
    "fir2018.head(3)"
   ]
  },
  {
   "cell_type": "code",
   "execution_count": 18,
   "metadata": {},
   "outputs": [],
   "source": [
    "fir2018['FIR Rank'] = fir2018['FIR'].rank(method='min', ascending=False)"
   ]
  },
  {
   "cell_type": "code",
   "execution_count": 19,
   "metadata": {},
   "outputs": [
    {
     "data": {
      "text/html": [
       "<div>\n",
       "<style scoped>\n",
       "    .dataframe tbody tr th:only-of-type {\n",
       "        vertical-align: middle;\n",
       "    }\n",
       "\n",
       "    .dataframe tbody tr th {\n",
       "        vertical-align: top;\n",
       "    }\n",
       "\n",
       "    .dataframe thead th {\n",
       "        text-align: right;\n",
       "    }\n",
       "</style>\n",
       "<table border=\"1\" class=\"dataframe\">\n",
       "  <thead>\n",
       "    <tr style=\"text-align: right;\">\n",
       "      <th></th>\n",
       "      <th>Player</th>\n",
       "      <th>FIR</th>\n",
       "      <th>FIR Rank</th>\n",
       "    </tr>\n",
       "  </thead>\n",
       "  <tbody>\n",
       "    <tr>\n",
       "      <th>0</th>\n",
       "      <td>Bernhard Langer</td>\n",
       "      <td>85.71</td>\n",
       "      <td>1.0</td>\n",
       "    </tr>\n",
       "    <tr>\n",
       "      <th>1</th>\n",
       "      <td>Ryan Moore</td>\n",
       "      <td>83.93</td>\n",
       "      <td>2.0</td>\n",
       "    </tr>\n",
       "    <tr>\n",
       "      <th>2</th>\n",
       "      <td>Bubba Watson</td>\n",
       "      <td>83.93</td>\n",
       "      <td>2.0</td>\n",
       "    </tr>\n",
       "  </tbody>\n",
       "</table>\n",
       "</div>"
      ],
      "text/plain": [
       "            Player    FIR  FIR Rank\n",
       "0  Bernhard Langer  85.71       1.0\n",
       "1       Ryan Moore  83.93       2.0\n",
       "2     Bubba Watson  83.93       2.0"
      ]
     },
     "execution_count": 19,
     "metadata": {},
     "output_type": "execute_result"
    }
   ],
   "source": [
    "fir2018.head(3)"
   ]
  },
  {
   "cell_type": "code",
   "execution_count": 20,
   "metadata": {},
   "outputs": [],
   "source": [
    "## Looks good to me\n",
    "\n",
    "fir2018.to_csv('2018_FIR.csv')"
   ]
  },
  {
   "cell_type": "code",
   "execution_count": null,
   "metadata": {},
   "outputs": [],
   "source": []
  },
  {
   "cell_type": "markdown",
   "metadata": {},
   "source": [
    "## Greens in Regulation"
   ]
  },
  {
   "cell_type": "code",
   "execution_count": 21,
   "metadata": {},
   "outputs": [],
   "source": [
    "driver.get('https://2018.masters.com/en_US/scores/stats/gir.html')"
   ]
  },
  {
   "cell_type": "code",
   "execution_count": 24,
   "metadata": {},
   "outputs": [],
   "source": [
    "## Get the players names in the order listed on the Greens in Regulation page\n",
    "\n",
    "gir2018_players = []\n",
    "\n",
    "## Compare xpaths to iterate over all players\n",
    "## //*[@id=\"table-4750\"]/tbody/tr[1]/td[1]/a\n",
    "## //*[@id=\"table-4750\"]/tbody/tr[87]/td[1]/a\n",
    "\n",
    "for x in range(88):\n",
    "    path = '//*[@id=\"table-4750\"]/tbody/tr[' + str(x) + ']/td[1]/a'\n",
    "    gir_player_names = driver.find_elements_by_xpath(path)\n",
    "\n",
    "    for player in gir_player_names:\n",
    "        gir2018_players.append(player.text)"
   ]
  },
  {
   "cell_type": "code",
   "execution_count": 25,
   "metadata": {},
   "outputs": [
    {
     "name": "stdout",
     "output_type": "stream",
     "text": [
      "87\n",
      "['Bubba Watson', 'Justin Thomas', 'Justin Rose']\n",
      "['Sandy Lyle', 'Harry Ellis (A)', 'Larry Mize']\n"
     ]
    }
   ],
   "source": [
    "## Check that everything lines up correctly\n",
    "\n",
    "print(len(gir2018_players))\n",
    "print(gir2018_players[:3])\n",
    "print(gir2018_players[-3:])"
   ]
  },
  {
   "cell_type": "code",
   "execution_count": 26,
   "metadata": {},
   "outputs": [],
   "source": [
    "## Get the Greens in Regulation % in the same order as the players\n",
    "\n",
    "gir2018_stats = []\n",
    "\n",
    "## Going to get by xpath to avoid having to delete the first element\n",
    "## xpath of first: //*[@id=\"table-4750\"]/tbody/tr[1]/td[6]\n",
    "## xpath of last: //*[@id=\"table-4750\"]/tbody/tr[87]/td[6]\n",
    "\n",
    "\n",
    "for i in range(88):\n",
    "    path = '//*[@id=\"table-4750\"]/tbody/tr[' + str(i) + ']/td[6]'\n",
    "    gir_stats = driver.find_elements_by_xpath(path)\n",
    "    for stat in gir_stats:\n",
    "        gir2018_stats.append(stat.text)"
   ]
  },
  {
   "cell_type": "code",
   "execution_count": 27,
   "metadata": {},
   "outputs": [
    {
     "name": "stdout",
     "output_type": "stream",
     "text": [
      "87\n",
      "['56 / 72 = 77.78%', '53 / 72 = 73.61%', '53 / 72 = 73.61%']\n",
      "['14 / 36 = 38.89%', '12 / 36 = 33.33%', '11 / 36 = 30.56%']\n"
     ]
    }
   ],
   "source": [
    "## Make sure we're all good with the website\n",
    "\n",
    "print(len(gir2018_stats))\n",
    "print(gir2018_stats[:3])\n",
    "print(gir2018_stats[-3:])"
   ]
  },
  {
   "cell_type": "code",
   "execution_count": 28,
   "metadata": {},
   "outputs": [],
   "source": [
    "## Create the Greens In Regulations dataframe\n",
    "\n",
    "gir2018 = pd.DataFrame.from_dict({'Player':gir2018_players, 'GIR':gir2018_stats})"
   ]
  },
  {
   "cell_type": "code",
   "execution_count": 29,
   "metadata": {},
   "outputs": [
    {
     "data": {
      "text/html": [
       "<div>\n",
       "<style scoped>\n",
       "    .dataframe tbody tr th:only-of-type {\n",
       "        vertical-align: middle;\n",
       "    }\n",
       "\n",
       "    .dataframe tbody tr th {\n",
       "        vertical-align: top;\n",
       "    }\n",
       "\n",
       "    .dataframe thead th {\n",
       "        text-align: right;\n",
       "    }\n",
       "</style>\n",
       "<table border=\"1\" class=\"dataframe\">\n",
       "  <thead>\n",
       "    <tr style=\"text-align: right;\">\n",
       "      <th></th>\n",
       "      <th>Player</th>\n",
       "      <th>GIR</th>\n",
       "    </tr>\n",
       "  </thead>\n",
       "  <tbody>\n",
       "    <tr>\n",
       "      <th>0</th>\n",
       "      <td>Bubba Watson</td>\n",
       "      <td>56 / 72 = 77.78%</td>\n",
       "    </tr>\n",
       "    <tr>\n",
       "      <th>1</th>\n",
       "      <td>Justin Thomas</td>\n",
       "      <td>53 / 72 = 73.61%</td>\n",
       "    </tr>\n",
       "    <tr>\n",
       "      <th>2</th>\n",
       "      <td>Justin Rose</td>\n",
       "      <td>53 / 72 = 73.61%</td>\n",
       "    </tr>\n",
       "  </tbody>\n",
       "</table>\n",
       "</div>"
      ],
      "text/plain": [
       "          Player               GIR\n",
       "0   Bubba Watson  56 / 72 = 77.78%\n",
       "1  Justin Thomas  53 / 72 = 73.61%\n",
       "2    Justin Rose  53 / 72 = 73.61%"
      ]
     },
     "execution_count": 29,
     "metadata": {},
     "output_type": "execute_result"
    }
   ],
   "source": [
    "gir2018.head(3)"
   ]
  },
  {
   "cell_type": "code",
   "execution_count": 30,
   "metadata": {},
   "outputs": [],
   "source": [
    "## Get just the percent in a column\n",
    "\n",
    "gir2018['GIR'] = gir2018['GIR'].map(lambda x:str(x)[-6:-1])"
   ]
  },
  {
   "cell_type": "code",
   "execution_count": 31,
   "metadata": {},
   "outputs": [
    {
     "data": {
      "text/html": [
       "<div>\n",
       "<style scoped>\n",
       "    .dataframe tbody tr th:only-of-type {\n",
       "        vertical-align: middle;\n",
       "    }\n",
       "\n",
       "    .dataframe tbody tr th {\n",
       "        vertical-align: top;\n",
       "    }\n",
       "\n",
       "    .dataframe thead th {\n",
       "        text-align: right;\n",
       "    }\n",
       "</style>\n",
       "<table border=\"1\" class=\"dataframe\">\n",
       "  <thead>\n",
       "    <tr style=\"text-align: right;\">\n",
       "      <th></th>\n",
       "      <th>Player</th>\n",
       "      <th>GIR</th>\n",
       "    </tr>\n",
       "  </thead>\n",
       "  <tbody>\n",
       "    <tr>\n",
       "      <th>0</th>\n",
       "      <td>Bubba Watson</td>\n",
       "      <td>77.78</td>\n",
       "    </tr>\n",
       "    <tr>\n",
       "      <th>1</th>\n",
       "      <td>Justin Thomas</td>\n",
       "      <td>73.61</td>\n",
       "    </tr>\n",
       "  </tbody>\n",
       "</table>\n",
       "</div>"
      ],
      "text/plain": [
       "          Player    GIR\n",
       "0   Bubba Watson  77.78\n",
       "1  Justin Thomas  73.61"
      ]
     },
     "execution_count": 31,
     "metadata": {},
     "output_type": "execute_result"
    }
   ],
   "source": [
    "gir2018.head(2)"
   ]
  },
  {
   "cell_type": "code",
   "execution_count": 32,
   "metadata": {},
   "outputs": [],
   "source": [
    "## Add a column that ranks the players by their GIR percent\n",
    "\n",
    "gir2018['GIR Rank'] = gir2018['GIR'].rank(method='min', ascending=False)"
   ]
  },
  {
   "cell_type": "code",
   "execution_count": 33,
   "metadata": {},
   "outputs": [
    {
     "data": {
      "text/html": [
       "<div>\n",
       "<style scoped>\n",
       "    .dataframe tbody tr th:only-of-type {\n",
       "        vertical-align: middle;\n",
       "    }\n",
       "\n",
       "    .dataframe tbody tr th {\n",
       "        vertical-align: top;\n",
       "    }\n",
       "\n",
       "    .dataframe thead th {\n",
       "        text-align: right;\n",
       "    }\n",
       "</style>\n",
       "<table border=\"1\" class=\"dataframe\">\n",
       "  <thead>\n",
       "    <tr style=\"text-align: right;\">\n",
       "      <th></th>\n",
       "      <th>Player</th>\n",
       "      <th>GIR</th>\n",
       "      <th>GIR Rank</th>\n",
       "    </tr>\n",
       "  </thead>\n",
       "  <tbody>\n",
       "    <tr>\n",
       "      <th>0</th>\n",
       "      <td>Bubba Watson</td>\n",
       "      <td>77.78</td>\n",
       "      <td>1.0</td>\n",
       "    </tr>\n",
       "    <tr>\n",
       "      <th>1</th>\n",
       "      <td>Justin Thomas</td>\n",
       "      <td>73.61</td>\n",
       "      <td>2.0</td>\n",
       "    </tr>\n",
       "    <tr>\n",
       "      <th>2</th>\n",
       "      <td>Justin Rose</td>\n",
       "      <td>73.61</td>\n",
       "      <td>2.0</td>\n",
       "    </tr>\n",
       "  </tbody>\n",
       "</table>\n",
       "</div>"
      ],
      "text/plain": [
       "          Player    GIR  GIR Rank\n",
       "0   Bubba Watson  77.78       1.0\n",
       "1  Justin Thomas  73.61       2.0\n",
       "2    Justin Rose  73.61       2.0"
      ]
     },
     "execution_count": 33,
     "metadata": {},
     "output_type": "execute_result"
    }
   ],
   "source": [
    "gir2018.head(3)"
   ]
  },
  {
   "cell_type": "code",
   "execution_count": 34,
   "metadata": {},
   "outputs": [],
   "source": [
    "## Save the dataframe to my local computer\n",
    "\n",
    "gir2018.to_csv('2018_GIR.csv')"
   ]
  },
  {
   "cell_type": "code",
   "execution_count": null,
   "metadata": {},
   "outputs": [],
   "source": []
  },
  {
   "cell_type": "markdown",
   "metadata": {},
   "source": [
    "## Driving Distance Stats"
   ]
  },
  {
   "cell_type": "code",
   "execution_count": 35,
   "metadata": {},
   "outputs": [],
   "source": [
    "## Access the Driving Distance Average page\n",
    "\n",
    "driver.get('https://2018.masters.com/en_US/scores/stats/drives_avg.html')"
   ]
  },
  {
   "cell_type": "code",
   "execution_count": 36,
   "metadata": {},
   "outputs": [],
   "source": [
    "## Get the player names in the listed order\n",
    "\n",
    "dist2018_players = []\n",
    "\n",
    "## First xpath: //*[@id=\"table-4838\"]/tbody/tr[1]/td[1]/a\n",
    "## Last xpath: //*[@id=\"table-4838\"]/tbody/tr[87]/td[1]/a\n",
    "\n",
    "for i in range(88):\n",
    "    path = '//*[@id=\"table-4838\"]/tbody/tr[' + str(i) + ']/td[1]/a'\n",
    "    dist_player_names = driver.find_elements_by_xpath(path)\n",
    "    for player in dist_player_names:\n",
    "        dist2018_players.append(player.text)"
   ]
  },
  {
   "cell_type": "code",
   "execution_count": 37,
   "metadata": {},
   "outputs": [
    {
     "name": "stdout",
     "output_type": "stream",
     "text": [
      "87\n",
      "['Tommy Fleetwood', 'Dustin Johnson', 'Bubba Watson']\n",
      "['Mike Weir', \"Mark O'Meara\", 'Larry Mize']\n"
     ]
    }
   ],
   "source": [
    "## Compare to website\n",
    "print(len(dist2018_players))\n",
    "print(dist2018_players[:3])\n",
    "print(dist2018_players[-3:])"
   ]
  },
  {
   "cell_type": "code",
   "execution_count": 38,
   "metadata": {},
   "outputs": [],
   "source": [
    "## In that same order, get the driving distance of each player\n",
    "\n",
    "dist2018_stats = []\n",
    "\n",
    "## first xpath: //*[@id=\"table-4838\"]/tbody/tr[1]/td[6]\n",
    "## last xpath: //*[@id=\"table-4838\"]/tbody/tr[87]/td[6]\n",
    "\n",
    "for i in range(88):\n",
    "    path = '//*[@id=\"table-4838\"]/tbody/tr[' + str(i) + ']/td[6]'\n",
    "    dist_stats = driver.find_elements_by_xpath(path)\n",
    "    for stat in dist_stats:\n",
    "        dist2018_stats.append(stat.text)"
   ]
  },
  {
   "cell_type": "code",
   "execution_count": 39,
   "metadata": {},
   "outputs": [
    {
     "name": "stdout",
     "output_type": "stream",
     "text": [
      "87\n",
      "['310.00', '304.38', '303.75']\n",
      "['270.00', '268.00', '252.25']\n"
     ]
    }
   ],
   "source": [
    "print(len(dist2018_stats))\n",
    "print(dist2018_stats[:3])\n",
    "print(dist2018_stats[-3:])"
   ]
  },
  {
   "cell_type": "code",
   "execution_count": 40,
   "metadata": {},
   "outputs": [],
   "source": [
    "## Create the Driving Distance Average dataframe\n",
    "\n",
    "dist2018 = pd.DataFrame.from_dict({'Player':dist2018_players, 'dist':dist2018_stats})"
   ]
  },
  {
   "cell_type": "code",
   "execution_count": 41,
   "metadata": {},
   "outputs": [
    {
     "data": {
      "text/html": [
       "<div>\n",
       "<style scoped>\n",
       "    .dataframe tbody tr th:only-of-type {\n",
       "        vertical-align: middle;\n",
       "    }\n",
       "\n",
       "    .dataframe tbody tr th {\n",
       "        vertical-align: top;\n",
       "    }\n",
       "\n",
       "    .dataframe thead th {\n",
       "        text-align: right;\n",
       "    }\n",
       "</style>\n",
       "<table border=\"1\" class=\"dataframe\">\n",
       "  <thead>\n",
       "    <tr style=\"text-align: right;\">\n",
       "      <th></th>\n",
       "      <th>Player</th>\n",
       "      <th>dist</th>\n",
       "    </tr>\n",
       "  </thead>\n",
       "  <tbody>\n",
       "    <tr>\n",
       "      <th>0</th>\n",
       "      <td>Tommy Fleetwood</td>\n",
       "      <td>310.00</td>\n",
       "    </tr>\n",
       "    <tr>\n",
       "      <th>1</th>\n",
       "      <td>Dustin Johnson</td>\n",
       "      <td>304.38</td>\n",
       "    </tr>\n",
       "    <tr>\n",
       "      <th>2</th>\n",
       "      <td>Bubba Watson</td>\n",
       "      <td>303.75</td>\n",
       "    </tr>\n",
       "  </tbody>\n",
       "</table>\n",
       "</div>"
      ],
      "text/plain": [
       "            Player    dist\n",
       "0  Tommy Fleetwood  310.00\n",
       "1   Dustin Johnson  304.38\n",
       "2     Bubba Watson  303.75"
      ]
     },
     "execution_count": 41,
     "metadata": {},
     "output_type": "execute_result"
    }
   ],
   "source": [
    "dist2018.head(3)"
   ]
  },
  {
   "cell_type": "code",
   "execution_count": 42,
   "metadata": {},
   "outputs": [],
   "source": [
    "dist2018['dist Rank'] = dist2018['dist'].rank(method='min', ascending=False)"
   ]
  },
  {
   "cell_type": "code",
   "execution_count": 43,
   "metadata": {},
   "outputs": [
    {
     "data": {
      "text/html": [
       "<div>\n",
       "<style scoped>\n",
       "    .dataframe tbody tr th:only-of-type {\n",
       "        vertical-align: middle;\n",
       "    }\n",
       "\n",
       "    .dataframe tbody tr th {\n",
       "        vertical-align: top;\n",
       "    }\n",
       "\n",
       "    .dataframe thead th {\n",
       "        text-align: right;\n",
       "    }\n",
       "</style>\n",
       "<table border=\"1\" class=\"dataframe\">\n",
       "  <thead>\n",
       "    <tr style=\"text-align: right;\">\n",
       "      <th></th>\n",
       "      <th>Player</th>\n",
       "      <th>dist</th>\n",
       "      <th>dist Rank</th>\n",
       "    </tr>\n",
       "  </thead>\n",
       "  <tbody>\n",
       "    <tr>\n",
       "      <th>0</th>\n",
       "      <td>Tommy Fleetwood</td>\n",
       "      <td>310.00</td>\n",
       "      <td>1.0</td>\n",
       "    </tr>\n",
       "    <tr>\n",
       "      <th>1</th>\n",
       "      <td>Dustin Johnson</td>\n",
       "      <td>304.38</td>\n",
       "      <td>4.0</td>\n",
       "    </tr>\n",
       "    <tr>\n",
       "      <th>2</th>\n",
       "      <td>Bubba Watson</td>\n",
       "      <td>303.75</td>\n",
       "      <td>5.0</td>\n",
       "    </tr>\n",
       "  </tbody>\n",
       "</table>\n",
       "</div>"
      ],
      "text/plain": [
       "            Player    dist  dist Rank\n",
       "0  Tommy Fleetwood  310.00        1.0\n",
       "1   Dustin Johnson  304.38        4.0\n",
       "2     Bubba Watson  303.75        5.0"
      ]
     },
     "execution_count": 43,
     "metadata": {},
     "output_type": "execute_result"
    }
   ],
   "source": [
    "dist2018.head(3)"
   ]
  },
  {
   "cell_type": "code",
   "execution_count": 44,
   "metadata": {},
   "outputs": [],
   "source": [
    "## Save to local machine\n",
    "\n",
    "dist2018.to_csv('dist_2019.csv')"
   ]
  },
  {
   "cell_type": "code",
   "execution_count": null,
   "metadata": {},
   "outputs": [],
   "source": []
  },
  {
   "cell_type": "markdown",
   "metadata": {},
   "source": [
    "## Putting Stats"
   ]
  },
  {
   "cell_type": "code",
   "execution_count": 45,
   "metadata": {},
   "outputs": [],
   "source": [
    "driver.get('https://2018.masters.com/en_US/scores/stats/putts.html')"
   ]
  },
  {
   "cell_type": "code",
   "execution_count": 46,
   "metadata": {},
   "outputs": [],
   "source": [
    "## Get player names\n",
    "\n",
    "putt2018_players = []\n",
    "\n",
    "## first xpath: //*[@id=\"table-4749\"]/tbody/tr[1]/td[1]/a\n",
    "## last xpath: //*[@id=\"table-4749\"]/tbody/tr[87]/td[1]/a\n",
    "\n",
    "for i in range(88):\n",
    "    path = '//*[@id=\"table-4749\"]/tbody/tr[' + str(i) + ']/td[1]/a'\n",
    "    putt_player_names = driver.find_elements_by_xpath(path)\n",
    "    for name in putt_player_names:\n",
    "        putt2018_players.append(name.text)"
   ]
  },
  {
   "cell_type": "code",
   "execution_count": 47,
   "metadata": {},
   "outputs": [
    {
     "name": "stdout",
     "output_type": "stream",
     "text": [
      "87\n",
      "['Sandy Lyle', 'Patrick Reed', 'Jose Maria Olazabal']\n",
      "['Patrick Cantlay', 'Angel Cabrera', 'Yuxin Lin (A)']\n"
     ]
    }
   ],
   "source": [
    "print(len(putt2018_players))\n",
    "print(putt2018_players[:3])\n",
    "print(putt2018_players[-3:])"
   ]
  },
  {
   "cell_type": "code",
   "execution_count": 48,
   "metadata": {},
   "outputs": [],
   "source": [
    "## Get putting stats\n",
    "\n",
    "putt2018_stats = []\n",
    "\n",
    "## first xpath: //*[@id=\"table-4749\"]/tbody/tr[1]/td[6]\n",
    "## last xpath: //*[@id=\"table-4749\"]/tbody/tr[87]/td[6]\n",
    "\n",
    "for i in range(88):\n",
    "    path = '//*[@id=\"table-4749\"]/tbody/tr[' + str(i) + ']/td[6]'\n",
    "    putt_stats = driver.find_elements_by_xpath(path)\n",
    "    for stat in putt_stats:\n",
    "        putt2018_stats.append(stat.text)"
   ]
  },
  {
   "cell_type": "code",
   "execution_count": 49,
   "metadata": {},
   "outputs": [
    {
     "name": "stdout",
     "output_type": "stream",
     "text": [
      "87\n",
      "['1.42 (1)', '1.44 (2)', '1.47']\n",
      "['1.83 (5)', '1.83 (5)', '1.94 (6)']\n"
     ]
    }
   ],
   "source": [
    "print(len(putt2018_stats))\n",
    "print(putt2018_stats[:3])\n",
    "print(putt2018_stats[-3:])"
   ]
  },
  {
   "cell_type": "code",
   "execution_count": 50,
   "metadata": {},
   "outputs": [],
   "source": [
    "## Create the putting dataframe\n",
    "\n",
    "putt2018 = pd.DataFrame.from_dict({'Player':putt2018_players, 'Putting':putt2018_stats})"
   ]
  },
  {
   "cell_type": "code",
   "execution_count": 51,
   "metadata": {},
   "outputs": [
    {
     "data": {
      "text/html": [
       "<div>\n",
       "<style scoped>\n",
       "    .dataframe tbody tr th:only-of-type {\n",
       "        vertical-align: middle;\n",
       "    }\n",
       "\n",
       "    .dataframe tbody tr th {\n",
       "        vertical-align: top;\n",
       "    }\n",
       "\n",
       "    .dataframe thead th {\n",
       "        text-align: right;\n",
       "    }\n",
       "</style>\n",
       "<table border=\"1\" class=\"dataframe\">\n",
       "  <thead>\n",
       "    <tr style=\"text-align: right;\">\n",
       "      <th></th>\n",
       "      <th>Player</th>\n",
       "      <th>Putting</th>\n",
       "    </tr>\n",
       "  </thead>\n",
       "  <tbody>\n",
       "    <tr>\n",
       "      <th>0</th>\n",
       "      <td>Sandy Lyle</td>\n",
       "      <td>1.42 (1)</td>\n",
       "    </tr>\n",
       "    <tr>\n",
       "      <th>1</th>\n",
       "      <td>Patrick Reed</td>\n",
       "      <td>1.44 (2)</td>\n",
       "    </tr>\n",
       "    <tr>\n",
       "      <th>2</th>\n",
       "      <td>Jose Maria Olazabal</td>\n",
       "      <td>1.47</td>\n",
       "    </tr>\n",
       "  </tbody>\n",
       "</table>\n",
       "</div>"
      ],
      "text/plain": [
       "                Player   Putting\n",
       "0           Sandy Lyle  1.42 (1)\n",
       "1         Patrick Reed  1.44 (2)\n",
       "2  Jose Maria Olazabal      1.47"
      ]
     },
     "execution_count": 51,
     "metadata": {},
     "output_type": "execute_result"
    }
   ],
   "source": [
    "putt2018.head(3)"
   ]
  },
  {
   "cell_type": "code",
   "execution_count": 53,
   "metadata": {},
   "outputs": [],
   "source": [
    "## Get rid of the number of 3 putts, in ()\n",
    "\n",
    "putt2018['Putting'] = putt2018['Putting'].map(lambda x:str(x)[:4])"
   ]
  },
  {
   "cell_type": "code",
   "execution_count": 54,
   "metadata": {},
   "outputs": [
    {
     "data": {
      "text/html": [
       "<div>\n",
       "<style scoped>\n",
       "    .dataframe tbody tr th:only-of-type {\n",
       "        vertical-align: middle;\n",
       "    }\n",
       "\n",
       "    .dataframe tbody tr th {\n",
       "        vertical-align: top;\n",
       "    }\n",
       "\n",
       "    .dataframe thead th {\n",
       "        text-align: right;\n",
       "    }\n",
       "</style>\n",
       "<table border=\"1\" class=\"dataframe\">\n",
       "  <thead>\n",
       "    <tr style=\"text-align: right;\">\n",
       "      <th></th>\n",
       "      <th>Player</th>\n",
       "      <th>Putting</th>\n",
       "    </tr>\n",
       "  </thead>\n",
       "  <tbody>\n",
       "    <tr>\n",
       "      <th>0</th>\n",
       "      <td>Sandy Lyle</td>\n",
       "      <td>1.42</td>\n",
       "    </tr>\n",
       "    <tr>\n",
       "      <th>1</th>\n",
       "      <td>Patrick Reed</td>\n",
       "      <td>1.44</td>\n",
       "    </tr>\n",
       "    <tr>\n",
       "      <th>2</th>\n",
       "      <td>Jose Maria Olazabal</td>\n",
       "      <td>1.47</td>\n",
       "    </tr>\n",
       "  </tbody>\n",
       "</table>\n",
       "</div>"
      ],
      "text/plain": [
       "                Player Putting\n",
       "0           Sandy Lyle    1.42\n",
       "1         Patrick Reed    1.44\n",
       "2  Jose Maria Olazabal    1.47"
      ]
     },
     "execution_count": 54,
     "metadata": {},
     "output_type": "execute_result"
    }
   ],
   "source": [
    "putt2018.head(3)"
   ]
  },
  {
   "cell_type": "code",
   "execution_count": 55,
   "metadata": {},
   "outputs": [],
   "source": [
    "## Rank the players by their average number of putts\n",
    "\n",
    "putt2018['Putting Rank'] = putt2018['Putting'].rank(method='min')"
   ]
  },
  {
   "cell_type": "code",
   "execution_count": 57,
   "metadata": {},
   "outputs": [
    {
     "data": {
      "text/html": [
       "<div>\n",
       "<style scoped>\n",
       "    .dataframe tbody tr th:only-of-type {\n",
       "        vertical-align: middle;\n",
       "    }\n",
       "\n",
       "    .dataframe tbody tr th {\n",
       "        vertical-align: top;\n",
       "    }\n",
       "\n",
       "    .dataframe thead th {\n",
       "        text-align: right;\n",
       "    }\n",
       "</style>\n",
       "<table border=\"1\" class=\"dataframe\">\n",
       "  <thead>\n",
       "    <tr style=\"text-align: right;\">\n",
       "      <th></th>\n",
       "      <th>Player</th>\n",
       "      <th>Putting</th>\n",
       "      <th>Putting Rank</th>\n",
       "    </tr>\n",
       "  </thead>\n",
       "  <tbody>\n",
       "    <tr>\n",
       "      <th>0</th>\n",
       "      <td>Sandy Lyle</td>\n",
       "      <td>1.42</td>\n",
       "      <td>1.0</td>\n",
       "    </tr>\n",
       "    <tr>\n",
       "      <th>1</th>\n",
       "      <td>Patrick Reed</td>\n",
       "      <td>1.44</td>\n",
       "      <td>2.0</td>\n",
       "    </tr>\n",
       "    <tr>\n",
       "      <th>2</th>\n",
       "      <td>Jose Maria Olazabal</td>\n",
       "      <td>1.47</td>\n",
       "      <td>3.0</td>\n",
       "    </tr>\n",
       "  </tbody>\n",
       "</table>\n",
       "</div>"
      ],
      "text/plain": [
       "                Player Putting  Putting Rank\n",
       "0           Sandy Lyle    1.42           1.0\n",
       "1         Patrick Reed    1.44           2.0\n",
       "2  Jose Maria Olazabal    1.47           3.0"
      ]
     },
     "execution_count": 57,
     "metadata": {},
     "output_type": "execute_result"
    }
   ],
   "source": [
    "putt2018.head(3)"
   ]
  },
  {
   "cell_type": "code",
   "execution_count": 58,
   "metadata": {},
   "outputs": [],
   "source": [
    "## Save\n",
    "\n",
    "putt2018.to_csv('2018_Putting.csv')"
   ]
  },
  {
   "cell_type": "code",
   "execution_count": null,
   "metadata": {},
   "outputs": [],
   "source": []
  },
  {
   "cell_type": "markdown",
   "metadata": {},
   "source": [
    "## Get where each player finished in the tournament"
   ]
  },
  {
   "cell_type": "code",
   "execution_count": 59,
   "metadata": {},
   "outputs": [],
   "source": [
    "## The names didn't align on the masters website used before, stats page used 'Patrick Reed', leaderboard used 'P. Reed'\n",
    "\n",
    "driver.get('https://www.pga.com/events/masters/leaderboard/2018')"
   ]
  },
  {
   "cell_type": "code",
   "execution_count": 60,
   "metadata": {},
   "outputs": [],
   "source": [
    "## Get the player names\n",
    "\n",
    "finish2018_players_first = []\n",
    "finish2018_players_last = []\n",
    "\n",
    "## Find these by the class name, the first and last names are in different locations\n",
    "\n",
    "finish2018_first = driver.find_elements_by_class_name('leaderboard__player__name--firstname')\n",
    "finish2018_last = driver.find_elements_by_class_name('leaderboard__player__name--lastname')\n",
    "\n",
    "for first in finish2018_first:\n",
    "    finish2018_players_first.append(first.text)\n",
    "    \n",
    "for last in finish2018_last:\n",
    "    finish2018_players_last.append(last.text)"
   ]
  },
  {
   "cell_type": "code",
   "execution_count": 61,
   "metadata": {},
   "outputs": [
    {
     "name": "stdout",
     "output_type": "stream",
     "text": [
      "87\n",
      "['Patrick', 'Rickie', 'Jordan']\n",
      "['Sergio', 'Matt', 'Harry']\n"
     ]
    }
   ],
   "source": [
    "print(len(finish2018_players_first))\n",
    "print(finish2018_players_first[:3])\n",
    "print(finish2018_players_first[-3:])"
   ]
  },
  {
   "cell_type": "code",
   "execution_count": 62,
   "metadata": {},
   "outputs": [
    {
     "name": "stdout",
     "output_type": "stream",
     "text": [
      "87\n",
      "['Reed', 'Fowler', 'Spieth']\n",
      "['Garcia', 'Parziale', 'Ellis']\n"
     ]
    }
   ],
   "source": [
    "print(len(finish2018_players_last))\n",
    "print(finish2018_players_last[:3])\n",
    "print(finish2018_players_last[-3:])"
   ]
  },
  {
   "cell_type": "raw",
   "metadata": {},
   "source": [
    "Took more work than expected, but was able to get the first and last names, we will concatenate in the dataframe."
   ]
  },
  {
   "cell_type": "code",
   "execution_count": 63,
   "metadata": {},
   "outputs": [],
   "source": [
    "## Get the position that the player finished in the tournament\n",
    "\n",
    "finish2018_position = []\n",
    "\n",
    "finish_position = driver.find_elements_by_class_name('leaderboard__player__item--pos')\n",
    "\n",
    "for pos in finish_position:\n",
    "    finish2018_position.append(pos.text)"
   ]
  },
  {
   "cell_type": "code",
   "execution_count": 64,
   "metadata": {},
   "outputs": [
    {
     "name": "stdout",
     "output_type": "stream",
     "text": [
      "87\n"
     ]
    }
   ],
   "source": [
    "print(len(finish2018_position))"
   ]
  },
  {
   "cell_type": "code",
   "execution_count": 65,
   "metadata": {},
   "outputs": [],
   "source": [
    "## Get the score of each player for the tournament\n",
    "\n",
    "finish2018_score = []\n",
    "\n",
    "finish_score = driver.find_elements_by_class_name('leaderboard__player__item--total-par')\n",
    "\n",
    "for score in finish_score:\n",
    "    finish2018_score.append(score.text)"
   ]
  },
  {
   "cell_type": "code",
   "execution_count": 66,
   "metadata": {},
   "outputs": [
    {
     "name": "stdout",
     "output_type": "stream",
     "text": [
      "87\n"
     ]
    }
   ],
   "source": [
    "print(len(finish2018_score))"
   ]
  },
  {
   "cell_type": "code",
   "execution_count": 67,
   "metadata": {},
   "outputs": [],
   "source": [
    "## Create a dataframe for the players finishing position\n",
    "\n",
    "finish2018 = pd.DataFrame.from_dict({'Player_first':finish2018_players_first, \n",
    "                                    'Player_last':finish2018_players_last, \n",
    "                                    'Position':finish2018_position,\n",
    "                                    'Score':finish2018_score})"
   ]
  },
  {
   "cell_type": "code",
   "execution_count": 68,
   "metadata": {},
   "outputs": [
    {
     "data": {
      "text/html": [
       "<div>\n",
       "<style scoped>\n",
       "    .dataframe tbody tr th:only-of-type {\n",
       "        vertical-align: middle;\n",
       "    }\n",
       "\n",
       "    .dataframe tbody tr th {\n",
       "        vertical-align: top;\n",
       "    }\n",
       "\n",
       "    .dataframe thead th {\n",
       "        text-align: right;\n",
       "    }\n",
       "</style>\n",
       "<table border=\"1\" class=\"dataframe\">\n",
       "  <thead>\n",
       "    <tr style=\"text-align: right;\">\n",
       "      <th></th>\n",
       "      <th>Player_first</th>\n",
       "      <th>Player_last</th>\n",
       "      <th>Position</th>\n",
       "      <th>Score</th>\n",
       "    </tr>\n",
       "  </thead>\n",
       "  <tbody>\n",
       "    <tr>\n",
       "      <th>0</th>\n",
       "      <td>Patrick</td>\n",
       "      <td>Reed</td>\n",
       "      <td>1</td>\n",
       "      <td>-15</td>\n",
       "    </tr>\n",
       "    <tr>\n",
       "      <th>1</th>\n",
       "      <td>Rickie</td>\n",
       "      <td>Fowler</td>\n",
       "      <td>2</td>\n",
       "      <td>-14</td>\n",
       "    </tr>\n",
       "    <tr>\n",
       "      <th>2</th>\n",
       "      <td>Jordan</td>\n",
       "      <td>Spieth</td>\n",
       "      <td>3</td>\n",
       "      <td>-13</td>\n",
       "    </tr>\n",
       "  </tbody>\n",
       "</table>\n",
       "</div>"
      ],
      "text/plain": [
       "  Player_first Player_last Position Score\n",
       "0      Patrick        Reed        1   -15\n",
       "1       Rickie      Fowler        2   -14\n",
       "2       Jordan      Spieth        3   -13"
      ]
     },
     "execution_count": 68,
     "metadata": {},
     "output_type": "execute_result"
    }
   ],
   "source": [
    "finish2018.head(3)"
   ]
  },
  {
   "cell_type": "code",
   "execution_count": 69,
   "metadata": {},
   "outputs": [
    {
     "data": {
      "text/html": [
       "<div>\n",
       "<style scoped>\n",
       "    .dataframe tbody tr th:only-of-type {\n",
       "        vertical-align: middle;\n",
       "    }\n",
       "\n",
       "    .dataframe tbody tr th {\n",
       "        vertical-align: top;\n",
       "    }\n",
       "\n",
       "    .dataframe thead th {\n",
       "        text-align: right;\n",
       "    }\n",
       "</style>\n",
       "<table border=\"1\" class=\"dataframe\">\n",
       "  <thead>\n",
       "    <tr style=\"text-align: right;\">\n",
       "      <th></th>\n",
       "      <th>Player_first</th>\n",
       "      <th>Player_last</th>\n",
       "      <th>Position</th>\n",
       "      <th>Score</th>\n",
       "    </tr>\n",
       "  </thead>\n",
       "  <tbody>\n",
       "    <tr>\n",
       "      <th>82</th>\n",
       "      <td>Yuxin</td>\n",
       "      <td>Lin</td>\n",
       "      <td>CUT</td>\n",
       "      <td>-</td>\n",
       "    </tr>\n",
       "    <tr>\n",
       "      <th>83</th>\n",
       "      <td>Mark</td>\n",
       "      <td>O'Meara</td>\n",
       "      <td>CUT</td>\n",
       "      <td>-</td>\n",
       "    </tr>\n",
       "    <tr>\n",
       "      <th>84</th>\n",
       "      <td>Sergio</td>\n",
       "      <td>Garcia</td>\n",
       "      <td>CUT</td>\n",
       "      <td>-</td>\n",
       "    </tr>\n",
       "    <tr>\n",
       "      <th>85</th>\n",
       "      <td>Matt</td>\n",
       "      <td>Parziale</td>\n",
       "      <td>CUT</td>\n",
       "      <td>-</td>\n",
       "    </tr>\n",
       "    <tr>\n",
       "      <th>86</th>\n",
       "      <td>Harry</td>\n",
       "      <td>Ellis</td>\n",
       "      <td>CUT</td>\n",
       "      <td>-</td>\n",
       "    </tr>\n",
       "  </tbody>\n",
       "</table>\n",
       "</div>"
      ],
      "text/plain": [
       "   Player_first Player_last Position Score\n",
       "82        Yuxin         Lin      CUT     -\n",
       "83         Mark     O'Meara      CUT     -\n",
       "84       Sergio      Garcia      CUT     -\n",
       "85         Matt    Parziale      CUT     -\n",
       "86        Harry       Ellis      CUT     -"
      ]
     },
     "execution_count": 69,
     "metadata": {},
     "output_type": "execute_result"
    }
   ],
   "source": [
    "finish2018.tail()"
   ]
  },
  {
   "cell_type": "raw",
   "metadata": {},
   "source": [
    "The score of players cut isn't there along with the position that they finished in."
   ]
  },
  {
   "cell_type": "code",
   "execution_count": 70,
   "metadata": {},
   "outputs": [],
   "source": [
    "## Combine the names into one column\n",
    "\n",
    "finish2018['Player'] = finish2018['Player_first'] + ' ' + finish2018['Player_last']"
   ]
  },
  {
   "cell_type": "code",
   "execution_count": 71,
   "metadata": {},
   "outputs": [
    {
     "data": {
      "text/html": [
       "<div>\n",
       "<style scoped>\n",
       "    .dataframe tbody tr th:only-of-type {\n",
       "        vertical-align: middle;\n",
       "    }\n",
       "\n",
       "    .dataframe tbody tr th {\n",
       "        vertical-align: top;\n",
       "    }\n",
       "\n",
       "    .dataframe thead th {\n",
       "        text-align: right;\n",
       "    }\n",
       "</style>\n",
       "<table border=\"1\" class=\"dataframe\">\n",
       "  <thead>\n",
       "    <tr style=\"text-align: right;\">\n",
       "      <th></th>\n",
       "      <th>Player_first</th>\n",
       "      <th>Player_last</th>\n",
       "      <th>Position</th>\n",
       "      <th>Score</th>\n",
       "      <th>Player</th>\n",
       "    </tr>\n",
       "  </thead>\n",
       "  <tbody>\n",
       "    <tr>\n",
       "      <th>0</th>\n",
       "      <td>Patrick</td>\n",
       "      <td>Reed</td>\n",
       "      <td>1</td>\n",
       "      <td>-15</td>\n",
       "      <td>Patrick Reed</td>\n",
       "    </tr>\n",
       "    <tr>\n",
       "      <th>1</th>\n",
       "      <td>Rickie</td>\n",
       "      <td>Fowler</td>\n",
       "      <td>2</td>\n",
       "      <td>-14</td>\n",
       "      <td>Rickie Fowler</td>\n",
       "    </tr>\n",
       "  </tbody>\n",
       "</table>\n",
       "</div>"
      ],
      "text/plain": [
       "  Player_first Player_last Position Score         Player\n",
       "0      Patrick        Reed        1   -15   Patrick Reed\n",
       "1       Rickie      Fowler        2   -14  Rickie Fowler"
      ]
     },
     "execution_count": 71,
     "metadata": {},
     "output_type": "execute_result"
    }
   ],
   "source": [
    "finish2018.head(2)"
   ]
  },
  {
   "cell_type": "code",
   "execution_count": 72,
   "metadata": {},
   "outputs": [],
   "source": [
    "## Drop the first and last name columns\n",
    "\n",
    "finish2018.drop(['Player_first', 'Player_last'], axis=1, inplace=True)"
   ]
  },
  {
   "cell_type": "code",
   "execution_count": 73,
   "metadata": {},
   "outputs": [],
   "source": [
    "## Rearrange the order of the columns\n",
    "\n",
    "finish2018 = finish2018[['Player', 'Position', 'Score']]"
   ]
  },
  {
   "cell_type": "code",
   "execution_count": 74,
   "metadata": {},
   "outputs": [
    {
     "data": {
      "text/html": [
       "<div>\n",
       "<style scoped>\n",
       "    .dataframe tbody tr th:only-of-type {\n",
       "        vertical-align: middle;\n",
       "    }\n",
       "\n",
       "    .dataframe tbody tr th {\n",
       "        vertical-align: top;\n",
       "    }\n",
       "\n",
       "    .dataframe thead th {\n",
       "        text-align: right;\n",
       "    }\n",
       "</style>\n",
       "<table border=\"1\" class=\"dataframe\">\n",
       "  <thead>\n",
       "    <tr style=\"text-align: right;\">\n",
       "      <th></th>\n",
       "      <th>Player</th>\n",
       "      <th>Position</th>\n",
       "      <th>Score</th>\n",
       "    </tr>\n",
       "  </thead>\n",
       "  <tbody>\n",
       "    <tr>\n",
       "      <th>82</th>\n",
       "      <td>Yuxin Lin</td>\n",
       "      <td>CUT</td>\n",
       "      <td>-</td>\n",
       "    </tr>\n",
       "    <tr>\n",
       "      <th>83</th>\n",
       "      <td>Mark O'Meara</td>\n",
       "      <td>CUT</td>\n",
       "      <td>-</td>\n",
       "    </tr>\n",
       "    <tr>\n",
       "      <th>84</th>\n",
       "      <td>Sergio Garcia</td>\n",
       "      <td>CUT</td>\n",
       "      <td>-</td>\n",
       "    </tr>\n",
       "    <tr>\n",
       "      <th>85</th>\n",
       "      <td>Matt Parziale</td>\n",
       "      <td>CUT</td>\n",
       "      <td>-</td>\n",
       "    </tr>\n",
       "    <tr>\n",
       "      <th>86</th>\n",
       "      <td>Harry Ellis</td>\n",
       "      <td>CUT</td>\n",
       "      <td>-</td>\n",
       "    </tr>\n",
       "  </tbody>\n",
       "</table>\n",
       "</div>"
      ],
      "text/plain": [
       "           Player Position Score\n",
       "82      Yuxin Lin      CUT     -\n",
       "83   Mark O'Meara      CUT     -\n",
       "84  Sergio Garcia      CUT     -\n",
       "85  Matt Parziale      CUT     -\n",
       "86    Harry Ellis      CUT     -"
      ]
     },
     "execution_count": 74,
     "metadata": {},
     "output_type": "execute_result"
    }
   ],
   "source": [
    "finish2018.tail()"
   ]
  },
  {
   "cell_type": "code",
   "execution_count": 75,
   "metadata": {},
   "outputs": [],
   "source": [
    "## Create a 'Cut' column, 1 if the player was cut, 0 if not.\n",
    "\n",
    "finish2018['Cut'] = np.where(finish2018['Position'] == 'CUT', 1, 0)"
   ]
  },
  {
   "cell_type": "code",
   "execution_count": 80,
   "metadata": {},
   "outputs": [],
   "source": [
    "## Extract the players that were cut and give them a score and position\n",
    "\n",
    "cut_players = finish2018[finish2018['Cut'] == 1]"
   ]
  },
  {
   "cell_type": "code",
   "execution_count": 87,
   "metadata": {},
   "outputs": [
    {
     "data": {
      "text/html": [
       "<div>\n",
       "<style scoped>\n",
       "    .dataframe tbody tr th:only-of-type {\n",
       "        vertical-align: middle;\n",
       "    }\n",
       "\n",
       "    .dataframe tbody tr th {\n",
       "        vertical-align: top;\n",
       "    }\n",
       "\n",
       "    .dataframe thead th {\n",
       "        text-align: right;\n",
       "    }\n",
       "</style>\n",
       "<table border=\"1\" class=\"dataframe\">\n",
       "  <thead>\n",
       "    <tr style=\"text-align: right;\">\n",
       "      <th></th>\n",
       "      <th>Player</th>\n",
       "      <th>Position</th>\n",
       "      <th>Score</th>\n",
       "      <th>Cut</th>\n",
       "    </tr>\n",
       "  </thead>\n",
       "  <tbody>\n",
       "    <tr>\n",
       "      <th>53</th>\n",
       "      <td>Sandy Lyle</td>\n",
       "      <td>CUT</td>\n",
       "      <td>-</td>\n",
       "      <td>1</td>\n",
       "    </tr>\n",
       "    <tr>\n",
       "      <th>54</th>\n",
       "      <td>Charl Schwartzel</td>\n",
       "      <td>CUT</td>\n",
       "      <td>-</td>\n",
       "      <td>1</td>\n",
       "    </tr>\n",
       "    <tr>\n",
       "      <th>55</th>\n",
       "      <td>Jose Maria Olazabal</td>\n",
       "      <td>CUT</td>\n",
       "      <td>-</td>\n",
       "      <td>1</td>\n",
       "    </tr>\n",
       "    <tr>\n",
       "      <th>56</th>\n",
       "      <td>Jason Dufner</td>\n",
       "      <td>CUT</td>\n",
       "      <td>-</td>\n",
       "      <td>1</td>\n",
       "    </tr>\n",
       "    <tr>\n",
       "      <th>57</th>\n",
       "      <td>Patrick Cantlay</td>\n",
       "      <td>CUT</td>\n",
       "      <td>-</td>\n",
       "      <td>1</td>\n",
       "    </tr>\n",
       "  </tbody>\n",
       "</table>\n",
       "</div>"
      ],
      "text/plain": [
       "                 Player Position Score  Cut\n",
       "53           Sandy Lyle      CUT     -    1\n",
       "54     Charl Schwartzel      CUT     -    1\n",
       "55  Jose Maria Olazabal      CUT     -    1\n",
       "56         Jason Dufner      CUT     -    1\n",
       "57      Patrick Cantlay      CUT     -    1"
      ]
     },
     "execution_count": 87,
     "metadata": {},
     "output_type": "execute_result"
    }
   ],
   "source": [
    "## Sandy Lyle should be the first player, he was the first to miss the cut on the website.\n",
    "\n",
    "cut_players.head()"
   ]
  },
  {
   "cell_type": "code",
   "execution_count": 83,
   "metadata": {},
   "outputs": [],
   "source": [
    "## Get the score, from their total and subtract 144 (two rounds at 72 par)\n",
    "\n",
    "## first xpath:  //*[@id=\"scoring\"]/div[1]/div[1]/div[5]/div[55]/div/span[12]\n",
    "## last xpath:   //*[@id=\"scoring\"]/div[1]/div[1]/div[5]/div[88]/div/span[12]\n",
    "\n",
    "cut_scores = []\n",
    "\n",
    "for i in range(55, 89):\n",
    "    path = '//*[@id=\"scoring\"]/div[1]/div[1]/div[5]/div[' + str(i) + ']/div/span[12]'\n",
    "    scores = driver.find_elements_by_xpath(path)\n",
    "    for s in scores:\n",
    "        cut_scores.append(s.text)"
   ]
  },
  {
   "cell_type": "code",
   "execution_count": 85,
   "metadata": {},
   "outputs": [
    {
     "name": "stdout",
     "output_type": "stream",
     "text": [
      "34\n",
      "['150', '150', '150']\n",
      "['159', '160', '166']\n"
     ]
    }
   ],
   "source": [
    "print(len(cut_scores))\n",
    "print(cut_scores[:3])\n",
    "print(cut_scores[-3:])"
   ]
  },
  {
   "cell_type": "code",
   "execution_count": 88,
   "metadata": {},
   "outputs": [
    {
     "data": {
      "text/plain": [
       "(34, 4)"
      ]
     },
     "execution_count": 88,
     "metadata": {},
     "output_type": "execute_result"
    }
   ],
   "source": [
    "cut_players.shape"
   ]
  },
  {
   "cell_type": "raw",
   "metadata": {},
   "source": [
    "The shape of our dataframe and list match up."
   ]
  },
  {
   "cell_type": "code",
   "execution_count": 95,
   "metadata": {},
   "outputs": [],
   "source": [
    "## Convert the list of strings to ints\n",
    "\n",
    "cut_scores = list(map(int, cut_scores))"
   ]
  },
  {
   "cell_type": "code",
   "execution_count": 98,
   "metadata": {},
   "outputs": [],
   "source": [
    "## Subtract par of 144 (for two rounds) from the total scores\n",
    "\n",
    "cut_scores = [x - 144 for x in cut_scores]"
   ]
  },
  {
   "cell_type": "code",
   "execution_count": 100,
   "metadata": {},
   "outputs": [
    {
     "data": {
      "text/plain": [
       "[6, 6, 6, 6, 7]"
      ]
     },
     "execution_count": 100,
     "metadata": {},
     "output_type": "execute_result"
    }
   ],
   "source": [
    "cut_scores[:5]"
   ]
  },
  {
   "cell_type": "code",
   "execution_count": 101,
   "metadata": {},
   "outputs": [
    {
     "name": "stderr",
     "output_type": "stream",
     "text": [
      "/Users/genevieveberent/Desktop/anaconda3/lib/python3.6/site-packages/ipykernel_launcher.py:1: SettingWithCopyWarning: \n",
      "A value is trying to be set on a copy of a slice from a DataFrame.\n",
      "Try using .loc[row_indexer,col_indexer] = value instead\n",
      "\n",
      "See the caveats in the documentation: http://pandas.pydata.org/pandas-docs/stable/indexing.html#indexing-view-versus-copy\n",
      "  \"\"\"Entry point for launching an IPython kernel.\n"
     ]
    }
   ],
   "source": [
    "## Add the new list of scores to the existing 'Score' column in the cut_players df\n",
    "\n",
    "cut_players['Score'] = cut_scores"
   ]
  },
  {
   "cell_type": "code",
   "execution_count": 102,
   "metadata": {},
   "outputs": [
    {
     "name": "stderr",
     "output_type": "stream",
     "text": [
      "/Users/genevieveberent/Desktop/anaconda3/lib/python3.6/site-packages/ipykernel_launcher.py:3: SettingWithCopyWarning: \n",
      "A value is trying to be set on a copy of a slice from a DataFrame.\n",
      "Try using .loc[row_indexer,col_indexer] = value instead\n",
      "\n",
      "See the caveats in the documentation: http://pandas.pydata.org/pandas-docs/stable/indexing.html#indexing-view-versus-copy\n",
      "  This is separate from the ipykernel package so we can avoid doing imports until\n"
     ]
    }
   ],
   "source": [
    "## Rank the players based on their score\n",
    "## The last player to make the cut was in 53, our cut_players need to start at 54\n",
    "\n",
    "cut_players['Position'] = (cut_players['Score'].rank(method='min')) + 53"
   ]
  },
  {
   "cell_type": "code",
   "execution_count": 103,
   "metadata": {},
   "outputs": [
    {
     "data": {
      "text/html": [
       "<div>\n",
       "<style scoped>\n",
       "    .dataframe tbody tr th:only-of-type {\n",
       "        vertical-align: middle;\n",
       "    }\n",
       "\n",
       "    .dataframe tbody tr th {\n",
       "        vertical-align: top;\n",
       "    }\n",
       "\n",
       "    .dataframe thead th {\n",
       "        text-align: right;\n",
       "    }\n",
       "</style>\n",
       "<table border=\"1\" class=\"dataframe\">\n",
       "  <thead>\n",
       "    <tr style=\"text-align: right;\">\n",
       "      <th></th>\n",
       "      <th>Player</th>\n",
       "      <th>Position</th>\n",
       "      <th>Score</th>\n",
       "      <th>Cut</th>\n",
       "    </tr>\n",
       "  </thead>\n",
       "  <tbody>\n",
       "    <tr>\n",
       "      <th>53</th>\n",
       "      <td>Sandy Lyle</td>\n",
       "      <td>54.0</td>\n",
       "      <td>6</td>\n",
       "      <td>1</td>\n",
       "    </tr>\n",
       "    <tr>\n",
       "      <th>54</th>\n",
       "      <td>Charl Schwartzel</td>\n",
       "      <td>54.0</td>\n",
       "      <td>6</td>\n",
       "      <td>1</td>\n",
       "    </tr>\n",
       "    <tr>\n",
       "      <th>55</th>\n",
       "      <td>Jose Maria Olazabal</td>\n",
       "      <td>54.0</td>\n",
       "      <td>6</td>\n",
       "      <td>1</td>\n",
       "    </tr>\n",
       "    <tr>\n",
       "      <th>56</th>\n",
       "      <td>Jason Dufner</td>\n",
       "      <td>54.0</td>\n",
       "      <td>6</td>\n",
       "      <td>1</td>\n",
       "    </tr>\n",
       "    <tr>\n",
       "      <th>57</th>\n",
       "      <td>Patrick Cantlay</td>\n",
       "      <td>58.0</td>\n",
       "      <td>7</td>\n",
       "      <td>1</td>\n",
       "    </tr>\n",
       "  </tbody>\n",
       "</table>\n",
       "</div>"
      ],
      "text/plain": [
       "                 Player  Position  Score  Cut\n",
       "53           Sandy Lyle      54.0      6    1\n",
       "54     Charl Schwartzel      54.0      6    1\n",
       "55  Jose Maria Olazabal      54.0      6    1\n",
       "56         Jason Dufner      54.0      6    1\n",
       "57      Patrick Cantlay      58.0      7    1"
      ]
     },
     "execution_count": 103,
     "metadata": {},
     "output_type": "execute_result"
    }
   ],
   "source": [
    "cut_players.head()"
   ]
  },
  {
   "cell_type": "code",
   "execution_count": 104,
   "metadata": {},
   "outputs": [],
   "source": [
    "## Concatenate this back to the original df of players positions\n",
    "## Get the dataframe of just the players that made the cut\n",
    "\n",
    "finish2018 = finish2018[finish2018['Position'] != 'CUT']"
   ]
  },
  {
   "cell_type": "code",
   "execution_count": 105,
   "metadata": {},
   "outputs": [],
   "source": [
    "finish2018 = pd.concat([finish2018, cut_players])"
   ]
  },
  {
   "cell_type": "code",
   "execution_count": 106,
   "metadata": {},
   "outputs": [
    {
     "data": {
      "text/plain": [
       "(87, 4)"
      ]
     },
     "execution_count": 106,
     "metadata": {},
     "output_type": "execute_result"
    }
   ],
   "source": [
    "finish2018.shape"
   ]
  },
  {
   "cell_type": "code",
   "execution_count": 107,
   "metadata": {},
   "outputs": [
    {
     "data": {
      "text/html": [
       "<div>\n",
       "<style scoped>\n",
       "    .dataframe tbody tr th:only-of-type {\n",
       "        vertical-align: middle;\n",
       "    }\n",
       "\n",
       "    .dataframe tbody tr th {\n",
       "        vertical-align: top;\n",
       "    }\n",
       "\n",
       "    .dataframe thead th {\n",
       "        text-align: right;\n",
       "    }\n",
       "</style>\n",
       "<table border=\"1\" class=\"dataframe\">\n",
       "  <thead>\n",
       "    <tr style=\"text-align: right;\">\n",
       "      <th></th>\n",
       "      <th>Player</th>\n",
       "      <th>Position</th>\n",
       "      <th>Score</th>\n",
       "      <th>Cut</th>\n",
       "    </tr>\n",
       "  </thead>\n",
       "  <tbody>\n",
       "    <tr>\n",
       "      <th>82</th>\n",
       "      <td>Yuxin Lin</td>\n",
       "      <td>82</td>\n",
       "      <td>15</td>\n",
       "      <td>1</td>\n",
       "    </tr>\n",
       "    <tr>\n",
       "      <th>83</th>\n",
       "      <td>Mark O'Meara</td>\n",
       "      <td>82</td>\n",
       "      <td>15</td>\n",
       "      <td>1</td>\n",
       "    </tr>\n",
       "    <tr>\n",
       "      <th>84</th>\n",
       "      <td>Sergio Garcia</td>\n",
       "      <td>82</td>\n",
       "      <td>15</td>\n",
       "      <td>1</td>\n",
       "    </tr>\n",
       "    <tr>\n",
       "      <th>85</th>\n",
       "      <td>Matt Parziale</td>\n",
       "      <td>86</td>\n",
       "      <td>16</td>\n",
       "      <td>1</td>\n",
       "    </tr>\n",
       "    <tr>\n",
       "      <th>86</th>\n",
       "      <td>Harry Ellis</td>\n",
       "      <td>87</td>\n",
       "      <td>22</td>\n",
       "      <td>1</td>\n",
       "    </tr>\n",
       "  </tbody>\n",
       "</table>\n",
       "</div>"
      ],
      "text/plain": [
       "           Player Position Score  Cut\n",
       "82      Yuxin Lin       82    15    1\n",
       "83   Mark O'Meara       82    15    1\n",
       "84  Sergio Garcia       82    15    1\n",
       "85  Matt Parziale       86    16    1\n",
       "86    Harry Ellis       87    22    1"
      ]
     },
     "execution_count": 107,
     "metadata": {},
     "output_type": "execute_result"
    }
   ],
   "source": [
    "finish2018.tail()"
   ]
  },
  {
   "cell_type": "code",
   "execution_count": 108,
   "metadata": {},
   "outputs": [],
   "source": [
    "## Finished product of where all players that made the cut finished and their score\n",
    "\n",
    "finish2018.to_csv('2018_Positions.csv')"
   ]
  },
  {
   "cell_type": "code",
   "execution_count": null,
   "metadata": {},
   "outputs": [],
   "source": []
  },
  {
   "cell_type": "markdown",
   "metadata": {},
   "source": [
    "## Concatenate all the dataframes together"
   ]
  },
  {
   "cell_type": "raw",
   "metadata": {},
   "source": [
    "DataFrame Names:\n",
    "fir2018\n",
    "gir2018\n",
    "dist2018\n",
    "putt2018\n",
    "finish2018"
   ]
  },
  {
   "cell_type": "code",
   "execution_count": 109,
   "metadata": {},
   "outputs": [],
   "source": [
    "## Make the 'Player' column the index for each df\n",
    "\n",
    "fir2018.index = fir2018['Player']\n",
    "gir2018.index = gir2018['Player']\n",
    "dist2018.index = dist2018['Player']\n",
    "putt2018.index = putt2018['Player']\n",
    "finish2018.index = finish2018['Player']"
   ]
  },
  {
   "cell_type": "code",
   "execution_count": 110,
   "metadata": {},
   "outputs": [
    {
     "name": "stderr",
     "output_type": "stream",
     "text": [
      "/Users/genevieveberent/Desktop/anaconda3/lib/python3.6/site-packages/ipykernel_launcher.py:1: FutureWarning: Sorting because non-concatenation axis is not aligned. A future version\n",
      "of pandas will change to not sort by default.\n",
      "\n",
      "To accept the future behavior, pass 'sort=True'.\n",
      "\n",
      "To retain the current behavior and silence the warning, pass sort=False\n",
      "\n",
      "  \"\"\"Entry point for launching an IPython kernel.\n"
     ]
    }
   ],
   "source": [
    "## Concatenate just the stats into a dataframe\n",
    "\n",
    "stats_df = pd.concat([fir2018, dist2018, gir2018, putt2018], axis=1)"
   ]
  },
  {
   "cell_type": "code",
   "execution_count": 111,
   "metadata": {},
   "outputs": [
    {
     "data": {
      "text/html": [
       "<div>\n",
       "<style scoped>\n",
       "    .dataframe tbody tr th:only-of-type {\n",
       "        vertical-align: middle;\n",
       "    }\n",
       "\n",
       "    .dataframe tbody tr th {\n",
       "        vertical-align: top;\n",
       "    }\n",
       "\n",
       "    .dataframe thead th {\n",
       "        text-align: right;\n",
       "    }\n",
       "</style>\n",
       "<table border=\"1\" class=\"dataframe\">\n",
       "  <thead>\n",
       "    <tr style=\"text-align: right;\">\n",
       "      <th></th>\n",
       "      <th>Player</th>\n",
       "      <th>FIR</th>\n",
       "      <th>FIR Rank</th>\n",
       "      <th>Player</th>\n",
       "      <th>dist</th>\n",
       "      <th>dist Rank</th>\n",
       "      <th>Player</th>\n",
       "      <th>GIR</th>\n",
       "      <th>GIR Rank</th>\n",
       "      <th>Player</th>\n",
       "      <th>Putting</th>\n",
       "      <th>Putting Rank</th>\n",
       "    </tr>\n",
       "  </thead>\n",
       "  <tbody>\n",
       "    <tr>\n",
       "      <th>Adam Hadwin</th>\n",
       "      <td>Adam Hadwin</td>\n",
       "      <td>69.64</td>\n",
       "      <td>26.0</td>\n",
       "      <td>Adam Hadwin</td>\n",
       "      <td>291.38</td>\n",
       "      <td>38.0</td>\n",
       "      <td>Adam Hadwin</td>\n",
       "      <td>69.44</td>\n",
       "      <td>11.0</td>\n",
       "      <td>Adam Hadwin</td>\n",
       "      <td>1.67</td>\n",
       "      <td>49.0</td>\n",
       "    </tr>\n",
       "    <tr>\n",
       "      <th>Adam Scott</th>\n",
       "      <td>Adam Scott</td>\n",
       "      <td>69.64</td>\n",
       "      <td>26.0</td>\n",
       "      <td>Adam Scott</td>\n",
       "      <td>289.62</td>\n",
       "      <td>47.0</td>\n",
       "      <td>Adam Scott</td>\n",
       "      <td>68.06</td>\n",
       "      <td>15.0</td>\n",
       "      <td>Adam Scott</td>\n",
       "      <td>1.74</td>\n",
       "      <td>74.0</td>\n",
       "    </tr>\n",
       "    <tr>\n",
       "      <th>Alex Noren</th>\n",
       "      <td>Alex Noren</td>\n",
       "      <td>50.00</td>\n",
       "      <td>78.0</td>\n",
       "      <td>Alex Noren</td>\n",
       "      <td>285.25</td>\n",
       "      <td>60.0</td>\n",
       "      <td>Alex Noren</td>\n",
       "      <td>52.78</td>\n",
       "      <td>67.0</td>\n",
       "      <td>Alex Noren</td>\n",
       "      <td>1.61</td>\n",
       "      <td>22.0</td>\n",
       "    </tr>\n",
       "    <tr>\n",
       "      <th>Angel Cabrera</th>\n",
       "      <td>Angel Cabrera</td>\n",
       "      <td>67.86</td>\n",
       "      <td>31.0</td>\n",
       "      <td>Angel Cabrera</td>\n",
       "      <td>291.75</td>\n",
       "      <td>34.0</td>\n",
       "      <td>Angel Cabrera</td>\n",
       "      <td>44.44</td>\n",
       "      <td>77.0</td>\n",
       "      <td>Angel Cabrera</td>\n",
       "      <td>1.83</td>\n",
       "      <td>85.0</td>\n",
       "    </tr>\n",
       "    <tr>\n",
       "      <th>Austin Cook</th>\n",
       "      <td>Austin Cook</td>\n",
       "      <td>46.43</td>\n",
       "      <td>84.0</td>\n",
       "      <td>Austin Cook</td>\n",
       "      <td>280.75</td>\n",
       "      <td>74.0</td>\n",
       "      <td>Austin Cook</td>\n",
       "      <td>55.56</td>\n",
       "      <td>61.0</td>\n",
       "      <td>Austin Cook</td>\n",
       "      <td>1.75</td>\n",
       "      <td>75.0</td>\n",
       "    </tr>\n",
       "  </tbody>\n",
       "</table>\n",
       "</div>"
      ],
      "text/plain": [
       "                      Player    FIR  FIR Rank         Player    dist  \\\n",
       "Adam Hadwin      Adam Hadwin  69.64      26.0    Adam Hadwin  291.38   \n",
       "Adam Scott        Adam Scott  69.64      26.0     Adam Scott  289.62   \n",
       "Alex Noren        Alex Noren  50.00      78.0     Alex Noren  285.25   \n",
       "Angel Cabrera  Angel Cabrera  67.86      31.0  Angel Cabrera  291.75   \n",
       "Austin Cook      Austin Cook  46.43      84.0    Austin Cook  280.75   \n",
       "\n",
       "               dist Rank         Player    GIR  GIR Rank         Player  \\\n",
       "Adam Hadwin         38.0    Adam Hadwin  69.44      11.0    Adam Hadwin   \n",
       "Adam Scott          47.0     Adam Scott  68.06      15.0     Adam Scott   \n",
       "Alex Noren          60.0     Alex Noren  52.78      67.0     Alex Noren   \n",
       "Angel Cabrera       34.0  Angel Cabrera  44.44      77.0  Angel Cabrera   \n",
       "Austin Cook         74.0    Austin Cook  55.56      61.0    Austin Cook   \n",
       "\n",
       "              Putting  Putting Rank  \n",
       "Adam Hadwin      1.67          49.0  \n",
       "Adam Scott       1.74          74.0  \n",
       "Alex Noren       1.61          22.0  \n",
       "Angel Cabrera    1.83          85.0  \n",
       "Austin Cook      1.75          75.0  "
      ]
     },
     "execution_count": 111,
     "metadata": {},
     "output_type": "execute_result"
    }
   ],
   "source": [
    "stats_df.head()"
   ]
  },
  {
   "cell_type": "code",
   "execution_count": 112,
   "metadata": {},
   "outputs": [],
   "source": [
    "## Drop the multiple 'Player' columns\n",
    "\n",
    "stats_df.drop('Player', axis=1, inplace=True)"
   ]
  },
  {
   "cell_type": "code",
   "execution_count": 113,
   "metadata": {},
   "outputs": [
    {
     "data": {
      "text/html": [
       "<div>\n",
       "<style scoped>\n",
       "    .dataframe tbody tr th:only-of-type {\n",
       "        vertical-align: middle;\n",
       "    }\n",
       "\n",
       "    .dataframe tbody tr th {\n",
       "        vertical-align: top;\n",
       "    }\n",
       "\n",
       "    .dataframe thead th {\n",
       "        text-align: right;\n",
       "    }\n",
       "</style>\n",
       "<table border=\"1\" class=\"dataframe\">\n",
       "  <thead>\n",
       "    <tr style=\"text-align: right;\">\n",
       "      <th></th>\n",
       "      <th>FIR</th>\n",
       "      <th>FIR Rank</th>\n",
       "      <th>dist</th>\n",
       "      <th>dist Rank</th>\n",
       "      <th>GIR</th>\n",
       "      <th>GIR Rank</th>\n",
       "      <th>Putting</th>\n",
       "      <th>Putting Rank</th>\n",
       "    </tr>\n",
       "  </thead>\n",
       "  <tbody>\n",
       "    <tr>\n",
       "      <th>Adam Hadwin</th>\n",
       "      <td>69.64</td>\n",
       "      <td>26.0</td>\n",
       "      <td>291.38</td>\n",
       "      <td>38.0</td>\n",
       "      <td>69.44</td>\n",
       "      <td>11.0</td>\n",
       "      <td>1.67</td>\n",
       "      <td>49.0</td>\n",
       "    </tr>\n",
       "    <tr>\n",
       "      <th>Adam Scott</th>\n",
       "      <td>69.64</td>\n",
       "      <td>26.0</td>\n",
       "      <td>289.62</td>\n",
       "      <td>47.0</td>\n",
       "      <td>68.06</td>\n",
       "      <td>15.0</td>\n",
       "      <td>1.74</td>\n",
       "      <td>74.0</td>\n",
       "    </tr>\n",
       "    <tr>\n",
       "      <th>Alex Noren</th>\n",
       "      <td>50.00</td>\n",
       "      <td>78.0</td>\n",
       "      <td>285.25</td>\n",
       "      <td>60.0</td>\n",
       "      <td>52.78</td>\n",
       "      <td>67.0</td>\n",
       "      <td>1.61</td>\n",
       "      <td>22.0</td>\n",
       "    </tr>\n",
       "    <tr>\n",
       "      <th>Angel Cabrera</th>\n",
       "      <td>67.86</td>\n",
       "      <td>31.0</td>\n",
       "      <td>291.75</td>\n",
       "      <td>34.0</td>\n",
       "      <td>44.44</td>\n",
       "      <td>77.0</td>\n",
       "      <td>1.83</td>\n",
       "      <td>85.0</td>\n",
       "    </tr>\n",
       "    <tr>\n",
       "      <th>Austin Cook</th>\n",
       "      <td>46.43</td>\n",
       "      <td>84.0</td>\n",
       "      <td>280.75</td>\n",
       "      <td>74.0</td>\n",
       "      <td>55.56</td>\n",
       "      <td>61.0</td>\n",
       "      <td>1.75</td>\n",
       "      <td>75.0</td>\n",
       "    </tr>\n",
       "  </tbody>\n",
       "</table>\n",
       "</div>"
      ],
      "text/plain": [
       "                 FIR  FIR Rank    dist  dist Rank    GIR  GIR Rank Putting  \\\n",
       "Adam Hadwin    69.64      26.0  291.38       38.0  69.44      11.0    1.67   \n",
       "Adam Scott     69.64      26.0  289.62       47.0  68.06      15.0    1.74   \n",
       "Alex Noren     50.00      78.0  285.25       60.0  52.78      67.0    1.61   \n",
       "Angel Cabrera  67.86      31.0  291.75       34.0  44.44      77.0    1.83   \n",
       "Austin Cook    46.43      84.0  280.75       74.0  55.56      61.0    1.75   \n",
       "\n",
       "               Putting Rank  \n",
       "Adam Hadwin            49.0  \n",
       "Adam Scott             74.0  \n",
       "Alex Noren             22.0  \n",
       "Angel Cabrera          85.0  \n",
       "Austin Cook            75.0  "
      ]
     },
     "execution_count": 113,
     "metadata": {},
     "output_type": "execute_result"
    }
   ],
   "source": [
    "stats_df.head()"
   ]
  },
  {
   "cell_type": "code",
   "execution_count": 114,
   "metadata": {},
   "outputs": [],
   "source": [
    "player_names = set(list(stats_df.index) + list(finish2018.index))"
   ]
  },
  {
   "cell_type": "code",
   "execution_count": 115,
   "metadata": {},
   "outputs": [
    {
     "data": {
      "text/plain": [
       "{'Adam Hadwin',\n",
       " 'Adam Scott',\n",
       " 'Alex Noren',\n",
       " 'Alexander Noren',\n",
       " 'Angel Cabrera',\n",
       " 'Austin Cook',\n",
       " 'Bernd Wiesberger',\n",
       " 'Bernhard Langer',\n",
       " 'Billy Horschel',\n",
       " 'Branden Grace',\n",
       " 'Brendan Steele',\n",
       " 'Brian Harman',\n",
       " 'Bryson DeChambeau',\n",
       " 'Bubba Watson',\n",
       " 'Cameron Smith',\n",
       " 'Charl Schwartzel',\n",
       " 'Charley Hoffman',\n",
       " 'Chez Reavie',\n",
       " 'Daniel Berger',\n",
       " 'Danny Willett',\n",
       " 'Doc Redman',\n",
       " 'Doc Redman (A)',\n",
       " 'Doug Ghim',\n",
       " 'Doug Ghim (A)',\n",
       " 'Dustin Johnson',\n",
       " 'Dylan Frittelli',\n",
       " 'Francesco Molinari',\n",
       " 'Fred Couples',\n",
       " 'Gary Woodland',\n",
       " 'Hao-Tong Li',\n",
       " 'Haotong Li',\n",
       " 'Harry Ellis',\n",
       " 'Harry Ellis (A)',\n",
       " 'Henrik Stenson',\n",
       " 'Hideki Matsuyama',\n",
       " 'Ian Poulter',\n",
       " 'Ian Woosnam',\n",
       " 'Jason Day',\n",
       " 'Jason Dufner',\n",
       " 'Jhonattan Vegas',\n",
       " 'Jimmy Walker',\n",
       " 'Joaquin Niemann',\n",
       " 'Joaquin Niemann (A)',\n",
       " 'Jon Rahm',\n",
       " 'Jordan Spieth',\n",
       " 'Jose Maria Olazabal',\n",
       " 'Justin Rose',\n",
       " 'Justin Thomas',\n",
       " 'Kevin Chappell',\n",
       " 'Kevin Kisner',\n",
       " 'Kiradech Aphibarnrat',\n",
       " 'Kyle Stanley',\n",
       " 'Larry Mize',\n",
       " 'Louis Oosthuizen',\n",
       " 'Marc Leishman',\n",
       " \"Mark O'Meara\",\n",
       " 'Martin Kaymer',\n",
       " 'Matt Kuchar',\n",
       " 'Matt Parziale',\n",
       " 'Matt Parziale (A)',\n",
       " 'Matthew Fitzpatrick',\n",
       " 'Mike Weir',\n",
       " 'Pat Perez',\n",
       " 'Patrick Cantlay',\n",
       " 'Patrick Reed',\n",
       " 'Patton Kizzire',\n",
       " 'Paul Casey',\n",
       " 'Phil Mickelson',\n",
       " 'Rafael Cabrera Bello',\n",
       " 'Rafael Cabrera-Bello',\n",
       " 'Rickie Fowler',\n",
       " 'Rory McIlroy',\n",
       " 'Ross Fisher',\n",
       " 'Russell Henley',\n",
       " 'Ryan Moore',\n",
       " 'Sandy Lyle',\n",
       " 'Satoshi Kodaira',\n",
       " 'Sergio Garcia',\n",
       " 'Shubhankar Sharma',\n",
       " 'Si Woo Kim',\n",
       " 'Ted Potter',\n",
       " 'Ted Potter, Jr.',\n",
       " 'Thomas Pieters',\n",
       " 'Tiger Woods',\n",
       " 'Tommy Fleetwood',\n",
       " 'Tony Finau',\n",
       " 'Trevor Immelman',\n",
       " 'Tyrrell Hatton',\n",
       " 'Vijay Singh',\n",
       " 'Webb Simpson',\n",
       " 'Wesley Bryan',\n",
       " 'Xander Schauffele',\n",
       " 'Yusaku Miyazato',\n",
       " 'Yuta Ikeda',\n",
       " 'Yuxin Lin',\n",
       " 'Yuxin Lin (A)',\n",
       " 'Zach Johnson'}"
      ]
     },
     "execution_count": 115,
     "metadata": {},
     "output_type": "execute_result"
    }
   ],
   "source": [
    "player_names"
   ]
  },
  {
   "cell_type": "raw",
   "metadata": {},
   "source": [
    "## Names that need to be changed\n",
    "\n",
    "'Doc Redman', 'Doc Redman (A)',\n",
    "'Doug Ghim', 'Doug Ghim (A)',\n",
    "'Hao-Tong Li', 'Haotong Li',\n",
    "'Harry Ellis', 'Harry Ellis (A)',\n",
    "'Joaquin Niemann', 'Joaquin Niemann (A)'\n",
    "'Matt Parziale', 'Matt Parziale (A)'\n",
    "'Rafael Cabrera Bello', 'Rafael Cabrera-Bello'\n",
    "'Yuxin Lin', 'Yuxin Lin (A)'"
   ]
  },
  {
   "cell_type": "code",
   "execution_count": 129,
   "metadata": {},
   "outputs": [],
   "source": [
    "## Replace the names in the stats_df index to match the final position df\n",
    "\n",
    "new_names = {'Doc Redman (A)': 'Doc Redman',\n",
    "             'Doug Ghim (A)': 'Doug Ghim',\n",
    "             'Haotong Li': 'Hao-Tong Li',\n",
    "             'Harry Ellis (A)': 'Harry Ellis',\n",
    "             'Joaquin Niemann (A)': 'Joaquin Niemann',\n",
    "             'Matt Parziale (A)': 'Matt Parziale',\n",
    "             'Rafael Cabrera Bello': 'Rafael Cabrera-Bello',\n",
    "             'Yuxin Lin (A)': 'Yuxin Lin',\n",
    "             'Ted Potter, Jr.':'Ted Potter',\n",
    "             'Alex Noren': 'Alexander Noren'}\n",
    "\n",
    "stats_df = stats_df.rename(index=new_names)"
   ]
  },
  {
   "cell_type": "code",
   "execution_count": 130,
   "metadata": {},
   "outputs": [
    {
     "name": "stderr",
     "output_type": "stream",
     "text": [
      "/Users/genevieveberent/Desktop/anaconda3/lib/python3.6/site-packages/ipykernel_launcher.py:3: FutureWarning: Sorting because non-concatenation axis is not aligned. A future version\n",
      "of pandas will change to not sort by default.\n",
      "\n",
      "To accept the future behavior, pass 'sort=True'.\n",
      "\n",
      "To retain the current behavior and silence the warning, pass sort=False\n",
      "\n",
      "  This is separate from the ipykernel package so we can avoid doing imports until\n"
     ]
    }
   ],
   "source": [
    "## Add in the final position of each player at the tournament\n",
    "\n",
    "masters_2018 = pd.concat([stats_df, finish2018], axis=1)"
   ]
  },
  {
   "cell_type": "code",
   "execution_count": 131,
   "metadata": {},
   "outputs": [
    {
     "data": {
      "text/plain": [
       "(87, 12)"
      ]
     },
     "execution_count": 131,
     "metadata": {},
     "output_type": "execute_result"
    }
   ],
   "source": [
    "masters_2018.shape"
   ]
  },
  {
   "cell_type": "code",
   "execution_count": 133,
   "metadata": {},
   "outputs": [],
   "source": [
    "masters_2018.drop('Player', axis=1, inplace=True)"
   ]
  },
  {
   "cell_type": "code",
   "execution_count": 137,
   "metadata": {},
   "outputs": [],
   "source": [
    "## Remove the 'T' in the 'Position' where a player tied with someone else\n",
    "\n",
    "masters_2018['Position'] = masters_2018['Position'].apply(lambda x:str(x).strip('T'))"
   ]
  },
  {
   "cell_type": "code",
   "execution_count": 138,
   "metadata": {},
   "outputs": [
    {
     "data": {
      "text/html": [
       "<div>\n",
       "<style scoped>\n",
       "    .dataframe tbody tr th:only-of-type {\n",
       "        vertical-align: middle;\n",
       "    }\n",
       "\n",
       "    .dataframe tbody tr th {\n",
       "        vertical-align: top;\n",
       "    }\n",
       "\n",
       "    .dataframe thead th {\n",
       "        text-align: right;\n",
       "    }\n",
       "</style>\n",
       "<table border=\"1\" class=\"dataframe\">\n",
       "  <thead>\n",
       "    <tr style=\"text-align: right;\">\n",
       "      <th></th>\n",
       "      <th>FIR</th>\n",
       "      <th>FIR Rank</th>\n",
       "      <th>dist</th>\n",
       "      <th>dist Rank</th>\n",
       "      <th>GIR</th>\n",
       "      <th>GIR Rank</th>\n",
       "      <th>Putting</th>\n",
       "      <th>Putting Rank</th>\n",
       "      <th>Position</th>\n",
       "      <th>Score</th>\n",
       "      <th>Cut</th>\n",
       "    </tr>\n",
       "  </thead>\n",
       "  <tbody>\n",
       "    <tr>\n",
       "      <th>Adam Hadwin</th>\n",
       "      <td>69.64</td>\n",
       "      <td>26.0</td>\n",
       "      <td>291.38</td>\n",
       "      <td>38.0</td>\n",
       "      <td>69.44</td>\n",
       "      <td>11.0</td>\n",
       "      <td>1.67</td>\n",
       "      <td>49.0</td>\n",
       "      <td>24</td>\n",
       "      <td>-1</td>\n",
       "      <td>0</td>\n",
       "    </tr>\n",
       "    <tr>\n",
       "      <th>Adam Scott</th>\n",
       "      <td>69.64</td>\n",
       "      <td>26.0</td>\n",
       "      <td>289.62</td>\n",
       "      <td>47.0</td>\n",
       "      <td>68.06</td>\n",
       "      <td>15.0</td>\n",
       "      <td>1.74</td>\n",
       "      <td>74.0</td>\n",
       "      <td>32</td>\n",
       "      <td>+1</td>\n",
       "      <td>0</td>\n",
       "    </tr>\n",
       "    <tr>\n",
       "      <th>Alexander Noren</th>\n",
       "      <td>50.00</td>\n",
       "      <td>78.0</td>\n",
       "      <td>285.25</td>\n",
       "      <td>60.0</td>\n",
       "      <td>52.78</td>\n",
       "      <td>67.0</td>\n",
       "      <td>1.61</td>\n",
       "      <td>22.0</td>\n",
       "      <td>69.0</td>\n",
       "      <td>9</td>\n",
       "      <td>1</td>\n",
       "    </tr>\n",
       "    <tr>\n",
       "      <th>Angel Cabrera</th>\n",
       "      <td>67.86</td>\n",
       "      <td>31.0</td>\n",
       "      <td>291.75</td>\n",
       "      <td>34.0</td>\n",
       "      <td>44.44</td>\n",
       "      <td>77.0</td>\n",
       "      <td>1.83</td>\n",
       "      <td>85.0</td>\n",
       "      <td>82.0</td>\n",
       "      <td>15</td>\n",
       "      <td>1</td>\n",
       "    </tr>\n",
       "    <tr>\n",
       "      <th>Austin Cook</th>\n",
       "      <td>46.43</td>\n",
       "      <td>84.0</td>\n",
       "      <td>280.75</td>\n",
       "      <td>74.0</td>\n",
       "      <td>55.56</td>\n",
       "      <td>61.0</td>\n",
       "      <td>1.75</td>\n",
       "      <td>75.0</td>\n",
       "      <td>75.0</td>\n",
       "      <td>10</td>\n",
       "      <td>1</td>\n",
       "    </tr>\n",
       "    <tr>\n",
       "      <th>Bernd Wiesberger</th>\n",
       "      <td>58.93</td>\n",
       "      <td>60.0</td>\n",
       "      <td>294.88</td>\n",
       "      <td>17.0</td>\n",
       "      <td>72.22</td>\n",
       "      <td>4.0</td>\n",
       "      <td>1.71</td>\n",
       "      <td>68.0</td>\n",
       "      <td>24</td>\n",
       "      <td>-1</td>\n",
       "      <td>0</td>\n",
       "    </tr>\n",
       "    <tr>\n",
       "      <th>Bernhard Langer</th>\n",
       "      <td>85.71</td>\n",
       "      <td>1.0</td>\n",
       "      <td>269.50</td>\n",
       "      <td>85.0</td>\n",
       "      <td>68.06</td>\n",
       "      <td>15.0</td>\n",
       "      <td>1.69</td>\n",
       "      <td>62.0</td>\n",
       "      <td>38</td>\n",
       "      <td>+3</td>\n",
       "      <td>0</td>\n",
       "    </tr>\n",
       "    <tr>\n",
       "      <th>Billy Horschel</th>\n",
       "      <td>64.29</td>\n",
       "      <td>45.0</td>\n",
       "      <td>293.25</td>\n",
       "      <td>29.0</td>\n",
       "      <td>50.00</td>\n",
       "      <td>73.0</td>\n",
       "      <td>1.78</td>\n",
       "      <td>79.0</td>\n",
       "      <td>78.0</td>\n",
       "      <td>11</td>\n",
       "      <td>1</td>\n",
       "    </tr>\n",
       "    <tr>\n",
       "      <th>Branden Grace</th>\n",
       "      <td>58.93</td>\n",
       "      <td>60.0</td>\n",
       "      <td>291.62</td>\n",
       "      <td>35.0</td>\n",
       "      <td>62.50</td>\n",
       "      <td>34.0</td>\n",
       "      <td>1.60</td>\n",
       "      <td>20.0</td>\n",
       "      <td>24</td>\n",
       "      <td>-1</td>\n",
       "      <td>0</td>\n",
       "    </tr>\n",
       "    <tr>\n",
       "      <th>Brendan Steele</th>\n",
       "      <td>57.14</td>\n",
       "      <td>64.0</td>\n",
       "      <td>294.25</td>\n",
       "      <td>21.0</td>\n",
       "      <td>63.89</td>\n",
       "      <td>31.0</td>\n",
       "      <td>1.81</td>\n",
       "      <td>82.0</td>\n",
       "      <td>58.0</td>\n",
       "      <td>7</td>\n",
       "      <td>1</td>\n",
       "    </tr>\n",
       "  </tbody>\n",
       "</table>\n",
       "</div>"
      ],
      "text/plain": [
       "                    FIR  FIR Rank    dist  dist Rank    GIR  GIR Rank Putting  \\\n",
       "Adam Hadwin       69.64      26.0  291.38       38.0  69.44      11.0    1.67   \n",
       "Adam Scott        69.64      26.0  289.62       47.0  68.06      15.0    1.74   \n",
       "Alexander Noren   50.00      78.0  285.25       60.0  52.78      67.0    1.61   \n",
       "Angel Cabrera     67.86      31.0  291.75       34.0  44.44      77.0    1.83   \n",
       "Austin Cook       46.43      84.0  280.75       74.0  55.56      61.0    1.75   \n",
       "Bernd Wiesberger  58.93      60.0  294.88       17.0  72.22       4.0    1.71   \n",
       "Bernhard Langer   85.71       1.0  269.50       85.0  68.06      15.0    1.69   \n",
       "Billy Horschel    64.29      45.0  293.25       29.0  50.00      73.0    1.78   \n",
       "Branden Grace     58.93      60.0  291.62       35.0  62.50      34.0    1.60   \n",
       "Brendan Steele    57.14      64.0  294.25       21.0  63.89      31.0    1.81   \n",
       "\n",
       "                  Putting Rank Position Score  Cut  \n",
       "Adam Hadwin               49.0       24    -1    0  \n",
       "Adam Scott                74.0       32    +1    0  \n",
       "Alexander Noren           22.0     69.0     9    1  \n",
       "Angel Cabrera             85.0     82.0    15    1  \n",
       "Austin Cook               75.0     75.0    10    1  \n",
       "Bernd Wiesberger          68.0       24    -1    0  \n",
       "Bernhard Langer           62.0       38    +3    0  \n",
       "Billy Horschel            79.0     78.0    11    1  \n",
       "Branden Grace             20.0       24    -1    0  \n",
       "Brendan Steele            82.0     58.0     7    1  "
      ]
     },
     "execution_count": 138,
     "metadata": {},
     "output_type": "execute_result"
    }
   ],
   "source": [
    "masters_2018.head(10)"
   ]
  },
  {
   "cell_type": "code",
   "execution_count": 139,
   "metadata": {},
   "outputs": [],
   "source": [
    "## Rearrange to columns to my liking\n",
    "\n",
    "masters_2018 = masters_2018[['Position', 'Score', 'FIR', 'FIR Rank', 'dist', 'dist Rank', 'GIR', 'GIR Rank', 'Putting',\n",
    "       'Putting Rank', 'Cut']]"
   ]
  },
  {
   "cell_type": "code",
   "execution_count": 141,
   "metadata": {},
   "outputs": [],
   "source": [
    "## Replace 'E' for even par, with 0 to be able to convert to an int\n",
    "\n",
    "masters_2018['Score'] = masters_2018['Score'].replace({'E':0})"
   ]
  },
  {
   "cell_type": "code",
   "execution_count": 142,
   "metadata": {},
   "outputs": [],
   "source": [
    "## Lastly, convert all the columns to numeric type to analyze later\n",
    "\n",
    "cols = ['FIR', 'FIR Rank', 'dist', 'dist Rank', 'GIR', 'GIR Rank', 'Putting',\n",
    "       'Putting Rank', 'Position', 'Score', 'Cut']\n",
    "\n",
    "masters_2018[cols] = masters_2018[cols].apply(pd.to_numeric, axis=1)"
   ]
  },
  {
   "cell_type": "code",
   "execution_count": 146,
   "metadata": {},
   "outputs": [],
   "source": [
    "masters_2018['Year'] = 2018"
   ]
  },
  {
   "cell_type": "code",
   "execution_count": 147,
   "metadata": {},
   "outputs": [
    {
     "data": {
      "text/html": [
       "<div>\n",
       "<style scoped>\n",
       "    .dataframe tbody tr th:only-of-type {\n",
       "        vertical-align: middle;\n",
       "    }\n",
       "\n",
       "    .dataframe tbody tr th {\n",
       "        vertical-align: top;\n",
       "    }\n",
       "\n",
       "    .dataframe thead th {\n",
       "        text-align: right;\n",
       "    }\n",
       "</style>\n",
       "<table border=\"1\" class=\"dataframe\">\n",
       "  <thead>\n",
       "    <tr style=\"text-align: right;\">\n",
       "      <th></th>\n",
       "      <th>Position</th>\n",
       "      <th>Score</th>\n",
       "      <th>FIR</th>\n",
       "      <th>FIR Rank</th>\n",
       "      <th>dist</th>\n",
       "      <th>dist Rank</th>\n",
       "      <th>GIR</th>\n",
       "      <th>GIR Rank</th>\n",
       "      <th>Putting</th>\n",
       "      <th>Putting Rank</th>\n",
       "      <th>Cut</th>\n",
       "      <th>Year</th>\n",
       "    </tr>\n",
       "  </thead>\n",
       "  <tbody>\n",
       "    <tr>\n",
       "      <th>Adam Hadwin</th>\n",
       "      <td>24.0</td>\n",
       "      <td>-1.0</td>\n",
       "      <td>69.64</td>\n",
       "      <td>26.0</td>\n",
       "      <td>291.38</td>\n",
       "      <td>38.0</td>\n",
       "      <td>69.44</td>\n",
       "      <td>11.0</td>\n",
       "      <td>1.67</td>\n",
       "      <td>49.0</td>\n",
       "      <td>0.0</td>\n",
       "      <td>2018</td>\n",
       "    </tr>\n",
       "    <tr>\n",
       "      <th>Adam Scott</th>\n",
       "      <td>32.0</td>\n",
       "      <td>1.0</td>\n",
       "      <td>69.64</td>\n",
       "      <td>26.0</td>\n",
       "      <td>289.62</td>\n",
       "      <td>47.0</td>\n",
       "      <td>68.06</td>\n",
       "      <td>15.0</td>\n",
       "      <td>1.74</td>\n",
       "      <td>74.0</td>\n",
       "      <td>0.0</td>\n",
       "      <td>2018</td>\n",
       "    </tr>\n",
       "    <tr>\n",
       "      <th>Alexander Noren</th>\n",
       "      <td>69.0</td>\n",
       "      <td>9.0</td>\n",
       "      <td>50.00</td>\n",
       "      <td>78.0</td>\n",
       "      <td>285.25</td>\n",
       "      <td>60.0</td>\n",
       "      <td>52.78</td>\n",
       "      <td>67.0</td>\n",
       "      <td>1.61</td>\n",
       "      <td>22.0</td>\n",
       "      <td>1.0</td>\n",
       "      <td>2018</td>\n",
       "    </tr>\n",
       "    <tr>\n",
       "      <th>Angel Cabrera</th>\n",
       "      <td>82.0</td>\n",
       "      <td>15.0</td>\n",
       "      <td>67.86</td>\n",
       "      <td>31.0</td>\n",
       "      <td>291.75</td>\n",
       "      <td>34.0</td>\n",
       "      <td>44.44</td>\n",
       "      <td>77.0</td>\n",
       "      <td>1.83</td>\n",
       "      <td>85.0</td>\n",
       "      <td>1.0</td>\n",
       "      <td>2018</td>\n",
       "    </tr>\n",
       "    <tr>\n",
       "      <th>Austin Cook</th>\n",
       "      <td>75.0</td>\n",
       "      <td>10.0</td>\n",
       "      <td>46.43</td>\n",
       "      <td>84.0</td>\n",
       "      <td>280.75</td>\n",
       "      <td>74.0</td>\n",
       "      <td>55.56</td>\n",
       "      <td>61.0</td>\n",
       "      <td>1.75</td>\n",
       "      <td>75.0</td>\n",
       "      <td>1.0</td>\n",
       "      <td>2018</td>\n",
       "    </tr>\n",
       "    <tr>\n",
       "      <th>Bernd Wiesberger</th>\n",
       "      <td>24.0</td>\n",
       "      <td>-1.0</td>\n",
       "      <td>58.93</td>\n",
       "      <td>60.0</td>\n",
       "      <td>294.88</td>\n",
       "      <td>17.0</td>\n",
       "      <td>72.22</td>\n",
       "      <td>4.0</td>\n",
       "      <td>1.71</td>\n",
       "      <td>68.0</td>\n",
       "      <td>0.0</td>\n",
       "      <td>2018</td>\n",
       "    </tr>\n",
       "    <tr>\n",
       "      <th>Bernhard Langer</th>\n",
       "      <td>38.0</td>\n",
       "      <td>3.0</td>\n",
       "      <td>85.71</td>\n",
       "      <td>1.0</td>\n",
       "      <td>269.50</td>\n",
       "      <td>85.0</td>\n",
       "      <td>68.06</td>\n",
       "      <td>15.0</td>\n",
       "      <td>1.69</td>\n",
       "      <td>62.0</td>\n",
       "      <td>0.0</td>\n",
       "      <td>2018</td>\n",
       "    </tr>\n",
       "    <tr>\n",
       "      <th>Billy Horschel</th>\n",
       "      <td>78.0</td>\n",
       "      <td>11.0</td>\n",
       "      <td>64.29</td>\n",
       "      <td>45.0</td>\n",
       "      <td>293.25</td>\n",
       "      <td>29.0</td>\n",
       "      <td>50.00</td>\n",
       "      <td>73.0</td>\n",
       "      <td>1.78</td>\n",
       "      <td>79.0</td>\n",
       "      <td>1.0</td>\n",
       "      <td>2018</td>\n",
       "    </tr>\n",
       "    <tr>\n",
       "      <th>Branden Grace</th>\n",
       "      <td>24.0</td>\n",
       "      <td>-1.0</td>\n",
       "      <td>58.93</td>\n",
       "      <td>60.0</td>\n",
       "      <td>291.62</td>\n",
       "      <td>35.0</td>\n",
       "      <td>62.50</td>\n",
       "      <td>34.0</td>\n",
       "      <td>1.60</td>\n",
       "      <td>20.0</td>\n",
       "      <td>0.0</td>\n",
       "      <td>2018</td>\n",
       "    </tr>\n",
       "    <tr>\n",
       "      <th>Brendan Steele</th>\n",
       "      <td>58.0</td>\n",
       "      <td>7.0</td>\n",
       "      <td>57.14</td>\n",
       "      <td>64.0</td>\n",
       "      <td>294.25</td>\n",
       "      <td>21.0</td>\n",
       "      <td>63.89</td>\n",
       "      <td>31.0</td>\n",
       "      <td>1.81</td>\n",
       "      <td>82.0</td>\n",
       "      <td>1.0</td>\n",
       "      <td>2018</td>\n",
       "    </tr>\n",
       "  </tbody>\n",
       "</table>\n",
       "</div>"
      ],
      "text/plain": [
       "                  Position  Score    FIR  FIR Rank    dist  dist Rank    GIR  \\\n",
       "Adam Hadwin           24.0   -1.0  69.64      26.0  291.38       38.0  69.44   \n",
       "Adam Scott            32.0    1.0  69.64      26.0  289.62       47.0  68.06   \n",
       "Alexander Noren       69.0    9.0  50.00      78.0  285.25       60.0  52.78   \n",
       "Angel Cabrera         82.0   15.0  67.86      31.0  291.75       34.0  44.44   \n",
       "Austin Cook           75.0   10.0  46.43      84.0  280.75       74.0  55.56   \n",
       "Bernd Wiesberger      24.0   -1.0  58.93      60.0  294.88       17.0  72.22   \n",
       "Bernhard Langer       38.0    3.0  85.71       1.0  269.50       85.0  68.06   \n",
       "Billy Horschel        78.0   11.0  64.29      45.0  293.25       29.0  50.00   \n",
       "Branden Grace         24.0   -1.0  58.93      60.0  291.62       35.0  62.50   \n",
       "Brendan Steele        58.0    7.0  57.14      64.0  294.25       21.0  63.89   \n",
       "\n",
       "                  GIR Rank  Putting  Putting Rank  Cut  Year  \n",
       "Adam Hadwin           11.0     1.67          49.0  0.0  2018  \n",
       "Adam Scott            15.0     1.74          74.0  0.0  2018  \n",
       "Alexander Noren       67.0     1.61          22.0  1.0  2018  \n",
       "Angel Cabrera         77.0     1.83          85.0  1.0  2018  \n",
       "Austin Cook           61.0     1.75          75.0  1.0  2018  \n",
       "Bernd Wiesberger       4.0     1.71          68.0  0.0  2018  \n",
       "Bernhard Langer       15.0     1.69          62.0  0.0  2018  \n",
       "Billy Horschel        73.0     1.78          79.0  1.0  2018  \n",
       "Branden Grace         34.0     1.60          20.0  0.0  2018  \n",
       "Brendan Steele        31.0     1.81          82.0  1.0  2018  "
      ]
     },
     "execution_count": 147,
     "metadata": {},
     "output_type": "execute_result"
    }
   ],
   "source": [
    "masters_2018.head(10)"
   ]
  },
  {
   "cell_type": "code",
   "execution_count": 148,
   "metadata": {},
   "outputs": [],
   "source": [
    "## Save\n",
    "\n",
    "masters_2018.to_csv('Masters_2018.csv')"
   ]
  },
  {
   "cell_type": "code",
   "execution_count": null,
   "metadata": {},
   "outputs": [],
   "source": []
  },
  {
   "cell_type": "code",
   "execution_count": 145,
   "metadata": {},
   "outputs": [],
   "source": [
    "driver.close()"
   ]
  },
  {
   "cell_type": "code",
   "execution_count": null,
   "metadata": {},
   "outputs": [],
   "source": []
  }
 ],
 "metadata": {
  "kernelspec": {
   "display_name": "Python 3",
   "language": "python",
   "name": "python3"
  },
  "language_info": {
   "codemirror_mode": {
    "name": "ipython",
    "version": 3
   },
   "file_extension": ".py",
   "mimetype": "text/x-python",
   "name": "python",
   "nbconvert_exporter": "python",
   "pygments_lexer": "ipython3",
   "version": "3.6.5"
  }
 },
 "nbformat": 4,
 "nbformat_minor": 2
}
