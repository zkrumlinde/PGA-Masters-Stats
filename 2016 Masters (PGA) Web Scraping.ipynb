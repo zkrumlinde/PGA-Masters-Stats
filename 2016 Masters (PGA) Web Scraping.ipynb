{
 "cells": [
  {
   "cell_type": "code",
   "execution_count": 1,
   "metadata": {},
   "outputs": [
    {
     "name": "stdout",
     "output_type": "stream",
     "text": [
      "/Users/genevieveberent/Desktop/Zak_Portfolio/PGA_Masters\n"
     ]
    }
   ],
   "source": [
    "%cd /Users/genevieveberent/Desktop/Zak_Portfolio/PGA_Masters"
   ]
  },
  {
   "cell_type": "code",
   "execution_count": 4,
   "metadata": {},
   "outputs": [],
   "source": [
    "import selenium\n",
    "from selenium import webdriver\n",
    "import pandas as pd\n",
    "import numpy as np"
   ]
  },
  {
   "cell_type": "code",
   "execution_count": 5,
   "metadata": {},
   "outputs": [],
   "source": [
    "driver = webdriver.Chrome()\n",
    "driver.get('http://2016.masters.com/en_US/scores/stats/fir.html')"
   ]
  },
  {
   "cell_type": "code",
   "execution_count": 6,
   "metadata": {},
   "outputs": [],
   "source": [
    "## Get the Fairways in Regulation stats\n",
    "\n",
    "fir2016_players = []\n",
    "\n",
    "# first xpath: //*[@id=\"table-2799\"]/tbody/tr[1]/td[1]/a\n",
    "# last xpath:  //*[@id=\"table-2799\"]/tbody/tr[89]/td[1]/a\n",
    "\n",
    "for i in range(90):\n",
    "    path = '//*[@id=\"table-2799\"]/tbody/tr[' + str(i) + ']/td[1]/a'\n",
    "    fir_players = driver.find_elements_by_xpath(path)\n",
    "    for player in fir_players:\n",
    "        fir2016_players.append(player.text)"
   ]
  },
  {
   "cell_type": "code",
   "execution_count": 7,
   "metadata": {},
   "outputs": [
    {
     "name": "stdout",
     "output_type": "stream",
     "text": [
      "89\n",
      "['M. Kuchar', 'K. Streelman', 'L. Oosthuizen']\n",
      "['B. An', 'D. Bard', 'S. Bowditch']\n"
     ]
    }
   ],
   "source": [
    "print(len(fir2016_players))\n",
    "print(fir2016_players[:3])\n",
    "print(fir2016_players[-3:])"
   ]
  },
  {
   "cell_type": "code",
   "execution_count": 8,
   "metadata": {},
   "outputs": [],
   "source": [
    "## Get the FIR stats\n",
    "\n",
    "fir2016_stats = []\n",
    "\n",
    "# first xpath: //*[@id=\"table-2799\"]/tbody/tr[1]/td[6]\n",
    "# last xpath:  //*[@id=\"table-2799\"]/tbody/tr[89]/td[6]\n",
    "\n",
    "for i in range(90):\n",
    "    path = '//*[@id=\"table-2799\"]/tbody/tr[' + str(i) + ']/td[6]'\n",
    "    fir_stats = driver.find_elements_by_xpath(path)\n",
    "    for stat in fir_stats:\n",
    "        fir2016_stats.append(stat.text)"
   ]
  },
  {
   "cell_type": "code",
   "execution_count": 9,
   "metadata": {},
   "outputs": [
    {
     "name": "stdout",
     "output_type": "stream",
     "text": [
      "89\n",
      "['46 / 56 = 82.14%', '46 / 56 = 82.14%', '43 / 56 = 76.79%']\n",
      "['14 / 28 = 50.00%', '14 / 28 = 50.00%', '14 / 28 = 50.00%']\n"
     ]
    }
   ],
   "source": [
    "print(len(fir2016_stats))\n",
    "print(fir2016_stats[:3])\n",
    "print(fir2016_stats[-3:])"
   ]
  },
  {
   "cell_type": "code",
   "execution_count": 12,
   "metadata": {},
   "outputs": [],
   "source": [
    "## Create a dataframe\n",
    "\n",
    "fir_2016 = pd.DataFrame.from_dict({'Player':fir2016_players, 'FIR':fir2016_stats})"
   ]
  },
  {
   "cell_type": "code",
   "execution_count": 13,
   "metadata": {},
   "outputs": [
    {
     "data": {
      "text/html": [
       "<div>\n",
       "<style scoped>\n",
       "    .dataframe tbody tr th:only-of-type {\n",
       "        vertical-align: middle;\n",
       "    }\n",
       "\n",
       "    .dataframe tbody tr th {\n",
       "        vertical-align: top;\n",
       "    }\n",
       "\n",
       "    .dataframe thead th {\n",
       "        text-align: right;\n",
       "    }\n",
       "</style>\n",
       "<table border=\"1\" class=\"dataframe\">\n",
       "  <thead>\n",
       "    <tr style=\"text-align: right;\">\n",
       "      <th></th>\n",
       "      <th>Player</th>\n",
       "      <th>FIR</th>\n",
       "    </tr>\n",
       "  </thead>\n",
       "  <tbody>\n",
       "    <tr>\n",
       "      <th>0</th>\n",
       "      <td>M. Kuchar</td>\n",
       "      <td>46 / 56 = 82.14%</td>\n",
       "    </tr>\n",
       "    <tr>\n",
       "      <th>1</th>\n",
       "      <td>K. Streelman</td>\n",
       "      <td>46 / 56 = 82.14%</td>\n",
       "    </tr>\n",
       "    <tr>\n",
       "      <th>2</th>\n",
       "      <td>L. Oosthuizen</td>\n",
       "      <td>43 / 56 = 76.79%</td>\n",
       "    </tr>\n",
       "  </tbody>\n",
       "</table>\n",
       "</div>"
      ],
      "text/plain": [
       "          Player               FIR\n",
       "0      M. Kuchar  46 / 56 = 82.14%\n",
       "1   K. Streelman  46 / 56 = 82.14%\n",
       "2  L. Oosthuizen  43 / 56 = 76.79%"
      ]
     },
     "execution_count": 13,
     "metadata": {},
     "output_type": "execute_result"
    }
   ],
   "source": [
    "fir_2016.head(3)"
   ]
  },
  {
   "cell_type": "code",
   "execution_count": 14,
   "metadata": {},
   "outputs": [],
   "source": [
    "## Extract just the numberical % from the 'FIR' column\n",
    "\n",
    "fir_2016['FIR'] = fir_2016['FIR'].map(lambda x:str(x)[-6:-1])"
   ]
  },
  {
   "cell_type": "code",
   "execution_count": 15,
   "metadata": {},
   "outputs": [
    {
     "data": {
      "text/html": [
       "<div>\n",
       "<style scoped>\n",
       "    .dataframe tbody tr th:only-of-type {\n",
       "        vertical-align: middle;\n",
       "    }\n",
       "\n",
       "    .dataframe tbody tr th {\n",
       "        vertical-align: top;\n",
       "    }\n",
       "\n",
       "    .dataframe thead th {\n",
       "        text-align: right;\n",
       "    }\n",
       "</style>\n",
       "<table border=\"1\" class=\"dataframe\">\n",
       "  <thead>\n",
       "    <tr style=\"text-align: right;\">\n",
       "      <th></th>\n",
       "      <th>Player</th>\n",
       "      <th>FIR</th>\n",
       "    </tr>\n",
       "  </thead>\n",
       "  <tbody>\n",
       "    <tr>\n",
       "      <th>0</th>\n",
       "      <td>M. Kuchar</td>\n",
       "      <td>82.14</td>\n",
       "    </tr>\n",
       "    <tr>\n",
       "      <th>1</th>\n",
       "      <td>K. Streelman</td>\n",
       "      <td>82.14</td>\n",
       "    </tr>\n",
       "    <tr>\n",
       "      <th>2</th>\n",
       "      <td>L. Oosthuizen</td>\n",
       "      <td>76.79</td>\n",
       "    </tr>\n",
       "  </tbody>\n",
       "</table>\n",
       "</div>"
      ],
      "text/plain": [
       "          Player    FIR\n",
       "0      M. Kuchar  82.14\n",
       "1   K. Streelman  82.14\n",
       "2  L. Oosthuizen  76.79"
      ]
     },
     "execution_count": 15,
     "metadata": {},
     "output_type": "execute_result"
    }
   ],
   "source": [
    "fir_2016.head(3)"
   ]
  },
  {
   "cell_type": "code",
   "execution_count": 16,
   "metadata": {},
   "outputs": [],
   "source": [
    "fir_2016['FIR Rank'] = fir_2016['FIR'].rank(method='min', ascending=False)"
   ]
  },
  {
   "cell_type": "code",
   "execution_count": 17,
   "metadata": {},
   "outputs": [
    {
     "data": {
      "text/html": [
       "<div>\n",
       "<style scoped>\n",
       "    .dataframe tbody tr th:only-of-type {\n",
       "        vertical-align: middle;\n",
       "    }\n",
       "\n",
       "    .dataframe tbody tr th {\n",
       "        vertical-align: top;\n",
       "    }\n",
       "\n",
       "    .dataframe thead th {\n",
       "        text-align: right;\n",
       "    }\n",
       "</style>\n",
       "<table border=\"1\" class=\"dataframe\">\n",
       "  <thead>\n",
       "    <tr style=\"text-align: right;\">\n",
       "      <th></th>\n",
       "      <th>Player</th>\n",
       "      <th>FIR</th>\n",
       "      <th>FIR Rank</th>\n",
       "    </tr>\n",
       "  </thead>\n",
       "  <tbody>\n",
       "    <tr>\n",
       "      <th>0</th>\n",
       "      <td>M. Kuchar</td>\n",
       "      <td>82.14</td>\n",
       "      <td>4.0</td>\n",
       "    </tr>\n",
       "    <tr>\n",
       "      <th>1</th>\n",
       "      <td>K. Streelman</td>\n",
       "      <td>82.14</td>\n",
       "      <td>4.0</td>\n",
       "    </tr>\n",
       "    <tr>\n",
       "      <th>2</th>\n",
       "      <td>L. Oosthuizen</td>\n",
       "      <td>76.79</td>\n",
       "      <td>7.0</td>\n",
       "    </tr>\n",
       "  </tbody>\n",
       "</table>\n",
       "</div>"
      ],
      "text/plain": [
       "          Player    FIR  FIR Rank\n",
       "0      M. Kuchar  82.14       4.0\n",
       "1   K. Streelman  82.14       4.0\n",
       "2  L. Oosthuizen  76.79       7.0"
      ]
     },
     "execution_count": 17,
     "metadata": {},
     "output_type": "execute_result"
    }
   ],
   "source": [
    "fir_2016.head(3)"
   ]
  },
  {
   "cell_type": "code",
   "execution_count": 18,
   "metadata": {},
   "outputs": [],
   "source": [
    "fir_2016.to_csv('2016_FIR.csv')"
   ]
  },
  {
   "cell_type": "code",
   "execution_count": null,
   "metadata": {},
   "outputs": [],
   "source": []
  },
  {
   "cell_type": "markdown",
   "metadata": {},
   "source": [
    "## Greens in Regulation"
   ]
  },
  {
   "cell_type": "code",
   "execution_count": 19,
   "metadata": {},
   "outputs": [],
   "source": [
    "driver.get('http://2016.masters.com/en_US/scores/stats/gir.html')"
   ]
  },
  {
   "cell_type": "code",
   "execution_count": 20,
   "metadata": {},
   "outputs": [],
   "source": [
    "## Get the names of players in GIR list\n",
    "\n",
    "gir2016_players = []\n",
    "\n",
    "# first xpath: //*[@id=\"table-4340\"]/tbody/tr[1]/td[1]/a\n",
    "# last xpath:  //*[@id=\"table-4340\"]/tbody/tr[89]/td[1]/a\n",
    "\n",
    "for i in range(90):\n",
    "    path = '//*[@id=\"table-4340\"]/tbody/tr[' +str(i) + ']/td[1]/a'\n",
    "    gir_players = driver.find_elements_by_xpath(path)\n",
    "    for player in gir_players:\n",
    "        gir2016_players.append(player.text)"
   ]
  },
  {
   "cell_type": "code",
   "execution_count": 21,
   "metadata": {},
   "outputs": [
    {
     "name": "stdout",
     "output_type": "stream",
     "text": [
      "89\n",
      "['M. Fitzpatrick', 'J. Rose', 'L. Westwood']\n",
      "['M. Weir', 'S. Schmitz', 'R. Streb']\n"
     ]
    }
   ],
   "source": [
    "print(len(gir2016_players))\n",
    "print(gir2016_players[:3])\n",
    "print(gir2016_players[-3:])"
   ]
  },
  {
   "cell_type": "code",
   "execution_count": 22,
   "metadata": {},
   "outputs": [],
   "source": [
    "## Get the GIR stats\n",
    "\n",
    "gir2016_stats = []\n",
    "\n",
    "# first xpath: //*[@id=\"table-4340\"]/tbody/tr[1]/td[6]\n",
    "# last xpath:  //*[@id=\"table-4340\"]/tbody/tr[89]/td[6]\n",
    "\n",
    "for i in range(90):\n",
    "    path = '//*[@id=\"table-4340\"]/tbody/tr[' + str(i) + ']/td[6]'\n",
    "    gir_stats = driver.find_elements_by_xpath(path)\n",
    "    for stat in gir_stats:\n",
    "        gir2016_stats.append(stat.text)"
   ]
  },
  {
   "cell_type": "code",
   "execution_count": 23,
   "metadata": {},
   "outputs": [
    {
     "name": "stdout",
     "output_type": "stream",
     "text": [
      "89\n",
      "['54 / 72 = 75.00%', '52 / 72 = 72.22%', '51 / 72 = 70.83%']\n",
      "['15 / 36 = 41.67%', '15 / 36 = 41.67%', '14 / 36 = 38.89%']\n"
     ]
    }
   ],
   "source": [
    "print(len(gir2016_stats))\n",
    "print(gir2016_stats[:3])\n",
    "print(gir2016_stats[-3:])"
   ]
  },
  {
   "cell_type": "code",
   "execution_count": 24,
   "metadata": {},
   "outputs": [],
   "source": [
    "## Create a GIR dataframe\n",
    "\n",
    "gir_2016 = pd.DataFrame.from_dict({'Player': gir2016_players, 'GIR': gir2016_stats})"
   ]
  },
  {
   "cell_type": "code",
   "execution_count": 25,
   "metadata": {},
   "outputs": [
    {
     "data": {
      "text/html": [
       "<div>\n",
       "<style scoped>\n",
       "    .dataframe tbody tr th:only-of-type {\n",
       "        vertical-align: middle;\n",
       "    }\n",
       "\n",
       "    .dataframe tbody tr th {\n",
       "        vertical-align: top;\n",
       "    }\n",
       "\n",
       "    .dataframe thead th {\n",
       "        text-align: right;\n",
       "    }\n",
       "</style>\n",
       "<table border=\"1\" class=\"dataframe\">\n",
       "  <thead>\n",
       "    <tr style=\"text-align: right;\">\n",
       "      <th></th>\n",
       "      <th>Player</th>\n",
       "      <th>GIR</th>\n",
       "    </tr>\n",
       "  </thead>\n",
       "  <tbody>\n",
       "    <tr>\n",
       "      <th>0</th>\n",
       "      <td>M. Fitzpatrick</td>\n",
       "      <td>54 / 72 = 75.00%</td>\n",
       "    </tr>\n",
       "    <tr>\n",
       "      <th>1</th>\n",
       "      <td>J. Rose</td>\n",
       "      <td>52 / 72 = 72.22%</td>\n",
       "    </tr>\n",
       "    <tr>\n",
       "      <th>2</th>\n",
       "      <td>L. Westwood</td>\n",
       "      <td>51 / 72 = 70.83%</td>\n",
       "    </tr>\n",
       "  </tbody>\n",
       "</table>\n",
       "</div>"
      ],
      "text/plain": [
       "           Player               GIR\n",
       "0  M. Fitzpatrick  54 / 72 = 75.00%\n",
       "1         J. Rose  52 / 72 = 72.22%\n",
       "2     L. Westwood  51 / 72 = 70.83%"
      ]
     },
     "execution_count": 25,
     "metadata": {},
     "output_type": "execute_result"
    }
   ],
   "source": [
    "gir_2016.head(3)"
   ]
  },
  {
   "cell_type": "code",
   "execution_count": 27,
   "metadata": {},
   "outputs": [],
   "source": [
    "## Get just the float value of the percent\n",
    "\n",
    "gir_2016['GIR'] = gir_2016['GIR'].map(lambda x:str(x)[-6: -1])"
   ]
  },
  {
   "cell_type": "code",
   "execution_count": 28,
   "metadata": {},
   "outputs": [
    {
     "data": {
      "text/html": [
       "<div>\n",
       "<style scoped>\n",
       "    .dataframe tbody tr th:only-of-type {\n",
       "        vertical-align: middle;\n",
       "    }\n",
       "\n",
       "    .dataframe tbody tr th {\n",
       "        vertical-align: top;\n",
       "    }\n",
       "\n",
       "    .dataframe thead th {\n",
       "        text-align: right;\n",
       "    }\n",
       "</style>\n",
       "<table border=\"1\" class=\"dataframe\">\n",
       "  <thead>\n",
       "    <tr style=\"text-align: right;\">\n",
       "      <th></th>\n",
       "      <th>Player</th>\n",
       "      <th>GIR</th>\n",
       "    </tr>\n",
       "  </thead>\n",
       "  <tbody>\n",
       "    <tr>\n",
       "      <th>0</th>\n",
       "      <td>M. Fitzpatrick</td>\n",
       "      <td>75.00</td>\n",
       "    </tr>\n",
       "    <tr>\n",
       "      <th>1</th>\n",
       "      <td>J. Rose</td>\n",
       "      <td>72.22</td>\n",
       "    </tr>\n",
       "    <tr>\n",
       "      <th>2</th>\n",
       "      <td>L. Westwood</td>\n",
       "      <td>70.83</td>\n",
       "    </tr>\n",
       "  </tbody>\n",
       "</table>\n",
       "</div>"
      ],
      "text/plain": [
       "           Player    GIR\n",
       "0  M. Fitzpatrick  75.00\n",
       "1         J. Rose  72.22\n",
       "2     L. Westwood  70.83"
      ]
     },
     "execution_count": 28,
     "metadata": {},
     "output_type": "execute_result"
    }
   ],
   "source": [
    "gir_2016.head(3)"
   ]
  },
  {
   "cell_type": "code",
   "execution_count": 29,
   "metadata": {},
   "outputs": [],
   "source": [
    "## Rank the players by GIR\n",
    "\n",
    "gir_2016['GIR Rank'] = gir_2016['GIR'].rank(method='min', ascending=False)"
   ]
  },
  {
   "cell_type": "code",
   "execution_count": 30,
   "metadata": {},
   "outputs": [
    {
     "data": {
      "text/html": [
       "<div>\n",
       "<style scoped>\n",
       "    .dataframe tbody tr th:only-of-type {\n",
       "        vertical-align: middle;\n",
       "    }\n",
       "\n",
       "    .dataframe tbody tr th {\n",
       "        vertical-align: top;\n",
       "    }\n",
       "\n",
       "    .dataframe thead th {\n",
       "        text-align: right;\n",
       "    }\n",
       "</style>\n",
       "<table border=\"1\" class=\"dataframe\">\n",
       "  <thead>\n",
       "    <tr style=\"text-align: right;\">\n",
       "      <th></th>\n",
       "      <th>Player</th>\n",
       "      <th>GIR</th>\n",
       "      <th>GIR Rank</th>\n",
       "    </tr>\n",
       "  </thead>\n",
       "  <tbody>\n",
       "    <tr>\n",
       "      <th>0</th>\n",
       "      <td>M. Fitzpatrick</td>\n",
       "      <td>75.00</td>\n",
       "      <td>1.0</td>\n",
       "    </tr>\n",
       "    <tr>\n",
       "      <th>1</th>\n",
       "      <td>J. Rose</td>\n",
       "      <td>72.22</td>\n",
       "      <td>2.0</td>\n",
       "    </tr>\n",
       "    <tr>\n",
       "      <th>2</th>\n",
       "      <td>L. Westwood</td>\n",
       "      <td>70.83</td>\n",
       "      <td>4.0</td>\n",
       "    </tr>\n",
       "  </tbody>\n",
       "</table>\n",
       "</div>"
      ],
      "text/plain": [
       "           Player    GIR  GIR Rank\n",
       "0  M. Fitzpatrick  75.00       1.0\n",
       "1         J. Rose  72.22       2.0\n",
       "2     L. Westwood  70.83       4.0"
      ]
     },
     "execution_count": 30,
     "metadata": {},
     "output_type": "execute_result"
    }
   ],
   "source": [
    "gir_2016.head(3)"
   ]
  },
  {
   "cell_type": "code",
   "execution_count": 31,
   "metadata": {},
   "outputs": [],
   "source": [
    "## Save\n",
    "gir_2016.to_csv('2016_GIR.csv')"
   ]
  },
  {
   "cell_type": "code",
   "execution_count": null,
   "metadata": {},
   "outputs": [],
   "source": []
  },
  {
   "cell_type": "markdown",
   "metadata": {},
   "source": [
    "## Driving Distance"
   ]
  },
  {
   "cell_type": "code",
   "execution_count": 32,
   "metadata": {},
   "outputs": [],
   "source": [
    "## Open Driving Distance page\n",
    "\n",
    "driver.get('http://2016.masters.com/en_US/scores/stats/drives_avg.html')"
   ]
  },
  {
   "cell_type": "code",
   "execution_count": 33,
   "metadata": {},
   "outputs": [],
   "source": [
    "## Get the player list from the driving distance page\n",
    "\n",
    "dist2016_players = []\n",
    "\n",
    "# first xpath: //*[@id=\"table-5774\"]/tbody/tr[1]/td[1]/a\n",
    "# last xpath:  //*[@id=\"table-5774\"]/tbody/tr[89]/td[1]/a\n",
    "\n",
    "for i in range(90):\n",
    "    path = '//*[@id=\"table-5774\"]/tbody/tr[' + str(i) + ']/td[1]/a'\n",
    "    dist_players = driver.find_elements_by_xpath(path)\n",
    "    for player in dist_players:\n",
    "        dist2016_players.append(player.text)"
   ]
  },
  {
   "cell_type": "code",
   "execution_count": 34,
   "metadata": {},
   "outputs": [
    {
     "name": "stdout",
     "output_type": "stream",
     "text": [
      "89\n",
      "['D. Johnson', 'S. Garcia', 'A. Scott']\n",
      "['M. Weir', 'R. Moore', 'T. Watson']\n"
     ]
    }
   ],
   "source": [
    "print(len(dist2016_players))\n",
    "print(dist2016_players[:3])\n",
    "print(dist2016_players[-3:])"
   ]
  },
  {
   "cell_type": "code",
   "execution_count": 35,
   "metadata": {},
   "outputs": [],
   "source": [
    "## Get the distance stats\n",
    "\n",
    "dist2016_stats = []\n",
    "\n",
    "# first xpath: //*[@id=\"table-5774\"]/tbody/tr[1]/td[6]\n",
    "# last xpath:  //*[@id=\"table-5774\"]/tbody/tr[89]/td[6]\n",
    "\n",
    "for i in range(90):\n",
    "    path = '//*[@id=\"table-5774\"]/tbody/tr[' + str(i) + ']/td[6]'\n",
    "    dist_stats = driver.find_elements_by_xpath(path)\n",
    "    for stats in dist_stats:\n",
    "        dist2016_stats.append(stats.text)"
   ]
  },
  {
   "cell_type": "code",
   "execution_count": 36,
   "metadata": {},
   "outputs": [
    {
     "name": "stdout",
     "output_type": "stream",
     "text": [
      "89\n",
      "['299.25', '298.00', '295.75']\n",
      "['253.25', '249.00', '246.00']\n"
     ]
    }
   ],
   "source": [
    "print(len(dist2016_stats))\n",
    "print(dist2016_stats[:3])\n",
    "print(dist2016_stats[-3:])"
   ]
  },
  {
   "cell_type": "code",
   "execution_count": 37,
   "metadata": {},
   "outputs": [],
   "source": [
    "## Create the Driving Distance dataframe\n",
    "\n",
    "dist_2016 = pd.DataFrame.from_dict({'Player':dist2016_players, 'dist':dist2016_stats})"
   ]
  },
  {
   "cell_type": "code",
   "execution_count": 39,
   "metadata": {},
   "outputs": [
    {
     "data": {
      "text/html": [
       "<div>\n",
       "<style scoped>\n",
       "    .dataframe tbody tr th:only-of-type {\n",
       "        vertical-align: middle;\n",
       "    }\n",
       "\n",
       "    .dataframe tbody tr th {\n",
       "        vertical-align: top;\n",
       "    }\n",
       "\n",
       "    .dataframe thead th {\n",
       "        text-align: right;\n",
       "    }\n",
       "</style>\n",
       "<table border=\"1\" class=\"dataframe\">\n",
       "  <thead>\n",
       "    <tr style=\"text-align: right;\">\n",
       "      <th></th>\n",
       "      <th>Player</th>\n",
       "      <th>dist</th>\n",
       "    </tr>\n",
       "  </thead>\n",
       "  <tbody>\n",
       "    <tr>\n",
       "      <th>0</th>\n",
       "      <td>D. Johnson</td>\n",
       "      <td>299.25</td>\n",
       "    </tr>\n",
       "    <tr>\n",
       "      <th>1</th>\n",
       "      <td>S. Garcia</td>\n",
       "      <td>298.00</td>\n",
       "    </tr>\n",
       "    <tr>\n",
       "      <th>2</th>\n",
       "      <td>A. Scott</td>\n",
       "      <td>295.75</td>\n",
       "    </tr>\n",
       "  </tbody>\n",
       "</table>\n",
       "</div>"
      ],
      "text/plain": [
       "       Player    dist\n",
       "0  D. Johnson  299.25\n",
       "1   S. Garcia  298.00\n",
       "2    A. Scott  295.75"
      ]
     },
     "execution_count": 39,
     "metadata": {},
     "output_type": "execute_result"
    }
   ],
   "source": [
    "dist_2016.head(3)"
   ]
  },
  {
   "cell_type": "code",
   "execution_count": 40,
   "metadata": {},
   "outputs": [],
   "source": [
    "dist_2016['dist Rank'] = dist_2016['dist'].rank(method='min', ascending=False)"
   ]
  },
  {
   "cell_type": "code",
   "execution_count": 41,
   "metadata": {},
   "outputs": [
    {
     "data": {
      "text/html": [
       "<div>\n",
       "<style scoped>\n",
       "    .dataframe tbody tr th:only-of-type {\n",
       "        vertical-align: middle;\n",
       "    }\n",
       "\n",
       "    .dataframe tbody tr th {\n",
       "        vertical-align: top;\n",
       "    }\n",
       "\n",
       "    .dataframe thead th {\n",
       "        text-align: right;\n",
       "    }\n",
       "</style>\n",
       "<table border=\"1\" class=\"dataframe\">\n",
       "  <thead>\n",
       "    <tr style=\"text-align: right;\">\n",
       "      <th></th>\n",
       "      <th>Player</th>\n",
       "      <th>dist</th>\n",
       "      <th>dist Rank</th>\n",
       "    </tr>\n",
       "  </thead>\n",
       "  <tbody>\n",
       "    <tr>\n",
       "      <th>0</th>\n",
       "      <td>D. Johnson</td>\n",
       "      <td>299.25</td>\n",
       "      <td>1.0</td>\n",
       "    </tr>\n",
       "    <tr>\n",
       "      <th>1</th>\n",
       "      <td>S. Garcia</td>\n",
       "      <td>298.00</td>\n",
       "      <td>2.0</td>\n",
       "    </tr>\n",
       "    <tr>\n",
       "      <th>2</th>\n",
       "      <td>A. Scott</td>\n",
       "      <td>295.75</td>\n",
       "      <td>3.0</td>\n",
       "    </tr>\n",
       "  </tbody>\n",
       "</table>\n",
       "</div>"
      ],
      "text/plain": [
       "       Player    dist  dist Rank\n",
       "0  D. Johnson  299.25        1.0\n",
       "1   S. Garcia  298.00        2.0\n",
       "2    A. Scott  295.75        3.0"
      ]
     },
     "execution_count": 41,
     "metadata": {},
     "output_type": "execute_result"
    }
   ],
   "source": [
    "dist_2016.head(3)"
   ]
  },
  {
   "cell_type": "code",
   "execution_count": 42,
   "metadata": {},
   "outputs": [],
   "source": [
    "dist_2016.to_csv('2016_dist.csv')"
   ]
  },
  {
   "cell_type": "code",
   "execution_count": null,
   "metadata": {},
   "outputs": [],
   "source": []
  },
  {
   "cell_type": "markdown",
   "metadata": {},
   "source": [
    "## Putting Stats"
   ]
  },
  {
   "cell_type": "code",
   "execution_count": 43,
   "metadata": {},
   "outputs": [],
   "source": [
    "driver.get('http://2016.masters.com/en_US/scores/stats/putts.html')"
   ]
  },
  {
   "cell_type": "code",
   "execution_count": 44,
   "metadata": {},
   "outputs": [],
   "source": [
    "## Get player list\n",
    "\n",
    "putt2016_players = []\n",
    "\n",
    "# first xpath: //*[@id=\"table-1773\"]/tbody/tr[1]/td[1]/a\n",
    "# last xpath:  //*[@id=\"table-1773\"]/tbody/tr[89]/td[1]/a\n",
    "\n",
    "for i in range(90):\n",
    "    path = '//*[@id=\"table-1773\"]/tbody/tr[' + str(i) + ']/td[1]/a'\n",
    "    putt_players = driver.find_elements_by_xpath(path)\n",
    "    for player in putt_players:\n",
    "        putt2016_players.append(player.text)"
   ]
  },
  {
   "cell_type": "code",
   "execution_count": 45,
   "metadata": {},
   "outputs": [
    {
     "name": "stdout",
     "output_type": "stream",
     "text": [
      "89\n",
      "['A. Lahiri', 'J. Spieth', 'L. Mize']\n",
      "['E. Els', 'R. Knox', 'I. Woosnam']\n"
     ]
    }
   ],
   "source": [
    "print(len(putt2016_players))\n",
    "print(putt2016_players[:3])\n",
    "print(putt2016_players[-3:])"
   ]
  },
  {
   "cell_type": "code",
   "execution_count": 46,
   "metadata": {},
   "outputs": [],
   "source": [
    "## Get putting stats\n",
    "\n",
    "putt2016_stats = []\n",
    "\n",
    "# first xpath: //*[@id=\"table-1773\"]/tbody/tr[1]/td[6]\n",
    "# last xpath:  //*[@id=\"table-1773\"]/tbody/tr[89]/td[6]\n",
    "\n",
    "for i in range(90):\n",
    "    path = '//*[@id=\"table-1773\"]/tbody/tr[' + str(i) + ']/td[6]'\n",
    "    putt_stats = driver.find_elements_by_xpath(path)\n",
    "    for stat in putt_stats:\n",
    "        putt2016_stats.append(stat.text)"
   ]
  },
  {
   "cell_type": "code",
   "execution_count": 47,
   "metadata": {},
   "outputs": [
    {
     "name": "stdout",
     "output_type": "stream",
     "text": [
      "89\n",
      "['1.53 (4)', '1.56 (4)', '1.56 (4)']\n",
      "['1.89 (4)', '1.92 (3)', '1.92 (4)']\n"
     ]
    }
   ],
   "source": [
    "print(len(putt2016_stats))\n",
    "print(putt2016_stats[:3])\n",
    "print(putt2016_stats[-3:])"
   ]
  },
  {
   "cell_type": "code",
   "execution_count": 48,
   "metadata": {},
   "outputs": [],
   "source": [
    "## Create a putting dataframe\n",
    "\n",
    "putt_2016 = pd.DataFrame.from_dict({'Player':putt2016_players, 'Putting':putt2016_stats})"
   ]
  },
  {
   "cell_type": "code",
   "execution_count": 49,
   "metadata": {},
   "outputs": [
    {
     "data": {
      "text/html": [
       "<div>\n",
       "<style scoped>\n",
       "    .dataframe tbody tr th:only-of-type {\n",
       "        vertical-align: middle;\n",
       "    }\n",
       "\n",
       "    .dataframe tbody tr th {\n",
       "        vertical-align: top;\n",
       "    }\n",
       "\n",
       "    .dataframe thead th {\n",
       "        text-align: right;\n",
       "    }\n",
       "</style>\n",
       "<table border=\"1\" class=\"dataframe\">\n",
       "  <thead>\n",
       "    <tr style=\"text-align: right;\">\n",
       "      <th></th>\n",
       "      <th>Player</th>\n",
       "      <th>Putting</th>\n",
       "    </tr>\n",
       "  </thead>\n",
       "  <tbody>\n",
       "    <tr>\n",
       "      <th>0</th>\n",
       "      <td>A. Lahiri</td>\n",
       "      <td>1.53 (4)</td>\n",
       "    </tr>\n",
       "    <tr>\n",
       "      <th>1</th>\n",
       "      <td>J. Spieth</td>\n",
       "      <td>1.56 (4)</td>\n",
       "    </tr>\n",
       "    <tr>\n",
       "      <th>2</th>\n",
       "      <td>L. Mize</td>\n",
       "      <td>1.56 (4)</td>\n",
       "    </tr>\n",
       "  </tbody>\n",
       "</table>\n",
       "</div>"
      ],
      "text/plain": [
       "      Player   Putting\n",
       "0  A. Lahiri  1.53 (4)\n",
       "1  J. Spieth  1.56 (4)\n",
       "2    L. Mize  1.56 (4)"
      ]
     },
     "execution_count": 49,
     "metadata": {},
     "output_type": "execute_result"
    }
   ],
   "source": [
    "putt_2016.head(3)"
   ]
  },
  {
   "cell_type": "code",
   "execution_count": 50,
   "metadata": {},
   "outputs": [],
   "source": [
    "## Get rid of the (#)\n",
    "\n",
    "putt_2016['Putting'] = putt_2016['Putting'].map(lambda x:x[:5])"
   ]
  },
  {
   "cell_type": "code",
   "execution_count": 51,
   "metadata": {},
   "outputs": [
    {
     "data": {
      "text/html": [
       "<div>\n",
       "<style scoped>\n",
       "    .dataframe tbody tr th:only-of-type {\n",
       "        vertical-align: middle;\n",
       "    }\n",
       "\n",
       "    .dataframe tbody tr th {\n",
       "        vertical-align: top;\n",
       "    }\n",
       "\n",
       "    .dataframe thead th {\n",
       "        text-align: right;\n",
       "    }\n",
       "</style>\n",
       "<table border=\"1\" class=\"dataframe\">\n",
       "  <thead>\n",
       "    <tr style=\"text-align: right;\">\n",
       "      <th></th>\n",
       "      <th>Player</th>\n",
       "      <th>Putting</th>\n",
       "    </tr>\n",
       "  </thead>\n",
       "  <tbody>\n",
       "    <tr>\n",
       "      <th>0</th>\n",
       "      <td>A. Lahiri</td>\n",
       "      <td>1.53</td>\n",
       "    </tr>\n",
       "    <tr>\n",
       "      <th>1</th>\n",
       "      <td>J. Spieth</td>\n",
       "      <td>1.56</td>\n",
       "    </tr>\n",
       "    <tr>\n",
       "      <th>2</th>\n",
       "      <td>L. Mize</td>\n",
       "      <td>1.56</td>\n",
       "    </tr>\n",
       "    <tr>\n",
       "      <th>3</th>\n",
       "      <td>D. Willett</td>\n",
       "      <td>1.58</td>\n",
       "    </tr>\n",
       "    <tr>\n",
       "      <th>4</th>\n",
       "      <td>J. Holmes</td>\n",
       "      <td>1.58</td>\n",
       "    </tr>\n",
       "  </tbody>\n",
       "</table>\n",
       "</div>"
      ],
      "text/plain": [
       "       Player Putting\n",
       "0   A. Lahiri   1.53 \n",
       "1   J. Spieth   1.56 \n",
       "2     L. Mize   1.56 \n",
       "3  D. Willett   1.58 \n",
       "4   J. Holmes   1.58 "
      ]
     },
     "execution_count": 51,
     "metadata": {},
     "output_type": "execute_result"
    }
   ],
   "source": [
    "putt_2016.head()"
   ]
  },
  {
   "cell_type": "code",
   "execution_count": 52,
   "metadata": {},
   "outputs": [],
   "source": [
    "## Add a ranking for each players putting\n",
    "\n",
    "putt_2016['Putting Rank'] = putt_2016['Putting'].rank(method='min')"
   ]
  },
  {
   "cell_type": "code",
   "execution_count": 53,
   "metadata": {},
   "outputs": [
    {
     "data": {
      "text/html": [
       "<div>\n",
       "<style scoped>\n",
       "    .dataframe tbody tr th:only-of-type {\n",
       "        vertical-align: middle;\n",
       "    }\n",
       "\n",
       "    .dataframe tbody tr th {\n",
       "        vertical-align: top;\n",
       "    }\n",
       "\n",
       "    .dataframe thead th {\n",
       "        text-align: right;\n",
       "    }\n",
       "</style>\n",
       "<table border=\"1\" class=\"dataframe\">\n",
       "  <thead>\n",
       "    <tr style=\"text-align: right;\">\n",
       "      <th></th>\n",
       "      <th>Player</th>\n",
       "      <th>Putting</th>\n",
       "      <th>Putting Rank</th>\n",
       "    </tr>\n",
       "  </thead>\n",
       "  <tbody>\n",
       "    <tr>\n",
       "      <th>0</th>\n",
       "      <td>A. Lahiri</td>\n",
       "      <td>1.53</td>\n",
       "      <td>1.0</td>\n",
       "    </tr>\n",
       "    <tr>\n",
       "      <th>1</th>\n",
       "      <td>J. Spieth</td>\n",
       "      <td>1.56</td>\n",
       "      <td>2.0</td>\n",
       "    </tr>\n",
       "    <tr>\n",
       "      <th>2</th>\n",
       "      <td>L. Mize</td>\n",
       "      <td>1.56</td>\n",
       "      <td>2.0</td>\n",
       "    </tr>\n",
       "    <tr>\n",
       "      <th>3</th>\n",
       "      <td>D. Willett</td>\n",
       "      <td>1.58</td>\n",
       "      <td>5.0</td>\n",
       "    </tr>\n",
       "    <tr>\n",
       "      <th>4</th>\n",
       "      <td>J. Holmes</td>\n",
       "      <td>1.58</td>\n",
       "      <td>5.0</td>\n",
       "    </tr>\n",
       "  </tbody>\n",
       "</table>\n",
       "</div>"
      ],
      "text/plain": [
       "       Player Putting  Putting Rank\n",
       "0   A. Lahiri   1.53            1.0\n",
       "1   J. Spieth   1.56            2.0\n",
       "2     L. Mize   1.56            2.0\n",
       "3  D. Willett   1.58            5.0\n",
       "4   J. Holmes   1.58            5.0"
      ]
     },
     "execution_count": 53,
     "metadata": {},
     "output_type": "execute_result"
    }
   ],
   "source": [
    "putt_2016.head()"
   ]
  },
  {
   "cell_type": "code",
   "execution_count": 54,
   "metadata": {},
   "outputs": [],
   "source": [
    "## Save\n",
    "\n",
    "putt_2016.to_csv('2016_Putting.csv')"
   ]
  },
  {
   "cell_type": "code",
   "execution_count": null,
   "metadata": {},
   "outputs": [],
   "source": []
  },
  {
   "cell_type": "markdown",
   "metadata": {},
   "source": [
    "## Get the results of the tournament"
   ]
  },
  {
   "cell_type": "code",
   "execution_count": 55,
   "metadata": {},
   "outputs": [],
   "source": [
    "driver.get('https://www.google.com/search?q=2016+masters+leaderboard&client=safari&rls=en&ei=xZgBXfCGCYSUtQXej46wCQ&start=0&sa=N&ved=0ahUKEwiw_djqmeXiAhUESq0KHd6HA5Y4ChDy0wMI0wE&biw=1186&bih=651')"
   ]
  },
  {
   "cell_type": "code",
   "execution_count": 56,
   "metadata": {},
   "outputs": [],
   "source": [
    "## Get the player in the same format as the stats were\n",
    "\n",
    "finish2016_player = []\n",
    "\n",
    "# first xpath: //*[@id=\"/g/11hczb0ql5\"]/g-expandable-content/table/tbody/tr/td/div/div/div[3]/g-expandable-content[1]/table/tbody/tr[2]/td[3]/span\n",
    "# preex xpath: //*[@id=\"/g/11hczb0ql5\"]/g-expandable-content/table/tbody/tr/td/div/div/div[3]/g-expandable-content[1]/table/tbody/tr[6]/td[3]/span\n",
    "# post  xpath: //*[@id=\"/g/11hczb0ql5\"]/g-expandable-content/table/tbody/tr/td/div/div/div[3]/g-expandable-content[2]/table/tbody/tr[1]/td[3]/span\n",
    "# last xpath:  //*[@id=\"/g/11hczb0ql5\"]/g-expandable-content/table/tbody/tr/td/div/div/div[3]/g-expandable-content[2]/table/tbody/tr[84]/td[3]/span\n",
    "\n",
    "# There are a couple changes in the xpath that need to be addressed in the for loop\n",
    "\n",
    "for i in range(2, 7):\n",
    "    path = '//*[@id=\"/g/11hczb0ql5\"]/g-expandable-content/table/tbody/tr/td/div/div/div[3]/g-expandable-content[1]/table/tbody/tr[' + str(i) + ']/td[3]/span'\n",
    "    finish_player = driver.find_elements_by_xpath(path)\n",
    "    for player in finish_player:\n",
    "        finish2016_player.append(player.text)\n",
    "\n",
    "for j in range(85):\n",
    "    path = '//*[@id=\"/g/11hczb0ql5\"]/g-expandable-content/table/tbody/tr/td/div/div/div[3]/g-expandable-content[2]/table/tbody/tr[' + str(j) + ']/td[3]/span'\n",
    "    finish_player2 = driver.find_elements_by_xpath(path)\n",
    "    for player2 in finish_player2:\n",
    "        finish2016_player.append(player2.text)\n"
   ]
  },
  {
   "cell_type": "code",
   "execution_count": 58,
   "metadata": {},
   "outputs": [
    {
     "name": "stdout",
     "output_type": "stream",
     "text": [
      "89\n",
      "['D. Willett', 'J. Spieth', 'L. Westwood']\n",
      "['P. Mickelson', 'V. Taylor', 'P. Chaplet']\n"
     ]
    }
   ],
   "source": [
    "print(len(finish2016_player))\n",
    "print(finish2016_player[:3])\n",
    "print(finish2016_player[-3:])"
   ]
  },
  {
   "cell_type": "code",
   "execution_count": 59,
   "metadata": {},
   "outputs": [],
   "source": [
    "## Get the final position of the players\n",
    "\n",
    "finish2016_position = []\n",
    "\n",
    "## first xpath:  //*[@id=\"/g/11hczb0ql5\"]/g-expandable-content/table/tbody/tr/td/div/div/div[3]/g-expandable-content[1]/table/tbody/tr[2]/td[1]/span\n",
    "## last xpath:   //*[@id=\"/g/11hczb0ql5\"]/g-expandable-content/table/tbody/tr/td/div/div/div[3]/g-expandable-content[2]/table/tbody/tr[84]/td[1]/span\n",
    "\n",
    "for i in range(2, 7):\n",
    "    path = '//*[@id=\"/g/11hczb0ql5\"]/g-expandable-content/table/tbody/tr/td/div/div/div[3]/g-expandable-content[1]/table/tbody/tr[' + str(i) + ']/td[1]/span'\n",
    "    finish_position = driver.find_elements_by_xpath(path)\n",
    "    for pos in finish_position:\n",
    "        finish2016_position.append(pos.text)\n",
    "\n",
    "for j in range(85):\n",
    "    path = '//*[@id=\"/g/11hczb0ql5\"]/g-expandable-content/table/tbody/tr/td/div/div/div[3]/g-expandable-content[2]/table/tbody/tr[' + str(j) + ']/td[1]/span'\n",
    "    finish_position2 = driver.find_elements_by_xpath(path)\n",
    "    for pos2 in finish_position2:\n",
    "        finish2016_position.append(pos2.text)\n"
   ]
  },
  {
   "cell_type": "code",
   "execution_count": 60,
   "metadata": {},
   "outputs": [
    {
     "data": {
      "text/plain": [
       "89"
      ]
     },
     "execution_count": 60,
     "metadata": {},
     "output_type": "execute_result"
    }
   ],
   "source": [
    "len(finish2016_position)"
   ]
  },
  {
   "cell_type": "code",
   "execution_count": 66,
   "metadata": {},
   "outputs": [],
   "source": [
    "## Get the final scores \n",
    "\n",
    "finish2016_score = []\n",
    "\n",
    "# first xpath: //*[@id=\"/g/11hczb0ql5\"]/g-expandable-content/table/tbody/tr/td/div/div/div[3]/g-expandable-content[1]/table/tbody/tr[2]/td[6]/span\n",
    "# last xpath:  //*[@id=\"/g/11hczb0ql5\"]/g-expandable-content/table/tbody/tr/td/div/div/div[3]/g-expandable-content[2]/table/tbody/tr[52]/td[6]/span\n",
    "\n",
    "# Have to work with the expandable content again as well\n",
    "\n",
    "for i in range(2, 7):\n",
    "    path = '//*[@id=\"/g/11hczb0ql5\"]/g-expandable-content/table/tbody/tr/td/div/div/div[3]/g-expandable-content[1]/table/tbody/tr[' + str(i) + ']/td[6]/span'\n",
    "    finish_score = driver.find_elements_by_xpath(path)\n",
    "    for score in finish_score:\n",
    "        finish2016_score.append(score.text)\n",
    "\n",
    "for j in range(53):\n",
    "    path = '//*[@id=\"/g/11hczb0ql5\"]/g-expandable-content/table/tbody/tr/td/div/div/div[3]/g-expandable-content[2]/table/tbody/tr[' + str(j) + ']/td[6]/span'\n",
    "    finish_score2 = driver.find_elements_by_xpath(path)\n",
    "    for score2 in finish_score2:\n",
    "        finish2016_score.append(score2.text)"
   ]
  },
  {
   "cell_type": "code",
   "execution_count": 67,
   "metadata": {},
   "outputs": [
    {
     "name": "stdout",
     "output_type": "stream",
     "text": [
      "57\n",
      "['-5', '-2', '-2']\n",
      "['+15', '+15', '+19']\n"
     ]
    }
   ],
   "source": [
    "print(len(finish2016_score))\n",
    "print(finish2016_score[:3])\n",
    "print(finish2016_score[-3:])"
   ]
  },
  {
   "cell_type": "code",
   "execution_count": 68,
   "metadata": {},
   "outputs": [
    {
     "name": "stdout",
     "output_type": "stream",
     "text": [
      "89\n"
     ]
    }
   ],
   "source": [
    "## The cut players were not in order like I expected them to be, had to input their scores by hand\n",
    "\n",
    "cut_scores = ['+9', '+9', '+7', '+9', '+7', '+13', '+9', '+8', '+9', '+12', '+9', '+13', '+9',\n",
    "             '+7', '+10', '+8', '+9', '+8', '+16', '+11', '+8', '+13', '+17', '+8', '+19', '+13',\n",
    "             '+12', '+13', '+8', '+7', '+7', '+21']\n",
    "\n",
    "finish2016_score = finish2016_score + cut_scores\n",
    "\n",
    "print(len(finish2016_score))"
   ]
  },
  {
   "cell_type": "code",
   "execution_count": 69,
   "metadata": {},
   "outputs": [
    {
     "name": "stdout",
     "output_type": "stream",
     "text": [
      "['-5', '-2', '-2']\n",
      "['+7', '+7', '+21']\n"
     ]
    }
   ],
   "source": [
    "print(finish2016_score[:3])\n",
    "print(finish2016_score[-3:])"
   ]
  },
  {
   "cell_type": "code",
   "execution_count": 70,
   "metadata": {},
   "outputs": [],
   "source": [
    "## Create a dataframe for the players scores and positions\n",
    "\n",
    "finish2016 = pd.DataFrame.from_dict({'Player':finish2016_player, 'Position':finish2016_position,\n",
    "                                    'Score':finish2016_score})"
   ]
  },
  {
   "cell_type": "code",
   "execution_count": 71,
   "metadata": {},
   "outputs": [
    {
     "data": {
      "text/plain": [
       "(89, 3)"
      ]
     },
     "execution_count": 71,
     "metadata": {},
     "output_type": "execute_result"
    }
   ],
   "source": [
    "finish2016.shape"
   ]
  },
  {
   "cell_type": "code",
   "execution_count": 73,
   "metadata": {},
   "outputs": [
    {
     "data": {
      "text/html": [
       "<div>\n",
       "<style scoped>\n",
       "    .dataframe tbody tr th:only-of-type {\n",
       "        vertical-align: middle;\n",
       "    }\n",
       "\n",
       "    .dataframe tbody tr th {\n",
       "        vertical-align: top;\n",
       "    }\n",
       "\n",
       "    .dataframe thead th {\n",
       "        text-align: right;\n",
       "    }\n",
       "</style>\n",
       "<table border=\"1\" class=\"dataframe\">\n",
       "  <thead>\n",
       "    <tr style=\"text-align: right;\">\n",
       "      <th></th>\n",
       "      <th>Player</th>\n",
       "      <th>Position</th>\n",
       "      <th>Score</th>\n",
       "    </tr>\n",
       "  </thead>\n",
       "  <tbody>\n",
       "    <tr>\n",
       "      <th>84</th>\n",
       "      <td>C. Jin</td>\n",
       "      <td>Cut</td>\n",
       "      <td>+13</td>\n",
       "    </tr>\n",
       "    <tr>\n",
       "      <th>85</th>\n",
       "      <td>D. Lingmerth</td>\n",
       "      <td>Cut</td>\n",
       "      <td>+8</td>\n",
       "    </tr>\n",
       "    <tr>\n",
       "      <th>86</th>\n",
       "      <td>P. Mickelson</td>\n",
       "      <td>Cut</td>\n",
       "      <td>+7</td>\n",
       "    </tr>\n",
       "    <tr>\n",
       "      <th>87</th>\n",
       "      <td>V. Taylor</td>\n",
       "      <td>Cut</td>\n",
       "      <td>+7</td>\n",
       "    </tr>\n",
       "    <tr>\n",
       "      <th>88</th>\n",
       "      <td>P. Chaplet</td>\n",
       "      <td>Cut</td>\n",
       "      <td>+21</td>\n",
       "    </tr>\n",
       "  </tbody>\n",
       "</table>\n",
       "</div>"
      ],
      "text/plain": [
       "          Player Position Score\n",
       "84        C. Jin      Cut   +13\n",
       "85  D. Lingmerth      Cut    +8\n",
       "86  P. Mickelson      Cut    +7\n",
       "87     V. Taylor      Cut    +7\n",
       "88    P. Chaplet      Cut   +21"
      ]
     },
     "execution_count": 73,
     "metadata": {},
     "output_type": "execute_result"
    }
   ],
   "source": [
    "finish2016.tail()"
   ]
  },
  {
   "cell_type": "code",
   "execution_count": 74,
   "metadata": {},
   "outputs": [],
   "source": [
    "## Create a binary column if the player of cut\n",
    "\n",
    "finish2016['Cut'] = np.where(finish2016['Position'] == 'Cut', 1, 0)"
   ]
  },
  {
   "cell_type": "code",
   "execution_count": 75,
   "metadata": {},
   "outputs": [
    {
     "data": {
      "text/html": [
       "<div>\n",
       "<style scoped>\n",
       "    .dataframe tbody tr th:only-of-type {\n",
       "        vertical-align: middle;\n",
       "    }\n",
       "\n",
       "    .dataframe tbody tr th {\n",
       "        vertical-align: top;\n",
       "    }\n",
       "\n",
       "    .dataframe thead th {\n",
       "        text-align: right;\n",
       "    }\n",
       "</style>\n",
       "<table border=\"1\" class=\"dataframe\">\n",
       "  <thead>\n",
       "    <tr style=\"text-align: right;\">\n",
       "      <th></th>\n",
       "      <th>Player</th>\n",
       "      <th>Position</th>\n",
       "      <th>Score</th>\n",
       "      <th>Cut</th>\n",
       "    </tr>\n",
       "  </thead>\n",
       "  <tbody>\n",
       "    <tr>\n",
       "      <th>0</th>\n",
       "      <td>D. Willett</td>\n",
       "      <td>1</td>\n",
       "      <td>-5</td>\n",
       "      <td>0</td>\n",
       "    </tr>\n",
       "    <tr>\n",
       "      <th>1</th>\n",
       "      <td>J. Spieth</td>\n",
       "      <td>T2</td>\n",
       "      <td>-2</td>\n",
       "      <td>0</td>\n",
       "    </tr>\n",
       "  </tbody>\n",
       "</table>\n",
       "</div>"
      ],
      "text/plain": [
       "       Player Position Score  Cut\n",
       "0  D. Willett        1    -5    0\n",
       "1   J. Spieth       T2    -2    0"
      ]
     },
     "execution_count": 75,
     "metadata": {},
     "output_type": "execute_result"
    }
   ],
   "source": [
    "finish2016.head(2)"
   ]
  },
  {
   "cell_type": "code",
   "execution_count": 77,
   "metadata": {},
   "outputs": [],
   "source": [
    "cut_players = finish2016[finish2016['Position'] == 'Cut']"
   ]
  },
  {
   "cell_type": "code",
   "execution_count": 78,
   "metadata": {},
   "outputs": [
    {
     "data": {
      "text/html": [
       "<div>\n",
       "<style scoped>\n",
       "    .dataframe tbody tr th:only-of-type {\n",
       "        vertical-align: middle;\n",
       "    }\n",
       "\n",
       "    .dataframe tbody tr th {\n",
       "        vertical-align: top;\n",
       "    }\n",
       "\n",
       "    .dataframe thead th {\n",
       "        text-align: right;\n",
       "    }\n",
       "</style>\n",
       "<table border=\"1\" class=\"dataframe\">\n",
       "  <thead>\n",
       "    <tr style=\"text-align: right;\">\n",
       "      <th></th>\n",
       "      <th>Player</th>\n",
       "      <th>Position</th>\n",
       "      <th>Score</th>\n",
       "      <th>Cut</th>\n",
       "    </tr>\n",
       "  </thead>\n",
       "  <tbody>\n",
       "    <tr>\n",
       "      <th>57</th>\n",
       "      <td>J. Dufner</td>\n",
       "      <td>Cut</td>\n",
       "      <td>+9</td>\n",
       "      <td>1</td>\n",
       "    </tr>\n",
       "    <tr>\n",
       "      <th>58</th>\n",
       "      <td>J. Herman</td>\n",
       "      <td>Cut</td>\n",
       "      <td>+9</td>\n",
       "      <td>1</td>\n",
       "    </tr>\n",
       "    <tr>\n",
       "      <th>59</th>\n",
       "      <td>M. Leishman</td>\n",
       "      <td>Cut</td>\n",
       "      <td>+7</td>\n",
       "      <td>1</td>\n",
       "    </tr>\n",
       "  </tbody>\n",
       "</table>\n",
       "</div>"
      ],
      "text/plain": [
       "         Player Position Score  Cut\n",
       "57    J. Dufner      Cut    +9    1\n",
       "58    J. Herman      Cut    +9    1\n",
       "59  M. Leishman      Cut    +7    1"
      ]
     },
     "execution_count": 78,
     "metadata": {},
     "output_type": "execute_result"
    }
   ],
   "source": [
    "cut_players.head(3)"
   ]
  },
  {
   "cell_type": "code",
   "execution_count": 117,
   "metadata": {},
   "outputs": [],
   "source": [
    "cut_players['score_int'] = cut_players['Score'].astype(int)\n",
    "\n",
    "cut_players['Position'] = (cut_players['score_int'].rank(method='min')) + 57"
   ]
  },
  {
   "cell_type": "code",
   "execution_count": 118,
   "metadata": {},
   "outputs": [
    {
     "data": {
      "text/html": [
       "<div>\n",
       "<style scoped>\n",
       "    .dataframe tbody tr th:only-of-type {\n",
       "        vertical-align: middle;\n",
       "    }\n",
       "\n",
       "    .dataframe tbody tr th {\n",
       "        vertical-align: top;\n",
       "    }\n",
       "\n",
       "    .dataframe thead th {\n",
       "        text-align: right;\n",
       "    }\n",
       "</style>\n",
       "<table border=\"1\" class=\"dataframe\">\n",
       "  <thead>\n",
       "    <tr style=\"text-align: right;\">\n",
       "      <th></th>\n",
       "      <th>Player</th>\n",
       "      <th>Position</th>\n",
       "      <th>Score</th>\n",
       "      <th>Cut</th>\n",
       "      <th>score_int</th>\n",
       "    </tr>\n",
       "  </thead>\n",
       "  <tbody>\n",
       "    <tr>\n",
       "      <th>57</th>\n",
       "      <td>J. Dufner</td>\n",
       "      <td>69.0</td>\n",
       "      <td>+9</td>\n",
       "      <td>1</td>\n",
       "      <td>9</td>\n",
       "    </tr>\n",
       "    <tr>\n",
       "      <th>58</th>\n",
       "      <td>J. Herman</td>\n",
       "      <td>69.0</td>\n",
       "      <td>+9</td>\n",
       "      <td>1</td>\n",
       "      <td>9</td>\n",
       "    </tr>\n",
       "    <tr>\n",
       "      <th>59</th>\n",
       "      <td>M. Leishman</td>\n",
       "      <td>58.0</td>\n",
       "      <td>+7</td>\n",
       "      <td>1</td>\n",
       "      <td>7</td>\n",
       "    </tr>\n",
       "    <tr>\n",
       "      <th>60</th>\n",
       "      <td>D. Bard</td>\n",
       "      <td>69.0</td>\n",
       "      <td>+9</td>\n",
       "      <td>1</td>\n",
       "      <td>9</td>\n",
       "    </tr>\n",
       "    <tr>\n",
       "      <th>61</th>\n",
       "      <td>B. An</td>\n",
       "      <td>58.0</td>\n",
       "      <td>+7</td>\n",
       "      <td>1</td>\n",
       "      <td>7</td>\n",
       "    </tr>\n",
       "  </tbody>\n",
       "</table>\n",
       "</div>"
      ],
      "text/plain": [
       "         Player  Position Score  Cut  score_int\n",
       "57    J. Dufner      69.0    +9    1          9\n",
       "58    J. Herman      69.0    +9    1          9\n",
       "59  M. Leishman      58.0    +7    1          7\n",
       "60      D. Bard      69.0    +9    1          9\n",
       "61        B. An      58.0    +7    1          7"
      ]
     },
     "execution_count": 118,
     "metadata": {},
     "output_type": "execute_result"
    }
   ],
   "source": [
    "cut_players.head()"
   ]
  },
  {
   "cell_type": "code",
   "execution_count": 119,
   "metadata": {},
   "outputs": [],
   "source": [
    "cut_players.drop('score_int', axis=1, inplace=True)"
   ]
  },
  {
   "cell_type": "code",
   "execution_count": 120,
   "metadata": {},
   "outputs": [],
   "source": [
    "finish2016 = finish2016[finish2016['Cut'] == 0]"
   ]
  },
  {
   "cell_type": "code",
   "execution_count": 121,
   "metadata": {},
   "outputs": [],
   "source": [
    "finish2016 = pd.concat([finish2016, cut_players])"
   ]
  },
  {
   "cell_type": "code",
   "execution_count": 122,
   "metadata": {},
   "outputs": [
    {
     "data": {
      "text/plain": [
       "(89, 4)"
      ]
     },
     "execution_count": 122,
     "metadata": {},
     "output_type": "execute_result"
    }
   ],
   "source": [
    "finish2016.shape"
   ]
  },
  {
   "cell_type": "code",
   "execution_count": 123,
   "metadata": {},
   "outputs": [
    {
     "data": {
      "text/html": [
       "<div>\n",
       "<style scoped>\n",
       "    .dataframe tbody tr th:only-of-type {\n",
       "        vertical-align: middle;\n",
       "    }\n",
       "\n",
       "    .dataframe tbody tr th {\n",
       "        vertical-align: top;\n",
       "    }\n",
       "\n",
       "    .dataframe thead th {\n",
       "        text-align: right;\n",
       "    }\n",
       "</style>\n",
       "<table border=\"1\" class=\"dataframe\">\n",
       "  <thead>\n",
       "    <tr style=\"text-align: right;\">\n",
       "      <th></th>\n",
       "      <th>Player</th>\n",
       "      <th>Position</th>\n",
       "      <th>Score</th>\n",
       "      <th>Cut</th>\n",
       "    </tr>\n",
       "  </thead>\n",
       "  <tbody>\n",
       "    <tr>\n",
       "      <th>D. Willett</th>\n",
       "      <td>D. Willett</td>\n",
       "      <td>1</td>\n",
       "      <td>-5</td>\n",
       "      <td>0</td>\n",
       "    </tr>\n",
       "    <tr>\n",
       "      <th>J. Spieth</th>\n",
       "      <td>J. Spieth</td>\n",
       "      <td>T2</td>\n",
       "      <td>-2</td>\n",
       "      <td>0</td>\n",
       "    </tr>\n",
       "    <tr>\n",
       "      <th>L. Westwood</th>\n",
       "      <td>L. Westwood</td>\n",
       "      <td>T2</td>\n",
       "      <td>-2</td>\n",
       "      <td>0</td>\n",
       "    </tr>\n",
       "    <tr>\n",
       "      <th>P. Casey</th>\n",
       "      <td>P. Casey</td>\n",
       "      <td>T4</td>\n",
       "      <td>-1</td>\n",
       "      <td>0</td>\n",
       "    </tr>\n",
       "    <tr>\n",
       "      <th>J. B. Holmes</th>\n",
       "      <td>J. B. Holmes</td>\n",
       "      <td>T4</td>\n",
       "      <td>-1</td>\n",
       "      <td>0</td>\n",
       "    </tr>\n",
       "  </tbody>\n",
       "</table>\n",
       "</div>"
      ],
      "text/plain": [
       "                    Player Position Score  Cut\n",
       "D. Willett      D. Willett        1    -5    0\n",
       "J. Spieth        J. Spieth       T2    -2    0\n",
       "L. Westwood    L. Westwood       T2    -2    0\n",
       "P. Casey          P. Casey       T4    -1    0\n",
       "J. B. Holmes  J. B. Holmes       T4    -1    0"
      ]
     },
     "execution_count": 123,
     "metadata": {},
     "output_type": "execute_result"
    }
   ],
   "source": [
    "finish2016.head()"
   ]
  },
  {
   "cell_type": "code",
   "execution_count": 124,
   "metadata": {},
   "outputs": [],
   "source": [
    "finish2016.to_csv('2016_Position.csv')"
   ]
  },
  {
   "cell_type": "code",
   "execution_count": null,
   "metadata": {},
   "outputs": [],
   "source": []
  },
  {
   "cell_type": "markdown",
   "metadata": {},
   "source": [
    "## Putting it all together"
   ]
  },
  {
   "cell_type": "code",
   "execution_count": 128,
   "metadata": {},
   "outputs": [],
   "source": [
    "## Make the player name the index for each dataframe\n",
    "\n",
    "fir_2016.index = fir_2016['Player']\n",
    "gir_2016.index = gir_2016['Player']\n",
    "dist_2016.index = dist_2016['Player']\n",
    "putt_2016.index = putt_2016['Player']\n",
    "finish2016.index = finish2016['Player']"
   ]
  },
  {
   "cell_type": "code",
   "execution_count": 129,
   "metadata": {},
   "outputs": [
    {
     "name": "stderr",
     "output_type": "stream",
     "text": [
      "/Users/genevieveberent/Desktop/anaconda3/lib/python3.6/site-packages/ipykernel_launcher.py:1: FutureWarning: Sorting because non-concatenation axis is not aligned. A future version\n",
      "of pandas will change to not sort by default.\n",
      "\n",
      "To accept the future behavior, pass 'sort=True'.\n",
      "\n",
      "To retain the current behavior and silence the warning, pass sort=False\n",
      "\n",
      "  \"\"\"Entry point for launching an IPython kernel.\n"
     ]
    }
   ],
   "source": [
    "stats2016 = pd.concat([fir_2016, dist_2016, gir_2016, putt_2016], axis=1)"
   ]
  },
  {
   "cell_type": "code",
   "execution_count": 130,
   "metadata": {},
   "outputs": [
    {
     "data": {
      "text/plain": [
       "(89, 12)"
      ]
     },
     "execution_count": 130,
     "metadata": {},
     "output_type": "execute_result"
    }
   ],
   "source": [
    "stats2016.shape"
   ]
  },
  {
   "cell_type": "code",
   "execution_count": 102,
   "metadata": {},
   "outputs": [],
   "source": [
    "all_names = set(list(stats2016.index) + list(finish2016.index))"
   ]
  },
  {
   "cell_type": "code",
   "execution_count": 103,
   "metadata": {},
   "outputs": [
    {
     "data": {
      "text/plain": [
       "95"
      ]
     },
     "execution_count": 103,
     "metadata": {},
     "output_type": "execute_result"
    }
   ],
   "source": [
    "len(all_names)"
   ]
  },
  {
   "cell_type": "code",
   "execution_count": 104,
   "metadata": {},
   "outputs": [
    {
     "data": {
      "text/plain": [
       "{'A. Cabrera',\n",
       " 'A. Lahiri',\n",
       " 'A. Scott',\n",
       " 'A. Sullivan',\n",
       " 'B. An',\n",
       " 'B. DeChambeau',\n",
       " 'B. Grace',\n",
       " 'B. Haas',\n",
       " 'B. Horschel',\n",
       " 'B. Koepka',\n",
       " 'B. Langer',\n",
       " 'B. Snedeker',\n",
       " 'B. Watson',\n",
       " 'B. Wiesberger',\n",
       " 'C. Hoffman',\n",
       " 'C. Jin',\n",
       " 'C. Kirk',\n",
       " 'C. Schwartzel',\n",
       " 'C. Smith',\n",
       " 'C. Wood',\n",
       " 'D. Bard',\n",
       " 'D. Berger',\n",
       " 'D. Clarke',\n",
       " 'D. Johnson',\n",
       " 'D. Lee',\n",
       " 'D. Lingmerth',\n",
       " 'D. Love III',\n",
       " 'D. Willett',\n",
       " 'E. Els',\n",
       " 'E. Grillo',\n",
       " 'F. Gomez',\n",
       " 'F. Gómez',\n",
       " 'G. McDowell',\n",
       " 'G. Mcdowell',\n",
       " 'H. English',\n",
       " 'H. Mahan',\n",
       " 'H. Matsuyama',\n",
       " 'H. Stenson',\n",
       " 'I. Poulter',\n",
       " 'I. Woosnam',\n",
       " 'J. B. Holmes',\n",
       " 'J. Day',\n",
       " 'J. Donaldson',\n",
       " 'J. Dufner',\n",
       " 'J. Herman',\n",
       " 'J. Holmes',\n",
       " 'J. Rose',\n",
       " 'J. Spieth',\n",
       " 'J. Thomas',\n",
       " 'J. Walker',\n",
       " 'K. Aphibarnrat',\n",
       " 'K. Bradley',\n",
       " 'K. Kisner',\n",
       " 'K. Na',\n",
       " 'K. Streelman',\n",
       " 'L. Mize',\n",
       " 'L. Oosthuizen',\n",
       " 'L. Westwood',\n",
       " 'M. Fitzpatrick',\n",
       " 'M. Kaymer',\n",
       " 'M. Kuchar',\n",
       " 'M. Leishman',\n",
       " \"M. O'Meara\",\n",
       " 'M. Weir',\n",
       " 'P. Casey',\n",
       " 'P. Chaplet',\n",
       " 'P. Mickelson',\n",
       " 'P. Reed',\n",
       " 'R. Cabrera-Bello',\n",
       " 'R. Fowler',\n",
       " 'R. Knox',\n",
       " 'R. Langasque',\n",
       " 'R. McIlroy',\n",
       " 'R. Mcilroy',\n",
       " 'R. Moore',\n",
       " 'R. Streb',\n",
       " 'S. Bowditch',\n",
       " 'S. Garcia',\n",
       " 'S. García',\n",
       " 'S. Kaufman',\n",
       " 'S. Kjeldsen',\n",
       " 'S. Lowry',\n",
       " 'S. Lyle',\n",
       " 'S. Piercy',\n",
       " 'S. Schmitz',\n",
       " 'T. Immelman',\n",
       " 'T. Jaidee',\n",
       " 'T. Merritt',\n",
       " 'T. Watson',\n",
       " 'V. Dubuisson',\n",
       " 'V. Singh',\n",
       " 'V. Taylor',\n",
       " 'W. Simpson',\n",
       " 'Z. Johnson',\n",
       " 'Á. Cabrera'}"
      ]
     },
     "execution_count": 104,
     "metadata": {},
     "output_type": "execute_result"
    }
   ],
   "source": [
    "all_names"
   ]
  },
  {
   "cell_type": "code",
   "execution_count": 131,
   "metadata": {},
   "outputs": [],
   "source": [
    "## Replace the names spelt differently in the dataframes\n",
    "\n",
    "new_names = {'A. Cabrera': 'Á. Cabrera',\n",
    "             'F. Gomez': 'F. Gómez',\n",
    "             'G. Mcdowell': 'G. McDowell',\n",
    "             'R. Mcilroy': 'R. McIlroy',\n",
    "             'S. Garcia': 'S. García',\n",
    "             'J. Holmes': 'J. B. Holmes'}\n",
    "\n",
    "stats2016 = stats2016.rename(index=new_names)"
   ]
  },
  {
   "cell_type": "code",
   "execution_count": 132,
   "metadata": {},
   "outputs": [
    {
     "name": "stderr",
     "output_type": "stream",
     "text": [
      "/Users/genevieveberent/Desktop/anaconda3/lib/python3.6/site-packages/ipykernel_launcher.py:3: FutureWarning: Sorting because non-concatenation axis is not aligned. A future version\n",
      "of pandas will change to not sort by default.\n",
      "\n",
      "To accept the future behavior, pass 'sort=True'.\n",
      "\n",
      "To retain the current behavior and silence the warning, pass sort=False\n",
      "\n",
      "  This is separate from the ipykernel package so we can avoid doing imports until\n"
     ]
    }
   ],
   "source": [
    "## Concatenate the finish2016 dataframe\n",
    "\n",
    "masters2016 = pd.concat([finish2016, stats2016], axis=1)"
   ]
  },
  {
   "cell_type": "code",
   "execution_count": 133,
   "metadata": {},
   "outputs": [
    {
     "data": {
      "text/plain": [
       "(89, 16)"
      ]
     },
     "execution_count": 133,
     "metadata": {},
     "output_type": "execute_result"
    }
   ],
   "source": [
    "masters2016.shape"
   ]
  },
  {
   "cell_type": "code",
   "execution_count": 134,
   "metadata": {},
   "outputs": [
    {
     "data": {
      "text/html": [
       "<div>\n",
       "<style scoped>\n",
       "    .dataframe tbody tr th:only-of-type {\n",
       "        vertical-align: middle;\n",
       "    }\n",
       "\n",
       "    .dataframe tbody tr th {\n",
       "        vertical-align: top;\n",
       "    }\n",
       "\n",
       "    .dataframe thead th {\n",
       "        text-align: right;\n",
       "    }\n",
       "</style>\n",
       "<table border=\"1\" class=\"dataframe\">\n",
       "  <thead>\n",
       "    <tr style=\"text-align: right;\">\n",
       "      <th></th>\n",
       "      <th>Player</th>\n",
       "      <th>Position</th>\n",
       "      <th>Score</th>\n",
       "      <th>Cut</th>\n",
       "      <th>Player</th>\n",
       "      <th>FIR</th>\n",
       "      <th>FIR Rank</th>\n",
       "      <th>Player</th>\n",
       "      <th>dist</th>\n",
       "      <th>dist Rank</th>\n",
       "      <th>Player</th>\n",
       "      <th>GIR</th>\n",
       "      <th>GIR Rank</th>\n",
       "      <th>Player</th>\n",
       "      <th>Putting</th>\n",
       "      <th>Putting Rank</th>\n",
       "    </tr>\n",
       "  </thead>\n",
       "  <tbody>\n",
       "    <tr>\n",
       "      <th>A. Lahiri</th>\n",
       "      <td>A. Lahiri</td>\n",
       "      <td>T42</td>\n",
       "      <td>+11</td>\n",
       "      <td>0</td>\n",
       "      <td>A. Lahiri</td>\n",
       "      <td>67.86</td>\n",
       "      <td>32.0</td>\n",
       "      <td>A. Lahiri</td>\n",
       "      <td>276.62</td>\n",
       "      <td>48.0</td>\n",
       "      <td>A. Lahiri</td>\n",
       "      <td>47.22</td>\n",
       "      <td>78.0</td>\n",
       "      <td>A. Lahiri</td>\n",
       "      <td>1.53</td>\n",
       "      <td>1.0</td>\n",
       "    </tr>\n",
       "    <tr>\n",
       "      <th>A. Scott</th>\n",
       "      <td>A. Scott</td>\n",
       "      <td>T42</td>\n",
       "      <td>+11</td>\n",
       "      <td>0</td>\n",
       "      <td>A. Scott</td>\n",
       "      <td>53.57</td>\n",
       "      <td>84.0</td>\n",
       "      <td>A. Scott</td>\n",
       "      <td>295.75</td>\n",
       "      <td>3.0</td>\n",
       "      <td>A. Scott</td>\n",
       "      <td>51.39</td>\n",
       "      <td>70.0</td>\n",
       "      <td>A. Scott</td>\n",
       "      <td>1.67</td>\n",
       "      <td>29.0</td>\n",
       "    </tr>\n",
       "    <tr>\n",
       "      <th>A. Sullivan</th>\n",
       "      <td>A. Sullivan</td>\n",
       "      <td>81</td>\n",
       "      <td>+13</td>\n",
       "      <td>1</td>\n",
       "      <td>A. Sullivan</td>\n",
       "      <td>67.86</td>\n",
       "      <td>32.0</td>\n",
       "      <td>A. Sullivan</td>\n",
       "      <td>267.00</td>\n",
       "      <td>74.0</td>\n",
       "      <td>A. Sullivan</td>\n",
       "      <td>55.56</td>\n",
       "      <td>55.0</td>\n",
       "      <td>A. Sullivan</td>\n",
       "      <td>1.83</td>\n",
       "      <td>81.0</td>\n",
       "    </tr>\n",
       "    <tr>\n",
       "      <th>B. An</th>\n",
       "      <td>B. An</td>\n",
       "      <td>58</td>\n",
       "      <td>+7</td>\n",
       "      <td>1</td>\n",
       "      <td>B. An</td>\n",
       "      <td>50.00</td>\n",
       "      <td>86.0</td>\n",
       "      <td>B. An</td>\n",
       "      <td>281.75</td>\n",
       "      <td>26.0</td>\n",
       "      <td>B. An</td>\n",
       "      <td>47.22</td>\n",
       "      <td>78.0</td>\n",
       "      <td>B. An</td>\n",
       "      <td>1.64</td>\n",
       "      <td>20.0</td>\n",
       "    </tr>\n",
       "    <tr>\n",
       "      <th>B. DeChambeau</th>\n",
       "      <td>B. DeChambeau</td>\n",
       "      <td>T21</td>\n",
       "      <td>+5</td>\n",
       "      <td>0</td>\n",
       "      <td>B. DeChambeau</td>\n",
       "      <td>60.71</td>\n",
       "      <td>65.0</td>\n",
       "      <td>B. DeChambeau</td>\n",
       "      <td>290.00</td>\n",
       "      <td>6.0</td>\n",
       "      <td>B. DeChambeau</td>\n",
       "      <td>59.72</td>\n",
       "      <td>36.0</td>\n",
       "      <td>B. DeChambeau</td>\n",
       "      <td>1.61</td>\n",
       "      <td>13.0</td>\n",
       "    </tr>\n",
       "  </tbody>\n",
       "</table>\n",
       "</div>"
      ],
      "text/plain": [
       "                      Player Position Score  Cut         Player    FIR  \\\n",
       "A. Lahiri          A. Lahiri      T42   +11    0      A. Lahiri  67.86   \n",
       "A. Scott            A. Scott      T42   +11    0       A. Scott  53.57   \n",
       "A. Sullivan      A. Sullivan       81   +13    1    A. Sullivan  67.86   \n",
       "B. An                  B. An       58    +7    1          B. An  50.00   \n",
       "B. DeChambeau  B. DeChambeau      T21    +5    0  B. DeChambeau  60.71   \n",
       "\n",
       "               FIR Rank         Player    dist  dist Rank         Player  \\\n",
       "A. Lahiri          32.0      A. Lahiri  276.62       48.0      A. Lahiri   \n",
       "A. Scott           84.0       A. Scott  295.75        3.0       A. Scott   \n",
       "A. Sullivan        32.0    A. Sullivan  267.00       74.0    A. Sullivan   \n",
       "B. An              86.0          B. An  281.75       26.0          B. An   \n",
       "B. DeChambeau      65.0  B. DeChambeau  290.00        6.0  B. DeChambeau   \n",
       "\n",
       "                 GIR  GIR Rank         Player Putting  Putting Rank  \n",
       "A. Lahiri      47.22      78.0      A. Lahiri   1.53            1.0  \n",
       "A. Scott       51.39      70.0       A. Scott   1.67           29.0  \n",
       "A. Sullivan    55.56      55.0    A. Sullivan   1.83           81.0  \n",
       "B. An          47.22      78.0          B. An   1.64           20.0  \n",
       "B. DeChambeau  59.72      36.0  B. DeChambeau   1.61           13.0  "
      ]
     },
     "execution_count": 134,
     "metadata": {},
     "output_type": "execute_result"
    }
   ],
   "source": [
    "masters2016.head()"
   ]
  },
  {
   "cell_type": "code",
   "execution_count": 135,
   "metadata": {},
   "outputs": [],
   "source": [
    "masters2016.drop('Player', axis=1, inplace=True)"
   ]
  },
  {
   "cell_type": "code",
   "execution_count": 136,
   "metadata": {},
   "outputs": [
    {
     "data": {
      "text/html": [
       "<div>\n",
       "<style scoped>\n",
       "    .dataframe tbody tr th:only-of-type {\n",
       "        vertical-align: middle;\n",
       "    }\n",
       "\n",
       "    .dataframe tbody tr th {\n",
       "        vertical-align: top;\n",
       "    }\n",
       "\n",
       "    .dataframe thead th {\n",
       "        text-align: right;\n",
       "    }\n",
       "</style>\n",
       "<table border=\"1\" class=\"dataframe\">\n",
       "  <thead>\n",
       "    <tr style=\"text-align: right;\">\n",
       "      <th></th>\n",
       "      <th>Position</th>\n",
       "      <th>Score</th>\n",
       "      <th>Cut</th>\n",
       "      <th>FIR</th>\n",
       "      <th>FIR Rank</th>\n",
       "      <th>dist</th>\n",
       "      <th>dist Rank</th>\n",
       "      <th>GIR</th>\n",
       "      <th>GIR Rank</th>\n",
       "      <th>Putting</th>\n",
       "      <th>Putting Rank</th>\n",
       "    </tr>\n",
       "  </thead>\n",
       "  <tbody>\n",
       "    <tr>\n",
       "      <th>A. Lahiri</th>\n",
       "      <td>T42</td>\n",
       "      <td>+11</td>\n",
       "      <td>0</td>\n",
       "      <td>67.86</td>\n",
       "      <td>32.0</td>\n",
       "      <td>276.62</td>\n",
       "      <td>48.0</td>\n",
       "      <td>47.22</td>\n",
       "      <td>78.0</td>\n",
       "      <td>1.53</td>\n",
       "      <td>1.0</td>\n",
       "    </tr>\n",
       "    <tr>\n",
       "      <th>A. Scott</th>\n",
       "      <td>T42</td>\n",
       "      <td>+11</td>\n",
       "      <td>0</td>\n",
       "      <td>53.57</td>\n",
       "      <td>84.0</td>\n",
       "      <td>295.75</td>\n",
       "      <td>3.0</td>\n",
       "      <td>51.39</td>\n",
       "      <td>70.0</td>\n",
       "      <td>1.67</td>\n",
       "      <td>29.0</td>\n",
       "    </tr>\n",
       "    <tr>\n",
       "      <th>A. Sullivan</th>\n",
       "      <td>81</td>\n",
       "      <td>+13</td>\n",
       "      <td>1</td>\n",
       "      <td>67.86</td>\n",
       "      <td>32.0</td>\n",
       "      <td>267.00</td>\n",
       "      <td>74.0</td>\n",
       "      <td>55.56</td>\n",
       "      <td>55.0</td>\n",
       "      <td>1.83</td>\n",
       "      <td>81.0</td>\n",
       "    </tr>\n",
       "    <tr>\n",
       "      <th>B. An</th>\n",
       "      <td>58</td>\n",
       "      <td>+7</td>\n",
       "      <td>1</td>\n",
       "      <td>50.00</td>\n",
       "      <td>86.0</td>\n",
       "      <td>281.75</td>\n",
       "      <td>26.0</td>\n",
       "      <td>47.22</td>\n",
       "      <td>78.0</td>\n",
       "      <td>1.64</td>\n",
       "      <td>20.0</td>\n",
       "    </tr>\n",
       "    <tr>\n",
       "      <th>B. DeChambeau</th>\n",
       "      <td>T21</td>\n",
       "      <td>+5</td>\n",
       "      <td>0</td>\n",
       "      <td>60.71</td>\n",
       "      <td>65.0</td>\n",
       "      <td>290.00</td>\n",
       "      <td>6.0</td>\n",
       "      <td>59.72</td>\n",
       "      <td>36.0</td>\n",
       "      <td>1.61</td>\n",
       "      <td>13.0</td>\n",
       "    </tr>\n",
       "  </tbody>\n",
       "</table>\n",
       "</div>"
      ],
      "text/plain": [
       "              Position Score  Cut    FIR  FIR Rank    dist  dist Rank    GIR  \\\n",
       "A. Lahiri          T42   +11    0  67.86      32.0  276.62       48.0  47.22   \n",
       "A. Scott           T42   +11    0  53.57      84.0  295.75        3.0  51.39   \n",
       "A. Sullivan         81   +13    1  67.86      32.0  267.00       74.0  55.56   \n",
       "B. An               58    +7    1  50.00      86.0  281.75       26.0  47.22   \n",
       "B. DeChambeau      T21    +5    0  60.71      65.0  290.00        6.0  59.72   \n",
       "\n",
       "               GIR Rank Putting  Putting Rank  \n",
       "A. Lahiri          78.0   1.53            1.0  \n",
       "A. Scott           70.0   1.67           29.0  \n",
       "A. Sullivan        55.0   1.83           81.0  \n",
       "B. An              78.0   1.64           20.0  \n",
       "B. DeChambeau      36.0   1.61           13.0  "
      ]
     },
     "execution_count": 136,
     "metadata": {},
     "output_type": "execute_result"
    }
   ],
   "source": [
    "masters2016.head()"
   ]
  },
  {
   "cell_type": "code",
   "execution_count": 137,
   "metadata": {},
   "outputs": [],
   "source": [
    "## Remove the 'T' from the 'Position' column\n",
    "## Replace the 'E' in score and replace with 0\n",
    "\n",
    "masters2016['Position'] = masters2016['Position'].apply(lambda x:str(x).strip('T'))\n",
    "\n",
    "masters2016['Score'] = masters2016['Score'].replace({'E':0})"
   ]
  },
  {
   "cell_type": "code",
   "execution_count": 138,
   "metadata": {},
   "outputs": [],
   "source": [
    "## Convert columns to numeric\n",
    "\n",
    "cols = ['FIR', 'FIR Rank', 'dist', 'dist Rank', 'GIR', 'GIR Rank', 'Putting',\n",
    "       'Putting Rank', 'Position', 'Score', 'Cut']\n",
    "\n",
    "masters2016[cols] = masters2016[cols].apply(pd.to_numeric, axis=1)"
   ]
  },
  {
   "cell_type": "code",
   "execution_count": 139,
   "metadata": {},
   "outputs": [
    {
     "data": {
      "text/html": [
       "<div>\n",
       "<style scoped>\n",
       "    .dataframe tbody tr th:only-of-type {\n",
       "        vertical-align: middle;\n",
       "    }\n",
       "\n",
       "    .dataframe tbody tr th {\n",
       "        vertical-align: top;\n",
       "    }\n",
       "\n",
       "    .dataframe thead th {\n",
       "        text-align: right;\n",
       "    }\n",
       "</style>\n",
       "<table border=\"1\" class=\"dataframe\">\n",
       "  <thead>\n",
       "    <tr style=\"text-align: right;\">\n",
       "      <th></th>\n",
       "      <th>Position</th>\n",
       "      <th>Score</th>\n",
       "      <th>Cut</th>\n",
       "      <th>FIR</th>\n",
       "      <th>FIR Rank</th>\n",
       "      <th>dist</th>\n",
       "      <th>dist Rank</th>\n",
       "      <th>GIR</th>\n",
       "      <th>GIR Rank</th>\n",
       "      <th>Putting</th>\n",
       "      <th>Putting Rank</th>\n",
       "    </tr>\n",
       "  </thead>\n",
       "  <tbody>\n",
       "    <tr>\n",
       "      <th>A. Lahiri</th>\n",
       "      <td>42.0</td>\n",
       "      <td>11.0</td>\n",
       "      <td>0.0</td>\n",
       "      <td>67.86</td>\n",
       "      <td>32.0</td>\n",
       "      <td>276.62</td>\n",
       "      <td>48.0</td>\n",
       "      <td>47.22</td>\n",
       "      <td>78.0</td>\n",
       "      <td>1.53</td>\n",
       "      <td>1.0</td>\n",
       "    </tr>\n",
       "    <tr>\n",
       "      <th>A. Scott</th>\n",
       "      <td>42.0</td>\n",
       "      <td>11.0</td>\n",
       "      <td>0.0</td>\n",
       "      <td>53.57</td>\n",
       "      <td>84.0</td>\n",
       "      <td>295.75</td>\n",
       "      <td>3.0</td>\n",
       "      <td>51.39</td>\n",
       "      <td>70.0</td>\n",
       "      <td>1.67</td>\n",
       "      <td>29.0</td>\n",
       "    </tr>\n",
       "    <tr>\n",
       "      <th>A. Sullivan</th>\n",
       "      <td>81.0</td>\n",
       "      <td>13.0</td>\n",
       "      <td>1.0</td>\n",
       "      <td>67.86</td>\n",
       "      <td>32.0</td>\n",
       "      <td>267.00</td>\n",
       "      <td>74.0</td>\n",
       "      <td>55.56</td>\n",
       "      <td>55.0</td>\n",
       "      <td>1.83</td>\n",
       "      <td>81.0</td>\n",
       "    </tr>\n",
       "    <tr>\n",
       "      <th>B. An</th>\n",
       "      <td>58.0</td>\n",
       "      <td>7.0</td>\n",
       "      <td>1.0</td>\n",
       "      <td>50.00</td>\n",
       "      <td>86.0</td>\n",
       "      <td>281.75</td>\n",
       "      <td>26.0</td>\n",
       "      <td>47.22</td>\n",
       "      <td>78.0</td>\n",
       "      <td>1.64</td>\n",
       "      <td>20.0</td>\n",
       "    </tr>\n",
       "    <tr>\n",
       "      <th>B. DeChambeau</th>\n",
       "      <td>21.0</td>\n",
       "      <td>5.0</td>\n",
       "      <td>0.0</td>\n",
       "      <td>60.71</td>\n",
       "      <td>65.0</td>\n",
       "      <td>290.00</td>\n",
       "      <td>6.0</td>\n",
       "      <td>59.72</td>\n",
       "      <td>36.0</td>\n",
       "      <td>1.61</td>\n",
       "      <td>13.0</td>\n",
       "    </tr>\n",
       "  </tbody>\n",
       "</table>\n",
       "</div>"
      ],
      "text/plain": [
       "               Position  Score  Cut    FIR  FIR Rank    dist  dist Rank  \\\n",
       "A. Lahiri          42.0   11.0  0.0  67.86      32.0  276.62       48.0   \n",
       "A. Scott           42.0   11.0  0.0  53.57      84.0  295.75        3.0   \n",
       "A. Sullivan        81.0   13.0  1.0  67.86      32.0  267.00       74.0   \n",
       "B. An              58.0    7.0  1.0  50.00      86.0  281.75       26.0   \n",
       "B. DeChambeau      21.0    5.0  0.0  60.71      65.0  290.00        6.0   \n",
       "\n",
       "                 GIR  GIR Rank  Putting  Putting Rank  \n",
       "A. Lahiri      47.22      78.0     1.53           1.0  \n",
       "A. Scott       51.39      70.0     1.67          29.0  \n",
       "A. Sullivan    55.56      55.0     1.83          81.0  \n",
       "B. An          47.22      78.0     1.64          20.0  \n",
       "B. DeChambeau  59.72      36.0     1.61          13.0  "
      ]
     },
     "execution_count": 139,
     "metadata": {},
     "output_type": "execute_result"
    }
   ],
   "source": [
    "masters2016.head()"
   ]
  },
  {
   "cell_type": "code",
   "execution_count": 140,
   "metadata": {},
   "outputs": [],
   "source": [
    "masters2016['Year'] = 2016"
   ]
  },
  {
   "cell_type": "code",
   "execution_count": null,
   "metadata": {},
   "outputs": [],
   "source": []
  },
  {
   "cell_type": "code",
   "execution_count": 141,
   "metadata": {},
   "outputs": [],
   "source": [
    "masters2016.to_csv('2016_Masters.csv')"
   ]
  },
  {
   "cell_type": "code",
   "execution_count": 142,
   "metadata": {},
   "outputs": [],
   "source": [
    "driver.close()"
   ]
  },
  {
   "cell_type": "code",
   "execution_count": null,
   "metadata": {},
   "outputs": [],
   "source": []
  }
 ],
 "metadata": {
  "kernelspec": {
   "display_name": "Python 3",
   "language": "python",
   "name": "python3"
  },
  "language_info": {
   "codemirror_mode": {
    "name": "ipython",
    "version": 3
   },
   "file_extension": ".py",
   "mimetype": "text/x-python",
   "name": "python",
   "nbconvert_exporter": "python",
   "pygments_lexer": "ipython3",
   "version": "3.6.5"
  }
 },
 "nbformat": 4,
 "nbformat_minor": 2
}
